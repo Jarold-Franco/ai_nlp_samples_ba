{
  "cells": [
    {
      "cell_type": "markdown",
      "metadata": {
        "id": "view-in-github",
        "colab_type": "text"
      },
      "source": [
        "<a href=\"https://colab.research.google.com/github/Jarold-Franco/ai_nlp_samples_ba/blob/main/Audio_Classification_Jarold_Franco.ipynb\" target=\"_parent\"><img src=\"https://colab.research.google.com/assets/colab-badge.svg\" alt=\"Open In Colab\"/></a>"
      ]
    },
    {
      "cell_type": "markdown",
      "metadata": {
        "id": "g4JTHJ-IATho"
      },
      "source": [
        "# **Fine-tuning for Audio Classification with 🤗 Transformers**"
      ]
    },
    {
      "cell_type": "markdown",
      "metadata": {
        "id": "o-CI6ON8AMcc"
      },
      "source": [
        "This notebook shows how to fine-tune multi-lingual pretrained speech models for Automatic Speech Recognition."
      ]
    },
    {
      "cell_type": "markdown",
      "metadata": {
        "id": "pdcMxVGEA9Cd"
      },
      "source": [
        "This notebook is built to run on the **Keyword Spotting** subset of the [SUPERB dataset](https://huggingface.co/datasets/superb) with any speech model checkpoint from the [Model Hub](https://huggingface.co/models?pipeline_tag=automatic-speech-recognition&sort=downloads) as long as that model has a version with a Sequence Classification head (e.g. [Wav2Vec2ForSequenceClassification](https://huggingface.co/transformers/model_doc/wav2vec2.html#wav2vec2forsequenceclassification)). \n",
        "\n",
        "Depending on the model and the GPU you are using, you might need to adjust the batch size to avoid out-of-memory errors. Set those two parameters, then the rest of the notebook should run smoothly:"
      ]
    },
    {
      "cell_type": "code",
      "execution_count": null,
      "metadata": {
        "id": "5WMEawzyCEyG"
      },
      "outputs": [],
      "source": [
        "model_checkpoint = \"facebook/wav2vec2-base\"\n",
        "batch_size = 32"
      ]
    },
    {
      "cell_type": "markdown",
      "metadata": {
        "id": "NlArTG8KChJf"
      },
      "source": [
        "Before we start, let's install both `datasets` and `transformers` from master. Also, we need the `librosa` package to load audio files."
      ]
    },
    {
      "cell_type": "code",
      "execution_count": null,
      "metadata": {
        "id": "L1532RVbJgQV",
        "colab": {
          "base_uri": "https://localhost:8080/"
        },
        "outputId": "e693f6ae-e45d-4820-a3af-97592f1304c0"
      },
      "outputs": [
        {
          "output_type": "stream",
          "name": "stdout",
          "text": [
            "Looking in indexes: https://pypi.org/simple, https://us-python.pkg.dev/colab-wheels/public/simple/\n",
            "Collecting datasets\n",
            "  Downloading datasets-2.11.0-py3-none-any.whl (468 kB)\n",
            "\u001b[2K     \u001b[90m━━━━━━━━━━━━━━━━━━━━━━━━━━━━━━━━━━━━━━━\u001b[0m \u001b[32m468.7/468.7 kB\u001b[0m \u001b[31m9.0 MB/s\u001b[0m eta \u001b[36m0:00:00\u001b[0m\n",
            "\u001b[?25hRequirement already satisfied: requests>=2.19.0 in /usr/local/lib/python3.9/dist-packages (from datasets) (2.27.1)\n",
            "Collecting dill<0.3.7,>=0.3.0\n",
            "  Downloading dill-0.3.6-py3-none-any.whl (110 kB)\n",
            "\u001b[2K     \u001b[90m━━━━━━━━━━━━━━━━━━━━━━━━━━━━━━━━━━━━━━\u001b[0m \u001b[32m110.5/110.5 kB\u001b[0m \u001b[31m12.5 MB/s\u001b[0m eta \u001b[36m0:00:00\u001b[0m\n",
            "\u001b[?25hCollecting multiprocess\n",
            "  Downloading multiprocess-0.70.14-py39-none-any.whl (132 kB)\n",
            "\u001b[2K     \u001b[90m━━━━━━━━━━━━━━━━━━━━━━━━━━━━━━━━━━━━━━\u001b[0m \u001b[32m132.9/132.9 kB\u001b[0m \u001b[31m11.9 MB/s\u001b[0m eta \u001b[36m0:00:00\u001b[0m\n",
            "\u001b[?25hRequirement already satisfied: pandas in /usr/local/lib/python3.9/dist-packages (from datasets) (1.5.3)\n",
            "Collecting responses<0.19\n",
            "  Downloading responses-0.18.0-py3-none-any.whl (38 kB)\n",
            "Requirement already satisfied: fsspec[http]>=2021.11.1 in /usr/local/lib/python3.9/dist-packages (from datasets) (2023.3.0)\n",
            "Collecting huggingface-hub<1.0.0,>=0.11.0\n",
            "  Downloading huggingface_hub-0.13.4-py3-none-any.whl (200 kB)\n",
            "\u001b[2K     \u001b[90m━━━━━━━━━━━━━━━━━━━━━━━━━━━━━━━━━━━━━━\u001b[0m \u001b[32m200.1/200.1 kB\u001b[0m \u001b[31m13.9 MB/s\u001b[0m eta \u001b[36m0:00:00\u001b[0m\n",
            "\u001b[?25hRequirement already satisfied: pyarrow>=8.0.0 in /usr/local/lib/python3.9/dist-packages (from datasets) (9.0.0)\n",
            "Requirement already satisfied: numpy>=1.17 in /usr/local/lib/python3.9/dist-packages (from datasets) (1.22.4)\n",
            "Requirement already satisfied: tqdm>=4.62.1 in /usr/local/lib/python3.9/dist-packages (from datasets) (4.65.0)\n",
            "Collecting aiohttp\n",
            "  Downloading aiohttp-3.8.4-cp39-cp39-manylinux_2_17_x86_64.manylinux2014_x86_64.whl (1.0 MB)\n",
            "\u001b[2K     \u001b[90m━━━━━━━━━━━━━━━━━━━━━━━━━━━━━━━━━━━━━━━━\u001b[0m \u001b[32m1.0/1.0 MB\u001b[0m \u001b[31m16.6 MB/s\u001b[0m eta \u001b[36m0:00:00\u001b[0m\n",
            "\u001b[?25hRequirement already satisfied: packaging in /usr/local/lib/python3.9/dist-packages (from datasets) (23.0)\n",
            "Requirement already satisfied: pyyaml>=5.1 in /usr/local/lib/python3.9/dist-packages (from datasets) (6.0)\n",
            "Collecting xxhash\n",
            "  Downloading xxhash-3.2.0-cp39-cp39-manylinux_2_17_x86_64.manylinux2014_x86_64.whl (212 kB)\n",
            "\u001b[2K     \u001b[90m━━━━━━━━━━━━━━━━━━━━━━━━━━━━━━━━━━━━━━━\u001b[0m \u001b[32m212.2/212.2 kB\u001b[0m \u001b[31m2.0 MB/s\u001b[0m eta \u001b[36m0:00:00\u001b[0m\n",
            "\u001b[?25hCollecting multidict<7.0,>=4.5\n",
            "  Downloading multidict-6.0.4-cp39-cp39-manylinux_2_17_x86_64.manylinux2014_x86_64.whl (114 kB)\n",
            "\u001b[2K     \u001b[90m━━━━━━━━━━━━━━━━━━━━━━━━━━━━━━━━━━━━━━━\u001b[0m \u001b[32m114.2/114.2 kB\u001b[0m \u001b[31m3.7 MB/s\u001b[0m eta \u001b[36m0:00:00\u001b[0m\n",
            "\u001b[?25hRequirement already satisfied: charset-normalizer<4.0,>=2.0 in /usr/local/lib/python3.9/dist-packages (from aiohttp->datasets) (2.0.12)\n",
            "Collecting async-timeout<5.0,>=4.0.0a3\n",
            "  Downloading async_timeout-4.0.2-py3-none-any.whl (5.8 kB)\n",
            "Collecting yarl<2.0,>=1.0\n",
            "  Downloading yarl-1.8.2-cp39-cp39-manylinux_2_17_x86_64.manylinux2014_x86_64.whl (264 kB)\n",
            "\u001b[2K     \u001b[90m━━━━━━━━━━━━━━━━━━━━━━━━━━━━━━━━━━━━━━\u001b[0m \u001b[32m264.6/264.6 kB\u001b[0m \u001b[31m14.5 MB/s\u001b[0m eta \u001b[36m0:00:00\u001b[0m\n",
            "\u001b[?25hRequirement already satisfied: attrs>=17.3.0 in /usr/local/lib/python3.9/dist-packages (from aiohttp->datasets) (22.2.0)\n",
            "Collecting frozenlist>=1.1.1\n",
            "  Downloading frozenlist-1.3.3-cp39-cp39-manylinux_2_5_x86_64.manylinux1_x86_64.manylinux_2_17_x86_64.manylinux2014_x86_64.whl (158 kB)\n",
            "\u001b[2K     \u001b[90m━━━━━━━━━━━━━━━━━━━━━━━━━━━━━━━━━━━━━━━\u001b[0m \u001b[32m158.8/158.8 kB\u001b[0m \u001b[31m8.1 MB/s\u001b[0m eta \u001b[36m0:00:00\u001b[0m\n",
            "\u001b[?25hCollecting aiosignal>=1.1.2\n",
            "  Downloading aiosignal-1.3.1-py3-none-any.whl (7.6 kB)\n",
            "Requirement already satisfied: typing-extensions>=3.7.4.3 in /usr/local/lib/python3.9/dist-packages (from huggingface-hub<1.0.0,>=0.11.0->datasets) (4.5.0)\n",
            "Requirement already satisfied: filelock in /usr/local/lib/python3.9/dist-packages (from huggingface-hub<1.0.0,>=0.11.0->datasets) (3.11.0)\n",
            "Requirement already satisfied: urllib3<1.27,>=1.21.1 in /usr/local/lib/python3.9/dist-packages (from requests>=2.19.0->datasets) (1.26.15)\n",
            "Requirement already satisfied: certifi>=2017.4.17 in /usr/local/lib/python3.9/dist-packages (from requests>=2.19.0->datasets) (2022.12.7)\n",
            "Requirement already satisfied: idna<4,>=2.5 in /usr/local/lib/python3.9/dist-packages (from requests>=2.19.0->datasets) (3.4)\n",
            "Requirement already satisfied: pytz>=2020.1 in /usr/local/lib/python3.9/dist-packages (from pandas->datasets) (2022.7.1)\n",
            "Requirement already satisfied: python-dateutil>=2.8.1 in /usr/local/lib/python3.9/dist-packages (from pandas->datasets) (2.8.2)\n",
            "Requirement already satisfied: six>=1.5 in /usr/local/lib/python3.9/dist-packages (from python-dateutil>=2.8.1->pandas->datasets) (1.16.0)\n",
            "Installing collected packages: xxhash, multidict, frozenlist, dill, async-timeout, yarl, responses, multiprocess, huggingface-hub, aiosignal, aiohttp, datasets\n",
            "Successfully installed aiohttp-3.8.4 aiosignal-1.3.1 async-timeout-4.0.2 datasets-2.11.0 dill-0.3.6 frozenlist-1.3.3 huggingface-hub-0.13.4 multidict-6.0.4 multiprocess-0.70.14 responses-0.18.0 xxhash-3.2.0 yarl-1.8.2\n",
            "Looking in indexes: https://pypi.org/simple, https://us-python.pkg.dev/colab-wheels/public/simple/\n",
            "Collecting transformers\n",
            "  Downloading transformers-4.27.4-py3-none-any.whl (6.8 MB)\n",
            "\u001b[2K     \u001b[90m━━━━━━━━━━━━━━━━━━━━━━━━━━━━━━━━━━━━━━━━\u001b[0m \u001b[32m6.8/6.8 MB\u001b[0m \u001b[31m54.2 MB/s\u001b[0m eta \u001b[36m0:00:00\u001b[0m\n",
            "\u001b[?25hRequirement already satisfied: numpy>=1.17 in /usr/local/lib/python3.9/dist-packages (from transformers) (1.22.4)\n",
            "Requirement already satisfied: requests in /usr/local/lib/python3.9/dist-packages (from transformers) (2.27.1)\n",
            "Requirement already satisfied: pyyaml>=5.1 in /usr/local/lib/python3.9/dist-packages (from transformers) (6.0)\n",
            "Collecting tokenizers!=0.11.3,<0.14,>=0.11.1\n",
            "  Downloading tokenizers-0.13.3-cp39-cp39-manylinux_2_17_x86_64.manylinux2014_x86_64.whl (7.8 MB)\n",
            "\u001b[2K     \u001b[90m━━━━━━━━━━━━━━━━━━━━━━━━━━━━━━━━━━━━━━━━\u001b[0m \u001b[32m7.8/7.8 MB\u001b[0m \u001b[31m102.9 MB/s\u001b[0m eta \u001b[36m0:00:00\u001b[0m\n",
            "\u001b[?25hRequirement already satisfied: regex!=2019.12.17 in /usr/local/lib/python3.9/dist-packages (from transformers) (2022.10.31)\n",
            "Requirement already satisfied: tqdm>=4.27 in /usr/local/lib/python3.9/dist-packages (from transformers) (4.65.0)\n",
            "Requirement already satisfied: filelock in /usr/local/lib/python3.9/dist-packages (from transformers) (3.11.0)\n",
            "Requirement already satisfied: huggingface-hub<1.0,>=0.11.0 in /usr/local/lib/python3.9/dist-packages (from transformers) (0.13.4)\n",
            "Requirement already satisfied: packaging>=20.0 in /usr/local/lib/python3.9/dist-packages (from transformers) (23.0)\n",
            "Requirement already satisfied: typing-extensions>=3.7.4.3 in /usr/local/lib/python3.9/dist-packages (from huggingface-hub<1.0,>=0.11.0->transformers) (4.5.0)\n",
            "Requirement already satisfied: certifi>=2017.4.17 in /usr/local/lib/python3.9/dist-packages (from requests->transformers) (2022.12.7)\n",
            "Requirement already satisfied: charset-normalizer~=2.0.0 in /usr/local/lib/python3.9/dist-packages (from requests->transformers) (2.0.12)\n",
            "Requirement already satisfied: idna<4,>=2.5 in /usr/local/lib/python3.9/dist-packages (from requests->transformers) (3.4)\n",
            "Requirement already satisfied: urllib3<1.27,>=1.21.1 in /usr/local/lib/python3.9/dist-packages (from requests->transformers) (1.26.15)\n",
            "Installing collected packages: tokenizers, transformers\n",
            "Successfully installed tokenizers-0.13.3 transformers-4.27.4\n",
            "Looking in indexes: https://pypi.org/simple, https://us-python.pkg.dev/colab-wheels/public/simple/\n",
            "Requirement already satisfied: librosa in /usr/local/lib/python3.9/dist-packages (0.10.0.post2)\n",
            "Requirement already satisfied: numpy!=1.22.0,!=1.22.1,!=1.22.2,>=1.20.3 in /usr/local/lib/python3.9/dist-packages (from librosa) (1.22.4)\n",
            "Requirement already satisfied: soundfile>=0.12.1 in /usr/local/lib/python3.9/dist-packages (from librosa) (0.12.1)\n",
            "Requirement already satisfied: msgpack>=1.0 in /usr/local/lib/python3.9/dist-packages (from librosa) (1.0.5)\n",
            "Requirement already satisfied: audioread>=2.1.9 in /usr/local/lib/python3.9/dist-packages (from librosa) (3.0.0)\n",
            "Requirement already satisfied: scipy>=1.2.0 in /usr/local/lib/python3.9/dist-packages (from librosa) (1.10.1)\n",
            "Requirement already satisfied: scikit-learn>=0.20.0 in /usr/local/lib/python3.9/dist-packages (from librosa) (1.2.2)\n",
            "Requirement already satisfied: joblib>=0.14 in /usr/local/lib/python3.9/dist-packages (from librosa) (1.2.0)\n",
            "Requirement already satisfied: pooch<1.7,>=1.0 in /usr/local/lib/python3.9/dist-packages (from librosa) (1.6.0)\n",
            "Requirement already satisfied: decorator>=4.3.0 in /usr/local/lib/python3.9/dist-packages (from librosa) (4.4.2)\n",
            "Requirement already satisfied: numba>=0.51.0 in /usr/local/lib/python3.9/dist-packages (from librosa) (0.56.4)\n",
            "Requirement already satisfied: typing-extensions>=4.1.1 in /usr/local/lib/python3.9/dist-packages (from librosa) (4.5.0)\n",
            "Requirement already satisfied: soxr>=0.3.2 in /usr/local/lib/python3.9/dist-packages (from librosa) (0.3.4)\n",
            "Requirement already satisfied: lazy-loader>=0.1 in /usr/local/lib/python3.9/dist-packages (from librosa) (0.2)\n",
            "Requirement already satisfied: setuptools in /usr/local/lib/python3.9/dist-packages (from numba>=0.51.0->librosa) (67.6.1)\n",
            "Requirement already satisfied: llvmlite<0.40,>=0.39.0dev0 in /usr/local/lib/python3.9/dist-packages (from numba>=0.51.0->librosa) (0.39.1)\n",
            "Requirement already satisfied: requests>=2.19.0 in /usr/local/lib/python3.9/dist-packages (from pooch<1.7,>=1.0->librosa) (2.27.1)\n",
            "Requirement already satisfied: packaging>=20.0 in /usr/local/lib/python3.9/dist-packages (from pooch<1.7,>=1.0->librosa) (23.0)\n",
            "Requirement already satisfied: appdirs>=1.3.0 in /usr/local/lib/python3.9/dist-packages (from pooch<1.7,>=1.0->librosa) (1.4.4)\n",
            "Requirement already satisfied: threadpoolctl>=2.0.0 in /usr/local/lib/python3.9/dist-packages (from scikit-learn>=0.20.0->librosa) (3.1.0)\n",
            "Requirement already satisfied: cffi>=1.0 in /usr/local/lib/python3.9/dist-packages (from soundfile>=0.12.1->librosa) (1.15.1)\n",
            "Requirement already satisfied: pycparser in /usr/local/lib/python3.9/dist-packages (from cffi>=1.0->soundfile>=0.12.1->librosa) (2.21)\n",
            "Requirement already satisfied: charset-normalizer~=2.0.0 in /usr/local/lib/python3.9/dist-packages (from requests>=2.19.0->pooch<1.7,>=1.0->librosa) (2.0.12)\n",
            "Requirement already satisfied: urllib3<1.27,>=1.21.1 in /usr/local/lib/python3.9/dist-packages (from requests>=2.19.0->pooch<1.7,>=1.0->librosa) (1.26.15)\n",
            "Requirement already satisfied: idna<4,>=2.5 in /usr/local/lib/python3.9/dist-packages (from requests>=2.19.0->pooch<1.7,>=1.0->librosa) (3.4)\n",
            "Requirement already satisfied: certifi>=2017.4.17 in /usr/local/lib/python3.9/dist-packages (from requests>=2.19.0->pooch<1.7,>=1.0->librosa) (2022.12.7)\n",
            "4.27.4\n"
          ]
        }
      ],
      "source": [
        "#%%capture\n",
        "#!pip install datasets==1.14\n",
        "#!pip install transformers==4.11.3\n",
        "!pip install datasets       # edited by Jarold\n",
        "!pip install transformers   # edited by Jarold\n",
        "!pip install librosa\n",
        "\n",
        "# added by Jarold\n",
        "import transformers\n",
        "\n",
        "print(transformers.__version__)"
      ]
    },
    {
      "cell_type": "markdown",
      "metadata": {
        "id": "snZ1tmaOC412"
      },
      "source": [
        "If you're opening this notebook locally, make sure your environment has an install from the last version of those libraries.\n",
        "\n",
        "To be able to share your model with the community and generate results like the one shown in the picture below via the inference API, there are a few more steps to follow.\n",
        "\n",
        "First you have to store your authentication token from the Hugging Face website (sign up [here](https://huggingface.co/join) if you haven't already!) then execute the following cell and input your username and password:"
      ]
    },
    {
      "cell_type": "code",
      "execution_count": null,
      "metadata": {
        "id": "Bkpk_JPlCww8",
        "colab": {
          "base_uri": "https://localhost:8080/",
          "height": 359,
          "referenced_widgets": [
            "b97f04ae25964b5b9cbb3e8b083b3ac9",
            "4ff90b10ea00428184495bde54cda25b",
            "388868865b13465fb969cbabec33a195",
            "9c81cb7b87cc4d82aebb9f40437436be",
            "b4414733650d45fcbba4448254b44b4e",
            "48dcedacf32d4fcba8a22a3a84ae501d",
            "dc587407a3954861a9227f2b6c79ff8f",
            "bacd9c22ec264a469f0b8a23ddddaf9a",
            "391f17bdefb74a3899630e7516457054",
            "e17c835bce72474f911766cf82da7883",
            "19bd29ec5767478cb8e39afd582a3893",
            "10a7673296894ef7b78e2f390c0dd020",
            "7156db930b3c497abf4ac3a6847cc038",
            "5f6cca40fc194aaf899799d1edd4a867",
            "63821a16ee45454facc5ce24fa63b111",
            "697c112bbec64052b09511c7a9437f67",
            "0aa29a5d8b01423b8e3305a65fdce98c"
          ]
        },
        "outputId": "6d446137-94c5-4851-9801-c5e2dac9d458"
      },
      "outputs": [
        {
          "output_type": "stream",
          "name": "stdout",
          "text": [
            "Token is valid.\n",
            "Your token has been saved in your configured git credential helpers (store).\n",
            "Your token has been saved to /root/.cache/huggingface/token\n",
            "Login successful\n"
          ]
        }
      ],
      "source": [
        "from huggingface_hub import notebook_login\n",
        "\n",
        "notebook_login()"
      ]
    },
    {
      "cell_type": "markdown",
      "metadata": {
        "id": "JJ0986jTDZRC"
      },
      "source": [
        "\n",
        "Then you need to install Git-LFS to upload your model checkpoints:"
      ]
    },
    {
      "cell_type": "code",
      "execution_count": null,
      "metadata": {
        "id": "t7JEhLjDDcVd",
        "colab": {
          "base_uri": "https://localhost:8080/"
        },
        "outputId": "31ab6748-b8a3-4c3e-862c-022a434eba62"
      },
      "outputs": [
        {
          "output_type": "stream",
          "name": "stdout",
          "text": [
            "Reading package lists... Done\n",
            "Building dependency tree       \n",
            "Reading state information... Done\n",
            "git-lfs is already the newest version (2.9.2-1).\n",
            "0 upgraded, 0 newly installed, 0 to remove and 24 not upgraded.\n"
          ]
        }
      ],
      "source": [
        "#%%capture\n",
        "!apt install git-lfs"
      ]
    },
    {
      "cell_type": "markdown",
      "metadata": {
        "id": "1g8XBxzJ7WIm"
      },
      "source": [
        "We also quickly upload some telemetry - this tells us which examples and software versions are getting used so we know where to prioritize our maintenance efforts. We don't collect (or care about) any personally identifiable information, but if you'd prefer not to be counted, feel free to skip this step or delete this cell entirely."
      ]
    },
    {
      "cell_type": "code",
      "execution_count": null,
      "metadata": {
        "id": "SxsSk62m7WIn"
      },
      "outputs": [],
      "source": [
        "from transformers.utils import send_example_telemetry\n",
        "\n",
        "send_example_telemetry(\"audio_classification_notebook\", framework=\"pytorch\")"
      ]
    },
    {
      "cell_type": "markdown",
      "metadata": {
        "id": "XalxdrirGkLl"
      },
      "source": [
        "## Fine-tuning a model on an audio classification task"
      ]
    },
    {
      "cell_type": "markdown",
      "metadata": {
        "id": "cnRWZSq0GRRh"
      },
      "source": [
        "In this notebook, we will see how to fine-tune one of the [🤗 Transformers](https://github.com/huggingface/transformers) acoustic models to a Keyword Spotting task of the [SUPERB Benchmark](https://superbbenchmark.org/)\n",
        "\n",
        "Keyword Spotting (KS) detects preregistered keywords by classifying utterances into a predefined set of words. SUPERB uses the widely used Speech Commands dataset v1.0 for the task. The dataset consists of ten classes of keywords, a class for silence, and an unknown class to include the false positive. "
      ]
    },
    {
      "cell_type": "markdown",
      "metadata": {
        "id": "lu8Od7EgFLwe"
      },
      "source": [
        "<img src=\"data:image/png;base64,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\" alt=\"drawing\" width=\"400\"/>"
      ]
    },
    {
      "cell_type": "markdown",
      "metadata": {
        "id": "mcE455KaG687"
      },
      "source": [
        "### Loading the dataset"
      ]
    },
    {
      "cell_type": "markdown",
      "metadata": {
        "id": "RD_G2KJgG_bU"
      },
      "source": [
        "We will use the [🤗 Datasets](https://github.com/huggingface/datasets) library to download the data and get the Accuracy metric we need to use for evaluation. This can be easily done with the functions `load_dataset` and `load_metric`.  "
      ]
    },
    {
      "cell_type": "code",
      "execution_count": null,
      "metadata": {
        "id": "fhVQU42BLd3p"
      },
      "outputs": [],
      "source": [
        "from datasets import load_dataset, load_metric"
      ]
    },
    {
      "cell_type": "code",
      "execution_count": null,
      "metadata": {
        "colab": {
          "base_uri": "https://localhost:8080/",
          "height": 650,
          "referenced_widgets": [
            "871d0c736e6a4c3f8c3983d967202704",
            "5ae1300ea575496a8a2669e5c45e1670",
            "3ca363af34784841b9949c3313ece95f",
            "8ef10d47a60e45c1b7d5d31415c36ce9",
            "4a80b878105847e3bed7899c3790f2fb",
            "5191f2328cb042debf77f8a60e0f00e4",
            "5d71fd78860b43dc8d6a9f3bd16efbd4",
            "5792f3a5acf24106af49e7da3149208c",
            "3fdc448191e94953b45ae07e0e946be2",
            "8a72a1999bf74a7687a05713d9f54b2c",
            "732b9512952b4bbb870f56819f9dd81a",
            "a08d8e4f9efe48e68b23bd8664c8638e",
            "2dac3ad95a46429882b671cc7ff01a51",
            "10612a16560445c89843effe2eb4755e",
            "4f7b67d39f434c108b44be4cfdea836d",
            "73e5a33fe0f74666b0eb92b3cf4b6b5a",
            "e75cc95c78fc4bf2b3d509e7f9e84724",
            "9c467c7fa6f14afeb5f5edcde7c9bf13",
            "fbb1f6bb06124f35ac6f0ddc52b9dc0b",
            "6717f9de172c4db1821d7e33fc3810bb",
            "62387d4fd55d470fac54ca63d364a18d",
            "575633f4e11e4b0e8c50b12e68509493",
            "c7c5d33cea7e40cbb7137fbe43106970",
            "5c677798a4d8475a8438a01428e0da76",
            "0a7913e5f8834014b995557ca1eb9c2e",
            "ec7df1349b4c476da4cb8346b631e1f9",
            "8d716e390c1e42a3a75e4cd9d28b59c5",
            "7420228526e1439392e1cf8ffa6f7917",
            "03b65a0d69cb4ee5b41decf60b1de50e",
            "883a9aa1c0064deb96e57ba498bd5587",
            "c104e34d603446fdae82891c04d72a36",
            "e0f77edf0cd9488d9470562d47458c16",
            "51844bca59d642fabe3e2f77e6d7772c",
            "9bf7975e19ca449b81d979a69b5812be",
            "58d583cc04934e3b9af8f5f9df4317c5",
            "544914c507b543de84607e259530f797",
            "09759d3279b746c7a34723c186aadb65",
            "3c403f8daca640989c15ec202e057825",
            "245d1fe87bd3458ab5887a4efe6139ac",
            "11e8d775c12a48a9a6abc7f00ce4af48",
            "2869a55cf5e84acb9c75bb84c12bee41",
            "294df786dab44602b03990175e344d78",
            "ac240de0739d4290a96dcb0de6424709",
            "4e74ad48ef4647c08bb448177b06b7c2",
            "758781986f604d78bb9bdb6e4586cdf5",
            "dfc34b308dee4afcad4c20bc174ccb5d",
            "ab3245551e0d42abb8d507bb31ff0c23",
            "9294fbe4de8245ea990a26b745fc3f37",
            "2311b3d0dcea4eeab1a7ea158715df54",
            "fa3af4f96ede42b18837a0fba4e69f5e",
            "091a9636f81e4aa48576e62ab6d8bd82",
            "fed4438a8d29433090c59da119f21922",
            "4cb57e2320e04cfea4cd5aac895bf56d",
            "761d529817974b1e8b4613e244daf68e",
            "5c9ebb0867984c6caa1fd63cec8d2d2f",
            "e67a8412598a4beaa17bcb886f6aee2d",
            "5cc7e09947bb47689cd7dfdf13b507ce",
            "39a7f1396f1b48cf9f1a18fdb44edb43",
            "b0e9e3b9cabf46be95c62834b2449ca9",
            "84f89d1bd0e14dbf82298db319a6a016",
            "6720da5d2514495eaa6bcd269371647b",
            "c14b72a71d1c48dbb907c26dda316ade",
            "f040617400d149ffa82b6562facd2a3f",
            "5fa3efb27df84f8eac13078584ea6c07",
            "08c5539c7ec5422280bdd932602162d7",
            "6396d575dd4b418f8a2f3c603c5fa431",
            "5dbb74e8f8594e57839d557ac5e35604",
            "81eabbf7ee5a4e90b0d16f9450b78a09",
            "445ca4015b6b45c2aa16df08f8aa2de4",
            "0c7793d49cb242bca2329ed64f2a809c",
            "c81f23b6a9ea4a1ab3c5a5d139955b97",
            "ac4579a61c554515b23e2dbd83b9e706",
            "2d0a9089dcea43fdac22cc5355206b16",
            "ec571033e3ef4314bd8c19d232a62716",
            "9042c5c11eba47de8b5787f186776a15",
            "16cd0d80ec8d4598b3c12eb1dde92d0c",
            "cb9d3b12a708484fa0dac95cd0fece1f",
            "7fa3ab159fe14a749bda21a4eea33a37",
            "b717e96d4ee04abea8ba16f03776d116",
            "af1ca50845f14885b72d9fa04d940516",
            "9f0281d7a61347b09741c4d18e8211f9",
            "dce49a8ecbe34ac4a08c6f23b79344ff",
            "5e4c9d001f5c4321b05984949d7c07ad",
            "00c7421ee4b7427caad2ef117a8c4d2b",
            "2cc65440ee364083994ad659960d0151",
            "7659e1448f25418b95d22571ac14b976",
            "d35f20cb82e04836b6de8651efb077c6",
            "f10747c214514b17aef3f12b78597b9f",
            "a6424127296e43fdabd068b030a1ce8b",
            "a44abcf075854710b50ae69ba4666807",
            "77705a40824940028e3d96f25acc7999",
            "3e51a8cbd02c439e904607984599d154",
            "a453a6371af24c72a6e85ac859da75c5",
            "7b59e8bbb72a41d8887835a1a79fbdb3",
            "552f3bb8b9ab462d8e960e28f3b0b5a8",
            "e3868a01a2d340e189b74ecef6dbf08c",
            "d6a9641c8c04410a8b44e27ddba471cc",
            "fc320038499047f9b5e17bbde9b8a70c",
            "fecb5931f754486bb33a71a127f84507",
            "c0c211540f0243e2b72bc3cdf89371f7",
            "7f53887282684b7d8b18b3389ab37c24",
            "6002451b90c340dcbb0f30769b4d3edc",
            "223117b797204f4a848ff765764ce9b9",
            "7eb0e603c1c94eee8aa6ea15d04ae357",
            "bc175cf55e59456aa72a7f2544ac23c1",
            "249ad0c7a5c64ed59d33e38973595087",
            "dea81d098a30484890fc4517c756fb9d",
            "ac6030bd38be4d3e8c2cfcf115091866",
            "ab3a68d29b4f4bfbafd7bb6827520e36",
            "04c6d1b2f1fc4df4bda6aaa66a186204",
            "3b75d05cda8d4ed4b66f0d6e68c8c30a",
            "320677351c9b44bdb4a542f4701f43c1",
            "bce99bc920f748f693b3ac82bec98690",
            "72b575e1d5964ec3b332a177fe8e58c5",
            "069bfdfb68bd4ac08e95fc2da03c1c97",
            "f096a12aba6b4261aab07f3098e864f9",
            "07051bb7ef0e46ada972f731debcc7f2",
            "722dd0fe44d94612a3610a1b79d6005c",
            "be566d5cbf294c719ff56463d5e38053",
            "e2bce63a12374cb293de715cd0165bee",
            "402ae966d8d143acbc03a31782997836",
            "614cf890d2404e6d81b59b533b660109",
            "a34231d299884c2593944b49e108a934",
            "a97a98fdc45745b9a4b7d963bf795c24",
            "d243d78df9b6493c9305cf8bab0d74ea",
            "a2dc5907085b48bcbf603df9af1c6539",
            "616aad1ac2fc4ebd8e8436e37d490f68",
            "88d61b8fe59149e8911f91f3924b610b",
            "c5412aab59e0448ab816d15deacf49bf",
            "853a783e3b5043d2aeb9302ab9339a27",
            "cb0d482a0a4840ec8b0fc9393787082a",
            "4e81c12d89f143729ad83fa9f82151be"
          ]
        },
        "id": "8UGse36eLeeb",
        "outputId": "8f16f04b-f0c6-4fbc-db1c-d2bf2e8c02b3"
      },
      "outputs": [
        {
          "output_type": "display_data",
          "data": {
            "text/plain": [
              "Downloading builder script:   0%|          | 0.00/30.2k [00:00<?, ?B/s]"
            ],
            "application/vnd.jupyter.widget-view+json": {
              "version_major": 2,
              "version_minor": 0,
              "model_id": "871d0c736e6a4c3f8c3983d967202704"
            }
          },
          "metadata": {}
        },
        {
          "output_type": "display_data",
          "data": {
            "text/plain": [
              "Downloading metadata:   0%|          | 0.00/38.1k [00:00<?, ?B/s]"
            ],
            "application/vnd.jupyter.widget-view+json": {
              "version_major": 2,
              "version_minor": 0,
              "model_id": "a08d8e4f9efe48e68b23bd8664c8638e"
            }
          },
          "metadata": {}
        },
        {
          "output_type": "display_data",
          "data": {
            "text/plain": [
              "Downloading readme:   0%|          | 0.00/57.1k [00:00<?, ?B/s]"
            ],
            "application/vnd.jupyter.widget-view+json": {
              "version_major": 2,
              "version_minor": 0,
              "model_id": "c7c5d33cea7e40cbb7137fbe43106970"
            }
          },
          "metadata": {}
        },
        {
          "output_type": "stream",
          "name": "stdout",
          "text": [
            "Downloading and preparing dataset superb/ks to /root/.cache/huggingface/datasets/superb/ks/1.9.0/b8183f71eabe8c559d7f3f528ab37a6a21ad1ee088fd3423574cecad8b3ec67e...\n"
          ]
        },
        {
          "output_type": "display_data",
          "data": {
            "text/plain": [
              "Downloading data files:   0%|          | 0/2 [00:00<?, ?it/s]"
            ],
            "application/vnd.jupyter.widget-view+json": {
              "version_major": 2,
              "version_minor": 0,
              "model_id": "9bf7975e19ca449b81d979a69b5812be"
            }
          },
          "metadata": {}
        },
        {
          "output_type": "display_data",
          "data": {
            "text/plain": [
              "Downloading data:   0%|          | 0.00/1.49G [00:00<?, ?B/s]"
            ],
            "application/vnd.jupyter.widget-view+json": {
              "version_major": 2,
              "version_minor": 0,
              "model_id": "758781986f604d78bb9bdb6e4586cdf5"
            }
          },
          "metadata": {}
        },
        {
          "output_type": "display_data",
          "data": {
            "text/plain": [
              "Downloading data:   0%|          | 0.00/71.3M [00:00<?, ?B/s]"
            ],
            "application/vnd.jupyter.widget-view+json": {
              "version_major": 2,
              "version_minor": 0,
              "model_id": "e67a8412598a4beaa17bcb886f6aee2d"
            }
          },
          "metadata": {}
        },
        {
          "output_type": "display_data",
          "data": {
            "text/plain": [
              "Extracting data files:   0%|          | 0/2 [00:00<?, ?it/s]"
            ],
            "application/vnd.jupyter.widget-view+json": {
              "version_major": 2,
              "version_minor": 0,
              "model_id": "5dbb74e8f8594e57839d557ac5e35604"
            }
          },
          "metadata": {}
        },
        {
          "output_type": "display_data",
          "data": {
            "text/plain": [
              "Generating train split:   0%|          | 0/51094 [00:00<?, ? examples/s]"
            ],
            "application/vnd.jupyter.widget-view+json": {
              "version_major": 2,
              "version_minor": 0,
              "model_id": "7fa3ab159fe14a749bda21a4eea33a37"
            }
          },
          "metadata": {}
        },
        {
          "output_type": "display_data",
          "data": {
            "text/plain": [
              "Generating validation split:   0%|          | 0/6798 [00:00<?, ? examples/s]"
            ],
            "application/vnd.jupyter.widget-view+json": {
              "version_major": 2,
              "version_minor": 0,
              "model_id": "a6424127296e43fdabd068b030a1ce8b"
            }
          },
          "metadata": {}
        },
        {
          "output_type": "display_data",
          "data": {
            "text/plain": [
              "Generating test split:   0%|          | 0/3081 [00:00<?, ? examples/s]"
            ],
            "application/vnd.jupyter.widget-view+json": {
              "version_major": 2,
              "version_minor": 0,
              "model_id": "c0c211540f0243e2b72bc3cdf89371f7"
            }
          },
          "metadata": {}
        },
        {
          "output_type": "stream",
          "name": "stdout",
          "text": [
            "Dataset superb downloaded and prepared to /root/.cache/huggingface/datasets/superb/ks/1.9.0/b8183f71eabe8c559d7f3f528ab37a6a21ad1ee088fd3423574cecad8b3ec67e. Subsequent calls will reuse this data.\n"
          ]
        },
        {
          "output_type": "display_data",
          "data": {
            "text/plain": [
              "  0%|          | 0/3 [00:00<?, ?it/s]"
            ],
            "application/vnd.jupyter.widget-view+json": {
              "version_major": 2,
              "version_minor": 0,
              "model_id": "3b75d05cda8d4ed4b66f0d6e68c8c30a"
            }
          },
          "metadata": {}
        },
        {
          "output_type": "stream",
          "name": "stderr",
          "text": [
            "<ipython-input-6-d913dff852f4>:2: FutureWarning: load_metric is deprecated and will be removed in the next major version of datasets. Use 'evaluate.load' instead, from the new library 🤗 Evaluate: https://huggingface.co/docs/evaluate\n",
            "  metric = load_metric(\"accuracy\")\n"
          ]
        },
        {
          "output_type": "display_data",
          "data": {
            "text/plain": [
              "Downloading builder script:   0%|          | 0.00/1.65k [00:00<?, ?B/s]"
            ],
            "application/vnd.jupyter.widget-view+json": {
              "version_major": 2,
              "version_minor": 0,
              "model_id": "614cf890d2404e6d81b59b533b660109"
            }
          },
          "metadata": {}
        }
      ],
      "source": [
        "dataset = load_dataset(\"superb\", \"ks\")\n",
        "metric = load_metric(\"accuracy\")"
      ]
    },
    {
      "cell_type": "markdown",
      "metadata": {
        "id": "r8mTmFdlHOmN"
      },
      "source": [
        "The `dataset` object itself is a [`DatasetDict`](https://huggingface.co/docs/datasets/package_reference/main_classes.html#datasetdict), which contains one key for the training, validation and test set."
      ]
    },
    {
      "cell_type": "code",
      "execution_count": null,
      "metadata": {
        "colab": {
          "base_uri": "https://localhost:8080/"
        },
        "id": "7tjOWPQYLq4u",
        "outputId": "1d3768e8-d449-4afc-bb92-c8406d1d0aff"
      },
      "outputs": [
        {
          "output_type": "execute_result",
          "data": {
            "text/plain": [
              "DatasetDict({\n",
              "    train: Dataset({\n",
              "        features: ['file', 'audio', 'label'],\n",
              "        num_rows: 51094\n",
              "    })\n",
              "    validation: Dataset({\n",
              "        features: ['file', 'audio', 'label'],\n",
              "        num_rows: 6798\n",
              "    })\n",
              "    test: Dataset({\n",
              "        features: ['file', 'audio', 'label'],\n",
              "        num_rows: 3081\n",
              "    })\n",
              "})"
            ]
          },
          "metadata": {},
          "execution_count": 7
        }
      ],
      "source": [
        "dataset"
      ]
    },
    {
      "cell_type": "markdown",
      "metadata": {
        "id": "nfPPNjthI3u2"
      },
      "source": [
        "To access an actual element, you need to select a split first, then give an index:"
      ]
    },
    {
      "cell_type": "code",
      "execution_count": null,
      "metadata": {
        "colab": {
          "base_uri": "https://localhost:8080/",
          "height": 176
        },
        "id": "BujWoSgyMQlw",
        "outputId": "8786ecc7-1480-477a-9a54-47f53eeb7215"
      },
      "outputs": [
        {
          "output_type": "execute_result",
          "data": {
            "text/plain": [
              "{'file': '/root/.cache/huggingface/datasets/downloads/extracted/94c69f12cc18539f842ccec832347d0f85a3424c14bc47bd63902105ba1b2391/go/e41a903b_nohash_4.wav',\n",
              " 'audio': {'path': '/root/.cache/huggingface/datasets/downloads/extracted/94c69f12cc18539f842ccec832347d0f85a3424c14bc47bd63902105ba1b2391/go/e41a903b_nohash_4.wav',\n",
              "  'array': array([-1.22070312e-04,  3.05175781e-05,  1.83105469e-04, ...,\n",
              "         -4.88281250e-04, -5.49316406e-04, -3.35693359e-04]),\n",
              "  'sampling_rate': 16000},\n",
              " 'label': 9}"
            ]
          },
          "metadata": {},
          "execution_count": 8
        }
      ],
      "source": [
        "dataset[\"test\"][1000]"
      ]
    },
    {
      "cell_type": "markdown",
      "metadata": {
        "id": "f8GpxwfnJCkF"
      },
      "source": [
        "As you can see, the `label` field is not an actual string label. By default the `ClassLabel` fields are encoded into integers for convenience:"
      ]
    },
    {
      "cell_type": "code",
      "execution_count": null,
      "metadata": {
        "colab": {
          "base_uri": "https://localhost:8080/"
        },
        "id": "n33LZz_ZMU3o",
        "outputId": "533ff177-a3eb-4a58-b43d-dcbd91e4ee0c"
      },
      "outputs": [
        {
          "output_type": "execute_result",
          "data": {
            "text/plain": [
              "ClassLabel(names=['yes', 'no', 'up', 'down', 'left', 'right', 'on', 'off', 'stop', 'go', '_silence_', '_unknown_'], id=None)"
            ]
          },
          "metadata": {},
          "execution_count": 9
        }
      ],
      "source": [
        "dataset[\"train\"].features[\"label\"]"
      ]
    },
    {
      "cell_type": "markdown",
      "metadata": {
        "id": "5LdpDtScLgeD"
      },
      "source": [
        "Let's create an `id2label` dictionary to decode them back to strings and see what they are. The inverse `label2id` will be useful too, when we load the model later."
      ]
    },
    {
      "cell_type": "code",
      "execution_count": null,
      "metadata": {
        "colab": {
          "base_uri": "https://localhost:8080/",
          "height": 35
        },
        "id": "UuyXDtQqNUZW",
        "outputId": "718ffacb-c36d-4c22-fbbc-4739bfafd18d"
      },
      "outputs": [
        {
          "output_type": "execute_result",
          "data": {
            "text/plain": [
              "'go'"
            ],
            "application/vnd.google.colaboratory.intrinsic+json": {
              "type": "string"
            }
          },
          "metadata": {},
          "execution_count": 10
        }
      ],
      "source": [
        "labels = dataset[\"train\"].features[\"label\"].names\n",
        "label2id, id2label = dict(), dict()\n",
        "for i, label in enumerate(labels):\n",
        "    label2id[label] = str(i)\n",
        "    id2label[str(i)] = label\n",
        "\n",
        "id2label[\"9\"]"
      ]
    },
    {
      "cell_type": "markdown",
      "metadata": {
        "id": "GD7wBXeIltx0"
      },
      "source": [
        "`Wav2Vec2` expects the input in the format of a 1-dimensional array of 16 kHz. This means that the audio file has to be loaded and resampled.\n",
        "\n",
        " Thankfully, `datasets` does this automatically when calling the column `audio`. Let try it out. "
      ]
    },
    {
      "cell_type": "code",
      "execution_count": null,
      "metadata": {
        "colab": {
          "base_uri": "https://localhost:8080/"
        },
        "id": "UKIaV1ndl0j6",
        "outputId": "6e51c02a-97df-40e4-de39-dfd199da7cf2"
      },
      "outputs": [
        {
          "output_type": "execute_result",
          "data": {
            "text/plain": [
              "{'path': '/root/.cache/huggingface/datasets/downloads/extracted/94c69f12cc18539f842ccec832347d0f85a3424c14bc47bd63902105ba1b2391/go/e41a903b_nohash_4.wav',\n",
              " 'array': array([-1.22070312e-04,  3.05175781e-05,  1.83105469e-04, ...,\n",
              "        -4.88281250e-04, -5.49316406e-04, -3.35693359e-04]),\n",
              " 'sampling_rate': 16000}"
            ]
          },
          "metadata": {},
          "execution_count": 11
        }
      ],
      "source": [
        "dataset[\"test\"][1000][\"audio\"]"
      ]
    },
    {
      "cell_type": "markdown",
      "metadata": {
        "id": "eEfxyaatlzU-"
      },
      "source": [
        "We can see that the audio file has automatically been loaded. This is thanks to the new [`\"Audio\"` feature](https://huggingface.co/docs/datasets/package_reference/main_classes.html?highlight=audio#datasets.Audio) introduced in `datasets == 1.13.3`, which loads and resamples audio files on-the-fly upon calling.\n",
        "\n",
        "The sampling rate is set to 16kHz which is what `Wav2Vec2` expects as an input."
      ]
    },
    {
      "cell_type": "markdown",
      "metadata": {
        "id": "TSvqeGihJvp4"
      },
      "source": [
        "To get a sense of what the commands sound like, the following snippet will render \n",
        "some audio examples picked randomly from the dataset. \n",
        "\n",
        "**Note**: *You can run the following cell a couple of times to listen to different audio samples.*"
      ]
    },
    {
      "cell_type": "code",
      "execution_count": null,
      "metadata": {
        "colab": {
          "base_uri": "https://localhost:8080/",
          "height": 569
        },
        "id": "RI0kb4woNvuU",
        "outputId": "50b76ee9-ac1e-4d29-af4b-4c0e736b4c3c"
      },
      "outputs": [
        {
          "output_type": "stream",
          "name": "stdout",
          "text": [
            "Label: _unknown_\n",
            "Shape: (16000,), sampling rate: 16000\n"
          ]
        },
        {
          "output_type": "display_data",
          "data": {
            "text/plain": [
              "<IPython.lib.display.Audio object>"
            ],
            "text/html": [
              "\n",
              "                <audio  controls=\"controls\" >\n",
              "                    <source src=\"data:audio/wav;base64,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\" type=\"audio/wav\" />\n",
              "                    Your browser does not support the audio element.\n",
              "                </audio>\n",
              "              "
            ]
          },
          "metadata": {}
        },
        {
          "output_type": "stream",
          "name": "stdout",
          "text": [
            "\n",
            "Label: _unknown_\n",
            "Shape: (16000,), sampling rate: 16000\n"
          ]
        },
        {
          "output_type": "display_data",
          "data": {
            "text/plain": [
              "<IPython.lib.display.Audio object>"
            ],
            "text/html": [
              "\n",
              "                <audio  controls=\"controls\" >\n",
              "                    <source src=\"data:audio/wav;base64,UklGRiR9AABXQVZFZm10IBAAAAABAAEAgD4AAAB9AAACABAAZGF0YQB9AAAAAAgABAAAAAAACAAEAAAABAAAAAAAAAAEAAAAAAAEAAQAAAAEAAQABAAEAAAAAAAAAAAAAAAAAAAAAAAAAAAAAAAAAAAAAAAAAAAAAAAAAAAAAAAAAAAAAAAAAAQAAAAAAAAAAAAEAAAAAAAEAAAAAAAEAAAABAAEAAQAAAAAAAAAAAAAAAgACAAAAAQAAAAIAAgABAAEAAQAAAAAAAAAAAAAAAAACAAIAAQAAAAAAAQAAAAAAAAAAAAAAAAABAAEAAQA+P/8/wQAAAAEAPj/9P/0//T/9P/4//T//P8AAAAABAD4//z/BAAAAAQAAAAAAAAABAAAAAQABAAAAAAAAAAEAAQA+P/0//z/AAAAAAAAAAAEAPj//P8AAAAABAAAAAQA+P/v//z/AAAAAAAABAAEAPz/9P8AAPz/9P/4//T//P8AAAAAAAAAAAAABAAEAAAAAAAAAAQADAAAAAgACAAIAAgACAAIAAgADAAIABEADAAIAAwACAAIAAgADAAIAAgACAAIAAgACAAIAAwABAAAAAAAAAAAAAAAAAAAAAAAAAAAAAAAAAAAAAAAAAAAAAAAAAAAAAAAAAAEAPj/9P/0/wAA+P/0//T/9P/0//T/+P/0//T/+P/0//T/9P/0//j/9P/0//T/9P/0//T/+P/0//T/+P/0//T/9P/0//T//P8AAAQA/P/0//j/9P/8/wAAAAAAAAAABAAIAAgACAAIAAgACAAIAAgACAAIAAgACAAIAAgADAAIAAgACAAMAAgADAAAAAgACAAAAAAAAAAAAAAAAAAAAAAAAAAAAAAAAAAAAAAAAAAAAAQAAAAAAAAAAAAIAAgACAAIAAwABAAAAAAACAAIAAgABAAIAAwACAAIAAgACAAIAAwABAAEAAQAAAAEAAQABAAAAAAAAAAEAAQA+P/0//T/AAD8//T//P/8//T/+P/0//T/9P/8/wAAAAAAAAAABAAEAAQA+P8AAPz/9P/0/+///P8EAAAABAD4/wAABAAAAAQAAAD0//z/+P/0/wQA+P8AAPz/7/8AAAQABAD4//z/AAAAAAQAAAAAAAAABAAAAAQABAAAAAAAAAAAAAQAAAAEAAAAAAAEAAQAAAAEAAAAAAAAAPz/BAAEAAAABAAAAAAAAAAAAAQAAAAAAAQACAAEAAgADAAEAAQACAAIAAAACAAEAAgABAAAAAAAAAAEAAAABAAAAAAAAAAEAAAAAAAAAAAAAAAEAAAAAAAAAAAAAAAEAAQA+P8AAAAAAAAEAPz/AAAAAPz/AAAIAAQAAAAIAAAACAAIAAgACAAIAAwACAAMAAgACAAEAAAABAAAAAAAAAAAAAQABAAAAAAAAAD8//T/9P/4//T/9P/4//j/9P/0//T/9P/0//T/9P/4//T/9P8AAPj//P/4//z/AAD8/wAABAAAAAAAAAAEAAAA/P8IAAQA/P8IAAAAAAAAAPz/BAD8/wQADAAIAAQABAAAAAAABAAAAAQA+P/8/wAABAAAAAAABAD8//T/AAD8/+///P8AAAAAAAAIAAQAAAAAAAAAAAAIAAgACAAMAAgADAAIAAwACAAEAAgACAAMAAgABAAIAAgABAAIAAQA/P8AAAQAAAAAAPz/9P/0/wAA+P/v//z/BAAEAAQA+P/0/wAAAAAEAPz/9P/4//T/AAAEAPj/9P/0//z/BAAAAAAAAAAEAAAAAAAAAAQAAAAAAAAABAD8//j/+P/0/wAA+P/0/wQA/P/4/wQAAAAAAPj/9P8AAAAA+P/8//j/+P/8//j//P8AAPT/9P/4//j/+P/0//j/AAD8/wAABAD8/wAA/P/8//z//P8AAAAAAAD4//z//P8AAPz//P/8//z/AAAEAAAABAAEAAAAAAD8/wAA/P/8//z/+P/8//z/+P/8/+//9P/8//j/+P/8//z//P/8//j//P/4//z/+P/8//z/+P/8/wAABAAAAAAAAAAAAPz/AAD8//j/AAAAAAAABAAEAAQACAAEAAAAAAAIAAQABAAEAAAABAAEAAgACAAAAAQACAAEAAQABAAIAAgABAAEAAQAAAD8/wAAAAAEAAAA/P/4//z/BAAAAPz/BAAAAPz/BAAEAAAAAAAEAAQAAAD8/wAAAAAAAAAA/P/8/wAABAAAAAQABAAAAAQAAAAIAAQACAAEAAQAAAAAAAQA/P8AAAQADAAIABEAEQAVABEAEQAEAAgAAAD4/wAABAAEAO//AAARABUABAAEABEAFQAIAPj/+P8AAAQA+P/r/+//AAAAAOv/7/8MAAgA5//v/x0AEQDj//z/NwAqAPj/BABAADcAAAAEAC4AQAAdAAQAFQA7ADcAAAAAADsAQAD0//T/QAA7AN7/1v8qAB0AwP+0/xkAFQCN/4n/GQAuAJr/gP8iAGoA5/+a//j/IgDn/97/BACJ/yf/KgDZAHj/mv7v//wAwABEAMD+K/6NAo4FQP4P+F4CNwz0/8Ty+P54DU0CFfOu+9QJqwOP90f7gQSeAoT8e/0AAW8Ajf7v/h0AM//R/cD+VQBa/x7+OP9IAJUAzQCZACYBMAN8A1oD4wSwBOsClgS+BjQEhAD8ADwD1QAu++76nfw6+lf38ffx+Mf5E/lC+Uz8QP7Z/ev+mgEBAxoDXwNBBLkEnwR9BGwENATsA5oDTQP4Al4CxAE8AjwCLgCJ/4kB9P+R/U0BL/9T+HwBjwbK9ez1FgRq+775ZAV59471fRCoBiXuo/9QCW34fP4cB6z3AvmZDCwEk+z2+YgX3Abg6/ADxhKU+38LsR7v8TLvTSbJDkDbpvzxE5bzevn8Dfn2k+vYB0cKAOin6PIKwQNI5nz0DACS9aP/pAUF9RT7+xbkESL9qfrrGWoifQXK6yIM7R7Y+CDgFgQoBknp8vvvASHjsfdfHNj5uu3dCs4R2wUVAID9BRpJDnrueQQCE3DplvMpFFgIdu6o94UQJwQm5U/5cB0A/yHjG/e6E936ce00BEQMUfLHB5YOw+7h4yb+swBy+6X5fAEd/Rr/jArd+mPqWymCQjTpK+djTAAmj7If30ZC+TU17HHfMw3sGyj4B+4i8m3t9gePCDjpOOjL7fLYYvIi/t/qOu5kB0YHGf2u788HERpX9unuVRehFtQI5gBQ+p4OmQpeAe0fRxQQ8age1huc7Cb8gwjLB9cSnfwu8JAXY/RN5lP3RfXs6hIFCve3/Mb3UOMd8FkKMvv48mMDXg0YCo30AADhCrv7AfZaDrAQkwWr/9D8CAwP+WLzQQ+zGaPoOQYGHhz6ruNM+xT8RPPA/rkFJxCA/x38GAifHZz5ofu9HeEUkPo/CSsC8fih+zfwtfc3AYwA+/yQ8C7v3vPC6wr2QQSK9wbrh/ntCLT/d+Qd7xAhmBPD+4gWjxOjAnsKCfQqCxoajf4xB5QKt/KPEx0MHeNa/lsRbwAJA0ABy+yM/CP28Qb4Dl/rpeNuF28B7u8o6hv2xQ9tCGLzzwiB9mL/IRZZ8Mjx0xKuCs4D9On4/5MRvP/k+BcFqASGBSz1SBeJAlLp6wFUCEb3YBME8sr2qBynA9zVP/shIZL0XOKDIFULt+W++fUQ7gpu1/To3z4lFhrD7gpoHXXqJO1PFA4GcvpN9MwJ9wp6+YrfwQSmGAwLoue/+9sPKAah+hTvmvTXHDYJqvCDFssIt+ZeGPcK7N9LE2AIl+vcHz4HRM9oEGMbguHV8SMDSAzeAoTxH/cA/6//lwWv/mr9bAUDCcTxmgKBDzLiYvILID0EePPnDtMFIv8L4uQeAiB4wzwCJz0V5eDs1PpwAz8LSOaT4UstuQQL40ACIQr/+90J3PlR/fUQ3fsiAr4fuu4eARr/iPCVF2z2tu10JwPi9+WJPifcntBoQNDwtNGGNZIDGNaLB4MJePV6CBDxURk6CQHeRQOfHB/2BPNFDrIU8/Go9jwawPPw3mwosAXNzq8kFx0+1m7w5xs5+M8HGf5++I8TjP3o6fT/lwbuCbD01+ppFcgXF9SZ8C0ryPCa3EwXlCFf6fD2DQGRAPAPEgQn9WHvwA2NJp7yftZjGt4YstfEDeohCNlpCOAfyurP+C0Tce3M+8oQugeF/9fUxwnqLy/oxdxZC4UbzQLv8pTvi/m+E2cDGea3/OwdcPbp7VD8w/o8DjjzhvhCEzP+8PZE/bYJVPvAAU3/5wKZF2QGkO6C92oM9ATAAloDRAA6FU0CiPHs6+ARdBzL1oD9uBqMAHnsQ/D6+G/+mwTq+/v8XwRbBpH9m+k6CVUBBQRC+PMMnxGe883+bQcxB/n2Y/TsGy4K+/zf9a4KdOhjBJgULPYr55kLuBuk7DfyxQJnBJb1Tf7eDBT84foCBzT05vyMCjMAIv3XEej1nPjy+50JXxCL7H7uqRMaD1T6b/I09HIKJBL78ZMFa//g+HAD1QEx+Rz5/AF4DzAFdOmZ/XAbV/Zt7lYOegfG9s8GCwlu7+oAcANFAj75BAFiDQT+Uf2WAxnwXv7bHLX4NOq5HT8Kzt6X9q8ZqATP3yIA3xtb98jwRQ706NXkSCPTBYDyshR38Z/p8A/vAkAB8grh70sUIB8E5gDoiAyTBjUGPfaWAt8QWPlR5ukI7fmM8TwbehQq8QD/iP2eAiH7SvaTEZQU5vDrAhIEvekeA6/znv3QFpjtTvfrGDD1NeDSA+MOqARAAcnzqhgKBrLiUQIFGiH7EgXbBYT8UQ72+QzwdBAY+VHzSwcNAQH24v2P7I/5tgl274oE5hhf6gD0JxCJDTL69P9RAt4YeQV8AdgUpe9b94QYKQjp7k4EDwdx9+z1f/yR8dHyNfiUCDX3Hv538u78nv5ZAOn6ngKFDkoGGAnTBfD0fAJxEuUJuvndCzEGmAgBAyLnMfnoEeb9yvaoBp7+JfCNAbP9HO5J80oc7QfV5I4QQA706ADn7RRkE6/zBu2XEQsVpfn56QbrUgXFGt4BjfRaDeAShPKm5IgM6gtzAFv2fhMtFNbzMuO7ABECJPmtCBoZjQIn9YoEpgCb6jX4qBBjBGwEPQX27sP55wOl4zT0YhjLEgT/8ATH+fn3OAPA//QCOA4e/7IIDwiq8LX49AOj6SIBBQ6MClsEpe/s6TIK2gLQ7ukIWxEiAbX4b/3gB5YEavB6+U0NNA4yCYj81uifBd0JffZS9tsP0wa2+3P9Tf9Z/VH9Mvva/ikI4Ae+BisBhPFC+VoDUf8r/+EKSwdW8333yQKBBA71lQCOBHUFzQF3AYj8xvaG99IERQOQ+qYALgqm/aX6/AD0//v8EAnADPL5PAKYCCL+UvYjAy8CEf9n/yYBbATeAOP0AAGPBrr5h/v7CS8B2PoVAa8AKfpt7nEHOwso9lr0iwciAPL7Zv2aAQANPP4T9xQK8gkZAIP75fnvAm0Uov7K9YoQmwVW6D/7yBhaDhXxD+x5BSYNiPIq8XUFWgEF9uX7HgOA/x7/yADk7Kz3XRZfER3xT/h3AJEBBRBmDSj23fvhCaX7Zv7mFm4LtPOE8QYFEwgnBLz0jvUeAt8DpfsL+Sz3eP+9A4Dy/vkWGmcPeewV8s8GtgkR/0j9dAJ5BO0IXf0r9JX9PA+Z/NHyJw/9D2z2nfAI/vIJKQm566rwMR/JDQnnYvNSBWUI2v/v8nwDBRDc+cDyxQKJAhUBlfyy+i8OqgvM/F39Q/zL+Y4FmgO4/3gN1PpG9w0ClPvx+EIHNwC7+28AIwQsBTT1Sva6CTD1RPKsGykUzuqG9sX/CP2wBE4EEAkCBxXyav2IFsgACPHu/Fr/+QUJD1EAwfZ49eL+tAN7+0z79gg0BFj6hPye/VX+QQQx+bj+bQgTBsD9uP5d/UQAYv9EALgC4wRRAHADf/wa8677CwkwBKT4ngCTBsP5evpnA5IEdwGMADcApAWYCKT43vNRAvoH//oN/mYMYAZb9+330PxzATIJZAdH+/745wFXBRP31O0uAEwK+vlm/D8LkQDP+Pr4IftxCIMKhP5iAjMM9ALB9iX6mwSYCfgDpfpg+KgE6w22+8ftIv1CCDcBhPy3APYHrvtI8Z7+cwuqAAj9DP0o+Kr9/gYz/v75QP/eAu/9awH5BO0GP/xb9SwFAhMGByP2Xf0OBoACkf8rAfwC6wLz/mH8MwCAAsP7S/jZ+94AcwE8/h37VPtr/x38XPinA9UMZ//W894Avwmr/oT8dAICBvgDlgII/hUBwgbRAf74+P6kB3ADIv3v/cv6Ff6aA4QBIPk3/YT9M//JASL/8vovAW8BEf6RAnQECPzM+1cFKAZmAe//TAAA/lECIgFm/Tv9AAHAAVoCpgBE/qL+tP/V/NUBYgIu/a77EgQ0BF37HfwiAdn9h/tLCGQH6frC9+8AdgjPBjL8lfyOBMQBGPk3APADvP77+w3/Wv6M/cgAFv/1+Nn7DgX8Aif/bAWfBEP8Nfe8/zsMzAq7/OX5OQZBBEf6jPtNAqsByAC0AysBmgGiABz4+fZR/6sD1gKaAQf79/vv/pD6Q/yzAUD+mgLQCXAERP3F/wT9N/50BAQCnwOUCR8EZPdY+5oDgP9H+eX7pAaVC1IEzvVN9Df9GQH8/rj/Dwc+CDz+y/jE/N7+7vwmAOIBlgPtBlIE8fij9RX+1gKJ/rMA3QkqC3/7XvLh+8sHQQR2+h7/YAdPB5X9G/dh/DwBlf77+4oEcQbqAHv73fqQ/C4A2gGaAfgDbAVe/5n7lf39Ay8CJv0W/5gImAeE/CT5Uf8vAf/8Kv1aA/QERf/t+DL6OP84A8AAcvze/msD2wXj/wP7bfqRANIDxP58/woG3wNt+e77QQPRAef/3gCJA0ACHv7e/s4EZgFH+5r/6/9Z/cUCyQII/Wb8QP44/5kAQADi/iICQAEE/lr/FgQaAjv9Rf83Adr/1f5aAbcAb//mAE3/K/+eAHT/Vfya/7AENQU7AGH7BP1IAcD/Kfte/skDzQJN/uL9BP9I/d37fP5AArkGHAheAnr65fuwBEoGqgAVACwGZAa4/xT8s/2Z/Tb6pfvAAc0CXv/E/Mv5HPjM/DMBswAeAqsD0v/z/Pf9agC8AaYBa/8mAGwEmwWF/7r52f2BA+YAd/70AlcFbwF7/ND8TQFJA4kB6gCJAZoBRQOrAjP9bvyRAa8BWfwZ/KoA3gLE/n75Q/q8/5EBSP5N/lYD6wJD/L/7FgJfBIAAnfyq/fMANAP4AUD+nfxe/14BvP8E/+wDuQX4AVT76v2KBqQGjf7E/DgCrASaAUz9/P27AG//ov4IABr/lv+N/+r86fkV/oQBbwCV/IT9BAFEAe782f1mAJUBwAEzAg0BUQHnAQQAs/6mAZIEcARZAJb/HgHVAMn/EQCVAHwBJwOMALf8u/xV/jz+r/2A/l0Ar/4M/dT7//xv/bj+xP3J/uIADQIeAV7/Jv6E/pH+pgF+B7UGEQGv/9UAWgGrAZ8DZwT8AmYBvAFAAgQBZgDE/WX6BP3NAvwCFf1k+C34i/q7/AD+kQBr/xX91fxR/rj/hAHrAvQCzgNXBZsEWgPeAfwAjADvAYoEHwWJAc3+hf8v/zf81Pva/3ADngGV/VX8xP13/jf92fyA//gCawGh/K77Fv9mAMj94vxIAGMElgMEAOv+6/8iABH/GQF9BT0GMwIJ/3sA+AHr/6b8gP7BBJcFmgHN/V397/37/AP7d/29A7AEDf7H+QT9JgFR/nr65v1wA2wEogCe/UD9vP/n/kz9eP9SBCQGCQIh/Gr8UQArAav/kQG9BAkEdwCz/tX+0f6m/hEBWgLWAm8CIgK4/nb7VfzqAI4DfAFvAMkCxQJr/nb7r/1NAeIBzQBVACIBdP97/UP72fta/hkBHQCV/nP+BP8R/pn8lf3ZADADBQM3AeIAZgFaAeoAZgEBA7QDngKzAB0AmQCIANr/J/9VAJ4CFgKi/r/84v6eAED/Zv3a/icCGQFV/O77TACmAdD8JfvS/8UDNwDl+wT+mgGAADP9M/7AAaMCFQBE/iv/vAHNASL/zf2mAKcCGQFi/qv/KwKmAQj+Zv58AZoDzQCa/nT/YgK0AiIADf9IAQACeP8q/cD/vAJvAZ79wP0ZAUQALv1m/J7/vAFZAED+Yv+NAR0A//vZ+2//JwM8AZX+0f7n/zf+pfu/+w3/1QFrAfj+Gv9qAB0AJv1y+xH/FgOjAmIA9wBrAcn/xPzE/Lj+2QBaAbgB4gARAOf/3v4R/er8EQBjAw0C4//r/0gBfP/q/Kb9vP8rASYBQAIaA80BXv8E/lX+lv8WAhsFnwTvAWL/zQCiATsAr/+WAkEEHgKN/wQBPAEe/1372fx0/6YABP8q/ZD7HPoH+Vj50PoV/tr+BP3D+eD5w/uz/CH8Df48AbMBkf8z/9UBFgPAAG8ANAQLBxcHTwZ9BbADyQGeApIEeQV5BdsFVgTv/5X9BP/j/0D+GfxE/RX+Vfyl+b74vvh1+Iv4vvk/+7P8Wfyu+mD4sfl7/c3/4v54/y8CPANqAJr/jQH4AxIDGwQkBmAHRgW9A9IC7wLNApIE2wSWAzgCUQI4AhUAs/2E/nz/a/9e/h7/Tf/i/t79Df6R/y8BngJFAxYDpwPbBIIGZAZtB+EIVAkCCE8HeghlCSAISgYKBfQEwQOAARr/r/0U/If5ivZS9BnyEPCP7M7oVeZi5Z3k2OKY4WDgQt/w3dLe1+BH4z/lVucJ6Ubs7u8e82z1cfhV/EQAfQQcCEwKtwp/CysOShGpE4cVQxYpFRMTKBITE/4TMRNwEfAPQA3hCeQGuQTFAlH/t/xZ/HP9av03/ND6w/uA/1sEXQrgEz4g1yg1KuUrozRFPjFCLUTGTARUdlGdR1NBnj31NYsqciGfG6ATaAWi86XhaNI5xvi5367MpzCj3Jnki62BAYATgcqAcoTuj5yajZ8KoxKtKLsTyNPVSedq/EkOwBnQILUpIDdcQ6dLDVTdXgJmgWLPWbxUVVQDUXdIbEAIO84z5iMSEaMDh/u78RXmdN0m2unV5szIwfm7Rr2ZwNnC28VqzWTVIdiy2OPdMOm09CL+5AeGEfMZcB2THz8i0icZLsEylzRONVc0gDCfKBQh3xxjHEUbyBaKEJ0JCQPD+4H2p/V/+6IB7wL3AAEDfwkBDyQR+xVLIH4qVC7yLokxaDUoNYQw/yxDLXYt2ydoHU8S3Ah3/h7yTedf39TWh8oTvIKwjKj5osic25djla+TDJKZkUWVi5v9oT+oF7CKu6jH19JW3JHnbPXrAZALYRWDIt0tfTNgN9Y+TEdFSrtHLkZQRj9FOD+yOGw09y8FJycaiQ8YCRECKPds64Pk+uCn2+jT2c0mzcPM+smkx3LLX9Ml2MDZ2txU5ELs7vAj9ub9dQcvDgYS3RUjGzYgYSJ3IlkjXiXwJt4kISEkHpobrhZoEaMOBQ63CjADv/zH+qX67flM+2IAfQUOBtcE/gckEnkdgCXGKoAxVDkaPkA9lTx0QIxFJUQzPYs3JDUDLpweXg5wBNn9J/Om5HvYq84dwq2x7KI/nCmbTpgMkR+MOYwXjd+KhYq3kvOfu6mfr7O3WsVj0tXaduNN8oYFsRMKHEklVjI8PGc/xkERSb9RmlQHUVdNwUpURgU+ijTqLcYo3CDQFNwIjAAH+nLwZuWB3sXbh9ew0N3Lv8tDzOXJ8cfyytrQgtRg1SXY7N7m5i3su/AC+GYAVwYdChsQSRkuId0jeyOnJaQr0TCJMaswCTLfMj8uYyYMIpAiFCHAGcIRnw+FDxgKTf/59lf2bfjC9yD4N/5gBi0HbwC8/noIwxYtHzsjeSqJMws3eDPAMNc0gDsvPBs2ljFNMWUtgh+RDYACN/2a9Cfn1tvL1I/JUbZKo76aU5rBl4OQeIqjieeIDIXCgsmII5UNoHqmVq7xuz/LadUa3E3oGfz4DrQaBCTdL6o6mj49QHdGslDKV+tW+1GoTRZKwkNhOvgxZS0FKFMewhH1Bjz+7/Nr6LXfmtxA22HXktBDy1PJ/sjxyD/Ln9GI2c7eHOF/5E7rnvNc+kABnQohFq0eeyJJJW0qTTCjM881XTp0P71AWTwPNhYyqi/+K/QmUCOPIEAaJw+oBFUAzf42+hXzVO9p7yTtlufM5Fbp4e6c7lfsO/BH+qIBVgNgBtIOXhg5HLkcAyEOKR0u8SufKKgpFCw0KHkeZRZPEjsM5gCw9FzsCOVu2VzKYL5nuAezgKproV2dZZx6mUGVuJRomd6fiqQMqumyHL5GyKPQyNkq5oX0hAFeDRoZ0SShLoI1WTrSP39GCkyXTblMhUsJSuVEqzwbNQgwiyodIvsX+A6PBoT8r/Ew6b/kC+Ge2wLVGtFRz+LNiMyRzb3RrtcF3CjfneOO6urxxvcr/pgHWBPSGw8gJiRKKpEvVjJfNZk7gkEbQmc9RzgsNdYxHCySJkgkCCMkHU4RUwYiAGr8l/YV8sXz5fl2+kTzR+3m8Mf5zf8rA24KSxWSHDQc+BmfHYAlMSo5KIkmFymXKioj2BUmDDYISQO++d3vH+m64cvURcVWuamz+a/AqvWjjZ9InXqbLZk5mW6d06OQqRuvfLf3wp7OkNjY4ezrX/a7APsLABjQItwqwC8JM8Y16jlrPWM/2j4EPZ05UjQZLlsokSNbHYMVLw1GBpkAPvqv8lvrROUk4YHdUdsR2w3c+NtA2vvZTt1u4/joae3J8kL5yf5aAyUJmxHrGXUfISLNJdcq9y+4Mk40VzZcOKU3WzTvMS8xri91K/wlVCFoHeIXFxEMC4oGKwIq/U/45/S88qXv6OvW6BboReiS6Jvpeesk7bHtuu2q77jzV/g//Hj/7wIOBroIvwqaDUoRoRRHFowWWRahFnYWHBVxEyASChAqDI8HGgM4/676QfX/7/HrK+c64UnbIddc1AHRocxkyT7IysdsxifFBcagyGnKlMoyzE7RmNf429/e9uMk6xnxzvSY+bgBrgkJDooQthW5HFQhxyEDIhElQSjjJ0AlQCRmJN0hARzdFm4VthQsEGUJQQX4A+sBTP2H+ZP4xvgX9xL1EvUk9634qfh++Kn5v/um/af/ogESBBsG/gepCE8ITwjQCuwPvxXvGUEchh6lIaYkwSeyLbU2pz4sQaNAKEFTQyBDvUC8PoE+pjzkNkguGia+Hq4V2AmJ/mj2WfCS6Cfd39DBxay75LEVqhOmk6TBoTKcAZeSlayXmJunoIenLLDruBnBx8lX1HHgJOyS9gABPA3RGfcj0yoMMPA0oTk4PsJC9kUlRgtDBT4UOGcyqS11KWYjoxoOEYsISABx98vuYudC4CbZF9MNzxnMschFxdnCjcJJxBfIiMxF0THWidsG4cnnd/Bl+msDtwpfEfcY/yASKEMuozNYOBk8fD7KP59AykA9P8w7rTdbNFUxwyzRJaQeahh5ErsLOQVIAEz8bPfi8Uvudu1L7ZPrjuks6crqnOwg7l3w3vMG9234dvnh+wAAtAMGBroHWQrvDDgOVg5NDvQOWg9BD+MOCQ+8Ds0MjwjjA28A0f7q/UP8C/oO90TzYe4s6qfnc+d858nmN+Xq49zi2OH64MbgwuGd4/vlI+gS6hPrjuu166DsmO4m8hL2cflQ+677P/td+7P8Iv88AhcF8QZtB7UGuQWwBSwGoAY+B9wHhwgxCPkGAQWaA2cCHgKrAhsEfQXPBjYI0AlzC+8MNBCpFSgdSCMFKCQrkC4vMSczcDQ6N/M65jyIOlc0Ni5CKREkEhzTExENVwdI/m/y6+Zo3kvW2cyiw1i+hrwsulm1MbDnrWyuJLCgskC4+8DHybPPStQV24zlBPE7+/0E2w/JGpUj8SmuL0Y20Tx5QTpElUYJSVpK5kctQqI8ITn5NTswUigHIbwaoBLHB6b9wfZm8Tnq4OGA20jYvtRizynKBsgPyenKpsxAz6jTYdj029vev+OO67z0cvwEAhcHXgwBEWkUtxe4GyAg9yI/I7shlCALIFgfyhxeGT8XHRaHE/gOYQptBz0F+AFV/tT74fqH+f32OPQA8wnzL/OE8i/y+PIn9BL1Z/Uj9nn30/jl+fr6WfxR/nMAlQHVAdEBowLOA0UEGwQfBE4EyQONAiIB/P9A/43+5v3i/Aj8Kvw7/C77HPkG+FP4R/mg+eD5y/p2+7/6KfkC+WX6N/yE/Yn+Rf8MADcA0v9J/97/UQHnArQDOAS0BDgEfAJ3AAwAuwCrAaYB5wGeAYAAGf6m/Mj8Ff78/uP/ogDmACoAuP7R/Wb92f0N/8QAawFNAZ4ASADe/7cApwI9BsMJjQznDd4OYxDkEqkVDBh8GhIdFx8PH9MdrBx5HDgbrxjUFRgUcBHvDKAGewAu+5L2lfF+7LznWOPf3UvXn9H7zVTMusrcyBLHecZjxujGG8hPym/OitOy2JLd5eIB6UPvDvW6+k0BsggSEDsW4xq1HjIiOCXBJ8IpHCxILiov1C22KwIqVyiJJV0i2B/gHR8bRBepE0oQIg2LCTEG9ALzANL/pv6h/Hb66fgc+CT3qPZs98v4evkP+WT4E/jT+CD5fvng+Yf6DPtM+7/6NvqL+tj6g/rc+Yv63fsU/Nj65fnp+fL5AvlP+P74f/oH+y368fjG+KD5GPrU+S36ofuh/P/7f/rp+ZT6R/tU+/L60Prh+oz7Jvw//Kr8kf4iAooF4AeqCnAQIRfJGwYe0CHwKNUw+TMWM5YzbTcLOWM04S1tKxwr5iQ7GCIMfQU8/zz0yOUe2xzVlc7rwmq2Dq+vrIypzqKhnSKfV6TtpVukOqYGrxa5A8D4xZrQ6N4K6zPz2fvtCDMYUSQgLCw0+D48SWBOA1AiU0pYLVusWCtUoVHUT6JJhT8+Nl4w6CmcH2ATKQk3ASj4E+3Q4mfcB9iK0gvLRcWRw+vDr8LDwJ3BecYMzGfPY9K72GThyegl7jT0RP2oBoANRhKAGP4fJyaTKakspjABNAY18DQ5Nj43FzbrMf8tcSvbKPMjcR5eGhUXNRIDCwEEGv/d+z33zPHC7TXsueqW553jqeFU4jLjA+ML43vl3+g5647rT+wU7yLzTvZ++Af7hP48AWYB/ADeAVsEBgZCBtcF7AWkBewDhAHN/zj/Cf/I/Yf7fvkg+Er2gPOM8Efv4e4Y7pzsQuuk6krqbOlF6LDodepP7Prsgu3/7hDxr/LA88H1XPlA/a//WgG9AzoHVAr7C54NhRCpExgVixXMFRQWpRVyFKATwhKsEAkObwyMCxwJWwX9A4YGFAkcCA8HDAvCEoQXHReeGMwhqSyuL1gsGC0oNSo6aDTPKwIsMzHqLbofthPCEXkROgeb9iDtIO1S6n3d4s4Lyv/LV8jTvMO0J7ggvii84bSDtC29xcQ4xYnFXs4N3EzlK+jC7GT4fga4DlMSohiEJOIvEjTONFg4lj/HQ3FBXj2rPfQ/Yj0KNeUsDik4JegcDxK2CbkEnv649Fvqx+NG4ADbztKZzH/LSMyLyoLHm8cyy0jO686w0MfWm9475I3nIOxi86n6eP+fA78JzhAqFjMZQRxgINEj/CQvJS8mxSebJ/wlLyTIIhggARwMGBgVihInDyoL5AZnAxkAofwT+Wj2yfTA8zfyqvBD8L/wXfEz8YzxPPOS9Qb3Nfgp+oj8Vf5R/8gAAQNOBUoGCga+BgsIwwgCCC0HtQd+CK0HCgXjAo0CngJAAdX+nv1m/kD+nfsG+JL2LPf99tL00fKI8hXzFfJM7xPt1O2h7+rv5e4677vxmvOa8yLzzvR1+H/7ofwI/i8BYwQSBUoE+QTcB24K9wrmCsQL/Ax3DH8KNgnMCbsKOwoTCNcFrATnA14CNwA8/5UAuALFA8kDLAVHCe8NUhDjEAcUBRu/IQgjCyGpIcAlsCapIXkc6BxgHhEZGg7TBVYDAAAK9w/sKuaq5K3godeAzwjNhM2HyifERMEWxfHJWMptyMPKltGl1xXaH9075Srw0/dY+/T/lAhCEkwYThs2IFsori8rMgkyPTSUOP85zzZaMx8z7DPAMKApOyO6H9IbvhTVC8oFfAJE/r32h+696W/nP+Sb3pnakdqF3Pjbc9nD2OLbqN9Y4TriHuaX7MTx1vOB9Vj6TAB5BGAGYQlNDq0SRxRlFGUV0ReRGTwZ+xfdF4QYRBecFA8SxhB0Dw0NHQr6B60G4wTEAdX+TP0M/QP8A/qT+DX4JPj59n31cPUb9yD4ZPdf9g73wvi++VP5gvk/+0z9Ef6q/Xv9Xv5W/1H/yf7V/jP/Sf9z/mb9lfzI+wP7Mvql+WX50/i198r2Rvb99VL1bPUw9tv2jvYX9ij2ufZx95P3IPgp+ZT6jPsI/CH8Gf1N/kX/o/+ZAKsCmwTXBBsEtAQxBjEHggbgBm0IIQpqCqEJOgmyCekJOgmgCCUJxwkHCVcH+QWoBfAE5wNWAokB6wHnAqcD/QNOBGQFRgcHCQgL6w0oEkcWtxhaGasaaB0pIEcgDx+XHrEeBh2VGMITgRAvDUIHYv+++NL0bvDO6c/hr9tp12zTd85cym3Iyse9xpbERMOjxCTIg8vdzcHQx9UA3I/hZuZC7Kfz7vqvALAF8wsxE3MZGx3CH5UjASj6KksrXCuULCktmCtSKOsllSQyIjkdnRcLE70PxAtsBlUBu/2l+hv2XfHY7dfsF+wK6uvnkec96RvqF+pG6sLsVPBE8m/zQfa/+tH+zQDVAUEEEwhECzcN/A5sEf4TIRV+FCkUHBXpFS4VuhOcEtsRvRAiDioL5QhpB3AFvAJZAPj+7/3d+3r5wvcX96T2vfVJ9XT1DvY09j32n/a+9z75qfqU+//8Fv8ZAXQCFgM4BLkF3AZcB+kHhwj6CNgI2AeTBoYFSgTNAgQB8/5V/Zn7cfnB9u/zovHl737u3Oy16/3qUupb6XDoJ+gF6Q7q0upf64vsHO7d74jxAPMj9X33gvlU+139/P+WAkEEigVkB0cJdgpEC0wMlQ38DbgNgA1mDYAN0QzVC7cKugmPCGAHygVFBDADGgKVACf/Xv4v/jP+qv2R/ZH9M/8ZAeMC1wRPBxgKhAzJDjUR1BR7GH0b6B1HIGUityPRIzMjfyI6IUYfgRzAGWUWTxKzDI8GtwAY+zT1Lu+w6WbkaN+Z2s/VsNFRzqHLh8nsx5vHZMgHyqXLCM5n0anV6tmO3vLjdepu8Tn4Vf5bBK4KnxD/FZ4ahx+NJGwoxirgK/8sXS1HLPUpkidRJVkiEx5EGVwUkg8uCiMEpv72+V/2c/I27s7qwegr5x3lquOq41XlAOc46Bvq7exU8DPzlvXt+Hf9swH5BKkH0Ar8DcoQdRKYExAV1Ba3F5AXDBeIFroVvhP1EKsOtwxQCj4HyQPqAGL+tvvC+Cz2DfQ38t3wUO9H7iDulO7h7kPvHfCI8RXz4/TX9hP5Zfs7/Vr/cwGaA3AFIAepCB0KRAsEDIQMvAyEDAgMIQtZCoMJYAhxBygGYwSNAqoA5/4R/W77A/qL+Ab3Y/XA817yXfGD8P/v3e/777fwr/Fz8jzzXvTj9Yr38fi6+q78pv6vAFYCOAQ5BjoI7gmQC7cM5w0BD5IPuA+OD3APaw/jDtYNtwx3CxQKDwjsBUEEwAKzALz+CP2D+w/6fvgs9+z13/Qn9JrzUfNA83jzBfSj9Dj1sPXO9iT4lPlY+0j9Hv+eAPMBmgMGBVsGjwf2CAcKgwrQCu4KlAohCrIJWAllCDoHuQUsBDwC/P/z/Wb8DPst+TX33/UJ9fzzzfL78dnx+/HV8eLxYvI88xr05/T09Vv34PhQ+u77Zv3R/kAAAAKnA1IFAgdpCJ0JWQouCyYM/AyJDd4N8w0WDhYOlQ3eDPsLbguDCtgJywiPCKAIYQmpCe4J0AqiDLgOnxBCE+YW0RmvGh8bFhwKHWwcnhoEGSoXFBSaD3sKMAWN/+34zPHB6mHkdN7Q2KjS5sw1yGvE+8DPvT68bbwGvVO9rb4Rwg7Hw8uB0GnWm9175JvrDfPU+icDDAtCErcYwh7VJJcq5i4rMiw1mDfhOLI44DdPN8I1WjLMLWwphCWHIK8a3BRfD7oJXwME/ST31fEp7ZroQ+SC4GzeEt3J27za4toF3Jvdjt9c4irmcOo27rfxY/Yy++v/AQRUCMQM2xB6FMQXKxtkHuEgmSKqIxUkkSSZJBEkvyJQIUYfkhxVGTsWWBMnEI0MlAgBBQkC6/7Q+wv5gfZa9B7yGfDl7kfuj+367K3svuwc7aXtbe6q7xDxmvIS9HD1ufYx+Mf5g/ou+z/8Wf1I/sD+3v7V/nz+xP3//Gr87vsy+1T6E/ng94r2ivV89C/zVfLA8WbxGfH38CLxt/Hz8YjyXvO89MH13/ZP+Mv5Mvum/FX+1v9iARIDUgRbBXEGQgdlCEMJ6QlqCsgKzAqqCmoK/wmhCRAJegjxB8cHbQfgBkIGwgUjBZYEqwN0A3QDawNNAxoDmgJRAiIC/AH8AWcC0gJjAz0E3wS9BWwGBge1B08IhwmyCr8L4gwaDoUPIxBSEJsQoxBFEL0POA94DkQNogvYCaAHFwVFAo3/jPyP+bn22vMd8Wnu5OuK6YXnr+UZ5PbiaeI24pjiP+Mq5Grl7+aS6Hnql+zp7oTxPPTs9ov5Q/wE/5UB8APbBbUHaQkMC0AMHg34DWsOpw5aDtENLw2IDGEL7gmUCGQH1wUbBG8C3gBA/zv9bvsl+jH5U/hs9+T2sPbb9sb20/ZO9zH4T/lU+jv7f/wi/pr/9wAJAmsDuQTsBT4HuggyCrML8wxjDucPeRHoEocUYRYZGK8ZRRuwHPkd3B5GHxcfIB+cHsIdRRyaGioYSxXoEfgNvwkKBUgAQ/tj9lnxguy85xjjX94i2inWDtNN0BHOWcyYy8PLcsyVzVrP1tHp1HfYktxL4Wbm5Otm8aj20PvmAOgFnQoFD/USgxavGUUcDx5YHwsg2B8pHzEeyhzaGl4YqRULExIQmQwLCZ8FHgLA/pT7qfgB9tHzt/Gh7wfuz+xc7E/sMeyo7L7tbu8Q8eLySfUt+PL6u/1EAFIDQgb2CIgLAA6SENwSvhQ/FlAXcxgeGXMZjRk3GfMYLxghF64VYBS5ErkQYw5IDAcKIAjbBY4DpgH8/yL+Ifx2+j75fvjP91P3vfbO9sb25PbB9vD2Svf196D4cflY+kz7Vfyu/F391f1I/nz+Zv6R/s3+kf4e/jf9s/z3+/b6FPoP+XX4aPdo9nT1vPQN9F7zovJi8kTyhPLE8kDzSfQ99XD2efek+Pr5ZfvZ/Dz+3v9VAbwCBQQjBSAG7QY+B0sHjwexB4sHegctB88GFwYoBfgDyQLAAZUAa/+J/rf96vyI/ND7Q/vY+pz6ZfpH+nL6y/pl+/v7kPxm/SL+1f70/8QAkQG4At8DSgVxBosHsgiyCYMK/wqZCyoMkQzVDOIM2QzzDO8MmQwRDEwLiArMCRQJ+gcTBwIGVwUnBDADUQI3AUwAOP+J/rf98/wu/Kr7XfsM+236+vmx+Zz5gvlx+YL5rfkU+lz6XPqy+vL6e/uq++H7P/yz/Iz9Jv58/uv+wP8MAFEAgADAAAgBawGAAbwBOAKRAo0CjQKaAnwCMwLeAU0BBAHmAEgA2v9i/xr/6/6A/sT9SP3M/J38TPzh+677kPt/+yn7GPtd+5D7svud+7L7DPxu/Jn80Pw3/ZH95v0e/kT+if7V/i//fP/8/54AFQGRAfgBFgJFApEC5wJfA/ADigQwBcIFcQYtB+QHKQiLCMcIMgmUCakJ+wkyCjIK0Al/CQsJiwixB/UGBgYjBScEOANAAjMB+P+8/pn9O/wD+zL6WPmt+BP4xvd99073JPfs9jn3vvfk90/4C/m++Yv6P/vD+937O/xq/G78f/xy/D/8FPyy+yX72Pph+sf5Avlo+AL4z/do9yj3LPdk95P32/dC+LH4cfky+tD6qvvZ/N79Gv8MAGIBrwI4BGQFzwY+CJgJuwrdC80MyQ38DqcPXxDBECQRUxFsEWwRShHjEEEQcA/FDu8NTQ1VDGYLfwp/CVwIDwcKBigFZwSSA/gCQALeAZUBYgHzAJkASAAzACIAAAAZAIwASAF8AaYBMwLjAkEDeANjA7ADeAM0A3QCuAEAAfT/Wv6M/Nj6/vj59oH04vGl7+XtqOs96UTnmeV35C7j7eEc4cLgoOCG4MLgj+Hu4ozkL+b85w7qrewu75HxQfQs9xj6kPw8/94B3wRLBzYJwwqADAkO/A6fDyMQdBCFEEEQpw8SD3gOiQ1MDAgL/wm+CKkH3AYsBtsFLAW5BFsEPQRsBGcEkgS0BF8FNQbxBqkHjwhyCWUKLguzC4QMXg0RDoAO6w40D2MPaw8nD9YOUQ6vDesM2QsQC/IJHAk2CAIHBgYbBTgEOAMJArsAuP/a/tn9//xQ/MP7Q/uL+sf5S/mX+O33CvdO9tv1Y/Un9cX0fPRr9GP0SfQe9Cv0cPSr9Pj0lvVG9vD21/fT+Mv5f/oM+7b7ZvzZ/Aj9Xf1d/Wb9O/0i/er8XfyZ+7/63PkH+fX3/fY99rn1RfXB9F70APTA85rzb/ON897zI/S49H31aPZs9zn4Kfkh+iH7Gfym/ET91f1R/vP+Uf+W/7z/AAA7AEAAYgBMAEAAMwBMAIAAhACqAPcAXgHAASsClgIJA5oDcARBBRsG+QbYB/YI+wnZCswLwAyEDXgOSQ80EAYRwhE1EtwSUxPCE+UT/hPgE9MTnBNgE/oSeRLkERcRShAfDxEOzQyZC38KXAkTCNMGjgVjBFoDTQLzALz/ov6E/XL8avt/+of55Pg5+Kj3F/ew9g72X/XW9FL04/ME82vy1fFE8bvwGfBh77ruKe6x7Qbtfuz160rr5OqX6oHqfeqb6sbqDutf6/HrNezp7K3ttu6Y77vw1fEi80H0TvVS9nH3aPgg+RT6Lvs3/Bn9AP6E/k3/vP8qAJEA6gA8AZEB+AFFAlECpwLNAhIDZwO4AxIEgQTXBEoF1wWbBksHzwecCH8JewpQC+4LjQw8DfMNtA4wD6MP3w9SEKgQxhDOEOwQBhEXEegQyhCwEHkQChCnD0EPrw44DpENEQ2ADOYLGQs2ClwJSwhXB1sGXwVFBCcDFgINAdb/xP6V/bv88vs2+3L63PlY+c/4gvg1+PH31/fT9/n3E/j19/H3Cvj19+D3Cvj+96j3V/co99/2V/aj9fD0OPRi81XyovHq8CrwkO8H76HuPu4U7gPu5e0L7mXutu4677/vjPBd8TPyAPMj9Dj1Y/Z595f4z/kQ+zL8Jv1A/mf/YgAeAcABfAI4A7ADDgSOBPQETgWBBZsFtQUTBkoGOQY1BlMGpAbPBtcGxgbxBiAHPgdGB34H5AcpCD4IWAipCOkI7QjhCD8JVAlhCYsJ9gk/CmEKewqlCrsKwwq7Cu4K8gryCgML+wodC1ALTAsDC7cKbgpDCswJSwmtCA8IjwcPB4IGCga5BVcFvQRfBA4EhQP4AlEC3gFzAaoAIgBv/8D+7/3V/NT76fr6+TH5gvi59w73X/YO9p/1NPWN9PzzifPe8mLyu/Fd8Qzx2fCM8JXwO/Au8PvvzO+M73LvLu8d7xTvJe977wjwpvAq8bvxKvLz8q/zK/Sf9GP1LPYO94r3dfhc+Wn6cvuq/OL9PP9zAKYBjQKSA5IEVwU1BjUHRwglCeEJkAoyC6oL6gv3CxUMMwxMDFkMhAy3DO8M5gziDNUMyAyiDGYMWQxmDGoMUQxIDFUMiAziDCINXg2aDcQN2g0nDkAObw50DoAOow6ADk0O1g0mDYAMswvICsMJsgi1B88G0wXFBLADjQJvAUwAK//z/eb80PvD+rb56fgc+HX3n/bf9Vb16/RS9NHzOPPV8rfyd/JI8jfyYvJz8nfygPKV8qLyq/KE8nzymvL48ifzfPPN8030sPQB9VL12/Uf9j32aPak9kr3ufdg+Bz55fnp+sj7u/ym/S/+s/7J/tr+Gv88/7T/EQCAAB4ByQFJAsAC/AJSA3wDqwPwA2ME+QRfBeQFggbkBmkHtQfgBykIKQjtB9wH7Qf2BxwINghYCLIIIQk/CTIJ9gilCEcIywdGBw8HsQatBq0GpAaoBoYGOQb9BbAFTgXoBLQEjgR9BIUEowTKBMEElgR5BE4ECQSaA1IDPAP8AsUCzQLWAsUCqwJFAs0BawGqAAAAhf8a/6/+QP7R/ar9Xf37/FX8svsY+1D6lPnk+GD48feo92T3MfcC9w73AvfX9r32jvZS9k72aPZs9pL2tfYT92j3l/fP9/X3HPg5+I/4xvg2+X758vmU+i774fth/Aj9iP38/VX+lf7V/gT/Gv8v/43/MwC7AEgBmgHRAR4CRQJRAm8CngLSAiMDnwP0A3QErATwBFcFeQWKBbkFvQW5BeQFtQXXBQIGQgZ5BrEGrQaoBooGZAYgBr0FgQUBBbkEfQRKBD0EEgQBBP0D9APsA7QDvQOrA3wDWgNjA3wDmgO4A8kD8ANfBEUEGwTaA3wDcANfAwkD/AL8AusC+AKRAk0CEQKiAQQBZgDa/1r/7/6E/g3+0f13/SL94vxd/Aj8nfs7+7/6OvoH+qD5XPkk+cv4i/hk+Ar40/fT9+T3yve+97X3tffK97734Pck+G34sfgg+WD5w/kL+n/63fo7+677JvyZ/O78Yv3v/WL+pv5r/+f/gADvACsBrwHrASICbwKFAs0CBQMwA7QDFgSFBJ8EygTSBAoFNQUXBRsFMAUwBVcFlwWOBcYFzgXbBf0F+QUKBgYG+QXTBbUFkwVfBR8F9AR0BF8EMAT0A6cDSQMjA9ICmgIzAusBzQFrARkBxAAzAMn/Xv/n/qv+a/4v/hX+Ff4V/g3+K/5A/mv+ov7N/sT+8/7e/t7+uP6a/q/+r/6A/kj+Wv5e/jz+Hv4e/gD+7/3A/bP9mf1v/Sb97vy//MT8xPzZ/PP8N/17/W/9gP1z/Wr9TP0Z/dX8yPy//O78v/zV/AT98/zQ/Lf8yPzZ/ND8zPzV/PP8Hf0Z/Uj9Wf2I/dn95v3Z/fP9M/5N/kT+gP7V/jz/q//4/10AqgAVAWYBjQG8AfwBQAJAAloC0gL8AisDHgMwA0kDZwOJA4UDowPaA9oDyQOnA6sDyQOBA2MDgQOaA1YDQQMNA/wC0gKRAl4CAALNAZEBRAENAQgBAAHNAIAAngCIAJ4AdwBMAEgAQAAiAAQA+P/S/+P/6/8IABUALgAMAO//1v+a/3j/Wv8n/w3/K/84//z+xP7E/qv+if43/ib+Iv7i/bf9wP3A/dH9r/3A/eL9CP4R/gD+AP78/Rn+Gf4R/gj+SP5r/mv+PP5I/h7+/P3q/dn95v0R/gT+1f0A/gD+Ef7m/dn98/3E/ZX9gP1z/YT9Zv1i/ZX9s/3A/dH98/0z/nz+nv64/h7/Yv+a/83/9P8uAGoAcwCmANkALwGeAfgBWgLJAvgCBQNFA3QDiQN4A2cDcAOnA8UDvQOjA7gDzgPWA7QDjgOaA5oDgQNFAzADGgPWAoUCawJNAgkCswFmAUABLwFIARUB8wDeAJUAXQARAMn/o/90/4X/jf98/3T/Sf8z/yf/AP/E/qL+mv6v/rP+5/4R/zP/QP88/0n/J/8r/x7/Iv8i/x7/M/9v/3z/uP/W/6//r/+W/5b/hf+R/43/gP+J/7T/5//8/+P/2v/W/8n/p/+a/6//wP/a/8D/q/+n/5H/Wv8e/wn/yf58/kD+Gf4v/gT+1f3R/dn9qv2M/YT9nv27/fP9Hv5E/qv+vP7a/gD/L/9R/2L/Z/9a/2//o//r/0AAZgCZAMgAswDAAPMADQEeAQgBDQEVATwBfAFvAXMBlQGvAZoBngGmAaIBiQGVAcQB1QGiAYkBgAFvAW8BUQFaAVEBFQEeASYBLwErARkBPAEzAUABTQFEARUB6gANAdUAyADIAKIAkQCVAIgAbwAzAFUAOwARAPj/7/8EAMD/nv+W/2//Uf84/xH/AP8J/yf/J/8n/xr/Ef8J/+/+2v6v/rP+uP6R/oT+s/68/tr+r/6z/gn/8/7E/sn+yf64/p7+ov64/s3+1f6z/uf+/P4i//z+6/4R/zz/Tf9J/4n/yf/F/9r/GQAqACYARABMAEQAewCRAJkAngCvAN4A1QDiAPwACAE3AR4BBAEEAfwA8wDvAOoA7wAmAeoArwC7AN4A3gDNAKIAswDRAIwAcwB7AIQAhABmAIgAngCZAK8ApgCqAMgAuwCVAIgAhACeAIwAgAB3AJEAXQBZAEQACAAAAPz/7//S/+v/5//j/9r/4//F/57/jf9a/03/Rf8v/xH/Ef8v/y//BP8A/+/+1f7A/sD+yf7E/u/+BP8E/zP/Xv9a/3j/if+N/57/p/+R/4D/uP/J/9b/4//e/+v/6//W/9b/9P8dACoAOwAzAEAAZgBiAFkAagBqAF0AcwCIAHMAYgB7AGYAbwB7AFEASABAADsAMwBAAFEAXQBZAFUAbwBVADsANwAqAB0A/P8MAB0A+P/0//T/AAAIANb/6/8EAAgA+P/W/wAACAAdAO//0v/J/9b/zf+R/8X/BADn/9r/7//n/x0A+P/e/9L/0v/4/9L/9P8mAC4ALgAzAG8AjABmAEAARABIAEwAVQBzAGoAiACzAKIApgCvAJkAZgBVAHMAYgBqAGoAUQB7AIwAbwBVAFkAagBmADcAEQARAB0ACAD4/wwADAAuACoASABMAC4ADADJ/7j/uP+W/5H/mv98/5b/o/+A/43/tP+A/0n/a/9e/03/M/9J/1H/Sf9r/2f/a/+F/3T/Wv9W/17/dP94/43/kf+R/7T/p/+j/5r/mv+r/7T/xf+8/83/3v/W/+P/0v/a/+v/1v/j/wQAGQAdAEAAZgBqAHsAagCIAIgAdwCAAJUAkQCVAJUAhACMAGYAVQBRADMAUQBiAEwAWQBZAFkAYgA7ADsAQABAADMAKgAqAC4AQABEADcAMwAZAB0AFQAEAN7/yf/v/8n/wP/n//T/9P/W/7T/q/+j/7z/lv+A/5r/tP/F/7T/wP+r/7T/vP+r/5r/p/+4/6//r//N/97/3v/0/x0AJgAuACYANwBEAEAAEQAmAEQASABMADsATABZAFEARABRAFUAZgBdADsANwBMAF0AQAA7AEAAOwAzABkABAAdAAAA4//r/+P/zf/F/9b/yf+v/7j/o/+N/5r/mv+R/6//uP+r/6//q/+a/43/kf+e/6f/p/+v/6P/nv+4/8X/uP/W/9r/3v/v/wQAGQAVABUAFQAEAAAADAAmAC4AIgAqABEAEQAzADsAIgAqACYAKgAzAEQANwBEAG8AYgBvAG8AdwB3AIQAZgBIAEAATABVAFUAWQBiAFkAMwA7AC4AKgAmABEAFQAIABkAEQD8//T/9P/v/+P/4//j/97/1v/S/9b/zf+0/6//p//A/7j/q//J/8D/vP+8/8D/wP/e/+//4//a/97/5//r/9r/0v/j/9b/3v/e/97/6/8EAAAA3v/j/9r/BAD4/+P/3v/S/97/7//a/9r/0v/e/+//3v/J/8D/zf/W/9b/yf/j/+f/5//r/+f/3v/j//T/9P/v//j/GQAVAB0AJgAZABkAFQAZACoAGQAmADcAIgA7ADcAMwBIAFUAVQBMAFUAZgB7AIQAiABvAGYAewBqAGYAdwCIAHMAYgBqAGYAYgB3AFkARABVADcADAD4//z/9P/r/+v/2v+8/8D/vP+r/57/eP9n/17/Xv9W/1b/Vv+F/3j/dP+F/3z/hf+n/6f/mv+e/43/tP+v/6//2v/W/9b/3v/a/9b/2v/n/97/1v/v/+v/AAAVAAAADAAZAB0AIgAmAC4ATABAAFUAagBmAHcAhACMAIwAiACVAJ4AkQCZAIwAiAB3AGoAXQBdAGIAWQBiAFEAYgBIABkAJgAIAO//5//a/9L/zf/N/7z/o/+r/6v/nv+j/5H/hf+J/4n/if+F/4n/lv+N/5r/r/+j/6f/tP+0/7z/zf/a//z/HQAZADsANwAzAEAANwAuADMAXQBRAFkAZgBmAHMAewBqAFkAbwCAAIgAhABqAFUAVQBdAEAANwA3AC4AIgAiABUA+P/8//z/BADe/7z/wP+v/6f/r/+v/5r/lv+R/43/jf+F/43/eP9a/2f/Tf9W/2//eP98/4n/nv+a/5r/vP/F/8X/2v/a/+v/DAAMABUAIgAiAC4ANwBRAF0AXQBMAGoAXQBdAGYAVQBdAGoAVQBAAEwAVQBZAFEAQAA7AFEAVQBEAEwAKgAdADMAHQAIAB0AHQAuACIA/P/v//z/4//J/8n/r//A/8D/wP/J/7j/tP+r/8D/q/+W/6f/mv+R/5H/fP+W/7T/q/+v/7z/2v/e/97/6//r/9b/3v/j/+f/BAARADcAVQBZAFUAWQBmAG8AhABvAGIAhACIAIQAbwBvAIAAcwBiAGYAYgAzACoAMwAuACYAGQAqAC4AFQAMAPz/0v/N/7z/q/+j/7z/tP+j/6v/p/+r/4n/if+A/3z/eP9e/2f/Yv+J/4n/hf+W/5H/nv+e/6v/o/+0/83/zf8AAPT/5/8EACIASAA3AEQAZgCIAJkAgACAAHMAiACeAKIApgCzAK8ApgCRAIwAewB3AG8AYgBqAEQALgAiABEABAD8/+f/5//0/8D/uP/A/6P/o/+N/4D/fP98/3z/gP+F/3j/gP98/43/o/+W/7T/wP+4/6P/nv+n/57/yf/F/9L/6//v//T/2v/4/wwAFQARACIAIgARACIAOwA3ADMANwBAADcARABvAEQAUQBiAEQAVQBiAEgAQABVAFkAbwBvAFUAbwBiAHcAXQBZAF0AWQBmAEgARAAmABUAEQAZABkAEQARAPz/+P/v/97/0v/S/9r/4//S/+P/1v/N/9r/vP+0/6v/tP+v/6v/o/+e/6f/mv+e/5H/kf+a/6f/uP+r/6//r/+n/6//wP/F/9b/3v/e/9r/7//0//z/BAAZACYAGQAuACoAJgAqADMALgAVACYATABEADsASAA3ADsARAAzADsAOwBZAFEAKgAuADcALgAmABUAFQARABUAGQAVABkAEQAVAAgAAAD0//z/CAAMAAwABAD8/x0AIgAiAB0ABAAZAAAA9P/4/wAAAADj/+f/9P8MABEA7//n/97/6//j/9b/4//4/wQABAAVAO//0v/a/83/tP+v/7j/uP+r/8X/zf/S/9b/zf/e/8n/2v/F/8D/uP/J/97/3v/4/97/7//j/9r/4//8//z/BAARAAQAEQAZAB0AFQAmAB0AKgAdACIAJgAqAFEAXQBRAC4AQAA3ACoANwAuADcAQAAqACIAIgAdABUAHQAdABUAGQAiACIADAAVAAwAGQAdAAAABAAZABUAFQAEAPz/AAAEAPT/1v/v//j/IgAmABEAGQD0/+//9P8AAOf/5//j/+P/5//r/97/6/8MAPT/7//W/8n/zf/N/8D/vP/F/97/4//S/8D/r/+v/8n/1v+4/8n/2v/r/+f/3v/n/+P/CADr/8X/3v/v/xEAFQARABkAIgAzADMAIgAZADsAUQBMADcAIgAuAEAAOwA7AC4AMwA3AEAARABAAEgARABAAEwARAAmABkAFQD4/97/4/8MAAgA7//0/97/2v/a/9L/yf/N/83/r/+8/9L/1v/a/8D/wP/F/8X/vP+n/8X/5//0/9L/xf/e/9L/0v/a/9b/2v/j/+v//P/n/9r/7/8EAPj/+P/0/+f//P/0/wgAEQAEAAAA9P/4//j/DAAAAAwADAARADMAHQAqACoAKgAqADcAKgAMAAwAEQAiABkAKgA3AC4AMwAmACIAIgAzADsAGQAVACoANwAqAB0AGQAmADMAJgAZAAAAGQAuACoADAARABEACAAIAOv/3v/j/+f/7//r/97/2v/J/83/1v/a/8X/wP/S/8D/wP+v/6P/uP/N/9b/zf/A/7j/vP/S/9r/zf/N/9b/5//e/97/7//v/+v/9P/r/+v/AAAEAAAA+P8RACIAIgAmAC4AGQAqAEgAWQBMAEQAOwAqADsASABRAEwAYgBVAFEATAA3AFUAXQBRAEgAQAA3ADsALgAzAEQAMwBEADsAIgAAAOf/2v/a/+f/0v/N/83/yf/J/9L/yf+4/7T/q/+j/6v/kf+W/57/p/+v/6v/uP/A/57/p//W/7z/zf/e/97/xf/F/9b/4//n//T/CAARAB0AJgAzACoANwA7AF0AWQBEADsASABIAEAAQABAAEwAUQBEADMANwAmACYAKgAVAAwAEQAVAAwA9P/r//T/4//e/+P/6//v/+//6//j/+//5//J/8X/wP+r/6f/tP+4/8D/0v/J/7j/yf/e/97/4//r/+f/3v/n/+P/5/8IABUAEQARAAwAHQAqAB0AGQAVAB0ALgBAADcANwAuAC4AMwA3ACoAKgA3ACYAHQAzACIAJgAzADMANwAZABEACAAIAAwA7//n/+//6//S/8n/1v/e/97/0v/W/9b/wP/N/8X/yf/J/8X/uP+v/7j/0v/e/9r/3v/a/+//+P/r/wAAAAAAABUAHQAVABUADAAdADMANwBAAEQASAA3ADsALgA3AEAAOwAzADMASABMAEQAOwA3ACoAJgAiACYADAAVAB0ABAAEAAQA7//r/+v/3v/W/8D/tP/A/6//nv+r/6v/wP+n/7z/r/+e/7j/uP+8/6v/vP+4/8n/0v/W/9r/0v/4/wwADAARAAgAEQAVAAwAEQAZACoAKgA7AFUARABRAF0ASABZAFUAVQBVAGoAagBZAFkAagBzAGoAXQBZAFUAQABAACYAKgAzABUAFQAIAAwA/P/n/+v/5//W/8X/zf/N/8X/r/+e/7T/o/+e/6P/p/+W/5H/q/+e/6f/lv94/5b/kf+J/5r/mv+4/8D/zf/J/9b/6//0//z//P8MABkAGQAdACYAIgAqADMAMwA3AEwAQABEAFEAZgBMAEAASAAzAEAAOwBIADcANwBIAEAAOwAzADMAOwAzACIAFQAIABkAFQAAAPT/5//j/+f/4//W/9L/tP+8/9r/zf/F/9b/0v/A/8D/xf+v/6v/uP/F/83/uP+8/8D/0v/W/6//uP/F/83/0v/F/9r/+P/4//z/9P8IABUAHQAmABkAEQAiADcANwBAAEgAXQBVAEgAWQBEAEQAXQBRAFUARABEAEgARABVAFkAWQA7ADsAOwAdACIACAAEAPT/6//0/+v/3v/a/+P/1v/N/7z/yf+0/6f/uP/F/83/xf+4/8n/wP+4/83/wP+8/7j/p/+0/7T/wP/J/8n/1v/S/97/1v/j/+//BAAEAAAABAAMACYAKgAqADcAOwAiAC4AOwBVAFUARABdAEAAQABZAFkAWQBMAFEARABAADsAMwAuACoAFQAEAPz//P/8/+v/0v/J/9L/wP+4/6P/q/+e/6P/q/+N/5b/lv+a/5b/nv+v/43/mv+n/6v/r/+4/83/wP/J/8n/yf/e/wQABAAVABUALgBAAEgAWQA7AFUAXQBZAF0AcwB7AIQAmQCEAJEApgCRAIwAiACAAG8AagBiAF0AUQBZAFkARABIADcAOwAzACoAGQD8/wQA7//j/+P/0v/N/8X/q/+j/6f/o/+a/5H/mv+F/3j/gP+F/4D/b/+F/4n/fP98/3j/gP+W/6P/kf+W/6P/uP/F/7z/1v/0//z/+P/8/xUAIgAuACoAJgA7ADsASABRAEwAXQBZAF0AZgBiAFkAWQBdAFEATABRAEQANwAzADsANwAzACoAHQAVABUADAAIAPj/3v/e/9r/2v/a/9L/4//e/97/6//e/9r/2v/S/83/3v/j/+f/9P8IAPz/+P8RACIAHQAmAC4ANwBAACoAMwA7AC4AQABIAEQARABRAFEAVQBMAFUAVQBVAEAAQABAACYALgAuAB0ADAAAAAQA+P/r/+P/zf/J/83/yf+4/7T/uP+v/6P/lv+J/4X/gP90/3j/Yv9r/3T/gP+A/3z/mv+e/6P/o/+j/5r/r/+r/6P/o/+4/9r/2v/a/+v/5//8/xkAEQAZACIAMwA7ADcATABmAGYAbwBvAGYAcwCAAIAAdwCEAIQAjAB7AIQAhAB7AHMAXQBdAFEASAAzACoAJgAdABkAAAD0/+P/2v/e/83/xf+0/6P/tP+0/6f/p/+r/6//mv+e/5b/lv+a/4n/jf+e/6P/q/+n/8D/tP/A/9L/wP/J/9b/2v/W/+P/5//4/wQACAAZAAwAHQARABEAGQAdACoALgA3ADcARABMAFUATABRAEgAUQBdAFUAWQBZAF0AVQBVAF0AYgBZAFUATABAAEAAVQBMADsAQAA7AEAAMwAmACIAGQAMAAwA/P/8/+v/4//0/+v/4//r/+f/3v/N/83/yf+8/8X/q/+j/5r/jf+R/4n/hf+F/4n/kf+N/5H/kf+e/57/q/+v/6//o/+r/8D/xf/F/83/0v/W/+P/+P8VABkAIgAdAC4AMwAqADcANwA7ACoALgAuADcAUQBIAFEAUQBMAFEATABVAEQAQAA7ADcAMwAzAEwAQAA7ADsAOwBAADcALgAuAC4ANwAdAB0AJgAdACYAGQAVAAwABAARAAwABAAAAPT/9P/0//T/7//4//T/9P8AAPT/9P/0//j//P/v/+//7//e/+P/7//r//T/6//W/9b/0v/N/9L/yf+8/6f/r/+8/6//q/+n/6f/mv+W/57/lv+J/4X/gP+A/4X/gP+J/5b/nv+R/5b/o/+j/6v/r/+r/7j/vP+0/8X/zf/a/+P/4//0//z/EQAiAB0ARAA7AEAATABMAFkAVQBiAGYAagBqAHMAcwBzAIQAgAB7AHMAbwBqAFUAVQBMADcANwAqADMAKgAdAB0AFQAIAPT//P/0/+v/7//a/97/0v/J/9r/0v/J/83/zf/W/8X/zf/S/9L/1v/S/9L/4//e/9b/4//j/+f/7/8AAAQADAAiABkAJgAiAB0ALgAuADsASABIAEgASABRAGIAYgBdAGYAZgBZAFEAagBqAFkAVQBMAEQARABEAEAAKgAuAB0AEQARAPz//P/n/9b/1v/S/8D/q/+n/6f/nv+R/43/jf+J/4n/jf+W/43/if+J/4X/jf+a/57/lv+J/5r/nv+v/6v/p//J/9L/2v/a/97/4//n/+f/6//0/+//+P8EAAwAHQAmABEAJgAzAC4AOwBAAEgANwBAAEgATABVAEwATABIAEwASABAADcAKgAmAC4AIgAZACIAFQAMAAgADAD8//j//P/0/wwABADv//T/7//v//j/+P/0//j/AAAMABEABAAMAB0AHQARACIAGQAdACoAGQAmAC4AHQAVADMANwBEAEAAMwA3ADsANwAqADMAKgAmABkAGQAVABEACAD8/wQACAD8//T/7//r/97/1v/N/9b/wP+v/6v/q/+n/6P/q/+e/57/nv+j/6v/r//F/7z/tP/A/8n/tP+8/83/yf/W/9r/5//n/+//5//r/wQABAAIAAgAIgAZAAwAHQAiABUAFQAZABUAGQARAPz/9P8RAAgAAAAVAAgACAD4//z/BAAEAPj/9P/4/+//AADv/wQAEQARAB0AHQAdACIANwAuACIAJgAzADcANwA3ADcARABAADcAQABEAEQASABEADsAOwAzADcANwAqACIAIgAiACIALgAdABkABAD4//z/+P/j/+v/7//n/wAA5//a/+v/9P8MAPz//P/4/+v/7/8IABEA+P8EAAwAEQAiABkAEQAdACIAIgAdACIAHQAZABUAEQAZAAQA+P/8//T/AAAAAO//3v/a/+P/2v/n/83/zf/J/7j/r//A/6//nv+j/6f/r/+e/5r/jf+W/6f/q/+r/6f/o/+4/8X/yf/S/8n/xf/S/+v/6//n//j/+P8RAB0AIgAqACYAMwA3AEQAOwA3AEAAQABEAEgARABVAEgATABVAFUAWQBEAEgAKgAzAEAANwAzACYAGQAVACIAJgAVABEAHQAdAAwADAAMAAgAGQARAAwAEQAMABkAIgAVABkAJgAVABUADAAdAB0AEQARABkAIgAZABkAEQAZACIAFQARAAAA/P/0//j/+P/v/+f/4//r/+f/5//n/+P/2v/e/9r/4//n/+f/5//n/+v/7//n/+f/5//0//j/4//v/+v/6//0//z/BAD4//T/6//v//T/9P/n/+P/4//j/+f/2v/W/9b/yf+8/7j/uP+0/7j/tP+0/7j/p/+v/7j/tP+v/57/q/+0/6//vP+8/8n/zf/F/9L/7//0//z/EQAVABEAGQAiACoAOwAzAC4ANwBIAFEAVQBIAEgAXQBiAF0AWQBZAFkAVQBVAEwASAA7AEAAMwAzADsANwAmABkAIgAVAAwACAAEAPj/9P/4//j/7//n/+f/7//0//j/+P/0//j/6//4//z//P/0//z/CAAIACoAJgAdAB0AGQAmACYALgAzADMANwAqACYAKgA7ACoALgAuABkAIgAmACIAFQAEAPj/6//j/+P/5//e/9L/zf/W/9L/xf/F/7j/r/+0/7T/o/+W/57/lv+e/6f/mv+j/6f/o/+e/57/q/+v/6P/q/+0/9L/0v/F/9b/3v/j/+P/4//j/+//7//r//z/BAAEAAQAEQAIAAwAGQAZACIAJgAdABUAGQAVABUAIgAZAB0AIgAiABkAGQAdABkAHQAiAC4ALgAzADMALgA3ADcAOwAzADcANwA7ADcARABAACoALgBEAEQALgAqAC4AJgAuACYALgAqACIAGQAVAB0AFQAMAAgAEQAEAAQA/P/0//j/7//v//T/6//j/+v/7//r/+//6//e/+f//P/8/+//5//r//z//P/8//j/7//4/+P/6//n/+P/2v/S/9r/4//e/9L/yf/F/9b/zf/J/83/xf/N/8n/yf/A/8D/yf/J/8X/xf/F/8n/0v/S/9r/3v/e/9r/5//n/+//+P/4//j/AAAAAAgAFQAMAAQADAARAAwAEQARABkAJgAqACYAKgAmAC4AJgAqACoAIgAmACIAKgAzAC4AMwAuADcANwAzADsAKgAzACoANwAqAC4AOwAmADMAMwBEADMAJgAiABkAKgAmABEADAAVAAwABAAEAAgA+P/0//j/9P/v/9r/4//r/+P/0v/S/83/zf/J/8D/wP/F/8X/tP+0/8n/0v/F/7z/xf/F/9b/1v/S/9b/0v/S/9r/6//j/+P/7//n//T/AADv//T/BAAIAAQAFQAVAAgADAAMAAAABAAEAAgADAAMAAQA/P8EAAwACAAEAPj//P/8/+P/7//0//j/7//n/+v/9P/8/+//5//n/+f/7//r/+///P/v//T/9P/r//T/+P/0/wAADAD8/wAAEQARABUAGQARABkAHQAVACYALgAqACYALgA3ACoAMwAzADMATABAADsAQAA7AEwAQAA7AEQAOwA3AC4AOwAzADMAKgAZACIAGQAZABkAGQARAAQAAAAEAAQA9P/v//T/5//n/97/1v/a/9b/3v/e/9L/zf/N/9L/0v/F/8D/wP/J/9L/zf/J/83/1v/n/+P/0v/N/9r/3v/a/97/2v/j/+//9P/4//T/AAAEAAQACAD8/wAACAAAAAgABAAAAAAADAAEAAQABAAAAAAAAAAAAAgAEQAEAAQA+P/n/+v/4//v/+v/4//n/+P/6//e/9b/2v/W/9b/1v/e/+P/4//n/+P/4//j/+v/6//r/+v/9P8AAAQACAAVABkAIgAqACYAIgAqADsAQABAADMAQABRAFEAUQBVAEQASABiAEwASABRAFEAUQBRAEAAQAA7AC4AKgAiAB0AFQAdABEADAD4//j//P/n/97/3v/j/9b/4//W/9b/0v/A/8D/xf+4/6//vP/F/8n/wP/F/8D/zf/W/9L/1v/N/83/1v/W/9r/3v/e/+f/5//0//T/7/8AAAQABAAEAAgAGQAZABUADAARABUAEQAdABUAEQARABkAIgAiABkAEQAVABkACAAEABEAFQARAAwA/P/0/wQADAAAAPj/+P/4//z/7//r/+//6//r/+P/4//e/9r/5//n/+v/5//4/+v/4//r/+P/7//r/97/+P8AAAAABAAAAAwAEQAMABUAGQAmACYAJgAqACIALgAzADMANwAzADMAMwBAAEQANwAzAEAARABEADsANwA3ADMAKgAqACoAIgAqACIALgAqAB0AHQAVAAwABAD8/wAA/P/4//T/5//v/+v/4//n/9b/1v/W/9L/3v/W/9L/zf/F/9L/xf/A/8D/yf/A/8X/yf+8/83/0v/a/97/3v/j/97/6//v/97/6//0/+v/9P/r//j/DAAMABEAFQAVABUAEQAZAAwAEQAVABEAFQARABUAEQARABEAEQARABUABAAMAAgAAAAEAAAABAD0//j/AAAAAPz/AADv//T/AAD8/wAA/P8EAO///P8AAAAA9P/0/wgA7//4/wAACAAMAAwAGQAVABEAEQAMABkAEQAMABUAGQAdABkAIgAzACoAJgAuACoALgAmAC4AKgAdACYAJgAqACYAGQAdAB0AIgAVABEAEQARABEACAAEAPz/7//0/+//5//r/+f/5//e/9b/4//e/97/0v/S/97/zf/e/9L/zf/S/83/1v/J/83/zf/N/9b/1v/a/9r/1v/W/9b/0v/e/+P/6//e/+P/6//0/wgABAAIAAAAAAAMAAgAFQAVACIAIgAVACYAKgAqACoAKgAmAB0AIgAiABUAIgAZAB0AIgARABUA/P8MAAgA/P/4/+//9P/j/+f/9P/j/+f/6//j/+v/3v/e/+P/4//e/9r/4//n/+v/9P/v//z/AAAEAAgADAAVABUAGQAdACIAJgAiADMAOwA3ADsANwBIAEgASABVAFEATABMAEwAUQBMAFkAXQBRAFUAUQBZAEwAOwBEAC4AMwAqACYAIgAVAB0ABAAIAPz/6//0/+f/4//W/9b/2v/S/8D/uP+n/6//q/+j/6f/nv+v/5r/mv+r/5r/q/+j/6f/tP+n/7z/tP+8/7T/uP/S/8X/yf/S/9b/5//a/+P/5//8/wQA7//8//j/CAAMAAgAIgAZACYAKgAiADMALgAuAC4AKgA7ACoAQABEACYAMwAzADsANwA3ADsAMwA3ADcAJgAzAB0ALgAiACIAJgAVACoAFQAZACYACAAMAAQADAAEAAAAEQAAAAQABAAAABEABAAEAAQA9P/8//j/CAAMAAgAEQAIABUAGQAVABkACAAdAB0AFQAdABUAHQAZAB0ALgAZADMAJgAdABkAEQAiABUAEQARABEAGQAIAAQABADv/+//6//j/97/2v/e/9L/zf/S/8X/xf+0/7j/wP/A/8X/tP+r/6//p/+4/8D/xf/N/8X/1v/a/9r/1v/e/+v/9P/v/+v/AAAIABEAEQAMABkAJgAdACYAKgA3ADcAKgA7ADcAMwAzADcALgAqACoAKgAmACYAIgAmAB0AGQAiABEADAAMAAgADAAMAAgAAAD4//j/9P8AAPj//P8MAPj//P8EAPj/FQD4//j/AAD8/wwABAAMAPz/BAAMAAQAEQAAAAAAFQAIABUADAARABUABAAZAAwAEQAZABUAGQAMAAwAHQAMABkADAAMAB0ACAAVAAwADAAVAAQAFQAMABEAEQAAAAgAAAAIAPz/5//8//T//P/0/+v/BADr/+//6//j/+v/1v/j/9r/0v/j/9b/5//W/83/3v/W/9b/0v/W/9r/yf/S/83/zf/a/9L/3v/N/9b/5//S/97/2v/a/+f/1v/e/97/6//n/9r/7//v//z/+P/n/wAABAAMAAwAAAARAAQACAAVAAwAHQAVAB0AGQAMAB0AEQAdAB0AFQAqAB0AKgAiABkAIgAZACYAJgAZACoAIgAqACYAGQAqAB0AKgAiACIAMwAdACoAJgAdACYAEQAmACIAIgAzACIAJgAiAB0AHQAZACoAHQAmACYAEQAdABEAFQAiABEAGQARABkAGQAEAAwACAAIAPz/9P/4/+f/9P/v/97/6//e/+P/1v/S/9L/zf/W/8n/xf/F/8D/yf+4/7z/yf/A/8n/uP/A/8X/xf/F/8D/0v/F/8X/xf/A/83/0v/S/9L/1v/j/+f/6//n/+f/9P/4//T/+P/0/wAACAAAABEACAAZABUAGQAiAB0ALgAiACIAJgAqADcAKgAzADsAOwBIADcAQABIAEAASAA7ADcAMwA7AEQAMwBAAEQAQABIADMANwAuADMAMwAmACoAIgAiACoAHQAqABkAGQAZAAgAFQAIAAwACAAMAAwABAAIAPj/AAAIAPj/AAD0//z/CAD4//T/9P/0//j/5//v//T/9P/0/+v/7//0//T/+P/r/+//6//v//j/4//0/+v/6//4/+v/+P/r/+v/7//j/+//6//r/+f/5//j/+P/5//a/9b/4//a/9b/2v/S/+P/2v/W/83/zf/e/8n/0v/W/9b/1v/S/+P/1v/j/+f/3v/n/97/6//v/+v/+P/r//j/AAAIAAwACAAZABUACAARAAgAHQAiABUAHQAVAB0AHQAiACYAJgAmAB0AIgAdABUAJgAdACIAKgAdACYAHQAZAB0AGQAdAAwAGQAVABkAJgARABkACAARABEAAAAVAAwABAAMAPj/CAD8/wQABADv/wQA7/8AAAAA6/8EAPj/AAAEAAAACAAAAAgAAAAEAAQAAAAMAAQA/P8RAAQACAARAAgAEQAAAAgAEQAEAAQABAAEAAAAAAAEAAAABAAAAAQA/P/v//T/6//v/+//5//n/97/4//e/9r/2v/e/9r/2v/e/9r/0v/W/9r/3v/a/9b/3v/a/9r/6//a/+f/6//e//T/5//v//T/+P8IAAAADAAMAAwAGQAZACoAIgAZAB0AGQAmACYALgA3ACoALgA3ADcALgAiADMAKgAqACoAIgAqACIAKgAdABkAGQAZABkAGQAdABEADAAMAAgA/P8EAAAAAAD4/+//AAD0/+//6//v//j/6//n/+f/5//n/+P/7//n/+//6//j//j/4//v//T/9P/r/+v/9P/0/+//7//8/wgA9P/8/wQAAAAEAAAABAAAAAwABAAAAAgACAARAAwADAAMAAwAEQAMABEADAAMABEAEQARABEABAARAAgACAAIAAgA/P/0//z/6//0/+//5//n/+v/6//n/+v/5//v/+P/2v/e/+f/3v/W/97/2v/j/+f/4//n/+P/9P/r/+v/9P/r/wAAAAAAAAQAAAAAAAAACAARAAwAEQARAAwAGQAZABkAHQAVACIAJgAmACYAHQAZAB0AGQAZAB0AHQAZABUAIgAdAB0AGQAMABEAEQAMAAwABAAAAAgABAAEAPT/AAD8//T/9P/v//j/7//0/+//7//0/+v/AAD4//z/BAAAAAAAAAD4//z/AAAAAAQAAAAEAAAA/P8EAPz/CAAAAAgAEQAIABEABAAIAAgAAAAMAAAACAAEAAAABAAAAAAAAAAEAAQACAD4//T/9P/0//j/6//n/+f/5//n/+v/6//n/+f/5//n/+P/6//e/+P/6//j/+v/2v/a/9b/3v/n/+P/4//n/+P/4//j/97/6//r//z/AAD8/wQA/P8MAAQACAARAAgAFQAZAB0AGQAmAB0AIgAmACoAKgAqACYALgA3ACoAKgAqADMALgAmACoAIgAZABkAGQAZAB0AFQAMAAwAEQAIAAQA+P/v//T/7//0/+v/4//r/+P/5//n/+P/5//r/+P/2v/n/97/1v/j/+f/5//n/+v/6//n/+//9P/0//j/9P/0/+//7//8/wAAAAAAAAgADAAAAAwADAARAAwADAAMAAwADAAMAAwADAAMABUAGQARAAwADAAMABEABAAMAAgAAAAEAAQACAD4//T/9P/0//T/7//4/+//9P/0//T/+P/4/+v/7//r/+v/+P/0//T/9P/4/+v/7//0//T/9P/v/+//AAD4/+//7//8//z/6//8/wAAAAAEAAAABAAEAAQABAAAAAgAEQAMAAwADAAMAAgAGQAZABkAGQAdAB0AHQAiABkAHQAiAB0AHQAmAB0AHQAiABkAHQAdAB0AHQARABkAGQAVAAgAAAAIAAQAAAAEAAQAAAD4//j/9P/0//j/5//v/+v/4//r/+P/6//a/97/5//j/+f/3v/r/+f/6//v/+//7//v/+v//P/0//j/AAAEAAQA9P/8/wAAAAAMAAQADAAEAAAADAAMAAwADAARAAwAEQARAAgADAARAAQADAAMAAQABAAAAAgA/P/v//j/5//v//T/6//0//T/9P/v//T/6//j/+P/3v/r/+v/6//v/+v/6//4//z//P/8/wQADAAEABkADAARABkAEQAmABkAIgAdAB0AKgAZACYAJgAmACYAIgAiACoAHQAmACIAHQAdABkAGQAdACIAGQAVAAwADAARAAwAEQAIAAAAAAAAAPj/7//v/+//5//j/+P/4//j/+P/5//j/+f/4//n/+v/5//r/+f/5//v/97/5//j/+P/7//n/+P/9P/r/+//+P/v//T/7//0/+///P8EAAAABAD0//z/AAAAAAQAAAAEAAwACAAMAAwAGQARAAgAFQAVAAwADAAMABEADAAMAAgABAARAAAADAAEAAgAEQAAAAwAAAAEABUAAAAAAAAACAAIAAAABAAAAAAABAD0/wAA+P/v//T/7//v/+//9P/v/+//9P/v//z/BAAAAAQAAAAEAAQADAARAAwAGQAVAAwAGQAdABkAGQAdABkAFQAZABkAHQAZABkAHQAMABUAHQAZACIADAAZABUADAAVAAQAEQAEAAAACAD4/wAA+P/v//j/9P/0/+//5//n/97/4//r/97/5//a/97/6//W/+P/2v/e/+f/3v/v/+P/6//n/+v/9P/r/+//6//r//j/9P/0/wAA/P8IAAQABAAMAAQACAAEAAgABAAEAAwADAARAAgAEQAIAAAABAAEAAQABAD0/wAA/P/v//j/9P/0//T/7//0/+//7//0//z/BAD4//z/+P/8/wQAAAAEAAAAAAAAAAgACAAMABEADAARAAwAEQAMAAwAEQAMABEADAAMABEAEQAMABEABAAIABEACAAZABUACAARABEADAAEAAwACAAAAAgAAAAMAAQACAAIAPz/CAAAAAAABAAAAAwADAAAAAAABAAEAAQAAAAAAAAABAAEAAQABAAEAAAACAD0/wAA+P/8//j/7//0/+//9P/v/+//9P/j/+//6//j/+f/3v/r/97/3v/e/97/5//a/9r/3v/n/+//5//j//T/5//v//T/9P/0/+v/AAAEAAAABAAAAAgADAAMABkAGQAdAB0AGQAZABkAHQAZABkAGQAZAB0AGQAdABUADAAdABUAEQAMAAAABAAEAAgA+P8AAPj/7/8EAPT/9P/0/+//9P/v/wAA+P/r/wAA7//4/wQAAAAAAPj/CAAIAAgAEQAMAAgADAAIABkADAAVAB0AFQAdAAwAGQAZABkAIgARABEAFQAEAAwADAAEAAgABAD8//T/+P/0//T/7//n//T/6//n/+f/4//r/+f/5//r/9r/4//r/+P/5//j/+f/4//v/+//7//4/+f/7//n/+v/9P/r/wAA+P/v//T/7/8AAPj//P8IAPj/BAD4/wAADAD0/wQA/P/8/wAA7/8EAPj//P8MAPz/BAAEAAwADAAAAAwABAAIAAwACAAZAAwAGQAVAAgAFQARABUAGQAVAB0ADAAVABkAFQAdABEAFQAVABEAFQAEABEABAAMABEAAAAMAPj/AAAAAO//BAD8//T/+P/v//T/7//0/+//AAD8/+v/AAD4//j/BAD8/wgABAD8/wwAAAAIAAwACAARAAwADAAMAAwADAAMAAwADAAMABEABAAMAAQACAAIAPz/BAAEAAAABAD8//T/9P/4/+v/4//v/+v/5//n/+P/6//a/97/3v/e/+v/2v/j/97/3v/r/9r/5//n/+f/6//n/+f/5//n/+//6//v//T/7/8EAPT/AAAIAAAAEQAAABEACAAIABEADAAdABEAGQAZAAgAGQARABUAHQAZAB0AGQAiABEAGQAdABkAGQAZAB0AGQAdABUAFQAVABEAFQAMABEAEQAMABEADAAVAAAADAARABEADAAEAAgA9P/8/wQAAAAEAAQABAAEAAgA+P/v//j/9P/0//j/7//0/+v/7/8AAO///P8EAO///P8AAAwABAAAAAQAAAAEAAQA/P8AAAAACAAEAAQAEQAMABEABAAMAAgA/P8MAAQAAAAIAAAACAAEAAQACAAEAAQA+P8EAPj/BAD8/+///P/0/+v/9P/r/+P/5//j/+//4//v//j/5//n/+f/4//n/+P/4//j/97/3v/n/+//6//4//T/+P8AAAAA/P8AAPz/BAAMAAwADAAMAAwADAARAAgAEQAZABkAHQAZAB0ADAAZAB0AEQAZABEAEQAMABkAGQAMABEAEQARAAQADAAIAAAADAAEAAQABAAEAAAABAAEAAAABAD8/wwACAAAAAQAAAAEAAQABAAEAAgABAAEAAQA9P8AAAAAAAAEAAAADAAEAAQABAAAAAQAAAAAAAAABAAAAAAACAAAAAAABAAAAAQA/P8MAAgAAAAEAAAAAAAEAAgA9P8AAPj//P/8/+//BAD4/wAA/P/0//j/7//8/+v/7//r/+v/9P/0//z/6//v/+f/6//4/+f/6//v//T/7//0//T/7//v/+//7//r//z/+P/4/wAAAAAEAAAAAAAAAAgAEQAIAAwADAAVACIADAAZABEAFQAZAAgAFQAZAB0AFQAVAB0AHQAVABUAFQAZABUADAARABEAEQARABEAEQARABEAAAAMAAgADAAIAPz/EQAAABEABAAAAAgAAAAEAPj//P8AAAAABAAAAAAAAAAEAAAABAD4//z/CADv/wAA9P/0/wgABAD4/+v/AAD0/wAA+P/8//z/6/8EAO//AAD4/+//9P/v//j/6/8EAPj/9P/4/+v/9P/0//T/9P/v//T/9P/r//z/AAAAAAQAAAAEAAAAAAAEAAQABAAAAAQABAAAAAAAAAAEAAQABAAEAAQAAAAEAAgA9P8AAPj//P8EAAQA+P8AAPj/9P8IAPT/9P/r//z/AAAAAAQA9P/4/wAABAAIAAAACAARAAQABAARABEACAARAAgAEQAMABUAEQAVABkACAAVABEAGQARAAwADAAMABEADAAMAAwADAARAAwAEQAIAAAABAAAAAQA9P/4/wgA9P8AAPj/6//0/+///P/4/+//9P/v//T/7//4/+v//P/8/+//AAAAAAQABAAEAAQAAAAAAAQAAAAAAAQA/P/8/wQACAAEAAgADAAIAAAA/P8AAAAAAAD8/wAAAAAAAAAABAD0/wAA+P/v//j/7//0/+//7//4/+//7//v//T/9P/v//T/7//0/+v/7//r//T/7//0//T/6/8AAPT//P/4//j//P/r/wQA9P/8//T/+P8IAOv/AADv/wAACAD4/wwABAAIAAQACAAIAPj/DAAAAAgABAAEABEAEQAMAAwAEQAMAAwAEQARAAwAEQAMAAwAGQARABkAEQAMAAwAEQARAAwADAAMAAwAEQAAAAgAEQAMABUAAAAIAAgA/P8EAAAAAAAEAAAABAD0//j/AAAAAAQAAAAEAPT/9P/v/+//9P/r/+v/BAD0//j/BAD8/wgA7/8AAPj/6/8AAO//AAAEAAQAAAAAAAQAAAAAAAQAAAAAAAQABAAEAAAABAD0//z/CAD0/wAA9P/8/wAA6//4/+f/7//r/+v/9P/v//T/4//4//T//P/4/+//9P/v/+//7//v/+//AAAAAAwABAAMAAgABAAMAPz/EQAAAAgAEQAIABkAEQARAAwAEQAdABUAIgARAAwAGQARAAwADAAMABUAHQAVAAwAEQARAAQADAAIAPz/EQAAAAgACAD8/wwACAAEAPj/AAD8/+//9P/0//T/7//0/+v/AAD4//j//P/v//T/5/8EAPT//P/0//T/BADr/wAA9P/4//j/7//v/+///P/v//z/9P/r//j/AAD0//j/+P/4//j/6/8AAPT/7//0/+v/AADv//z/+P/4/wQA9P8AAAAABAD8/wAABAD4/wwAAAAIABUAAAAMAAQA/P8MAAQAAAAAAAgACAAAAAAABAAAAAAABAAEAPj/7//8/wAAAAD0//z/9P/4/wQAAAAAAAQA9P/4//z/+P8EAAAABAAAAAQAAAAAAAQAAAAEAAAAAAAMAAQACAAEAAwADAAIAAwAEQAMAAwADAARAAQACAAMAAgAEQAIABEADAAMABEABAAIAAwADAARAAQACAD0//z/BAAAAAQAAAAEAPT/BAD8//T/9P/v/+//7//0//T/9P/v/+//9P/v//T/6/8AAPT//P/4/+v/AAD0//z/AAAAAAAAAAAEAAgA+P/8/wAADAAEAAwABAAIAAgAAAAEAAAABAAAAAQABAAEAPT/+P8AAAgACAD8/wgA9P/8//T/+P8EAOv/AAD0//z/+P/4//T/+P/0//j/+P/4/wgA6/8AAPT//P/4//j/CAD0/wAA9P/8/wQAAAAEAAQAAAAEAAQABAAEAAQAAAD8/xEACAAAAAgA/P8RAAgADAAIAAwABAAIABEADAARABEADAARAAwAEQAMAAwAEQAMABUAFQAIAAwAEQAIABEADAAMAAwADAARAAQAAAAEAAAACAD8/wgADAD4//T/7//v/+//9P/v/+//7//0/+//9P/0/+//9P/j/wAA6//8//T/6//v/+P//P/n/+v/+P/v//T/7//v//z/BAAEAPT//P8EAAQAAAAAAAAAAAAAAAwABAAMAAQAAAAEAAAABAAAAAwACAAAAAQABAAAAAQAAAAEAPT//P8AAAAAEQAIAAAAAAAAAAAABAAEAAQABAAEAAAABAAEAAQAAAAAAAQAAAAEAAAAAAAEAAAAAAAEAAAACAAEAAgACAAEABUAAAAIABEABAAMAAQACAAMAAgAEQAMABEADAARAAQACAARAAwAEQAMABEAEQARAAwAEQAMABEADAAMABEABAAMAAgADAAEAAAABAAAAAgA9P8AAPz/7//4/+f/6//r/+v/5//v/+//4//n/+P/5//n/+f/4//j/+//6//e/+f/4//n/+P/6//4/+//+P/v//T/7//v/wAA9P/8//j/+P8EAAgAEQAMAAQABAAAAAgABAD8/wgADAAZABUADAARAAwAEQAMABEAEQARABEADAARABEAEQARAAwAEQARAAwAEQAEAAwABAAIABEABAAAAAAADAAEAAQABAAAAAQACAAAAAgABAAAAAQA9P8IAPT/BAD8//j/DADv/wwA+P8EAAgABAAIAPj/BAAEAAQA/P/8/wQAAAAEAAAAAAAAAAQAAAAIAPz//P8EAAAABAD0/wAA+P8AAPj/+P8IAPT/AAD0/wQA/P/8/wQAAAAEAPj/AAD4/wAA+P8AAPj/AAD4//z/AAD0//z/7/8AAPj/9P/0//z//P/0/wQA+P8AAPT/6//4//T/9P/0//T/9P/8/wAA+P8AAPj//P8EAPz/DAAEAAAACAAEAAgACAAIAAgABAAMAAQADAAIAAwACAAIABEAEQAIAAgADAAIAAgACAAMAAAACAAEAAgAAAD4/wgA9P/8//z//P/4//z//P/8//z/+P8AAO//AAD4/wQA/P8AAPz/+P8IAPz/CAAAAAgABAAAAAwAAAAIAAwACAAIAAwACAAMAAgAEQARAAgADAAIAAgAAAARAAgACAARAAAADAD8/wQABAAAAAQA/P8MAPj/AAD8//T/+P/0//j/9P/0//T/9P/4//j/+P/4//j/9P/4/+v/9P/r/+//+P/v//j/7//4/+v/7//0//T/+P/v/wQA6//4//z/9P/4/+//AAD4//z/+P/8/wQA9P8AAPj//P8EAAAABAAAAAQAAAAIAAQABAAEAAgABAAIAAQABAARAAAAEQAMAAwAEQAMABkACAAVAAwACAAEAAgACAAIABUAFQAZAAwAEQAVABUADAAIAAgADAAIAAgACAAEAAgABAAAAAQA+P/8/wQAAAD4//z/BAAAAPz/9P/0//T/+P/0//T/+P/0//j/9P/4//T/+P/r/+//+P/r//T/5//8//j//P/4/+//BAD0//z/BAD8/wgABAAIAAQAAAAEAAQABAAEAAAAAAAIAPj//P8EAPz/CAAEAPz/7/8AAPj/+P/r/+//+P/0//z/9P8EAO//+P/8//j/+P/v/wAA+P8AAPz/+P8IAAAABAAEAAgADAAIABUADAAVABUAFQAdABEADAAIABkADAARAAwAEQAZAAwAGQAIAB0AFQARABUABAAMAAAACAAEAAAAAAD8/wAA/P8EAPT//P/8//j/+P/v//j/5//v//T/9P/0//T/9P/0//z/+P/0//z/BAD4/wAA/P/8/wAA7/8EAPj//P/8/wAA/P/8/wgAAAAAAAAABAD4/wAABAAAAAAAAAAEAPz//P8AAAQAAAAAAAAAAAAAAAAACAAEAAAAAAAAAAgAAAAIAAQABAAMAAQAFQAMAAwADAAMAAQACAAIAAAACAD4/wAACAD8//j/+P/4//j//P/8//z/7//4//T/5//v/+v/6//r/w==\" type=\"audio/wav\" />\n",
              "                    Your browser does not support the audio element.\n",
              "                </audio>\n",
              "              "
            ]
          },
          "metadata": {}
        },
        {
          "output_type": "stream",
          "name": "stdout",
          "text": [
            "\n",
            "Label: _unknown_\n",
            "Shape: (16000,), sampling rate: 16000\n"
          ]
        },
        {
          "output_type": "display_data",
          "data": {
            "text/plain": [
              "<IPython.lib.display.Audio object>"
            ],
            "text/html": [
              "\n",
              "                <audio  controls=\"controls\" >\n",
              "                    <source src=\"data:audio/wav;base64,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\" type=\"audio/wav\" />\n",
              "                    Your browser does not support the audio element.\n",
              "                </audio>\n",
              "              "
            ]
          },
          "metadata": {}
        },
        {
          "output_type": "stream",
          "name": "stdout",
          "text": [
            "\n",
            "Label: right\n",
            "Shape: (14336,), sampling rate: 16000\n"
          ]
        },
        {
          "output_type": "display_data",
          "data": {
            "text/plain": [
              "<IPython.lib.display.Audio object>"
            ],
            "text/html": [
              "\n",
              "                <audio  controls=\"controls\" >\n",
              "                    <source src=\"data:audio/wav;base64,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\" type=\"audio/wav\" />\n",
              "                    Your browser does not support the audio element.\n",
              "                </audio>\n",
              "              "
            ]
          },
          "metadata": {}
        },
        {
          "output_type": "stream",
          "name": "stdout",
          "text": [
            "\n",
            "Label: left\n",
            "Shape: (16000,), sampling rate: 16000\n"
          ]
        },
        {
          "output_type": "display_data",
          "data": {
            "text/plain": [
              "<IPython.lib.display.Audio object>"
            ],
            "text/html": [
              "\n",
              "                <audio  controls=\"controls\" >\n",
              "                    <source src=\"data:audio/wav;base64,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\" type=\"audio/wav\" />\n",
              "                    Your browser does not support the audio element.\n",
              "                </audio>\n",
              "              "
            ]
          },
          "metadata": {}
        },
        {
          "output_type": "stream",
          "name": "stdout",
          "text": [
            "\n"
          ]
        }
      ],
      "source": [
        "import random\n",
        "from IPython.display import Audio, display\n",
        "\n",
        "for _ in range(5):\n",
        "    rand_idx = random.randint(0, len(dataset[\"train\"])-1)\n",
        "    example = dataset[\"train\"][rand_idx]\n",
        "    audio = example[\"audio\"]\n",
        "\n",
        "    print(f'Label: {id2label[str(example[\"label\"])]}')\n",
        "    print(f'Shape: {audio[\"array\"].shape}, sampling rate: {audio[\"sampling_rate\"]}')\n",
        "    display(Audio(audio[\"array\"], rate=audio[\"sampling_rate\"]))\n",
        "    print()"
      ]
    },
    {
      "cell_type": "markdown",
      "metadata": {
        "id": "37K_0FAQoNRM"
      },
      "source": [
        "If you run the cell a couple of times, you'll see that despite slight variations in length, most of the samples are about 1 second long (`duration = audio_length / sampling_rate`). So we can safely truncate and pad the samples to `16000`."
      ]
    },
    {
      "cell_type": "markdown",
      "metadata": {
        "id": "4zxoikSOjs0K"
      },
      "source": [
        "### Preprocessing the data"
      ]
    },
    {
      "cell_type": "markdown",
      "metadata": {
        "id": "WTupOU88p1lK"
      },
      "source": [
        "Before we can feed those audio clips to our model, we need to preprocess them. This is done by a 🤗 Transformers `FeatureExtractor` which will normalize the inputs and put them in a format the model expects, as well as generate the other inputs that the model requires.\n",
        "\n",
        "To do all of this, we instantiate our feature extractor with the `AutoFeatureExtractor.from_pretrained` method, which will ensure that we get a preprocessor that corresponds to the model architecture we want to use."
      ]
    },
    {
      "cell_type": "code",
      "execution_count": null,
      "metadata": {
        "colab": {
          "base_uri": "https://localhost:8080/",
          "height": 348,
          "referenced_widgets": [
            "8dd8e186c48a450ca5c1ceec36dd90f3",
            "e1de20bfd4674f3bbbb4e644a164bbbc",
            "f0295ac8f8464f40a1b92f46a2cdad8f",
            "a124a6f8beb645038e3818e551b5e7a6",
            "1293f84b633a4c09bfb9e53e35bfcb29",
            "3d112f7372404db4a58a4b14ad641c21",
            "9272ce81f9704fa3965c8aff87952100",
            "1f9a0a47eacb468085681c5d7afc6df5",
            "e0b1c221c2ff4681bbdfbe8d08ccede0",
            "942f2e916bd84839ba753504fbf1ba88",
            "17cf074fe8a84bf4a5a577e3e8df6a8d",
            "d84d6b0a122a4cc6a5df1a929356fa74",
            "91b0d8fa268144cc96a03a7656cfd82e",
            "f4340901937640e9842b45644787f9ef",
            "5602f4fa45434f7e8f408963613042c7",
            "b54dd539cc6d4bee84383ef4a68d597d",
            "de42a56b74a542aea95eb1e8ea5619ad",
            "d187095bdfca4149b8e3b56bf147ded6",
            "8036f88d4b514abab69006a38e1493d8",
            "b38a88b7493443fc8e6f9173f8b6b3ae",
            "4b62688aab664e6c9da82a2e3dbeba44",
            "4d4946a86bbb45aead261b3b299e17c5"
          ]
        },
        "id": "G1bX4lGAO_d9",
        "outputId": "3be8f92d-edee-4b6f-c9a2-fca075658f63"
      },
      "outputs": [
        {
          "output_type": "display_data",
          "data": {
            "text/plain": [
              "Downloading (…)rocessor_config.json:   0%|          | 0.00/159 [00:00<?, ?B/s]"
            ],
            "application/vnd.jupyter.widget-view+json": {
              "version_major": 2,
              "version_minor": 0,
              "model_id": "8dd8e186c48a450ca5c1ceec36dd90f3"
            }
          },
          "metadata": {}
        },
        {
          "output_type": "display_data",
          "data": {
            "text/plain": [
              "Downloading (…)lve/main/config.json:   0%|          | 0.00/1.84k [00:00<?, ?B/s]"
            ],
            "application/vnd.jupyter.widget-view+json": {
              "version_major": 2,
              "version_minor": 0,
              "model_id": "d84d6b0a122a4cc6a5df1a929356fa74"
            }
          },
          "metadata": {}
        },
        {
          "output_type": "stream",
          "name": "stderr",
          "text": [
            "/usr/local/lib/python3.9/dist-packages/transformers/configuration_utils.py:379: UserWarning: Passing `gradient_checkpointing` to a config initialization is deprecated and will be removed in v5 Transformers. Using `model.gradient_checkpointing_enable()` instead, or if you are using the `Trainer` API, pass `gradient_checkpointing=True` in your `TrainingArguments`.\n",
            "  warnings.warn(\n"
          ]
        },
        {
          "output_type": "execute_result",
          "data": {
            "text/plain": [
              "Wav2Vec2FeatureExtractor {\n",
              "  \"do_normalize\": true,\n",
              "  \"feature_extractor_type\": \"Wav2Vec2FeatureExtractor\",\n",
              "  \"feature_size\": 1,\n",
              "  \"padding_side\": \"right\",\n",
              "  \"padding_value\": 0.0,\n",
              "  \"return_attention_mask\": false,\n",
              "  \"sampling_rate\": 16000\n",
              "}"
            ]
          },
          "metadata": {},
          "execution_count": 13
        }
      ],
      "source": [
        "from transformers import AutoFeatureExtractor\n",
        "\n",
        "feature_extractor = AutoFeatureExtractor.from_pretrained(model_checkpoint)\n",
        "feature_extractor"
      ]
    },
    {
      "cell_type": "markdown",
      "metadata": {
        "id": "-zYhYOuDL9XP"
      },
      "source": [
        "As we've noticed earlier, the samples are roughly 1 second long, so let's set it here:"
      ]
    },
    {
      "cell_type": "code",
      "execution_count": null,
      "metadata": {
        "id": "wX35xSLx-ghC"
      },
      "outputs": [],
      "source": [
        "max_duration = 1.0  # seconds"
      ]
    },
    {
      "cell_type": "markdown",
      "metadata": {
        "id": "qUtxmoMvqml1"
      },
      "source": [
        "We can then write the function that will preprocess our samples. We just feed them to the `feature_extractor` with the argument `truncation=True`, as well as the maximum sample length. This will ensure that very long inputs like the ones in the `_silence_` class can be safely batched."
      ]
    },
    {
      "cell_type": "code",
      "execution_count": null,
      "metadata": {
        "id": "4O_p3WrpRyej"
      },
      "outputs": [],
      "source": [
        "def preprocess_function(examples):\n",
        "    audio_arrays = [x[\"array\"] for x in examples[\"audio\"]]\n",
        "    inputs = feature_extractor(\n",
        "        audio_arrays, \n",
        "        sampling_rate=feature_extractor.sampling_rate, \n",
        "        max_length=int(feature_extractor.sampling_rate * max_duration), \n",
        "        truncation=True, \n",
        "    )\n",
        "    return inputs"
      ]
    },
    {
      "cell_type": "markdown",
      "metadata": {
        "id": "OlbYCcVZ4hHu"
      },
      "source": [
        "The feature extractor will return a list of numpy arays for each example:"
      ]
    },
    {
      "cell_type": "code",
      "execution_count": null,
      "metadata": {
        "colab": {
          "base_uri": "https://localhost:8080/"
        },
        "id": "qGUvcAlAqKy-",
        "outputId": "ac090378-bee3-4581-8b71-38cd3d75b98d"
      },
      "outputs": [
        {
          "output_type": "execute_result",
          "data": {
            "text/plain": [
              "{'input_values': [array([-9.1631009e-05, -9.1631009e-05, -9.1631009e-05, ...,\n",
              "       -4.6719767e-02, -8.0353022e-01, -1.3182331e+00], dtype=float32), array([0.01049979, 0.01049979, 0.01049979, ..., 0.6454253 , 0.43378347,\n",
              "       0.25741526], dtype=float32), array([ 9.0340059e-04,  9.0340059e-04,  9.0340059e-04, ...,\n",
              "       -1.7281245e-01,  2.2313449e-01,  1.9931581e+00], dtype=float32), array([ 1.5586768 ,  0.3870289 ,  0.74101615, ..., -0.8897349 ,\n",
              "       -0.7703889 , -0.09471782], dtype=float32), array([-0.01518929, -0.01518929, -0.01518929, ..., -0.84138   ,\n",
              "        0.22227868, -0.02409434], dtype=float32)]}"
            ]
          },
          "metadata": {},
          "execution_count": 16
        }
      ],
      "source": [
        "preprocess_function(dataset['train'][:5])"
      ]
    },
    {
      "cell_type": "markdown",
      "metadata": {
        "id": "a1Nw4FwN5wCS"
      },
      "source": [
        "To apply this function on all utterances in our dataset, we just use the `map` method of our `dataset` object we created earlier. This will apply the function on all the elements of all the splits in `dataset`, so our training, validation and testing data will be preprocessed in one single command."
      ]
    },
    {
      "cell_type": "code",
      "execution_count": null,
      "metadata": {
        "colab": {
          "base_uri": "https://localhost:8080/",
          "height": 315,
          "referenced_widgets": [
            "a36a752d446f47f4b10abeba9fd9213e",
            "90a053659f9a43589dfb1157174cb9f9",
            "c745a072d740461497a99dbadc927bc8",
            "d5441b1aeb364239bfc53cc6e14f18d3",
            "f18ea390765044729178b71954e0591f",
            "aeddf5812b1e4f2f8482f6f7e4c63b64",
            "31d83b25f4fe475b9318cf4da5900ab8",
            "89bbdbbd48b244b296b07d7d72b14ec5",
            "bd7ab3ed5b77460f808e6a7d6874cbf2",
            "63f8c7e149f5455db07e579fe24ac703",
            "c397e65c7caf4062b165320bc329faed",
            "e675c4d17c5f4a859912a0094a1dfb5a",
            "938627f4a950472897bc427eb1e7cc95",
            "ff9a8982823c4d7a9408b5c1d8315498",
            "4ed26a7c76244a839025da1e896c51c7",
            "a1e4b8d0ef354e2c82bf17d64d0808be",
            "88144da6fc7247fa9065a4388e9c19e3",
            "c43fcc9b10304ccdb92c74a7d540d7d7",
            "cd2b608e28164e8da0be3ef5a45c40e9",
            "6f87ca29d79749e8af4be9ddff71e483",
            "838b959b67114c65853fe49bd1000776",
            "884b7c1b403c4915a724fb8b159262b4",
            "7dc8c15abf3547c1bc255d6027841267",
            "1cffe05138bc483bb465250d704374d0",
            "7e86902ec3424012b5c35ef40da8f98b",
            "ddf4acce8a4a4dca89c182b37dd82ffb",
            "737b6472a5d044ef9f541c4d1776dc6d",
            "9796296e7ea74575b593430eca071662",
            "4a85f1a786c14d74bc29d0bf224f93d5",
            "0a86ad32dda04c27b2ea04b8b13666ce",
            "b7a1adb46a9a45a6873032a073543cb8",
            "63902bfb6134497d81c7bb07a149776a",
            "01214b17c6254b03a0a9e95d86ca3dae"
          ]
        },
        "id": "FfxFgJ_6qPPy",
        "outputId": "6d13047b-f2ce-42dc-99c7-cce3cd4e6520"
      },
      "outputs": [
        {
          "output_type": "display_data",
          "data": {
            "text/plain": [
              "Map:   0%|          | 0/51094 [00:00<?, ? examples/s]"
            ],
            "application/vnd.jupyter.widget-view+json": {
              "version_major": 2,
              "version_minor": 0,
              "model_id": "a36a752d446f47f4b10abeba9fd9213e"
            }
          },
          "metadata": {}
        },
        {
          "output_type": "stream",
          "name": "stderr",
          "text": [
            "/usr/local/lib/python3.9/dist-packages/transformers/feature_extraction_utils.py:165: VisibleDeprecationWarning: Creating an ndarray from ragged nested sequences (which is a list-or-tuple of lists-or-tuples-or ndarrays with different lengths or shapes) is deprecated. If you meant to do this, you must specify 'dtype=object' when creating the ndarray.\n",
            "  tensor = as_tensor(value)\n"
          ]
        },
        {
          "output_type": "display_data",
          "data": {
            "text/plain": [
              "Map:   0%|          | 0/6798 [00:00<?, ? examples/s]"
            ],
            "application/vnd.jupyter.widget-view+json": {
              "version_major": 2,
              "version_minor": 0,
              "model_id": "e675c4d17c5f4a859912a0094a1dfb5a"
            }
          },
          "metadata": {}
        },
        {
          "output_type": "display_data",
          "data": {
            "text/plain": [
              "Map:   0%|          | 0/3081 [00:00<?, ? examples/s]"
            ],
            "application/vnd.jupyter.widget-view+json": {
              "version_major": 2,
              "version_minor": 0,
              "model_id": "7dc8c15abf3547c1bc255d6027841267"
            }
          },
          "metadata": {}
        },
        {
          "output_type": "execute_result",
          "data": {
            "text/plain": [
              "DatasetDict({\n",
              "    train: Dataset({\n",
              "        features: ['label', 'input_values'],\n",
              "        num_rows: 51094\n",
              "    })\n",
              "    validation: Dataset({\n",
              "        features: ['label', 'input_values'],\n",
              "        num_rows: 6798\n",
              "    })\n",
              "    test: Dataset({\n",
              "        features: ['label', 'input_values'],\n",
              "        num_rows: 3081\n",
              "    })\n",
              "})"
            ]
          },
          "metadata": {},
          "execution_count": 17
        }
      ],
      "source": [
        "encoded_dataset = dataset.map(preprocess_function, remove_columns=[\"audio\", \"file\"], batched=True)\n",
        "encoded_dataset"
      ]
    },
    {
      "cell_type": "markdown",
      "metadata": {
        "id": "c0OwX3Es580y"
      },
      "source": [
        "Even better, the results are automatically cached by the 🤗 Datasets library to avoid spending time on this step the next time you run your notebook. The 🤗 Datasets library is normally smart enough to detect when the function you pass to map has changed (and thus requires to not use the cache data). 🤗 Datasets warns you when it uses cached files, you can pass `load_from_cache_file=False` in the call to `map` to not use the cached files and force the preprocessing to be applied again."
      ]
    },
    {
      "cell_type": "markdown",
      "metadata": {
        "id": "HOXmyPQ76Qv9"
      },
      "source": [
        "### Training the model"
      ]
    },
    {
      "cell_type": "markdown",
      "metadata": {
        "id": "0a-2YT7O6ayC"
      },
      "source": [
        "Now that our data is ready, we can download the pretrained model and fine-tune it. For classification we use the `AutoModelForAudioClassification` class. Like with the feature extractor, the `from_pretrained` method will download and cache the model for us. As the label ids and the number of labels are dataset dependent, we pass `num_labels`, `label2id`, and `id2label` alongside the `model_checkpoint` here:"
      ]
    },
    {
      "cell_type": "code",
      "execution_count": null,
      "metadata": {
        "colab": {
          "base_uri": "https://localhost:8080/",
          "height": 219,
          "referenced_widgets": [
            "62527de5266e4e67a73615176142caf6",
            "85e6dfccd3fd4a41b36f2a1c8610bb47",
            "5bbb44dd7cbe441ba9fcd0e314c7f0a9",
            "cf0b699f19504b1a89366d0f4e2426db",
            "160f85048aee4b58889fa8d1c9856e3e",
            "e41c84e7926245d68c2a270b5794b3fc",
            "3cfb1c0e34c04ae8a0049f8800996779",
            "c11a83e903a049419ce0d05270cc69e0",
            "289bd9e283e04614b08df8b72f7304b5",
            "cd724a5f3fdc4d2d87f82178eacf8f51",
            "74e05c8abc8548f7b27d6c77b82438cd"
          ]
        },
        "id": "X9DDujL0q1ac",
        "outputId": "7ea67083-0623-48b1-ce99-33ae76a45586"
      },
      "outputs": [
        {
          "output_type": "stream",
          "name": "stderr",
          "text": [
            "/usr/local/lib/python3.9/dist-packages/transformers/configuration_utils.py:379: UserWarning: Passing `gradient_checkpointing` to a config initialization is deprecated and will be removed in v5 Transformers. Using `model.gradient_checkpointing_enable()` instead, or if you are using the `Trainer` API, pass `gradient_checkpointing=True` in your `TrainingArguments`.\n",
            "  warnings.warn(\n"
          ]
        },
        {
          "output_type": "display_data",
          "data": {
            "text/plain": [
              "Downloading pytorch_model.bin:   0%|          | 0.00/380M [00:00<?, ?B/s]"
            ],
            "application/vnd.jupyter.widget-view+json": {
              "version_major": 2,
              "version_minor": 0,
              "model_id": "62527de5266e4e67a73615176142caf6"
            }
          },
          "metadata": {}
        },
        {
          "output_type": "stream",
          "name": "stderr",
          "text": [
            "Some weights of the model checkpoint at facebook/wav2vec2-base were not used when initializing Wav2Vec2ForSequenceClassification: ['quantizer.codevectors', 'quantizer.weight_proj.weight', 'project_hid.bias', 'project_hid.weight', 'quantizer.weight_proj.bias', 'project_q.bias', 'project_q.weight']\n",
            "- This IS expected if you are initializing Wav2Vec2ForSequenceClassification from the checkpoint of a model trained on another task or with another architecture (e.g. initializing a BertForSequenceClassification model from a BertForPreTraining model).\n",
            "- This IS NOT expected if you are initializing Wav2Vec2ForSequenceClassification from the checkpoint of a model that you expect to be exactly identical (initializing a BertForSequenceClassification model from a BertForSequenceClassification model).\n",
            "Some weights of Wav2Vec2ForSequenceClassification were not initialized from the model checkpoint at facebook/wav2vec2-base and are newly initialized: ['classifier.bias', 'classifier.weight', 'projector.bias', 'projector.weight']\n",
            "You should probably TRAIN this model on a down-stream task to be able to use it for predictions and inference.\n"
          ]
        }
      ],
      "source": [
        "from transformers import AutoModelForAudioClassification, TrainingArguments, Trainer\n",
        "\n",
        "num_labels = len(id2label)\n",
        "model = AutoModelForAudioClassification.from_pretrained(\n",
        "    model_checkpoint, \n",
        "    num_labels=num_labels,\n",
        "    label2id=label2id,\n",
        "    id2label=id2label,\n",
        ")\n"
      ]
    },
    {
      "cell_type": "markdown",
      "metadata": {
        "id": "U8EmET_f6458"
      },
      "source": [
        "The warning is telling us we are throwing away some weights (the `quantizer` and `project_q` layers) and randomly initializing some other (the `projector` and `classifier` layers). This is expected in this case, because we are removing the head used to pretrain the model on an unsupervised Vector Quantization objective and replacing it with a new head for which we don't have pretrained weights, so the library warns us we should fine-tune this model before using it for inference, which is exactly what we are going to do."
      ]
    },
    {
      "cell_type": "markdown",
      "metadata": {
        "id": "FEfyuq1U8hDT"
      },
      "source": [
        "To instantiate a `Trainer`, we will need to define the training configuration and the evaluation metric. The most important is the [`TrainingArguments`](https://huggingface.co/transformers/main_classes/trainer.html#transformers.TrainingArguments), which is a class that contains all the attributes to customize the training. It requires one folder name, which will be used to save the checkpoints of the model, and all other arguments are optional:"
      ]
    },
    {
      "cell_type": "code",
      "execution_count": null,
      "metadata": {
        "id": "xc_MTm0Ks3DF"
      },
      "outputs": [],
      "source": [
        "model_name = model_checkpoint.split(\"/\")[-1]\n",
        "\n",
        "args = TrainingArguments(\n",
        "    f\"{model_name}-finetuned-ks\",\n",
        "    evaluation_strategy = \"epoch\",\n",
        "    save_strategy = \"epoch\",\n",
        "    learning_rate=3e-5,\n",
        "    per_device_train_batch_size=batch_size,\n",
        "    gradient_accumulation_steps=4,\n",
        "    per_device_eval_batch_size=batch_size,\n",
        "    num_train_epochs=5,\n",
        "    warmup_ratio=0.1,\n",
        "    logging_steps=10,\n",
        "    load_best_model_at_end=True,\n",
        "    metric_for_best_model=\"accuracy\",\n",
        "    push_to_hub=True,\n",
        ")"
      ]
    },
    {
      "cell_type": "markdown",
      "metadata": {
        "id": "xi6JYNYs8lJO"
      },
      "source": [
        "Here we set the evaluation to be done at the end of each epoch, tweak the learning rate, use the `batch_size` defined at the top of the notebook and customize the number of epochs for training, as well as the weight decay. Since the best model might not be the one at the end of training, we ask the `Trainer` to load the best model it saved (according to `metric_name`) at the end of training.\n",
        "\n",
        "The last argument `push_to_hub` allows the Trainer to push the model to the [Hub](https://huggingface.co/models) regularly during training. Remove it if you didn't follow the installation steps at the top of the notebook. If you want to save your model locally with a name that is different from the name of the repository, or if you want to push your model under an organization and not your name space, use the `hub_model_id` argument to set the repo name (it needs to be the full name, including your namespace: for instance `\"anton-l/wav2vec2-finetuned-ks\"` or `\"huggingface/anton-l/wav2vec2-finetuned-ks\"`)."
      ]
    },
    {
      "cell_type": "markdown",
      "metadata": {
        "id": "2VE_HSha9RZk"
      },
      "source": [
        "Next, we need to define a function for how to compute the metrics from the predictions, which will just use the `metric` we loaded earlier. The only preprocessing we have to do is to take the argmax of our predicted logits:"
      ]
    },
    {
      "cell_type": "code",
      "execution_count": null,
      "metadata": {
        "id": "EVWfiBuv2uCS"
      },
      "outputs": [],
      "source": [
        "import numpy as np\n",
        "\n",
        "def compute_metrics(eval_pred):\n",
        "    \"\"\"Computes accuracy on a batch of predictions\"\"\"\n",
        "    predictions = np.argmax(eval_pred.predictions, axis=1)\n",
        "    return metric.compute(predictions=predictions, references=eval_pred.label_ids)"
      ]
    },
    {
      "cell_type": "markdown",
      "metadata": {
        "id": "yTF0dWw49fB9"
      },
      "source": [
        "Then we just need to pass all of this along with our datasets to the `Trainer`:"
      ]
    },
    {
      "cell_type": "code",
      "execution_count": null,
      "metadata": {
        "id": "McVoaCPr3Cj-",
        "colab": {
          "base_uri": "https://localhost:8080/"
        },
        "outputId": "1f5b4922-bcd8-4d2f-c6a6-c71f8f1069c8"
      },
      "outputs": [
        {
          "output_type": "stream",
          "name": "stderr",
          "text": [
            "Cloning https://huggingface.co/Jcfranco/wav2vec2-base-finetuned-ks into local empty directory.\n",
            "WARNING:huggingface_hub.repository:Cloning https://huggingface.co/Jcfranco/wav2vec2-base-finetuned-ks into local empty directory.\n"
          ]
        }
      ],
      "source": [
        "trainer = Trainer(\n",
        "    model,\n",
        "    args,\n",
        "    train_dataset=encoded_dataset[\"train\"],\n",
        "    eval_dataset=encoded_dataset[\"validation\"],\n",
        "    tokenizer=feature_extractor,\n",
        "    compute_metrics=compute_metrics\n",
        ")"
      ]
    },
    {
      "cell_type": "markdown",
      "metadata": {
        "id": "ltokP9mO9pjI"
      },
      "source": [
        "You might wonder why we pass along the `feature_extractor` as a tokenizer when we already preprocessed our data. This is because we will use it once last time to make all the samples we gather the same length by applying padding, which requires knowing the model's preferences regarding padding (to the left or right? with which token?). The `feature_extractor` has a pad method that will do all of this for us, and the `Trainer` will use it. You can customize this part by defining and passing your own `data_collator` which will receive the samples like the dictionaries seen above and will need to return a dictionary of tensors."
      ]
    },
    {
      "cell_type": "markdown",
      "metadata": {
        "id": "9j6VNsGP97LG"
      },
      "source": [
        "Now we can finetune our model by calling the `train` method:"
      ]
    },
    {
      "cell_type": "code",
      "execution_count": null,
      "metadata": {
        "colab": {
          "base_uri": "https://localhost:8080/",
          "height": 356
        },
        "id": "Pps61vF_4QaH",
        "outputId": "2f15da05-6589-4a39-a334-659b22012108"
      },
      "outputs": [
        {
          "output_type": "stream",
          "name": "stderr",
          "text": [
            "/usr/local/lib/python3.9/dist-packages/transformers/optimization.py:391: FutureWarning: This implementation of AdamW is deprecated and will be removed in a future version. Use the PyTorch implementation torch.optim.AdamW instead, or set `no_deprecation_warning=True` to disable this warning\n",
            "  warnings.warn(\n"
          ]
        },
        {
          "output_type": "display_data",
          "data": {
            "text/plain": [
              "<IPython.core.display.HTML object>"
            ],
            "text/html": [
              "\n",
              "    <div>\n",
              "      \n",
              "      <progress value='1995' max='1995' style='width:300px; height:20px; vertical-align: middle;'></progress>\n",
              "      [1995/1995 1:58:22, Epoch 4/5]\n",
              "    </div>\n",
              "    <table border=\"1\" class=\"dataframe\">\n",
              "  <thead>\n",
              " <tr style=\"text-align: left;\">\n",
              "      <th>Epoch</th>\n",
              "      <th>Training Loss</th>\n",
              "      <th>Validation Loss</th>\n",
              "      <th>Accuracy</th>\n",
              "    </tr>\n",
              "  </thead>\n",
              "  <tbody>\n",
              "    <tr>\n",
              "      <td>0</td>\n",
              "      <td>0.714300</td>\n",
              "      <td>0.608050</td>\n",
              "      <td>0.918653</td>\n",
              "    </tr>\n",
              "    <tr>\n",
              "      <td>1</td>\n",
              "      <td>0.290000</td>\n",
              "      <td>0.186139</td>\n",
              "      <td>0.975140</td>\n",
              "    </tr>\n",
              "    <tr>\n",
              "      <td>2</td>\n",
              "      <td>0.224900</td>\n",
              "      <td>0.115848</td>\n",
              "      <td>0.981318</td>\n",
              "    </tr>\n",
              "    <tr>\n",
              "      <td>4</td>\n",
              "      <td>0.164900</td>\n",
              "      <td>0.099870</td>\n",
              "      <td>0.979553</td>\n",
              "    </tr>\n",
              "    <tr>\n",
              "      <td>4</td>\n",
              "      <td>0.130200</td>\n",
              "      <td>0.092023</td>\n",
              "      <td>0.983083</td>\n",
              "    </tr>\n",
              "  </tbody>\n",
              "</table><p>"
            ]
          },
          "metadata": {}
        },
        {
          "output_type": "execute_result",
          "data": {
            "text/plain": [
              "TrainOutput(global_step=1995, training_loss=0.4732801220172031, metrics={'train_runtime': 7112.302, 'train_samples_per_second': 35.919, 'train_steps_per_second': 0.28, 'total_flos': 2.3180194781952e+18, 'train_loss': 0.4732801220172031, 'epoch': 5.0})"
            ]
          },
          "metadata": {},
          "execution_count": 22
        }
      ],
      "source": [
        "trainer.train()"
      ]
    },
    {
      "cell_type": "markdown",
      "metadata": {
        "id": "Vyb-58x_-A0e"
      },
      "source": [
        "We can check with the `evaluate` method that our `Trainer` did reload the best model properly (if it was not the last one):"
      ]
    },
    {
      "cell_type": "code",
      "execution_count": null,
      "metadata": {
        "colab": {
          "base_uri": "https://localhost:8080/",
          "height": 141
        },
        "id": "niniUAnb5IrR",
        "outputId": "1bec68ec-82d1-4db7-c1f0-9d6b9008e417"
      },
      "outputs": [
        {
          "output_type": "display_data",
          "data": {
            "text/plain": [
              "<IPython.core.display.HTML object>"
            ],
            "text/html": [
              "\n",
              "    <div>\n",
              "      \n",
              "      <progress value='213' max='213' style='width:300px; height:20px; vertical-align: middle;'></progress>\n",
              "      [213/213 01:24]\n",
              "    </div>\n",
              "    "
            ]
          },
          "metadata": {}
        },
        {
          "output_type": "execute_result",
          "data": {
            "text/plain": [
              "{'eval_loss': 0.09202266484498978,\n",
              " 'eval_accuracy': 0.9830832597822889,\n",
              " 'eval_runtime': 84.7755,\n",
              " 'eval_samples_per_second': 80.188,\n",
              " 'eval_steps_per_second': 2.513,\n",
              " 'epoch': 5.0}"
            ]
          },
          "metadata": {},
          "execution_count": 23
        }
      ],
      "source": [
        "trainer.evaluate()"
      ]
    },
    {
      "cell_type": "markdown",
      "metadata": {
        "id": "ymwN-SIR-NDF"
      },
      "source": [
        "You can now upload the result of the training to the Hub, just execute this instruction:"
      ]
    },
    {
      "cell_type": "code",
      "execution_count": null,
      "metadata": {
        "id": "4aNMErFz-GzX",
        "colab": {
          "base_uri": "https://localhost:8080/",
          "height": 281
        },
        "outputId": "3755ece9-57aa-4ecf-bf31-6f9a118623a1"
      },
      "outputs": [
        {
          "output_type": "stream",
          "name": "stderr",
          "text": [
            "To https://huggingface.co/Jcfranco/wav2vec2-base-finetuned-ks\n",
            "   bb2a1e7..b9516ce  main -> main\n",
            "\n",
            "WARNING:huggingface_hub.repository:To https://huggingface.co/Jcfranco/wav2vec2-base-finetuned-ks\n",
            "   bb2a1e7..b9516ce  main -> main\n",
            "\n",
            "To https://huggingface.co/Jcfranco/wav2vec2-base-finetuned-ks\n",
            "   b9516ce..637269e  main -> main\n",
            "\n",
            "WARNING:huggingface_hub.repository:To https://huggingface.co/Jcfranco/wav2vec2-base-finetuned-ks\n",
            "   b9516ce..637269e  main -> main\n",
            "\n"
          ]
        },
        {
          "output_type": "execute_result",
          "data": {
            "text/plain": [
              "'https://huggingface.co/Jcfranco/wav2vec2-base-finetuned-ks/commit/b9516ce2d4c0ddb2418888a71c6a01707c10dac6'"
            ],
            "application/vnd.google.colaboratory.intrinsic+json": {
              "type": "string"
            }
          },
          "metadata": {},
          "execution_count": 24
        }
      ],
      "source": [
        "trainer.push_to_hub()"
      ]
    },
    {
      "cell_type": "markdown",
      "metadata": {
        "id": "cZQnNUsI-Q4S"
      },
      "source": [
        "You can now share this model with all your friends, family, favorite pets: they can all load it with the identifier `\"your-username/the-name-you-picked\"` so for instance:\n",
        "\n",
        "```python\n",
        "from transformers import AutoModelForAudioClassification, AutoFeatureExtractor\n",
        "\n",
        "feature_extractor = AutoFeatureExtractor.from_pretrained(\"anton-l/my-awesome-model\")\n",
        "model = AutoModelForAudioClassification.from_pretrained(\"anton-l/my-awesome-model\")\n",
        "\n",
        "```"
      ]
    }
  ],
  "metadata": {
    "accelerator": "GPU",
    "colab": {
      "provenance": [],
      "include_colab_link": true
    },
    "kernelspec": {
      "display_name": "Python 3 (ipykernel)",
      "language": "python",
      "name": "python3"
    },
    "language_info": {
      "codemirror_mode": {
        "name": "ipython",
        "version": 3
      },
      "file_extension": ".py",
      "mimetype": "text/x-python",
      "name": "python",
      "nbconvert_exporter": "python",
      "pygments_lexer": "ipython3",
      "version": "3.10.8"
    },
    "widgets": {
      "application/vnd.jupyter.widget-state+json": {
        "b97f04ae25964b5b9cbb3e8b083b3ac9": {
          "model_module": "@jupyter-widgets/controls",
          "model_name": "VBoxModel",
          "model_module_version": "1.5.0",
          "state": {
            "_dom_classes": [],
            "_model_module": "@jupyter-widgets/controls",
            "_model_module_version": "1.5.0",
            "_model_name": "VBoxModel",
            "_view_count": null,
            "_view_module": "@jupyter-widgets/controls",
            "_view_module_version": "1.5.0",
            "_view_name": "VBoxView",
            "box_style": "",
            "children": [
              "IPY_MODEL_4ff90b10ea00428184495bde54cda25b",
              "IPY_MODEL_388868865b13465fb969cbabec33a195",
              "IPY_MODEL_9c81cb7b87cc4d82aebb9f40437436be",
              "IPY_MODEL_b4414733650d45fcbba4448254b44b4e",
              "IPY_MODEL_48dcedacf32d4fcba8a22a3a84ae501d"
            ],
            "layout": "IPY_MODEL_dc587407a3954861a9227f2b6c79ff8f"
          }
        },
        "4ff90b10ea00428184495bde54cda25b": {
          "model_module": "@jupyter-widgets/controls",
          "model_name": "HTMLModel",
          "model_module_version": "1.5.0",
          "state": {
            "_dom_classes": [],
            "_model_module": "@jupyter-widgets/controls",
            "_model_module_version": "1.5.0",
            "_model_name": "HTMLModel",
            "_view_count": null,
            "_view_module": "@jupyter-widgets/controls",
            "_view_module_version": "1.5.0",
            "_view_name": "HTMLView",
            "description": "",
            "description_tooltip": null,
            "layout": "IPY_MODEL_bacd9c22ec264a469f0b8a23ddddaf9a",
            "placeholder": "​",
            "style": "IPY_MODEL_391f17bdefb74a3899630e7516457054",
            "value": "<center> <img\nsrc=https://huggingface.co/front/assets/huggingface_logo-noborder.svg\nalt='Hugging Face'> <br> Copy a token from <a\nhref=\"https://huggingface.co/settings/tokens\" target=\"_blank\">your Hugging Face\ntokens page</a> and paste it below. <br> Immediately click login after copying\nyour token or it might be stored in plain text in this notebook file. </center>"
          }
        },
        "388868865b13465fb969cbabec33a195": {
          "model_module": "@jupyter-widgets/controls",
          "model_name": "PasswordModel",
          "model_module_version": "1.5.0",
          "state": {
            "_dom_classes": [],
            "_model_module": "@jupyter-widgets/controls",
            "_model_module_version": "1.5.0",
            "_model_name": "PasswordModel",
            "_view_count": null,
            "_view_module": "@jupyter-widgets/controls",
            "_view_module_version": "1.5.0",
            "_view_name": "PasswordView",
            "continuous_update": true,
            "description": "Token:",
            "description_tooltip": null,
            "disabled": false,
            "layout": "IPY_MODEL_e17c835bce72474f911766cf82da7883",
            "placeholder": "​",
            "style": "IPY_MODEL_19bd29ec5767478cb8e39afd582a3893",
            "value": ""
          }
        },
        "9c81cb7b87cc4d82aebb9f40437436be": {
          "model_module": "@jupyter-widgets/controls",
          "model_name": "CheckboxModel",
          "model_module_version": "1.5.0",
          "state": {
            "_dom_classes": [],
            "_model_module": "@jupyter-widgets/controls",
            "_model_module_version": "1.5.0",
            "_model_name": "CheckboxModel",
            "_view_count": null,
            "_view_module": "@jupyter-widgets/controls",
            "_view_module_version": "1.5.0",
            "_view_name": "CheckboxView",
            "description": "Add token as git credential?",
            "description_tooltip": null,
            "disabled": false,
            "indent": true,
            "layout": "IPY_MODEL_10a7673296894ef7b78e2f390c0dd020",
            "style": "IPY_MODEL_7156db930b3c497abf4ac3a6847cc038",
            "value": true
          }
        },
        "b4414733650d45fcbba4448254b44b4e": {
          "model_module": "@jupyter-widgets/controls",
          "model_name": "ButtonModel",
          "model_module_version": "1.5.0",
          "state": {
            "_dom_classes": [],
            "_model_module": "@jupyter-widgets/controls",
            "_model_module_version": "1.5.0",
            "_model_name": "ButtonModel",
            "_view_count": null,
            "_view_module": "@jupyter-widgets/controls",
            "_view_module_version": "1.5.0",
            "_view_name": "ButtonView",
            "button_style": "",
            "description": "Login",
            "disabled": false,
            "icon": "",
            "layout": "IPY_MODEL_5f6cca40fc194aaf899799d1edd4a867",
            "style": "IPY_MODEL_63821a16ee45454facc5ce24fa63b111",
            "tooltip": ""
          }
        },
        "48dcedacf32d4fcba8a22a3a84ae501d": {
          "model_module": "@jupyter-widgets/controls",
          "model_name": "HTMLModel",
          "model_module_version": "1.5.0",
          "state": {
            "_dom_classes": [],
            "_model_module": "@jupyter-widgets/controls",
            "_model_module_version": "1.5.0",
            "_model_name": "HTMLModel",
            "_view_count": null,
            "_view_module": "@jupyter-widgets/controls",
            "_view_module_version": "1.5.0",
            "_view_name": "HTMLView",
            "description": "",
            "description_tooltip": null,
            "layout": "IPY_MODEL_697c112bbec64052b09511c7a9437f67",
            "placeholder": "​",
            "style": "IPY_MODEL_0aa29a5d8b01423b8e3305a65fdce98c",
            "value": "\n<b>Pro Tip:</b> If you don't already have one, you can create a dedicated\n'notebooks' token with 'write' access, that you can then easily reuse for all\nnotebooks. </center>"
          }
        },
        "dc587407a3954861a9227f2b6c79ff8f": {
          "model_module": "@jupyter-widgets/base",
          "model_name": "LayoutModel",
          "model_module_version": "1.2.0",
          "state": {
            "_model_module": "@jupyter-widgets/base",
            "_model_module_version": "1.2.0",
            "_model_name": "LayoutModel",
            "_view_count": null,
            "_view_module": "@jupyter-widgets/base",
            "_view_module_version": "1.2.0",
            "_view_name": "LayoutView",
            "align_content": null,
            "align_items": "center",
            "align_self": null,
            "border": null,
            "bottom": null,
            "display": "flex",
            "flex": null,
            "flex_flow": "column",
            "grid_area": null,
            "grid_auto_columns": null,
            "grid_auto_flow": null,
            "grid_auto_rows": null,
            "grid_column": null,
            "grid_gap": null,
            "grid_row": null,
            "grid_template_areas": null,
            "grid_template_columns": null,
            "grid_template_rows": null,
            "height": null,
            "justify_content": null,
            "justify_items": null,
            "left": null,
            "margin": null,
            "max_height": null,
            "max_width": null,
            "min_height": null,
            "min_width": null,
            "object_fit": null,
            "object_position": null,
            "order": null,
            "overflow": null,
            "overflow_x": null,
            "overflow_y": null,
            "padding": null,
            "right": null,
            "top": null,
            "visibility": null,
            "width": "50%"
          }
        },
        "bacd9c22ec264a469f0b8a23ddddaf9a": {
          "model_module": "@jupyter-widgets/base",
          "model_name": "LayoutModel",
          "model_module_version": "1.2.0",
          "state": {
            "_model_module": "@jupyter-widgets/base",
            "_model_module_version": "1.2.0",
            "_model_name": "LayoutModel",
            "_view_count": null,
            "_view_module": "@jupyter-widgets/base",
            "_view_module_version": "1.2.0",
            "_view_name": "LayoutView",
            "align_content": null,
            "align_items": null,
            "align_self": null,
            "border": null,
            "bottom": null,
            "display": null,
            "flex": null,
            "flex_flow": null,
            "grid_area": null,
            "grid_auto_columns": null,
            "grid_auto_flow": null,
            "grid_auto_rows": null,
            "grid_column": null,
            "grid_gap": null,
            "grid_row": null,
            "grid_template_areas": null,
            "grid_template_columns": null,
            "grid_template_rows": null,
            "height": null,
            "justify_content": null,
            "justify_items": null,
            "left": null,
            "margin": null,
            "max_height": null,
            "max_width": null,
            "min_height": null,
            "min_width": null,
            "object_fit": null,
            "object_position": null,
            "order": null,
            "overflow": null,
            "overflow_x": null,
            "overflow_y": null,
            "padding": null,
            "right": null,
            "top": null,
            "visibility": null,
            "width": null
          }
        },
        "391f17bdefb74a3899630e7516457054": {
          "model_module": "@jupyter-widgets/controls",
          "model_name": "DescriptionStyleModel",
          "model_module_version": "1.5.0",
          "state": {
            "_model_module": "@jupyter-widgets/controls",
            "_model_module_version": "1.5.0",
            "_model_name": "DescriptionStyleModel",
            "_view_count": null,
            "_view_module": "@jupyter-widgets/base",
            "_view_module_version": "1.2.0",
            "_view_name": "StyleView",
            "description_width": ""
          }
        },
        "e17c835bce72474f911766cf82da7883": {
          "model_module": "@jupyter-widgets/base",
          "model_name": "LayoutModel",
          "model_module_version": "1.2.0",
          "state": {
            "_model_module": "@jupyter-widgets/base",
            "_model_module_version": "1.2.0",
            "_model_name": "LayoutModel",
            "_view_count": null,
            "_view_module": "@jupyter-widgets/base",
            "_view_module_version": "1.2.0",
            "_view_name": "LayoutView",
            "align_content": null,
            "align_items": null,
            "align_self": null,
            "border": null,
            "bottom": null,
            "display": null,
            "flex": null,
            "flex_flow": null,
            "grid_area": null,
            "grid_auto_columns": null,
            "grid_auto_flow": null,
            "grid_auto_rows": null,
            "grid_column": null,
            "grid_gap": null,
            "grid_row": null,
            "grid_template_areas": null,
            "grid_template_columns": null,
            "grid_template_rows": null,
            "height": null,
            "justify_content": null,
            "justify_items": null,
            "left": null,
            "margin": null,
            "max_height": null,
            "max_width": null,
            "min_height": null,
            "min_width": null,
            "object_fit": null,
            "object_position": null,
            "order": null,
            "overflow": null,
            "overflow_x": null,
            "overflow_y": null,
            "padding": null,
            "right": null,
            "top": null,
            "visibility": null,
            "width": null
          }
        },
        "19bd29ec5767478cb8e39afd582a3893": {
          "model_module": "@jupyter-widgets/controls",
          "model_name": "DescriptionStyleModel",
          "model_module_version": "1.5.0",
          "state": {
            "_model_module": "@jupyter-widgets/controls",
            "_model_module_version": "1.5.0",
            "_model_name": "DescriptionStyleModel",
            "_view_count": null,
            "_view_module": "@jupyter-widgets/base",
            "_view_module_version": "1.2.0",
            "_view_name": "StyleView",
            "description_width": ""
          }
        },
        "10a7673296894ef7b78e2f390c0dd020": {
          "model_module": "@jupyter-widgets/base",
          "model_name": "LayoutModel",
          "model_module_version": "1.2.0",
          "state": {
            "_model_module": "@jupyter-widgets/base",
            "_model_module_version": "1.2.0",
            "_model_name": "LayoutModel",
            "_view_count": null,
            "_view_module": "@jupyter-widgets/base",
            "_view_module_version": "1.2.0",
            "_view_name": "LayoutView",
            "align_content": null,
            "align_items": null,
            "align_self": null,
            "border": null,
            "bottom": null,
            "display": null,
            "flex": null,
            "flex_flow": null,
            "grid_area": null,
            "grid_auto_columns": null,
            "grid_auto_flow": null,
            "grid_auto_rows": null,
            "grid_column": null,
            "grid_gap": null,
            "grid_row": null,
            "grid_template_areas": null,
            "grid_template_columns": null,
            "grid_template_rows": null,
            "height": null,
            "justify_content": null,
            "justify_items": null,
            "left": null,
            "margin": null,
            "max_height": null,
            "max_width": null,
            "min_height": null,
            "min_width": null,
            "object_fit": null,
            "object_position": null,
            "order": null,
            "overflow": null,
            "overflow_x": null,
            "overflow_y": null,
            "padding": null,
            "right": null,
            "top": null,
            "visibility": null,
            "width": null
          }
        },
        "7156db930b3c497abf4ac3a6847cc038": {
          "model_module": "@jupyter-widgets/controls",
          "model_name": "DescriptionStyleModel",
          "model_module_version": "1.5.0",
          "state": {
            "_model_module": "@jupyter-widgets/controls",
            "_model_module_version": "1.5.0",
            "_model_name": "DescriptionStyleModel",
            "_view_count": null,
            "_view_module": "@jupyter-widgets/base",
            "_view_module_version": "1.2.0",
            "_view_name": "StyleView",
            "description_width": ""
          }
        },
        "5f6cca40fc194aaf899799d1edd4a867": {
          "model_module": "@jupyter-widgets/base",
          "model_name": "LayoutModel",
          "model_module_version": "1.2.0",
          "state": {
            "_model_module": "@jupyter-widgets/base",
            "_model_module_version": "1.2.0",
            "_model_name": "LayoutModel",
            "_view_count": null,
            "_view_module": "@jupyter-widgets/base",
            "_view_module_version": "1.2.0",
            "_view_name": "LayoutView",
            "align_content": null,
            "align_items": null,
            "align_self": null,
            "border": null,
            "bottom": null,
            "display": null,
            "flex": null,
            "flex_flow": null,
            "grid_area": null,
            "grid_auto_columns": null,
            "grid_auto_flow": null,
            "grid_auto_rows": null,
            "grid_column": null,
            "grid_gap": null,
            "grid_row": null,
            "grid_template_areas": null,
            "grid_template_columns": null,
            "grid_template_rows": null,
            "height": null,
            "justify_content": null,
            "justify_items": null,
            "left": null,
            "margin": null,
            "max_height": null,
            "max_width": null,
            "min_height": null,
            "min_width": null,
            "object_fit": null,
            "object_position": null,
            "order": null,
            "overflow": null,
            "overflow_x": null,
            "overflow_y": null,
            "padding": null,
            "right": null,
            "top": null,
            "visibility": null,
            "width": null
          }
        },
        "63821a16ee45454facc5ce24fa63b111": {
          "model_module": "@jupyter-widgets/controls",
          "model_name": "ButtonStyleModel",
          "model_module_version": "1.5.0",
          "state": {
            "_model_module": "@jupyter-widgets/controls",
            "_model_module_version": "1.5.0",
            "_model_name": "ButtonStyleModel",
            "_view_count": null,
            "_view_module": "@jupyter-widgets/base",
            "_view_module_version": "1.2.0",
            "_view_name": "StyleView",
            "button_color": null,
            "font_weight": ""
          }
        },
        "697c112bbec64052b09511c7a9437f67": {
          "model_module": "@jupyter-widgets/base",
          "model_name": "LayoutModel",
          "model_module_version": "1.2.0",
          "state": {
            "_model_module": "@jupyter-widgets/base",
            "_model_module_version": "1.2.0",
            "_model_name": "LayoutModel",
            "_view_count": null,
            "_view_module": "@jupyter-widgets/base",
            "_view_module_version": "1.2.0",
            "_view_name": "LayoutView",
            "align_content": null,
            "align_items": null,
            "align_self": null,
            "border": null,
            "bottom": null,
            "display": null,
            "flex": null,
            "flex_flow": null,
            "grid_area": null,
            "grid_auto_columns": null,
            "grid_auto_flow": null,
            "grid_auto_rows": null,
            "grid_column": null,
            "grid_gap": null,
            "grid_row": null,
            "grid_template_areas": null,
            "grid_template_columns": null,
            "grid_template_rows": null,
            "height": null,
            "justify_content": null,
            "justify_items": null,
            "left": null,
            "margin": null,
            "max_height": null,
            "max_width": null,
            "min_height": null,
            "min_width": null,
            "object_fit": null,
            "object_position": null,
            "order": null,
            "overflow": null,
            "overflow_x": null,
            "overflow_y": null,
            "padding": null,
            "right": null,
            "top": null,
            "visibility": null,
            "width": null
          }
        },
        "0aa29a5d8b01423b8e3305a65fdce98c": {
          "model_module": "@jupyter-widgets/controls",
          "model_name": "DescriptionStyleModel",
          "model_module_version": "1.5.0",
          "state": {
            "_model_module": "@jupyter-widgets/controls",
            "_model_module_version": "1.5.0",
            "_model_name": "DescriptionStyleModel",
            "_view_count": null,
            "_view_module": "@jupyter-widgets/base",
            "_view_module_version": "1.2.0",
            "_view_name": "StyleView",
            "description_width": ""
          }
        },
        "871d0c736e6a4c3f8c3983d967202704": {
          "model_module": "@jupyter-widgets/controls",
          "model_name": "HBoxModel",
          "model_module_version": "1.5.0",
          "state": {
            "_dom_classes": [],
            "_model_module": "@jupyter-widgets/controls",
            "_model_module_version": "1.5.0",
            "_model_name": "HBoxModel",
            "_view_count": null,
            "_view_module": "@jupyter-widgets/controls",
            "_view_module_version": "1.5.0",
            "_view_name": "HBoxView",
            "box_style": "",
            "children": [
              "IPY_MODEL_5ae1300ea575496a8a2669e5c45e1670",
              "IPY_MODEL_3ca363af34784841b9949c3313ece95f",
              "IPY_MODEL_8ef10d47a60e45c1b7d5d31415c36ce9"
            ],
            "layout": "IPY_MODEL_4a80b878105847e3bed7899c3790f2fb"
          }
        },
        "5ae1300ea575496a8a2669e5c45e1670": {
          "model_module": "@jupyter-widgets/controls",
          "model_name": "HTMLModel",
          "model_module_version": "1.5.0",
          "state": {
            "_dom_classes": [],
            "_model_module": "@jupyter-widgets/controls",
            "_model_module_version": "1.5.0",
            "_model_name": "HTMLModel",
            "_view_count": null,
            "_view_module": "@jupyter-widgets/controls",
            "_view_module_version": "1.5.0",
            "_view_name": "HTMLView",
            "description": "",
            "description_tooltip": null,
            "layout": "IPY_MODEL_5191f2328cb042debf77f8a60e0f00e4",
            "placeholder": "​",
            "style": "IPY_MODEL_5d71fd78860b43dc8d6a9f3bd16efbd4",
            "value": "Downloading builder script: 100%"
          }
        },
        "3ca363af34784841b9949c3313ece95f": {
          "model_module": "@jupyter-widgets/controls",
          "model_name": "FloatProgressModel",
          "model_module_version": "1.5.0",
          "state": {
            "_dom_classes": [],
            "_model_module": "@jupyter-widgets/controls",
            "_model_module_version": "1.5.0",
            "_model_name": "FloatProgressModel",
            "_view_count": null,
            "_view_module": "@jupyter-widgets/controls",
            "_view_module_version": "1.5.0",
            "_view_name": "ProgressView",
            "bar_style": "success",
            "description": "",
            "description_tooltip": null,
            "layout": "IPY_MODEL_5792f3a5acf24106af49e7da3149208c",
            "max": 30173,
            "min": 0,
            "orientation": "horizontal",
            "style": "IPY_MODEL_3fdc448191e94953b45ae07e0e946be2",
            "value": 30173
          }
        },
        "8ef10d47a60e45c1b7d5d31415c36ce9": {
          "model_module": "@jupyter-widgets/controls",
          "model_name": "HTMLModel",
          "model_module_version": "1.5.0",
          "state": {
            "_dom_classes": [],
            "_model_module": "@jupyter-widgets/controls",
            "_model_module_version": "1.5.0",
            "_model_name": "HTMLModel",
            "_view_count": null,
            "_view_module": "@jupyter-widgets/controls",
            "_view_module_version": "1.5.0",
            "_view_name": "HTMLView",
            "description": "",
            "description_tooltip": null,
            "layout": "IPY_MODEL_8a72a1999bf74a7687a05713d9f54b2c",
            "placeholder": "​",
            "style": "IPY_MODEL_732b9512952b4bbb870f56819f9dd81a",
            "value": " 30.2k/30.2k [00:00&lt;00:00, 857kB/s]"
          }
        },
        "4a80b878105847e3bed7899c3790f2fb": {
          "model_module": "@jupyter-widgets/base",
          "model_name": "LayoutModel",
          "model_module_version": "1.2.0",
          "state": {
            "_model_module": "@jupyter-widgets/base",
            "_model_module_version": "1.2.0",
            "_model_name": "LayoutModel",
            "_view_count": null,
            "_view_module": "@jupyter-widgets/base",
            "_view_module_version": "1.2.0",
            "_view_name": "LayoutView",
            "align_content": null,
            "align_items": null,
            "align_self": null,
            "border": null,
            "bottom": null,
            "display": null,
            "flex": null,
            "flex_flow": null,
            "grid_area": null,
            "grid_auto_columns": null,
            "grid_auto_flow": null,
            "grid_auto_rows": null,
            "grid_column": null,
            "grid_gap": null,
            "grid_row": null,
            "grid_template_areas": null,
            "grid_template_columns": null,
            "grid_template_rows": null,
            "height": null,
            "justify_content": null,
            "justify_items": null,
            "left": null,
            "margin": null,
            "max_height": null,
            "max_width": null,
            "min_height": null,
            "min_width": null,
            "object_fit": null,
            "object_position": null,
            "order": null,
            "overflow": null,
            "overflow_x": null,
            "overflow_y": null,
            "padding": null,
            "right": null,
            "top": null,
            "visibility": null,
            "width": null
          }
        },
        "5191f2328cb042debf77f8a60e0f00e4": {
          "model_module": "@jupyter-widgets/base",
          "model_name": "LayoutModel",
          "model_module_version": "1.2.0",
          "state": {
            "_model_module": "@jupyter-widgets/base",
            "_model_module_version": "1.2.0",
            "_model_name": "LayoutModel",
            "_view_count": null,
            "_view_module": "@jupyter-widgets/base",
            "_view_module_version": "1.2.0",
            "_view_name": "LayoutView",
            "align_content": null,
            "align_items": null,
            "align_self": null,
            "border": null,
            "bottom": null,
            "display": null,
            "flex": null,
            "flex_flow": null,
            "grid_area": null,
            "grid_auto_columns": null,
            "grid_auto_flow": null,
            "grid_auto_rows": null,
            "grid_column": null,
            "grid_gap": null,
            "grid_row": null,
            "grid_template_areas": null,
            "grid_template_columns": null,
            "grid_template_rows": null,
            "height": null,
            "justify_content": null,
            "justify_items": null,
            "left": null,
            "margin": null,
            "max_height": null,
            "max_width": null,
            "min_height": null,
            "min_width": null,
            "object_fit": null,
            "object_position": null,
            "order": null,
            "overflow": null,
            "overflow_x": null,
            "overflow_y": null,
            "padding": null,
            "right": null,
            "top": null,
            "visibility": null,
            "width": null
          }
        },
        "5d71fd78860b43dc8d6a9f3bd16efbd4": {
          "model_module": "@jupyter-widgets/controls",
          "model_name": "DescriptionStyleModel",
          "model_module_version": "1.5.0",
          "state": {
            "_model_module": "@jupyter-widgets/controls",
            "_model_module_version": "1.5.0",
            "_model_name": "DescriptionStyleModel",
            "_view_count": null,
            "_view_module": "@jupyter-widgets/base",
            "_view_module_version": "1.2.0",
            "_view_name": "StyleView",
            "description_width": ""
          }
        },
        "5792f3a5acf24106af49e7da3149208c": {
          "model_module": "@jupyter-widgets/base",
          "model_name": "LayoutModel",
          "model_module_version": "1.2.0",
          "state": {
            "_model_module": "@jupyter-widgets/base",
            "_model_module_version": "1.2.0",
            "_model_name": "LayoutModel",
            "_view_count": null,
            "_view_module": "@jupyter-widgets/base",
            "_view_module_version": "1.2.0",
            "_view_name": "LayoutView",
            "align_content": null,
            "align_items": null,
            "align_self": null,
            "border": null,
            "bottom": null,
            "display": null,
            "flex": null,
            "flex_flow": null,
            "grid_area": null,
            "grid_auto_columns": null,
            "grid_auto_flow": null,
            "grid_auto_rows": null,
            "grid_column": null,
            "grid_gap": null,
            "grid_row": null,
            "grid_template_areas": null,
            "grid_template_columns": null,
            "grid_template_rows": null,
            "height": null,
            "justify_content": null,
            "justify_items": null,
            "left": null,
            "margin": null,
            "max_height": null,
            "max_width": null,
            "min_height": null,
            "min_width": null,
            "object_fit": null,
            "object_position": null,
            "order": null,
            "overflow": null,
            "overflow_x": null,
            "overflow_y": null,
            "padding": null,
            "right": null,
            "top": null,
            "visibility": null,
            "width": null
          }
        },
        "3fdc448191e94953b45ae07e0e946be2": {
          "model_module": "@jupyter-widgets/controls",
          "model_name": "ProgressStyleModel",
          "model_module_version": "1.5.0",
          "state": {
            "_model_module": "@jupyter-widgets/controls",
            "_model_module_version": "1.5.0",
            "_model_name": "ProgressStyleModel",
            "_view_count": null,
            "_view_module": "@jupyter-widgets/base",
            "_view_module_version": "1.2.0",
            "_view_name": "StyleView",
            "bar_color": null,
            "description_width": ""
          }
        },
        "8a72a1999bf74a7687a05713d9f54b2c": {
          "model_module": "@jupyter-widgets/base",
          "model_name": "LayoutModel",
          "model_module_version": "1.2.0",
          "state": {
            "_model_module": "@jupyter-widgets/base",
            "_model_module_version": "1.2.0",
            "_model_name": "LayoutModel",
            "_view_count": null,
            "_view_module": "@jupyter-widgets/base",
            "_view_module_version": "1.2.0",
            "_view_name": "LayoutView",
            "align_content": null,
            "align_items": null,
            "align_self": null,
            "border": null,
            "bottom": null,
            "display": null,
            "flex": null,
            "flex_flow": null,
            "grid_area": null,
            "grid_auto_columns": null,
            "grid_auto_flow": null,
            "grid_auto_rows": null,
            "grid_column": null,
            "grid_gap": null,
            "grid_row": null,
            "grid_template_areas": null,
            "grid_template_columns": null,
            "grid_template_rows": null,
            "height": null,
            "justify_content": null,
            "justify_items": null,
            "left": null,
            "margin": null,
            "max_height": null,
            "max_width": null,
            "min_height": null,
            "min_width": null,
            "object_fit": null,
            "object_position": null,
            "order": null,
            "overflow": null,
            "overflow_x": null,
            "overflow_y": null,
            "padding": null,
            "right": null,
            "top": null,
            "visibility": null,
            "width": null
          }
        },
        "732b9512952b4bbb870f56819f9dd81a": {
          "model_module": "@jupyter-widgets/controls",
          "model_name": "DescriptionStyleModel",
          "model_module_version": "1.5.0",
          "state": {
            "_model_module": "@jupyter-widgets/controls",
            "_model_module_version": "1.5.0",
            "_model_name": "DescriptionStyleModel",
            "_view_count": null,
            "_view_module": "@jupyter-widgets/base",
            "_view_module_version": "1.2.0",
            "_view_name": "StyleView",
            "description_width": ""
          }
        },
        "a08d8e4f9efe48e68b23bd8664c8638e": {
          "model_module": "@jupyter-widgets/controls",
          "model_name": "HBoxModel",
          "model_module_version": "1.5.0",
          "state": {
            "_dom_classes": [],
            "_model_module": "@jupyter-widgets/controls",
            "_model_module_version": "1.5.0",
            "_model_name": "HBoxModel",
            "_view_count": null,
            "_view_module": "@jupyter-widgets/controls",
            "_view_module_version": "1.5.0",
            "_view_name": "HBoxView",
            "box_style": "",
            "children": [
              "IPY_MODEL_2dac3ad95a46429882b671cc7ff01a51",
              "IPY_MODEL_10612a16560445c89843effe2eb4755e",
              "IPY_MODEL_4f7b67d39f434c108b44be4cfdea836d"
            ],
            "layout": "IPY_MODEL_73e5a33fe0f74666b0eb92b3cf4b6b5a"
          }
        },
        "2dac3ad95a46429882b671cc7ff01a51": {
          "model_module": "@jupyter-widgets/controls",
          "model_name": "HTMLModel",
          "model_module_version": "1.5.0",
          "state": {
            "_dom_classes": [],
            "_model_module": "@jupyter-widgets/controls",
            "_model_module_version": "1.5.0",
            "_model_name": "HTMLModel",
            "_view_count": null,
            "_view_module": "@jupyter-widgets/controls",
            "_view_module_version": "1.5.0",
            "_view_name": "HTMLView",
            "description": "",
            "description_tooltip": null,
            "layout": "IPY_MODEL_e75cc95c78fc4bf2b3d509e7f9e84724",
            "placeholder": "​",
            "style": "IPY_MODEL_9c467c7fa6f14afeb5f5edcde7c9bf13",
            "value": "Downloading metadata: 100%"
          }
        },
        "10612a16560445c89843effe2eb4755e": {
          "model_module": "@jupyter-widgets/controls",
          "model_name": "FloatProgressModel",
          "model_module_version": "1.5.0",
          "state": {
            "_dom_classes": [],
            "_model_module": "@jupyter-widgets/controls",
            "_model_module_version": "1.5.0",
            "_model_name": "FloatProgressModel",
            "_view_count": null,
            "_view_module": "@jupyter-widgets/controls",
            "_view_module_version": "1.5.0",
            "_view_name": "ProgressView",
            "bar_style": "success",
            "description": "",
            "description_tooltip": null,
            "layout": "IPY_MODEL_fbb1f6bb06124f35ac6f0ddc52b9dc0b",
            "max": 38095,
            "min": 0,
            "orientation": "horizontal",
            "style": "IPY_MODEL_6717f9de172c4db1821d7e33fc3810bb",
            "value": 38095
          }
        },
        "4f7b67d39f434c108b44be4cfdea836d": {
          "model_module": "@jupyter-widgets/controls",
          "model_name": "HTMLModel",
          "model_module_version": "1.5.0",
          "state": {
            "_dom_classes": [],
            "_model_module": "@jupyter-widgets/controls",
            "_model_module_version": "1.5.0",
            "_model_name": "HTMLModel",
            "_view_count": null,
            "_view_module": "@jupyter-widgets/controls",
            "_view_module_version": "1.5.0",
            "_view_name": "HTMLView",
            "description": "",
            "description_tooltip": null,
            "layout": "IPY_MODEL_62387d4fd55d470fac54ca63d364a18d",
            "placeholder": "​",
            "style": "IPY_MODEL_575633f4e11e4b0e8c50b12e68509493",
            "value": " 38.1k/38.1k [00:00&lt;00:00, 1.68MB/s]"
          }
        },
        "73e5a33fe0f74666b0eb92b3cf4b6b5a": {
          "model_module": "@jupyter-widgets/base",
          "model_name": "LayoutModel",
          "model_module_version": "1.2.0",
          "state": {
            "_model_module": "@jupyter-widgets/base",
            "_model_module_version": "1.2.0",
            "_model_name": "LayoutModel",
            "_view_count": null,
            "_view_module": "@jupyter-widgets/base",
            "_view_module_version": "1.2.0",
            "_view_name": "LayoutView",
            "align_content": null,
            "align_items": null,
            "align_self": null,
            "border": null,
            "bottom": null,
            "display": null,
            "flex": null,
            "flex_flow": null,
            "grid_area": null,
            "grid_auto_columns": null,
            "grid_auto_flow": null,
            "grid_auto_rows": null,
            "grid_column": null,
            "grid_gap": null,
            "grid_row": null,
            "grid_template_areas": null,
            "grid_template_columns": null,
            "grid_template_rows": null,
            "height": null,
            "justify_content": null,
            "justify_items": null,
            "left": null,
            "margin": null,
            "max_height": null,
            "max_width": null,
            "min_height": null,
            "min_width": null,
            "object_fit": null,
            "object_position": null,
            "order": null,
            "overflow": null,
            "overflow_x": null,
            "overflow_y": null,
            "padding": null,
            "right": null,
            "top": null,
            "visibility": null,
            "width": null
          }
        },
        "e75cc95c78fc4bf2b3d509e7f9e84724": {
          "model_module": "@jupyter-widgets/base",
          "model_name": "LayoutModel",
          "model_module_version": "1.2.0",
          "state": {
            "_model_module": "@jupyter-widgets/base",
            "_model_module_version": "1.2.0",
            "_model_name": "LayoutModel",
            "_view_count": null,
            "_view_module": "@jupyter-widgets/base",
            "_view_module_version": "1.2.0",
            "_view_name": "LayoutView",
            "align_content": null,
            "align_items": null,
            "align_self": null,
            "border": null,
            "bottom": null,
            "display": null,
            "flex": null,
            "flex_flow": null,
            "grid_area": null,
            "grid_auto_columns": null,
            "grid_auto_flow": null,
            "grid_auto_rows": null,
            "grid_column": null,
            "grid_gap": null,
            "grid_row": null,
            "grid_template_areas": null,
            "grid_template_columns": null,
            "grid_template_rows": null,
            "height": null,
            "justify_content": null,
            "justify_items": null,
            "left": null,
            "margin": null,
            "max_height": null,
            "max_width": null,
            "min_height": null,
            "min_width": null,
            "object_fit": null,
            "object_position": null,
            "order": null,
            "overflow": null,
            "overflow_x": null,
            "overflow_y": null,
            "padding": null,
            "right": null,
            "top": null,
            "visibility": null,
            "width": null
          }
        },
        "9c467c7fa6f14afeb5f5edcde7c9bf13": {
          "model_module": "@jupyter-widgets/controls",
          "model_name": "DescriptionStyleModel",
          "model_module_version": "1.5.0",
          "state": {
            "_model_module": "@jupyter-widgets/controls",
            "_model_module_version": "1.5.0",
            "_model_name": "DescriptionStyleModel",
            "_view_count": null,
            "_view_module": "@jupyter-widgets/base",
            "_view_module_version": "1.2.0",
            "_view_name": "StyleView",
            "description_width": ""
          }
        },
        "fbb1f6bb06124f35ac6f0ddc52b9dc0b": {
          "model_module": "@jupyter-widgets/base",
          "model_name": "LayoutModel",
          "model_module_version": "1.2.0",
          "state": {
            "_model_module": "@jupyter-widgets/base",
            "_model_module_version": "1.2.0",
            "_model_name": "LayoutModel",
            "_view_count": null,
            "_view_module": "@jupyter-widgets/base",
            "_view_module_version": "1.2.0",
            "_view_name": "LayoutView",
            "align_content": null,
            "align_items": null,
            "align_self": null,
            "border": null,
            "bottom": null,
            "display": null,
            "flex": null,
            "flex_flow": null,
            "grid_area": null,
            "grid_auto_columns": null,
            "grid_auto_flow": null,
            "grid_auto_rows": null,
            "grid_column": null,
            "grid_gap": null,
            "grid_row": null,
            "grid_template_areas": null,
            "grid_template_columns": null,
            "grid_template_rows": null,
            "height": null,
            "justify_content": null,
            "justify_items": null,
            "left": null,
            "margin": null,
            "max_height": null,
            "max_width": null,
            "min_height": null,
            "min_width": null,
            "object_fit": null,
            "object_position": null,
            "order": null,
            "overflow": null,
            "overflow_x": null,
            "overflow_y": null,
            "padding": null,
            "right": null,
            "top": null,
            "visibility": null,
            "width": null
          }
        },
        "6717f9de172c4db1821d7e33fc3810bb": {
          "model_module": "@jupyter-widgets/controls",
          "model_name": "ProgressStyleModel",
          "model_module_version": "1.5.0",
          "state": {
            "_model_module": "@jupyter-widgets/controls",
            "_model_module_version": "1.5.0",
            "_model_name": "ProgressStyleModel",
            "_view_count": null,
            "_view_module": "@jupyter-widgets/base",
            "_view_module_version": "1.2.0",
            "_view_name": "StyleView",
            "bar_color": null,
            "description_width": ""
          }
        },
        "62387d4fd55d470fac54ca63d364a18d": {
          "model_module": "@jupyter-widgets/base",
          "model_name": "LayoutModel",
          "model_module_version": "1.2.0",
          "state": {
            "_model_module": "@jupyter-widgets/base",
            "_model_module_version": "1.2.0",
            "_model_name": "LayoutModel",
            "_view_count": null,
            "_view_module": "@jupyter-widgets/base",
            "_view_module_version": "1.2.0",
            "_view_name": "LayoutView",
            "align_content": null,
            "align_items": null,
            "align_self": null,
            "border": null,
            "bottom": null,
            "display": null,
            "flex": null,
            "flex_flow": null,
            "grid_area": null,
            "grid_auto_columns": null,
            "grid_auto_flow": null,
            "grid_auto_rows": null,
            "grid_column": null,
            "grid_gap": null,
            "grid_row": null,
            "grid_template_areas": null,
            "grid_template_columns": null,
            "grid_template_rows": null,
            "height": null,
            "justify_content": null,
            "justify_items": null,
            "left": null,
            "margin": null,
            "max_height": null,
            "max_width": null,
            "min_height": null,
            "min_width": null,
            "object_fit": null,
            "object_position": null,
            "order": null,
            "overflow": null,
            "overflow_x": null,
            "overflow_y": null,
            "padding": null,
            "right": null,
            "top": null,
            "visibility": null,
            "width": null
          }
        },
        "575633f4e11e4b0e8c50b12e68509493": {
          "model_module": "@jupyter-widgets/controls",
          "model_name": "DescriptionStyleModel",
          "model_module_version": "1.5.0",
          "state": {
            "_model_module": "@jupyter-widgets/controls",
            "_model_module_version": "1.5.0",
            "_model_name": "DescriptionStyleModel",
            "_view_count": null,
            "_view_module": "@jupyter-widgets/base",
            "_view_module_version": "1.2.0",
            "_view_name": "StyleView",
            "description_width": ""
          }
        },
        "c7c5d33cea7e40cbb7137fbe43106970": {
          "model_module": "@jupyter-widgets/controls",
          "model_name": "HBoxModel",
          "model_module_version": "1.5.0",
          "state": {
            "_dom_classes": [],
            "_model_module": "@jupyter-widgets/controls",
            "_model_module_version": "1.5.0",
            "_model_name": "HBoxModel",
            "_view_count": null,
            "_view_module": "@jupyter-widgets/controls",
            "_view_module_version": "1.5.0",
            "_view_name": "HBoxView",
            "box_style": "",
            "children": [
              "IPY_MODEL_5c677798a4d8475a8438a01428e0da76",
              "IPY_MODEL_0a7913e5f8834014b995557ca1eb9c2e",
              "IPY_MODEL_ec7df1349b4c476da4cb8346b631e1f9"
            ],
            "layout": "IPY_MODEL_8d716e390c1e42a3a75e4cd9d28b59c5"
          }
        },
        "5c677798a4d8475a8438a01428e0da76": {
          "model_module": "@jupyter-widgets/controls",
          "model_name": "HTMLModel",
          "model_module_version": "1.5.0",
          "state": {
            "_dom_classes": [],
            "_model_module": "@jupyter-widgets/controls",
            "_model_module_version": "1.5.0",
            "_model_name": "HTMLModel",
            "_view_count": null,
            "_view_module": "@jupyter-widgets/controls",
            "_view_module_version": "1.5.0",
            "_view_name": "HTMLView",
            "description": "",
            "description_tooltip": null,
            "layout": "IPY_MODEL_7420228526e1439392e1cf8ffa6f7917",
            "placeholder": "​",
            "style": "IPY_MODEL_03b65a0d69cb4ee5b41decf60b1de50e",
            "value": "Downloading readme: 100%"
          }
        },
        "0a7913e5f8834014b995557ca1eb9c2e": {
          "model_module": "@jupyter-widgets/controls",
          "model_name": "FloatProgressModel",
          "model_module_version": "1.5.0",
          "state": {
            "_dom_classes": [],
            "_model_module": "@jupyter-widgets/controls",
            "_model_module_version": "1.5.0",
            "_model_name": "FloatProgressModel",
            "_view_count": null,
            "_view_module": "@jupyter-widgets/controls",
            "_view_module_version": "1.5.0",
            "_view_name": "ProgressView",
            "bar_style": "success",
            "description": "",
            "description_tooltip": null,
            "layout": "IPY_MODEL_883a9aa1c0064deb96e57ba498bd5587",
            "max": 57085,
            "min": 0,
            "orientation": "horizontal",
            "style": "IPY_MODEL_c104e34d603446fdae82891c04d72a36",
            "value": 57085
          }
        },
        "ec7df1349b4c476da4cb8346b631e1f9": {
          "model_module": "@jupyter-widgets/controls",
          "model_name": "HTMLModel",
          "model_module_version": "1.5.0",
          "state": {
            "_dom_classes": [],
            "_model_module": "@jupyter-widgets/controls",
            "_model_module_version": "1.5.0",
            "_model_name": "HTMLModel",
            "_view_count": null,
            "_view_module": "@jupyter-widgets/controls",
            "_view_module_version": "1.5.0",
            "_view_name": "HTMLView",
            "description": "",
            "description_tooltip": null,
            "layout": "IPY_MODEL_e0f77edf0cd9488d9470562d47458c16",
            "placeholder": "​",
            "style": "IPY_MODEL_51844bca59d642fabe3e2f77e6d7772c",
            "value": " 57.1k/57.1k [00:00&lt;00:00, 1.92MB/s]"
          }
        },
        "8d716e390c1e42a3a75e4cd9d28b59c5": {
          "model_module": "@jupyter-widgets/base",
          "model_name": "LayoutModel",
          "model_module_version": "1.2.0",
          "state": {
            "_model_module": "@jupyter-widgets/base",
            "_model_module_version": "1.2.0",
            "_model_name": "LayoutModel",
            "_view_count": null,
            "_view_module": "@jupyter-widgets/base",
            "_view_module_version": "1.2.0",
            "_view_name": "LayoutView",
            "align_content": null,
            "align_items": null,
            "align_self": null,
            "border": null,
            "bottom": null,
            "display": null,
            "flex": null,
            "flex_flow": null,
            "grid_area": null,
            "grid_auto_columns": null,
            "grid_auto_flow": null,
            "grid_auto_rows": null,
            "grid_column": null,
            "grid_gap": null,
            "grid_row": null,
            "grid_template_areas": null,
            "grid_template_columns": null,
            "grid_template_rows": null,
            "height": null,
            "justify_content": null,
            "justify_items": null,
            "left": null,
            "margin": null,
            "max_height": null,
            "max_width": null,
            "min_height": null,
            "min_width": null,
            "object_fit": null,
            "object_position": null,
            "order": null,
            "overflow": null,
            "overflow_x": null,
            "overflow_y": null,
            "padding": null,
            "right": null,
            "top": null,
            "visibility": null,
            "width": null
          }
        },
        "7420228526e1439392e1cf8ffa6f7917": {
          "model_module": "@jupyter-widgets/base",
          "model_name": "LayoutModel",
          "model_module_version": "1.2.0",
          "state": {
            "_model_module": "@jupyter-widgets/base",
            "_model_module_version": "1.2.0",
            "_model_name": "LayoutModel",
            "_view_count": null,
            "_view_module": "@jupyter-widgets/base",
            "_view_module_version": "1.2.0",
            "_view_name": "LayoutView",
            "align_content": null,
            "align_items": null,
            "align_self": null,
            "border": null,
            "bottom": null,
            "display": null,
            "flex": null,
            "flex_flow": null,
            "grid_area": null,
            "grid_auto_columns": null,
            "grid_auto_flow": null,
            "grid_auto_rows": null,
            "grid_column": null,
            "grid_gap": null,
            "grid_row": null,
            "grid_template_areas": null,
            "grid_template_columns": null,
            "grid_template_rows": null,
            "height": null,
            "justify_content": null,
            "justify_items": null,
            "left": null,
            "margin": null,
            "max_height": null,
            "max_width": null,
            "min_height": null,
            "min_width": null,
            "object_fit": null,
            "object_position": null,
            "order": null,
            "overflow": null,
            "overflow_x": null,
            "overflow_y": null,
            "padding": null,
            "right": null,
            "top": null,
            "visibility": null,
            "width": null
          }
        },
        "03b65a0d69cb4ee5b41decf60b1de50e": {
          "model_module": "@jupyter-widgets/controls",
          "model_name": "DescriptionStyleModel",
          "model_module_version": "1.5.0",
          "state": {
            "_model_module": "@jupyter-widgets/controls",
            "_model_module_version": "1.5.0",
            "_model_name": "DescriptionStyleModel",
            "_view_count": null,
            "_view_module": "@jupyter-widgets/base",
            "_view_module_version": "1.2.0",
            "_view_name": "StyleView",
            "description_width": ""
          }
        },
        "883a9aa1c0064deb96e57ba498bd5587": {
          "model_module": "@jupyter-widgets/base",
          "model_name": "LayoutModel",
          "model_module_version": "1.2.0",
          "state": {
            "_model_module": "@jupyter-widgets/base",
            "_model_module_version": "1.2.0",
            "_model_name": "LayoutModel",
            "_view_count": null,
            "_view_module": "@jupyter-widgets/base",
            "_view_module_version": "1.2.0",
            "_view_name": "LayoutView",
            "align_content": null,
            "align_items": null,
            "align_self": null,
            "border": null,
            "bottom": null,
            "display": null,
            "flex": null,
            "flex_flow": null,
            "grid_area": null,
            "grid_auto_columns": null,
            "grid_auto_flow": null,
            "grid_auto_rows": null,
            "grid_column": null,
            "grid_gap": null,
            "grid_row": null,
            "grid_template_areas": null,
            "grid_template_columns": null,
            "grid_template_rows": null,
            "height": null,
            "justify_content": null,
            "justify_items": null,
            "left": null,
            "margin": null,
            "max_height": null,
            "max_width": null,
            "min_height": null,
            "min_width": null,
            "object_fit": null,
            "object_position": null,
            "order": null,
            "overflow": null,
            "overflow_x": null,
            "overflow_y": null,
            "padding": null,
            "right": null,
            "top": null,
            "visibility": null,
            "width": null
          }
        },
        "c104e34d603446fdae82891c04d72a36": {
          "model_module": "@jupyter-widgets/controls",
          "model_name": "ProgressStyleModel",
          "model_module_version": "1.5.0",
          "state": {
            "_model_module": "@jupyter-widgets/controls",
            "_model_module_version": "1.5.0",
            "_model_name": "ProgressStyleModel",
            "_view_count": null,
            "_view_module": "@jupyter-widgets/base",
            "_view_module_version": "1.2.0",
            "_view_name": "StyleView",
            "bar_color": null,
            "description_width": ""
          }
        },
        "e0f77edf0cd9488d9470562d47458c16": {
          "model_module": "@jupyter-widgets/base",
          "model_name": "LayoutModel",
          "model_module_version": "1.2.0",
          "state": {
            "_model_module": "@jupyter-widgets/base",
            "_model_module_version": "1.2.0",
            "_model_name": "LayoutModel",
            "_view_count": null,
            "_view_module": "@jupyter-widgets/base",
            "_view_module_version": "1.2.0",
            "_view_name": "LayoutView",
            "align_content": null,
            "align_items": null,
            "align_self": null,
            "border": null,
            "bottom": null,
            "display": null,
            "flex": null,
            "flex_flow": null,
            "grid_area": null,
            "grid_auto_columns": null,
            "grid_auto_flow": null,
            "grid_auto_rows": null,
            "grid_column": null,
            "grid_gap": null,
            "grid_row": null,
            "grid_template_areas": null,
            "grid_template_columns": null,
            "grid_template_rows": null,
            "height": null,
            "justify_content": null,
            "justify_items": null,
            "left": null,
            "margin": null,
            "max_height": null,
            "max_width": null,
            "min_height": null,
            "min_width": null,
            "object_fit": null,
            "object_position": null,
            "order": null,
            "overflow": null,
            "overflow_x": null,
            "overflow_y": null,
            "padding": null,
            "right": null,
            "top": null,
            "visibility": null,
            "width": null
          }
        },
        "51844bca59d642fabe3e2f77e6d7772c": {
          "model_module": "@jupyter-widgets/controls",
          "model_name": "DescriptionStyleModel",
          "model_module_version": "1.5.0",
          "state": {
            "_model_module": "@jupyter-widgets/controls",
            "_model_module_version": "1.5.0",
            "_model_name": "DescriptionStyleModel",
            "_view_count": null,
            "_view_module": "@jupyter-widgets/base",
            "_view_module_version": "1.2.0",
            "_view_name": "StyleView",
            "description_width": ""
          }
        },
        "9bf7975e19ca449b81d979a69b5812be": {
          "model_module": "@jupyter-widgets/controls",
          "model_name": "HBoxModel",
          "model_module_version": "1.5.0",
          "state": {
            "_dom_classes": [],
            "_model_module": "@jupyter-widgets/controls",
            "_model_module_version": "1.5.0",
            "_model_name": "HBoxModel",
            "_view_count": null,
            "_view_module": "@jupyter-widgets/controls",
            "_view_module_version": "1.5.0",
            "_view_name": "HBoxView",
            "box_style": "",
            "children": [
              "IPY_MODEL_58d583cc04934e3b9af8f5f9df4317c5",
              "IPY_MODEL_544914c507b543de84607e259530f797",
              "IPY_MODEL_09759d3279b746c7a34723c186aadb65"
            ],
            "layout": "IPY_MODEL_3c403f8daca640989c15ec202e057825"
          }
        },
        "58d583cc04934e3b9af8f5f9df4317c5": {
          "model_module": "@jupyter-widgets/controls",
          "model_name": "HTMLModel",
          "model_module_version": "1.5.0",
          "state": {
            "_dom_classes": [],
            "_model_module": "@jupyter-widgets/controls",
            "_model_module_version": "1.5.0",
            "_model_name": "HTMLModel",
            "_view_count": null,
            "_view_module": "@jupyter-widgets/controls",
            "_view_module_version": "1.5.0",
            "_view_name": "HTMLView",
            "description": "",
            "description_tooltip": null,
            "layout": "IPY_MODEL_245d1fe87bd3458ab5887a4efe6139ac",
            "placeholder": "​",
            "style": "IPY_MODEL_11e8d775c12a48a9a6abc7f00ce4af48",
            "value": "Downloading data files: 100%"
          }
        },
        "544914c507b543de84607e259530f797": {
          "model_module": "@jupyter-widgets/controls",
          "model_name": "FloatProgressModel",
          "model_module_version": "1.5.0",
          "state": {
            "_dom_classes": [],
            "_model_module": "@jupyter-widgets/controls",
            "_model_module_version": "1.5.0",
            "_model_name": "FloatProgressModel",
            "_view_count": null,
            "_view_module": "@jupyter-widgets/controls",
            "_view_module_version": "1.5.0",
            "_view_name": "ProgressView",
            "bar_style": "success",
            "description": "",
            "description_tooltip": null,
            "layout": "IPY_MODEL_2869a55cf5e84acb9c75bb84c12bee41",
            "max": 2,
            "min": 0,
            "orientation": "horizontal",
            "style": "IPY_MODEL_294df786dab44602b03990175e344d78",
            "value": 2
          }
        },
        "09759d3279b746c7a34723c186aadb65": {
          "model_module": "@jupyter-widgets/controls",
          "model_name": "HTMLModel",
          "model_module_version": "1.5.0",
          "state": {
            "_dom_classes": [],
            "_model_module": "@jupyter-widgets/controls",
            "_model_module_version": "1.5.0",
            "_model_name": "HTMLModel",
            "_view_count": null,
            "_view_module": "@jupyter-widgets/controls",
            "_view_module_version": "1.5.0",
            "_view_name": "HTMLView",
            "description": "",
            "description_tooltip": null,
            "layout": "IPY_MODEL_ac240de0739d4290a96dcb0de6424709",
            "placeholder": "​",
            "style": "IPY_MODEL_4e74ad48ef4647c08bb448177b06b7c2",
            "value": " 2/2 [00:27&lt;00:00, 11.59s/it]"
          }
        },
        "3c403f8daca640989c15ec202e057825": {
          "model_module": "@jupyter-widgets/base",
          "model_name": "LayoutModel",
          "model_module_version": "1.2.0",
          "state": {
            "_model_module": "@jupyter-widgets/base",
            "_model_module_version": "1.2.0",
            "_model_name": "LayoutModel",
            "_view_count": null,
            "_view_module": "@jupyter-widgets/base",
            "_view_module_version": "1.2.0",
            "_view_name": "LayoutView",
            "align_content": null,
            "align_items": null,
            "align_self": null,
            "border": null,
            "bottom": null,
            "display": null,
            "flex": null,
            "flex_flow": null,
            "grid_area": null,
            "grid_auto_columns": null,
            "grid_auto_flow": null,
            "grid_auto_rows": null,
            "grid_column": null,
            "grid_gap": null,
            "grid_row": null,
            "grid_template_areas": null,
            "grid_template_columns": null,
            "grid_template_rows": null,
            "height": null,
            "justify_content": null,
            "justify_items": null,
            "left": null,
            "margin": null,
            "max_height": null,
            "max_width": null,
            "min_height": null,
            "min_width": null,
            "object_fit": null,
            "object_position": null,
            "order": null,
            "overflow": null,
            "overflow_x": null,
            "overflow_y": null,
            "padding": null,
            "right": null,
            "top": null,
            "visibility": null,
            "width": null
          }
        },
        "245d1fe87bd3458ab5887a4efe6139ac": {
          "model_module": "@jupyter-widgets/base",
          "model_name": "LayoutModel",
          "model_module_version": "1.2.0",
          "state": {
            "_model_module": "@jupyter-widgets/base",
            "_model_module_version": "1.2.0",
            "_model_name": "LayoutModel",
            "_view_count": null,
            "_view_module": "@jupyter-widgets/base",
            "_view_module_version": "1.2.0",
            "_view_name": "LayoutView",
            "align_content": null,
            "align_items": null,
            "align_self": null,
            "border": null,
            "bottom": null,
            "display": null,
            "flex": null,
            "flex_flow": null,
            "grid_area": null,
            "grid_auto_columns": null,
            "grid_auto_flow": null,
            "grid_auto_rows": null,
            "grid_column": null,
            "grid_gap": null,
            "grid_row": null,
            "grid_template_areas": null,
            "grid_template_columns": null,
            "grid_template_rows": null,
            "height": null,
            "justify_content": null,
            "justify_items": null,
            "left": null,
            "margin": null,
            "max_height": null,
            "max_width": null,
            "min_height": null,
            "min_width": null,
            "object_fit": null,
            "object_position": null,
            "order": null,
            "overflow": null,
            "overflow_x": null,
            "overflow_y": null,
            "padding": null,
            "right": null,
            "top": null,
            "visibility": null,
            "width": null
          }
        },
        "11e8d775c12a48a9a6abc7f00ce4af48": {
          "model_module": "@jupyter-widgets/controls",
          "model_name": "DescriptionStyleModel",
          "model_module_version": "1.5.0",
          "state": {
            "_model_module": "@jupyter-widgets/controls",
            "_model_module_version": "1.5.0",
            "_model_name": "DescriptionStyleModel",
            "_view_count": null,
            "_view_module": "@jupyter-widgets/base",
            "_view_module_version": "1.2.0",
            "_view_name": "StyleView",
            "description_width": ""
          }
        },
        "2869a55cf5e84acb9c75bb84c12bee41": {
          "model_module": "@jupyter-widgets/base",
          "model_name": "LayoutModel",
          "model_module_version": "1.2.0",
          "state": {
            "_model_module": "@jupyter-widgets/base",
            "_model_module_version": "1.2.0",
            "_model_name": "LayoutModel",
            "_view_count": null,
            "_view_module": "@jupyter-widgets/base",
            "_view_module_version": "1.2.0",
            "_view_name": "LayoutView",
            "align_content": null,
            "align_items": null,
            "align_self": null,
            "border": null,
            "bottom": null,
            "display": null,
            "flex": null,
            "flex_flow": null,
            "grid_area": null,
            "grid_auto_columns": null,
            "grid_auto_flow": null,
            "grid_auto_rows": null,
            "grid_column": null,
            "grid_gap": null,
            "grid_row": null,
            "grid_template_areas": null,
            "grid_template_columns": null,
            "grid_template_rows": null,
            "height": null,
            "justify_content": null,
            "justify_items": null,
            "left": null,
            "margin": null,
            "max_height": null,
            "max_width": null,
            "min_height": null,
            "min_width": null,
            "object_fit": null,
            "object_position": null,
            "order": null,
            "overflow": null,
            "overflow_x": null,
            "overflow_y": null,
            "padding": null,
            "right": null,
            "top": null,
            "visibility": null,
            "width": null
          }
        },
        "294df786dab44602b03990175e344d78": {
          "model_module": "@jupyter-widgets/controls",
          "model_name": "ProgressStyleModel",
          "model_module_version": "1.5.0",
          "state": {
            "_model_module": "@jupyter-widgets/controls",
            "_model_module_version": "1.5.0",
            "_model_name": "ProgressStyleModel",
            "_view_count": null,
            "_view_module": "@jupyter-widgets/base",
            "_view_module_version": "1.2.0",
            "_view_name": "StyleView",
            "bar_color": null,
            "description_width": ""
          }
        },
        "ac240de0739d4290a96dcb0de6424709": {
          "model_module": "@jupyter-widgets/base",
          "model_name": "LayoutModel",
          "model_module_version": "1.2.0",
          "state": {
            "_model_module": "@jupyter-widgets/base",
            "_model_module_version": "1.2.0",
            "_model_name": "LayoutModel",
            "_view_count": null,
            "_view_module": "@jupyter-widgets/base",
            "_view_module_version": "1.2.0",
            "_view_name": "LayoutView",
            "align_content": null,
            "align_items": null,
            "align_self": null,
            "border": null,
            "bottom": null,
            "display": null,
            "flex": null,
            "flex_flow": null,
            "grid_area": null,
            "grid_auto_columns": null,
            "grid_auto_flow": null,
            "grid_auto_rows": null,
            "grid_column": null,
            "grid_gap": null,
            "grid_row": null,
            "grid_template_areas": null,
            "grid_template_columns": null,
            "grid_template_rows": null,
            "height": null,
            "justify_content": null,
            "justify_items": null,
            "left": null,
            "margin": null,
            "max_height": null,
            "max_width": null,
            "min_height": null,
            "min_width": null,
            "object_fit": null,
            "object_position": null,
            "order": null,
            "overflow": null,
            "overflow_x": null,
            "overflow_y": null,
            "padding": null,
            "right": null,
            "top": null,
            "visibility": null,
            "width": null
          }
        },
        "4e74ad48ef4647c08bb448177b06b7c2": {
          "model_module": "@jupyter-widgets/controls",
          "model_name": "DescriptionStyleModel",
          "model_module_version": "1.5.0",
          "state": {
            "_model_module": "@jupyter-widgets/controls",
            "_model_module_version": "1.5.0",
            "_model_name": "DescriptionStyleModel",
            "_view_count": null,
            "_view_module": "@jupyter-widgets/base",
            "_view_module_version": "1.2.0",
            "_view_name": "StyleView",
            "description_width": ""
          }
        },
        "758781986f604d78bb9bdb6e4586cdf5": {
          "model_module": "@jupyter-widgets/controls",
          "model_name": "HBoxModel",
          "model_module_version": "1.5.0",
          "state": {
            "_dom_classes": [],
            "_model_module": "@jupyter-widgets/controls",
            "_model_module_version": "1.5.0",
            "_model_name": "HBoxModel",
            "_view_count": null,
            "_view_module": "@jupyter-widgets/controls",
            "_view_module_version": "1.5.0",
            "_view_name": "HBoxView",
            "box_style": "",
            "children": [
              "IPY_MODEL_dfc34b308dee4afcad4c20bc174ccb5d",
              "IPY_MODEL_ab3245551e0d42abb8d507bb31ff0c23",
              "IPY_MODEL_9294fbe4de8245ea990a26b745fc3f37"
            ],
            "layout": "IPY_MODEL_2311b3d0dcea4eeab1a7ea158715df54"
          }
        },
        "dfc34b308dee4afcad4c20bc174ccb5d": {
          "model_module": "@jupyter-widgets/controls",
          "model_name": "HTMLModel",
          "model_module_version": "1.5.0",
          "state": {
            "_dom_classes": [],
            "_model_module": "@jupyter-widgets/controls",
            "_model_module_version": "1.5.0",
            "_model_name": "HTMLModel",
            "_view_count": null,
            "_view_module": "@jupyter-widgets/controls",
            "_view_module_version": "1.5.0",
            "_view_name": "HTMLView",
            "description": "",
            "description_tooltip": null,
            "layout": "IPY_MODEL_fa3af4f96ede42b18837a0fba4e69f5e",
            "placeholder": "​",
            "style": "IPY_MODEL_091a9636f81e4aa48576e62ab6d8bd82",
            "value": "Downloading data: 100%"
          }
        },
        "ab3245551e0d42abb8d507bb31ff0c23": {
          "model_module": "@jupyter-widgets/controls",
          "model_name": "FloatProgressModel",
          "model_module_version": "1.5.0",
          "state": {
            "_dom_classes": [],
            "_model_module": "@jupyter-widgets/controls",
            "_model_module_version": "1.5.0",
            "_model_name": "FloatProgressModel",
            "_view_count": null,
            "_view_module": "@jupyter-widgets/controls",
            "_view_module_version": "1.5.0",
            "_view_name": "ProgressView",
            "bar_style": "success",
            "description": "",
            "description_tooltip": null,
            "layout": "IPY_MODEL_fed4438a8d29433090c59da119f21922",
            "max": 1489096277,
            "min": 0,
            "orientation": "horizontal",
            "style": "IPY_MODEL_4cb57e2320e04cfea4cd5aac895bf56d",
            "value": 1489096277
          }
        },
        "9294fbe4de8245ea990a26b745fc3f37": {
          "model_module": "@jupyter-widgets/controls",
          "model_name": "HTMLModel",
          "model_module_version": "1.5.0",
          "state": {
            "_dom_classes": [],
            "_model_module": "@jupyter-widgets/controls",
            "_model_module_version": "1.5.0",
            "_model_name": "HTMLModel",
            "_view_count": null,
            "_view_module": "@jupyter-widgets/controls",
            "_view_module_version": "1.5.0",
            "_view_name": "HTMLView",
            "description": "",
            "description_tooltip": null,
            "layout": "IPY_MODEL_761d529817974b1e8b4613e244daf68e",
            "placeholder": "​",
            "style": "IPY_MODEL_5c9ebb0867984c6caa1fd63cec8d2d2f",
            "value": " 1.49G/1.49G [00:26&lt;00:00, 72.2MB/s]"
          }
        },
        "2311b3d0dcea4eeab1a7ea158715df54": {
          "model_module": "@jupyter-widgets/base",
          "model_name": "LayoutModel",
          "model_module_version": "1.2.0",
          "state": {
            "_model_module": "@jupyter-widgets/base",
            "_model_module_version": "1.2.0",
            "_model_name": "LayoutModel",
            "_view_count": null,
            "_view_module": "@jupyter-widgets/base",
            "_view_module_version": "1.2.0",
            "_view_name": "LayoutView",
            "align_content": null,
            "align_items": null,
            "align_self": null,
            "border": null,
            "bottom": null,
            "display": null,
            "flex": null,
            "flex_flow": null,
            "grid_area": null,
            "grid_auto_columns": null,
            "grid_auto_flow": null,
            "grid_auto_rows": null,
            "grid_column": null,
            "grid_gap": null,
            "grid_row": null,
            "grid_template_areas": null,
            "grid_template_columns": null,
            "grid_template_rows": null,
            "height": null,
            "justify_content": null,
            "justify_items": null,
            "left": null,
            "margin": null,
            "max_height": null,
            "max_width": null,
            "min_height": null,
            "min_width": null,
            "object_fit": null,
            "object_position": null,
            "order": null,
            "overflow": null,
            "overflow_x": null,
            "overflow_y": null,
            "padding": null,
            "right": null,
            "top": null,
            "visibility": null,
            "width": null
          }
        },
        "fa3af4f96ede42b18837a0fba4e69f5e": {
          "model_module": "@jupyter-widgets/base",
          "model_name": "LayoutModel",
          "model_module_version": "1.2.0",
          "state": {
            "_model_module": "@jupyter-widgets/base",
            "_model_module_version": "1.2.0",
            "_model_name": "LayoutModel",
            "_view_count": null,
            "_view_module": "@jupyter-widgets/base",
            "_view_module_version": "1.2.0",
            "_view_name": "LayoutView",
            "align_content": null,
            "align_items": null,
            "align_self": null,
            "border": null,
            "bottom": null,
            "display": null,
            "flex": null,
            "flex_flow": null,
            "grid_area": null,
            "grid_auto_columns": null,
            "grid_auto_flow": null,
            "grid_auto_rows": null,
            "grid_column": null,
            "grid_gap": null,
            "grid_row": null,
            "grid_template_areas": null,
            "grid_template_columns": null,
            "grid_template_rows": null,
            "height": null,
            "justify_content": null,
            "justify_items": null,
            "left": null,
            "margin": null,
            "max_height": null,
            "max_width": null,
            "min_height": null,
            "min_width": null,
            "object_fit": null,
            "object_position": null,
            "order": null,
            "overflow": null,
            "overflow_x": null,
            "overflow_y": null,
            "padding": null,
            "right": null,
            "top": null,
            "visibility": null,
            "width": null
          }
        },
        "091a9636f81e4aa48576e62ab6d8bd82": {
          "model_module": "@jupyter-widgets/controls",
          "model_name": "DescriptionStyleModel",
          "model_module_version": "1.5.0",
          "state": {
            "_model_module": "@jupyter-widgets/controls",
            "_model_module_version": "1.5.0",
            "_model_name": "DescriptionStyleModel",
            "_view_count": null,
            "_view_module": "@jupyter-widgets/base",
            "_view_module_version": "1.2.0",
            "_view_name": "StyleView",
            "description_width": ""
          }
        },
        "fed4438a8d29433090c59da119f21922": {
          "model_module": "@jupyter-widgets/base",
          "model_name": "LayoutModel",
          "model_module_version": "1.2.0",
          "state": {
            "_model_module": "@jupyter-widgets/base",
            "_model_module_version": "1.2.0",
            "_model_name": "LayoutModel",
            "_view_count": null,
            "_view_module": "@jupyter-widgets/base",
            "_view_module_version": "1.2.0",
            "_view_name": "LayoutView",
            "align_content": null,
            "align_items": null,
            "align_self": null,
            "border": null,
            "bottom": null,
            "display": null,
            "flex": null,
            "flex_flow": null,
            "grid_area": null,
            "grid_auto_columns": null,
            "grid_auto_flow": null,
            "grid_auto_rows": null,
            "grid_column": null,
            "grid_gap": null,
            "grid_row": null,
            "grid_template_areas": null,
            "grid_template_columns": null,
            "grid_template_rows": null,
            "height": null,
            "justify_content": null,
            "justify_items": null,
            "left": null,
            "margin": null,
            "max_height": null,
            "max_width": null,
            "min_height": null,
            "min_width": null,
            "object_fit": null,
            "object_position": null,
            "order": null,
            "overflow": null,
            "overflow_x": null,
            "overflow_y": null,
            "padding": null,
            "right": null,
            "top": null,
            "visibility": null,
            "width": null
          }
        },
        "4cb57e2320e04cfea4cd5aac895bf56d": {
          "model_module": "@jupyter-widgets/controls",
          "model_name": "ProgressStyleModel",
          "model_module_version": "1.5.0",
          "state": {
            "_model_module": "@jupyter-widgets/controls",
            "_model_module_version": "1.5.0",
            "_model_name": "ProgressStyleModel",
            "_view_count": null,
            "_view_module": "@jupyter-widgets/base",
            "_view_module_version": "1.2.0",
            "_view_name": "StyleView",
            "bar_color": null,
            "description_width": ""
          }
        },
        "761d529817974b1e8b4613e244daf68e": {
          "model_module": "@jupyter-widgets/base",
          "model_name": "LayoutModel",
          "model_module_version": "1.2.0",
          "state": {
            "_model_module": "@jupyter-widgets/base",
            "_model_module_version": "1.2.0",
            "_model_name": "LayoutModel",
            "_view_count": null,
            "_view_module": "@jupyter-widgets/base",
            "_view_module_version": "1.2.0",
            "_view_name": "LayoutView",
            "align_content": null,
            "align_items": null,
            "align_self": null,
            "border": null,
            "bottom": null,
            "display": null,
            "flex": null,
            "flex_flow": null,
            "grid_area": null,
            "grid_auto_columns": null,
            "grid_auto_flow": null,
            "grid_auto_rows": null,
            "grid_column": null,
            "grid_gap": null,
            "grid_row": null,
            "grid_template_areas": null,
            "grid_template_columns": null,
            "grid_template_rows": null,
            "height": null,
            "justify_content": null,
            "justify_items": null,
            "left": null,
            "margin": null,
            "max_height": null,
            "max_width": null,
            "min_height": null,
            "min_width": null,
            "object_fit": null,
            "object_position": null,
            "order": null,
            "overflow": null,
            "overflow_x": null,
            "overflow_y": null,
            "padding": null,
            "right": null,
            "top": null,
            "visibility": null,
            "width": null
          }
        },
        "5c9ebb0867984c6caa1fd63cec8d2d2f": {
          "model_module": "@jupyter-widgets/controls",
          "model_name": "DescriptionStyleModel",
          "model_module_version": "1.5.0",
          "state": {
            "_model_module": "@jupyter-widgets/controls",
            "_model_module_version": "1.5.0",
            "_model_name": "DescriptionStyleModel",
            "_view_count": null,
            "_view_module": "@jupyter-widgets/base",
            "_view_module_version": "1.2.0",
            "_view_name": "StyleView",
            "description_width": ""
          }
        },
        "e67a8412598a4beaa17bcb886f6aee2d": {
          "model_module": "@jupyter-widgets/controls",
          "model_name": "HBoxModel",
          "model_module_version": "1.5.0",
          "state": {
            "_dom_classes": [],
            "_model_module": "@jupyter-widgets/controls",
            "_model_module_version": "1.5.0",
            "_model_name": "HBoxModel",
            "_view_count": null,
            "_view_module": "@jupyter-widgets/controls",
            "_view_module_version": "1.5.0",
            "_view_name": "HBoxView",
            "box_style": "",
            "children": [
              "IPY_MODEL_5cc7e09947bb47689cd7dfdf13b507ce",
              "IPY_MODEL_39a7f1396f1b48cf9f1a18fdb44edb43",
              "IPY_MODEL_b0e9e3b9cabf46be95c62834b2449ca9"
            ],
            "layout": "IPY_MODEL_84f89d1bd0e14dbf82298db319a6a016"
          }
        },
        "5cc7e09947bb47689cd7dfdf13b507ce": {
          "model_module": "@jupyter-widgets/controls",
          "model_name": "HTMLModel",
          "model_module_version": "1.5.0",
          "state": {
            "_dom_classes": [],
            "_model_module": "@jupyter-widgets/controls",
            "_model_module_version": "1.5.0",
            "_model_name": "HTMLModel",
            "_view_count": null,
            "_view_module": "@jupyter-widgets/controls",
            "_view_module_version": "1.5.0",
            "_view_name": "HTMLView",
            "description": "",
            "description_tooltip": null,
            "layout": "IPY_MODEL_6720da5d2514495eaa6bcd269371647b",
            "placeholder": "​",
            "style": "IPY_MODEL_c14b72a71d1c48dbb907c26dda316ade",
            "value": "Downloading data: 100%"
          }
        },
        "39a7f1396f1b48cf9f1a18fdb44edb43": {
          "model_module": "@jupyter-widgets/controls",
          "model_name": "FloatProgressModel",
          "model_module_version": "1.5.0",
          "state": {
            "_dom_classes": [],
            "_model_module": "@jupyter-widgets/controls",
            "_model_module_version": "1.5.0",
            "_model_name": "FloatProgressModel",
            "_view_count": null,
            "_view_module": "@jupyter-widgets/controls",
            "_view_module_version": "1.5.0",
            "_view_name": "ProgressView",
            "bar_style": "success",
            "description": "",
            "description_tooltip": null,
            "layout": "IPY_MODEL_f040617400d149ffa82b6562facd2a3f",
            "max": 71271436,
            "min": 0,
            "orientation": "horizontal",
            "style": "IPY_MODEL_5fa3efb27df84f8eac13078584ea6c07",
            "value": 71271436
          }
        },
        "b0e9e3b9cabf46be95c62834b2449ca9": {
          "model_module": "@jupyter-widgets/controls",
          "model_name": "HTMLModel",
          "model_module_version": "1.5.0",
          "state": {
            "_dom_classes": [],
            "_model_module": "@jupyter-widgets/controls",
            "_model_module_version": "1.5.0",
            "_model_name": "HTMLModel",
            "_view_count": null,
            "_view_module": "@jupyter-widgets/controls",
            "_view_module_version": "1.5.0",
            "_view_name": "HTMLView",
            "description": "",
            "description_tooltip": null,
            "layout": "IPY_MODEL_08c5539c7ec5422280bdd932602162d7",
            "placeholder": "​",
            "style": "IPY_MODEL_6396d575dd4b418f8a2f3c603c5fa431",
            "value": " 71.3M/71.3M [00:01&lt;00:00, 72.8MB/s]"
          }
        },
        "84f89d1bd0e14dbf82298db319a6a016": {
          "model_module": "@jupyter-widgets/base",
          "model_name": "LayoutModel",
          "model_module_version": "1.2.0",
          "state": {
            "_model_module": "@jupyter-widgets/base",
            "_model_module_version": "1.2.0",
            "_model_name": "LayoutModel",
            "_view_count": null,
            "_view_module": "@jupyter-widgets/base",
            "_view_module_version": "1.2.0",
            "_view_name": "LayoutView",
            "align_content": null,
            "align_items": null,
            "align_self": null,
            "border": null,
            "bottom": null,
            "display": null,
            "flex": null,
            "flex_flow": null,
            "grid_area": null,
            "grid_auto_columns": null,
            "grid_auto_flow": null,
            "grid_auto_rows": null,
            "grid_column": null,
            "grid_gap": null,
            "grid_row": null,
            "grid_template_areas": null,
            "grid_template_columns": null,
            "grid_template_rows": null,
            "height": null,
            "justify_content": null,
            "justify_items": null,
            "left": null,
            "margin": null,
            "max_height": null,
            "max_width": null,
            "min_height": null,
            "min_width": null,
            "object_fit": null,
            "object_position": null,
            "order": null,
            "overflow": null,
            "overflow_x": null,
            "overflow_y": null,
            "padding": null,
            "right": null,
            "top": null,
            "visibility": null,
            "width": null
          }
        },
        "6720da5d2514495eaa6bcd269371647b": {
          "model_module": "@jupyter-widgets/base",
          "model_name": "LayoutModel",
          "model_module_version": "1.2.0",
          "state": {
            "_model_module": "@jupyter-widgets/base",
            "_model_module_version": "1.2.0",
            "_model_name": "LayoutModel",
            "_view_count": null,
            "_view_module": "@jupyter-widgets/base",
            "_view_module_version": "1.2.0",
            "_view_name": "LayoutView",
            "align_content": null,
            "align_items": null,
            "align_self": null,
            "border": null,
            "bottom": null,
            "display": null,
            "flex": null,
            "flex_flow": null,
            "grid_area": null,
            "grid_auto_columns": null,
            "grid_auto_flow": null,
            "grid_auto_rows": null,
            "grid_column": null,
            "grid_gap": null,
            "grid_row": null,
            "grid_template_areas": null,
            "grid_template_columns": null,
            "grid_template_rows": null,
            "height": null,
            "justify_content": null,
            "justify_items": null,
            "left": null,
            "margin": null,
            "max_height": null,
            "max_width": null,
            "min_height": null,
            "min_width": null,
            "object_fit": null,
            "object_position": null,
            "order": null,
            "overflow": null,
            "overflow_x": null,
            "overflow_y": null,
            "padding": null,
            "right": null,
            "top": null,
            "visibility": null,
            "width": null
          }
        },
        "c14b72a71d1c48dbb907c26dda316ade": {
          "model_module": "@jupyter-widgets/controls",
          "model_name": "DescriptionStyleModel",
          "model_module_version": "1.5.0",
          "state": {
            "_model_module": "@jupyter-widgets/controls",
            "_model_module_version": "1.5.0",
            "_model_name": "DescriptionStyleModel",
            "_view_count": null,
            "_view_module": "@jupyter-widgets/base",
            "_view_module_version": "1.2.0",
            "_view_name": "StyleView",
            "description_width": ""
          }
        },
        "f040617400d149ffa82b6562facd2a3f": {
          "model_module": "@jupyter-widgets/base",
          "model_name": "LayoutModel",
          "model_module_version": "1.2.0",
          "state": {
            "_model_module": "@jupyter-widgets/base",
            "_model_module_version": "1.2.0",
            "_model_name": "LayoutModel",
            "_view_count": null,
            "_view_module": "@jupyter-widgets/base",
            "_view_module_version": "1.2.0",
            "_view_name": "LayoutView",
            "align_content": null,
            "align_items": null,
            "align_self": null,
            "border": null,
            "bottom": null,
            "display": null,
            "flex": null,
            "flex_flow": null,
            "grid_area": null,
            "grid_auto_columns": null,
            "grid_auto_flow": null,
            "grid_auto_rows": null,
            "grid_column": null,
            "grid_gap": null,
            "grid_row": null,
            "grid_template_areas": null,
            "grid_template_columns": null,
            "grid_template_rows": null,
            "height": null,
            "justify_content": null,
            "justify_items": null,
            "left": null,
            "margin": null,
            "max_height": null,
            "max_width": null,
            "min_height": null,
            "min_width": null,
            "object_fit": null,
            "object_position": null,
            "order": null,
            "overflow": null,
            "overflow_x": null,
            "overflow_y": null,
            "padding": null,
            "right": null,
            "top": null,
            "visibility": null,
            "width": null
          }
        },
        "5fa3efb27df84f8eac13078584ea6c07": {
          "model_module": "@jupyter-widgets/controls",
          "model_name": "ProgressStyleModel",
          "model_module_version": "1.5.0",
          "state": {
            "_model_module": "@jupyter-widgets/controls",
            "_model_module_version": "1.5.0",
            "_model_name": "ProgressStyleModel",
            "_view_count": null,
            "_view_module": "@jupyter-widgets/base",
            "_view_module_version": "1.2.0",
            "_view_name": "StyleView",
            "bar_color": null,
            "description_width": ""
          }
        },
        "08c5539c7ec5422280bdd932602162d7": {
          "model_module": "@jupyter-widgets/base",
          "model_name": "LayoutModel",
          "model_module_version": "1.2.0",
          "state": {
            "_model_module": "@jupyter-widgets/base",
            "_model_module_version": "1.2.0",
            "_model_name": "LayoutModel",
            "_view_count": null,
            "_view_module": "@jupyter-widgets/base",
            "_view_module_version": "1.2.0",
            "_view_name": "LayoutView",
            "align_content": null,
            "align_items": null,
            "align_self": null,
            "border": null,
            "bottom": null,
            "display": null,
            "flex": null,
            "flex_flow": null,
            "grid_area": null,
            "grid_auto_columns": null,
            "grid_auto_flow": null,
            "grid_auto_rows": null,
            "grid_column": null,
            "grid_gap": null,
            "grid_row": null,
            "grid_template_areas": null,
            "grid_template_columns": null,
            "grid_template_rows": null,
            "height": null,
            "justify_content": null,
            "justify_items": null,
            "left": null,
            "margin": null,
            "max_height": null,
            "max_width": null,
            "min_height": null,
            "min_width": null,
            "object_fit": null,
            "object_position": null,
            "order": null,
            "overflow": null,
            "overflow_x": null,
            "overflow_y": null,
            "padding": null,
            "right": null,
            "top": null,
            "visibility": null,
            "width": null
          }
        },
        "6396d575dd4b418f8a2f3c603c5fa431": {
          "model_module": "@jupyter-widgets/controls",
          "model_name": "DescriptionStyleModel",
          "model_module_version": "1.5.0",
          "state": {
            "_model_module": "@jupyter-widgets/controls",
            "_model_module_version": "1.5.0",
            "_model_name": "DescriptionStyleModel",
            "_view_count": null,
            "_view_module": "@jupyter-widgets/base",
            "_view_module_version": "1.2.0",
            "_view_name": "StyleView",
            "description_width": ""
          }
        },
        "5dbb74e8f8594e57839d557ac5e35604": {
          "model_module": "@jupyter-widgets/controls",
          "model_name": "HBoxModel",
          "model_module_version": "1.5.0",
          "state": {
            "_dom_classes": [],
            "_model_module": "@jupyter-widgets/controls",
            "_model_module_version": "1.5.0",
            "_model_name": "HBoxModel",
            "_view_count": null,
            "_view_module": "@jupyter-widgets/controls",
            "_view_module_version": "1.5.0",
            "_view_name": "HBoxView",
            "box_style": "",
            "children": [
              "IPY_MODEL_81eabbf7ee5a4e90b0d16f9450b78a09",
              "IPY_MODEL_445ca4015b6b45c2aa16df08f8aa2de4",
              "IPY_MODEL_0c7793d49cb242bca2329ed64f2a809c"
            ],
            "layout": "IPY_MODEL_c81f23b6a9ea4a1ab3c5a5d139955b97"
          }
        },
        "81eabbf7ee5a4e90b0d16f9450b78a09": {
          "model_module": "@jupyter-widgets/controls",
          "model_name": "HTMLModel",
          "model_module_version": "1.5.0",
          "state": {
            "_dom_classes": [],
            "_model_module": "@jupyter-widgets/controls",
            "_model_module_version": "1.5.0",
            "_model_name": "HTMLModel",
            "_view_count": null,
            "_view_module": "@jupyter-widgets/controls",
            "_view_module_version": "1.5.0",
            "_view_name": "HTMLView",
            "description": "",
            "description_tooltip": null,
            "layout": "IPY_MODEL_ac4579a61c554515b23e2dbd83b9e706",
            "placeholder": "​",
            "style": "IPY_MODEL_2d0a9089dcea43fdac22cc5355206b16",
            "value": "Extracting data files: 100%"
          }
        },
        "445ca4015b6b45c2aa16df08f8aa2de4": {
          "model_module": "@jupyter-widgets/controls",
          "model_name": "FloatProgressModel",
          "model_module_version": "1.5.0",
          "state": {
            "_dom_classes": [],
            "_model_module": "@jupyter-widgets/controls",
            "_model_module_version": "1.5.0",
            "_model_name": "FloatProgressModel",
            "_view_count": null,
            "_view_module": "@jupyter-widgets/controls",
            "_view_module_version": "1.5.0",
            "_view_name": "ProgressView",
            "bar_style": "success",
            "description": "",
            "description_tooltip": null,
            "layout": "IPY_MODEL_ec571033e3ef4314bd8c19d232a62716",
            "max": 2,
            "min": 0,
            "orientation": "horizontal",
            "style": "IPY_MODEL_9042c5c11eba47de8b5787f186776a15",
            "value": 2
          }
        },
        "0c7793d49cb242bca2329ed64f2a809c": {
          "model_module": "@jupyter-widgets/controls",
          "model_name": "HTMLModel",
          "model_module_version": "1.5.0",
          "state": {
            "_dom_classes": [],
            "_model_module": "@jupyter-widgets/controls",
            "_model_module_version": "1.5.0",
            "_model_name": "HTMLModel",
            "_view_count": null,
            "_view_module": "@jupyter-widgets/controls",
            "_view_module_version": "1.5.0",
            "_view_name": "HTMLView",
            "description": "",
            "description_tooltip": null,
            "layout": "IPY_MODEL_16cd0d80ec8d4598b3c12eb1dde92d0c",
            "placeholder": "​",
            "style": "IPY_MODEL_cb9d3b12a708484fa0dac95cd0fece1f",
            "value": " 2/2 [00:47&lt;00:00, 19.92s/it]"
          }
        },
        "c81f23b6a9ea4a1ab3c5a5d139955b97": {
          "model_module": "@jupyter-widgets/base",
          "model_name": "LayoutModel",
          "model_module_version": "1.2.0",
          "state": {
            "_model_module": "@jupyter-widgets/base",
            "_model_module_version": "1.2.0",
            "_model_name": "LayoutModel",
            "_view_count": null,
            "_view_module": "@jupyter-widgets/base",
            "_view_module_version": "1.2.0",
            "_view_name": "LayoutView",
            "align_content": null,
            "align_items": null,
            "align_self": null,
            "border": null,
            "bottom": null,
            "display": null,
            "flex": null,
            "flex_flow": null,
            "grid_area": null,
            "grid_auto_columns": null,
            "grid_auto_flow": null,
            "grid_auto_rows": null,
            "grid_column": null,
            "grid_gap": null,
            "grid_row": null,
            "grid_template_areas": null,
            "grid_template_columns": null,
            "grid_template_rows": null,
            "height": null,
            "justify_content": null,
            "justify_items": null,
            "left": null,
            "margin": null,
            "max_height": null,
            "max_width": null,
            "min_height": null,
            "min_width": null,
            "object_fit": null,
            "object_position": null,
            "order": null,
            "overflow": null,
            "overflow_x": null,
            "overflow_y": null,
            "padding": null,
            "right": null,
            "top": null,
            "visibility": null,
            "width": null
          }
        },
        "ac4579a61c554515b23e2dbd83b9e706": {
          "model_module": "@jupyter-widgets/base",
          "model_name": "LayoutModel",
          "model_module_version": "1.2.0",
          "state": {
            "_model_module": "@jupyter-widgets/base",
            "_model_module_version": "1.2.0",
            "_model_name": "LayoutModel",
            "_view_count": null,
            "_view_module": "@jupyter-widgets/base",
            "_view_module_version": "1.2.0",
            "_view_name": "LayoutView",
            "align_content": null,
            "align_items": null,
            "align_self": null,
            "border": null,
            "bottom": null,
            "display": null,
            "flex": null,
            "flex_flow": null,
            "grid_area": null,
            "grid_auto_columns": null,
            "grid_auto_flow": null,
            "grid_auto_rows": null,
            "grid_column": null,
            "grid_gap": null,
            "grid_row": null,
            "grid_template_areas": null,
            "grid_template_columns": null,
            "grid_template_rows": null,
            "height": null,
            "justify_content": null,
            "justify_items": null,
            "left": null,
            "margin": null,
            "max_height": null,
            "max_width": null,
            "min_height": null,
            "min_width": null,
            "object_fit": null,
            "object_position": null,
            "order": null,
            "overflow": null,
            "overflow_x": null,
            "overflow_y": null,
            "padding": null,
            "right": null,
            "top": null,
            "visibility": null,
            "width": null
          }
        },
        "2d0a9089dcea43fdac22cc5355206b16": {
          "model_module": "@jupyter-widgets/controls",
          "model_name": "DescriptionStyleModel",
          "model_module_version": "1.5.0",
          "state": {
            "_model_module": "@jupyter-widgets/controls",
            "_model_module_version": "1.5.0",
            "_model_name": "DescriptionStyleModel",
            "_view_count": null,
            "_view_module": "@jupyter-widgets/base",
            "_view_module_version": "1.2.0",
            "_view_name": "StyleView",
            "description_width": ""
          }
        },
        "ec571033e3ef4314bd8c19d232a62716": {
          "model_module": "@jupyter-widgets/base",
          "model_name": "LayoutModel",
          "model_module_version": "1.2.0",
          "state": {
            "_model_module": "@jupyter-widgets/base",
            "_model_module_version": "1.2.0",
            "_model_name": "LayoutModel",
            "_view_count": null,
            "_view_module": "@jupyter-widgets/base",
            "_view_module_version": "1.2.0",
            "_view_name": "LayoutView",
            "align_content": null,
            "align_items": null,
            "align_self": null,
            "border": null,
            "bottom": null,
            "display": null,
            "flex": null,
            "flex_flow": null,
            "grid_area": null,
            "grid_auto_columns": null,
            "grid_auto_flow": null,
            "grid_auto_rows": null,
            "grid_column": null,
            "grid_gap": null,
            "grid_row": null,
            "grid_template_areas": null,
            "grid_template_columns": null,
            "grid_template_rows": null,
            "height": null,
            "justify_content": null,
            "justify_items": null,
            "left": null,
            "margin": null,
            "max_height": null,
            "max_width": null,
            "min_height": null,
            "min_width": null,
            "object_fit": null,
            "object_position": null,
            "order": null,
            "overflow": null,
            "overflow_x": null,
            "overflow_y": null,
            "padding": null,
            "right": null,
            "top": null,
            "visibility": null,
            "width": null
          }
        },
        "9042c5c11eba47de8b5787f186776a15": {
          "model_module": "@jupyter-widgets/controls",
          "model_name": "ProgressStyleModel",
          "model_module_version": "1.5.0",
          "state": {
            "_model_module": "@jupyter-widgets/controls",
            "_model_module_version": "1.5.0",
            "_model_name": "ProgressStyleModel",
            "_view_count": null,
            "_view_module": "@jupyter-widgets/base",
            "_view_module_version": "1.2.0",
            "_view_name": "StyleView",
            "bar_color": null,
            "description_width": ""
          }
        },
        "16cd0d80ec8d4598b3c12eb1dde92d0c": {
          "model_module": "@jupyter-widgets/base",
          "model_name": "LayoutModel",
          "model_module_version": "1.2.0",
          "state": {
            "_model_module": "@jupyter-widgets/base",
            "_model_module_version": "1.2.0",
            "_model_name": "LayoutModel",
            "_view_count": null,
            "_view_module": "@jupyter-widgets/base",
            "_view_module_version": "1.2.0",
            "_view_name": "LayoutView",
            "align_content": null,
            "align_items": null,
            "align_self": null,
            "border": null,
            "bottom": null,
            "display": null,
            "flex": null,
            "flex_flow": null,
            "grid_area": null,
            "grid_auto_columns": null,
            "grid_auto_flow": null,
            "grid_auto_rows": null,
            "grid_column": null,
            "grid_gap": null,
            "grid_row": null,
            "grid_template_areas": null,
            "grid_template_columns": null,
            "grid_template_rows": null,
            "height": null,
            "justify_content": null,
            "justify_items": null,
            "left": null,
            "margin": null,
            "max_height": null,
            "max_width": null,
            "min_height": null,
            "min_width": null,
            "object_fit": null,
            "object_position": null,
            "order": null,
            "overflow": null,
            "overflow_x": null,
            "overflow_y": null,
            "padding": null,
            "right": null,
            "top": null,
            "visibility": null,
            "width": null
          }
        },
        "cb9d3b12a708484fa0dac95cd0fece1f": {
          "model_module": "@jupyter-widgets/controls",
          "model_name": "DescriptionStyleModel",
          "model_module_version": "1.5.0",
          "state": {
            "_model_module": "@jupyter-widgets/controls",
            "_model_module_version": "1.5.0",
            "_model_name": "DescriptionStyleModel",
            "_view_count": null,
            "_view_module": "@jupyter-widgets/base",
            "_view_module_version": "1.2.0",
            "_view_name": "StyleView",
            "description_width": ""
          }
        },
        "7fa3ab159fe14a749bda21a4eea33a37": {
          "model_module": "@jupyter-widgets/controls",
          "model_name": "HBoxModel",
          "model_module_version": "1.5.0",
          "state": {
            "_dom_classes": [],
            "_model_module": "@jupyter-widgets/controls",
            "_model_module_version": "1.5.0",
            "_model_name": "HBoxModel",
            "_view_count": null,
            "_view_module": "@jupyter-widgets/controls",
            "_view_module_version": "1.5.0",
            "_view_name": "HBoxView",
            "box_style": "",
            "children": [
              "IPY_MODEL_b717e96d4ee04abea8ba16f03776d116",
              "IPY_MODEL_af1ca50845f14885b72d9fa04d940516",
              "IPY_MODEL_9f0281d7a61347b09741c4d18e8211f9"
            ],
            "layout": "IPY_MODEL_dce49a8ecbe34ac4a08c6f23b79344ff"
          }
        },
        "b717e96d4ee04abea8ba16f03776d116": {
          "model_module": "@jupyter-widgets/controls",
          "model_name": "HTMLModel",
          "model_module_version": "1.5.0",
          "state": {
            "_dom_classes": [],
            "_model_module": "@jupyter-widgets/controls",
            "_model_module_version": "1.5.0",
            "_model_name": "HTMLModel",
            "_view_count": null,
            "_view_module": "@jupyter-widgets/controls",
            "_view_module_version": "1.5.0",
            "_view_name": "HTMLView",
            "description": "",
            "description_tooltip": null,
            "layout": "IPY_MODEL_5e4c9d001f5c4321b05984949d7c07ad",
            "placeholder": "​",
            "style": "IPY_MODEL_00c7421ee4b7427caad2ef117a8c4d2b",
            "value": "Generating train split: 100%"
          }
        },
        "af1ca50845f14885b72d9fa04d940516": {
          "model_module": "@jupyter-widgets/controls",
          "model_name": "FloatProgressModel",
          "model_module_version": "1.5.0",
          "state": {
            "_dom_classes": [],
            "_model_module": "@jupyter-widgets/controls",
            "_model_module_version": "1.5.0",
            "_model_name": "FloatProgressModel",
            "_view_count": null,
            "_view_module": "@jupyter-widgets/controls",
            "_view_module_version": "1.5.0",
            "_view_name": "ProgressView",
            "bar_style": "",
            "description": "",
            "description_tooltip": null,
            "layout": "IPY_MODEL_2cc65440ee364083994ad659960d0151",
            "max": 51094,
            "min": 0,
            "orientation": "horizontal",
            "style": "IPY_MODEL_7659e1448f25418b95d22571ac14b976",
            "value": 51094
          }
        },
        "9f0281d7a61347b09741c4d18e8211f9": {
          "model_module": "@jupyter-widgets/controls",
          "model_name": "HTMLModel",
          "model_module_version": "1.5.0",
          "state": {
            "_dom_classes": [],
            "_model_module": "@jupyter-widgets/controls",
            "_model_module_version": "1.5.0",
            "_model_name": "HTMLModel",
            "_view_count": null,
            "_view_module": "@jupyter-widgets/controls",
            "_view_module_version": "1.5.0",
            "_view_name": "HTMLView",
            "description": "",
            "description_tooltip": null,
            "layout": "IPY_MODEL_d35f20cb82e04836b6de8651efb077c6",
            "placeholder": "​",
            "style": "IPY_MODEL_f10747c214514b17aef3f12b78597b9f",
            "value": " 51094/51094 [00:23&lt;00:00, 11610.80 examples/s]"
          }
        },
        "dce49a8ecbe34ac4a08c6f23b79344ff": {
          "model_module": "@jupyter-widgets/base",
          "model_name": "LayoutModel",
          "model_module_version": "1.2.0",
          "state": {
            "_model_module": "@jupyter-widgets/base",
            "_model_module_version": "1.2.0",
            "_model_name": "LayoutModel",
            "_view_count": null,
            "_view_module": "@jupyter-widgets/base",
            "_view_module_version": "1.2.0",
            "_view_name": "LayoutView",
            "align_content": null,
            "align_items": null,
            "align_self": null,
            "border": null,
            "bottom": null,
            "display": null,
            "flex": null,
            "flex_flow": null,
            "grid_area": null,
            "grid_auto_columns": null,
            "grid_auto_flow": null,
            "grid_auto_rows": null,
            "grid_column": null,
            "grid_gap": null,
            "grid_row": null,
            "grid_template_areas": null,
            "grid_template_columns": null,
            "grid_template_rows": null,
            "height": null,
            "justify_content": null,
            "justify_items": null,
            "left": null,
            "margin": null,
            "max_height": null,
            "max_width": null,
            "min_height": null,
            "min_width": null,
            "object_fit": null,
            "object_position": null,
            "order": null,
            "overflow": null,
            "overflow_x": null,
            "overflow_y": null,
            "padding": null,
            "right": null,
            "top": null,
            "visibility": "hidden",
            "width": null
          }
        },
        "5e4c9d001f5c4321b05984949d7c07ad": {
          "model_module": "@jupyter-widgets/base",
          "model_name": "LayoutModel",
          "model_module_version": "1.2.0",
          "state": {
            "_model_module": "@jupyter-widgets/base",
            "_model_module_version": "1.2.0",
            "_model_name": "LayoutModel",
            "_view_count": null,
            "_view_module": "@jupyter-widgets/base",
            "_view_module_version": "1.2.0",
            "_view_name": "LayoutView",
            "align_content": null,
            "align_items": null,
            "align_self": null,
            "border": null,
            "bottom": null,
            "display": null,
            "flex": null,
            "flex_flow": null,
            "grid_area": null,
            "grid_auto_columns": null,
            "grid_auto_flow": null,
            "grid_auto_rows": null,
            "grid_column": null,
            "grid_gap": null,
            "grid_row": null,
            "grid_template_areas": null,
            "grid_template_columns": null,
            "grid_template_rows": null,
            "height": null,
            "justify_content": null,
            "justify_items": null,
            "left": null,
            "margin": null,
            "max_height": null,
            "max_width": null,
            "min_height": null,
            "min_width": null,
            "object_fit": null,
            "object_position": null,
            "order": null,
            "overflow": null,
            "overflow_x": null,
            "overflow_y": null,
            "padding": null,
            "right": null,
            "top": null,
            "visibility": null,
            "width": null
          }
        },
        "00c7421ee4b7427caad2ef117a8c4d2b": {
          "model_module": "@jupyter-widgets/controls",
          "model_name": "DescriptionStyleModel",
          "model_module_version": "1.5.0",
          "state": {
            "_model_module": "@jupyter-widgets/controls",
            "_model_module_version": "1.5.0",
            "_model_name": "DescriptionStyleModel",
            "_view_count": null,
            "_view_module": "@jupyter-widgets/base",
            "_view_module_version": "1.2.0",
            "_view_name": "StyleView",
            "description_width": ""
          }
        },
        "2cc65440ee364083994ad659960d0151": {
          "model_module": "@jupyter-widgets/base",
          "model_name": "LayoutModel",
          "model_module_version": "1.2.0",
          "state": {
            "_model_module": "@jupyter-widgets/base",
            "_model_module_version": "1.2.0",
            "_model_name": "LayoutModel",
            "_view_count": null,
            "_view_module": "@jupyter-widgets/base",
            "_view_module_version": "1.2.0",
            "_view_name": "LayoutView",
            "align_content": null,
            "align_items": null,
            "align_self": null,
            "border": null,
            "bottom": null,
            "display": null,
            "flex": null,
            "flex_flow": null,
            "grid_area": null,
            "grid_auto_columns": null,
            "grid_auto_flow": null,
            "grid_auto_rows": null,
            "grid_column": null,
            "grid_gap": null,
            "grid_row": null,
            "grid_template_areas": null,
            "grid_template_columns": null,
            "grid_template_rows": null,
            "height": null,
            "justify_content": null,
            "justify_items": null,
            "left": null,
            "margin": null,
            "max_height": null,
            "max_width": null,
            "min_height": null,
            "min_width": null,
            "object_fit": null,
            "object_position": null,
            "order": null,
            "overflow": null,
            "overflow_x": null,
            "overflow_y": null,
            "padding": null,
            "right": null,
            "top": null,
            "visibility": null,
            "width": null
          }
        },
        "7659e1448f25418b95d22571ac14b976": {
          "model_module": "@jupyter-widgets/controls",
          "model_name": "ProgressStyleModel",
          "model_module_version": "1.5.0",
          "state": {
            "_model_module": "@jupyter-widgets/controls",
            "_model_module_version": "1.5.0",
            "_model_name": "ProgressStyleModel",
            "_view_count": null,
            "_view_module": "@jupyter-widgets/base",
            "_view_module_version": "1.2.0",
            "_view_name": "StyleView",
            "bar_color": null,
            "description_width": ""
          }
        },
        "d35f20cb82e04836b6de8651efb077c6": {
          "model_module": "@jupyter-widgets/base",
          "model_name": "LayoutModel",
          "model_module_version": "1.2.0",
          "state": {
            "_model_module": "@jupyter-widgets/base",
            "_model_module_version": "1.2.0",
            "_model_name": "LayoutModel",
            "_view_count": null,
            "_view_module": "@jupyter-widgets/base",
            "_view_module_version": "1.2.0",
            "_view_name": "LayoutView",
            "align_content": null,
            "align_items": null,
            "align_self": null,
            "border": null,
            "bottom": null,
            "display": null,
            "flex": null,
            "flex_flow": null,
            "grid_area": null,
            "grid_auto_columns": null,
            "grid_auto_flow": null,
            "grid_auto_rows": null,
            "grid_column": null,
            "grid_gap": null,
            "grid_row": null,
            "grid_template_areas": null,
            "grid_template_columns": null,
            "grid_template_rows": null,
            "height": null,
            "justify_content": null,
            "justify_items": null,
            "left": null,
            "margin": null,
            "max_height": null,
            "max_width": null,
            "min_height": null,
            "min_width": null,
            "object_fit": null,
            "object_position": null,
            "order": null,
            "overflow": null,
            "overflow_x": null,
            "overflow_y": null,
            "padding": null,
            "right": null,
            "top": null,
            "visibility": null,
            "width": null
          }
        },
        "f10747c214514b17aef3f12b78597b9f": {
          "model_module": "@jupyter-widgets/controls",
          "model_name": "DescriptionStyleModel",
          "model_module_version": "1.5.0",
          "state": {
            "_model_module": "@jupyter-widgets/controls",
            "_model_module_version": "1.5.0",
            "_model_name": "DescriptionStyleModel",
            "_view_count": null,
            "_view_module": "@jupyter-widgets/base",
            "_view_module_version": "1.2.0",
            "_view_name": "StyleView",
            "description_width": ""
          }
        },
        "a6424127296e43fdabd068b030a1ce8b": {
          "model_module": "@jupyter-widgets/controls",
          "model_name": "HBoxModel",
          "model_module_version": "1.5.0",
          "state": {
            "_dom_classes": [],
            "_model_module": "@jupyter-widgets/controls",
            "_model_module_version": "1.5.0",
            "_model_name": "HBoxModel",
            "_view_count": null,
            "_view_module": "@jupyter-widgets/controls",
            "_view_module_version": "1.5.0",
            "_view_name": "HBoxView",
            "box_style": "",
            "children": [
              "IPY_MODEL_a44abcf075854710b50ae69ba4666807",
              "IPY_MODEL_77705a40824940028e3d96f25acc7999",
              "IPY_MODEL_3e51a8cbd02c439e904607984599d154"
            ],
            "layout": "IPY_MODEL_a453a6371af24c72a6e85ac859da75c5"
          }
        },
        "a44abcf075854710b50ae69ba4666807": {
          "model_module": "@jupyter-widgets/controls",
          "model_name": "HTMLModel",
          "model_module_version": "1.5.0",
          "state": {
            "_dom_classes": [],
            "_model_module": "@jupyter-widgets/controls",
            "_model_module_version": "1.5.0",
            "_model_name": "HTMLModel",
            "_view_count": null,
            "_view_module": "@jupyter-widgets/controls",
            "_view_module_version": "1.5.0",
            "_view_name": "HTMLView",
            "description": "",
            "description_tooltip": null,
            "layout": "IPY_MODEL_7b59e8bbb72a41d8887835a1a79fbdb3",
            "placeholder": "​",
            "style": "IPY_MODEL_552f3bb8b9ab462d8e960e28f3b0b5a8",
            "value": "Generating validation split: 100%"
          }
        },
        "77705a40824940028e3d96f25acc7999": {
          "model_module": "@jupyter-widgets/controls",
          "model_name": "FloatProgressModel",
          "model_module_version": "1.5.0",
          "state": {
            "_dom_classes": [],
            "_model_module": "@jupyter-widgets/controls",
            "_model_module_version": "1.5.0",
            "_model_name": "FloatProgressModel",
            "_view_count": null,
            "_view_module": "@jupyter-widgets/controls",
            "_view_module_version": "1.5.0",
            "_view_name": "ProgressView",
            "bar_style": "",
            "description": "",
            "description_tooltip": null,
            "layout": "IPY_MODEL_e3868a01a2d340e189b74ecef6dbf08c",
            "max": 6798,
            "min": 0,
            "orientation": "horizontal",
            "style": "IPY_MODEL_d6a9641c8c04410a8b44e27ddba471cc",
            "value": 6798
          }
        },
        "3e51a8cbd02c439e904607984599d154": {
          "model_module": "@jupyter-widgets/controls",
          "model_name": "HTMLModel",
          "model_module_version": "1.5.0",
          "state": {
            "_dom_classes": [],
            "_model_module": "@jupyter-widgets/controls",
            "_model_module_version": "1.5.0",
            "_model_name": "HTMLModel",
            "_view_count": null,
            "_view_module": "@jupyter-widgets/controls",
            "_view_module_version": "1.5.0",
            "_view_name": "HTMLView",
            "description": "",
            "description_tooltip": null,
            "layout": "IPY_MODEL_fc320038499047f9b5e17bbde9b8a70c",
            "placeholder": "​",
            "style": "IPY_MODEL_fecb5931f754486bb33a71a127f84507",
            "value": " 6798/6798 [00:17&lt;00:00, 9728.48 examples/s]"
          }
        },
        "a453a6371af24c72a6e85ac859da75c5": {
          "model_module": "@jupyter-widgets/base",
          "model_name": "LayoutModel",
          "model_module_version": "1.2.0",
          "state": {
            "_model_module": "@jupyter-widgets/base",
            "_model_module_version": "1.2.0",
            "_model_name": "LayoutModel",
            "_view_count": null,
            "_view_module": "@jupyter-widgets/base",
            "_view_module_version": "1.2.0",
            "_view_name": "LayoutView",
            "align_content": null,
            "align_items": null,
            "align_self": null,
            "border": null,
            "bottom": null,
            "display": null,
            "flex": null,
            "flex_flow": null,
            "grid_area": null,
            "grid_auto_columns": null,
            "grid_auto_flow": null,
            "grid_auto_rows": null,
            "grid_column": null,
            "grid_gap": null,
            "grid_row": null,
            "grid_template_areas": null,
            "grid_template_columns": null,
            "grid_template_rows": null,
            "height": null,
            "justify_content": null,
            "justify_items": null,
            "left": null,
            "margin": null,
            "max_height": null,
            "max_width": null,
            "min_height": null,
            "min_width": null,
            "object_fit": null,
            "object_position": null,
            "order": null,
            "overflow": null,
            "overflow_x": null,
            "overflow_y": null,
            "padding": null,
            "right": null,
            "top": null,
            "visibility": "hidden",
            "width": null
          }
        },
        "7b59e8bbb72a41d8887835a1a79fbdb3": {
          "model_module": "@jupyter-widgets/base",
          "model_name": "LayoutModel",
          "model_module_version": "1.2.0",
          "state": {
            "_model_module": "@jupyter-widgets/base",
            "_model_module_version": "1.2.0",
            "_model_name": "LayoutModel",
            "_view_count": null,
            "_view_module": "@jupyter-widgets/base",
            "_view_module_version": "1.2.0",
            "_view_name": "LayoutView",
            "align_content": null,
            "align_items": null,
            "align_self": null,
            "border": null,
            "bottom": null,
            "display": null,
            "flex": null,
            "flex_flow": null,
            "grid_area": null,
            "grid_auto_columns": null,
            "grid_auto_flow": null,
            "grid_auto_rows": null,
            "grid_column": null,
            "grid_gap": null,
            "grid_row": null,
            "grid_template_areas": null,
            "grid_template_columns": null,
            "grid_template_rows": null,
            "height": null,
            "justify_content": null,
            "justify_items": null,
            "left": null,
            "margin": null,
            "max_height": null,
            "max_width": null,
            "min_height": null,
            "min_width": null,
            "object_fit": null,
            "object_position": null,
            "order": null,
            "overflow": null,
            "overflow_x": null,
            "overflow_y": null,
            "padding": null,
            "right": null,
            "top": null,
            "visibility": null,
            "width": null
          }
        },
        "552f3bb8b9ab462d8e960e28f3b0b5a8": {
          "model_module": "@jupyter-widgets/controls",
          "model_name": "DescriptionStyleModel",
          "model_module_version": "1.5.0",
          "state": {
            "_model_module": "@jupyter-widgets/controls",
            "_model_module_version": "1.5.0",
            "_model_name": "DescriptionStyleModel",
            "_view_count": null,
            "_view_module": "@jupyter-widgets/base",
            "_view_module_version": "1.2.0",
            "_view_name": "StyleView",
            "description_width": ""
          }
        },
        "e3868a01a2d340e189b74ecef6dbf08c": {
          "model_module": "@jupyter-widgets/base",
          "model_name": "LayoutModel",
          "model_module_version": "1.2.0",
          "state": {
            "_model_module": "@jupyter-widgets/base",
            "_model_module_version": "1.2.0",
            "_model_name": "LayoutModel",
            "_view_count": null,
            "_view_module": "@jupyter-widgets/base",
            "_view_module_version": "1.2.0",
            "_view_name": "LayoutView",
            "align_content": null,
            "align_items": null,
            "align_self": null,
            "border": null,
            "bottom": null,
            "display": null,
            "flex": null,
            "flex_flow": null,
            "grid_area": null,
            "grid_auto_columns": null,
            "grid_auto_flow": null,
            "grid_auto_rows": null,
            "grid_column": null,
            "grid_gap": null,
            "grid_row": null,
            "grid_template_areas": null,
            "grid_template_columns": null,
            "grid_template_rows": null,
            "height": null,
            "justify_content": null,
            "justify_items": null,
            "left": null,
            "margin": null,
            "max_height": null,
            "max_width": null,
            "min_height": null,
            "min_width": null,
            "object_fit": null,
            "object_position": null,
            "order": null,
            "overflow": null,
            "overflow_x": null,
            "overflow_y": null,
            "padding": null,
            "right": null,
            "top": null,
            "visibility": null,
            "width": null
          }
        },
        "d6a9641c8c04410a8b44e27ddba471cc": {
          "model_module": "@jupyter-widgets/controls",
          "model_name": "ProgressStyleModel",
          "model_module_version": "1.5.0",
          "state": {
            "_model_module": "@jupyter-widgets/controls",
            "_model_module_version": "1.5.0",
            "_model_name": "ProgressStyleModel",
            "_view_count": null,
            "_view_module": "@jupyter-widgets/base",
            "_view_module_version": "1.2.0",
            "_view_name": "StyleView",
            "bar_color": null,
            "description_width": ""
          }
        },
        "fc320038499047f9b5e17bbde9b8a70c": {
          "model_module": "@jupyter-widgets/base",
          "model_name": "LayoutModel",
          "model_module_version": "1.2.0",
          "state": {
            "_model_module": "@jupyter-widgets/base",
            "_model_module_version": "1.2.0",
            "_model_name": "LayoutModel",
            "_view_count": null,
            "_view_module": "@jupyter-widgets/base",
            "_view_module_version": "1.2.0",
            "_view_name": "LayoutView",
            "align_content": null,
            "align_items": null,
            "align_self": null,
            "border": null,
            "bottom": null,
            "display": null,
            "flex": null,
            "flex_flow": null,
            "grid_area": null,
            "grid_auto_columns": null,
            "grid_auto_flow": null,
            "grid_auto_rows": null,
            "grid_column": null,
            "grid_gap": null,
            "grid_row": null,
            "grid_template_areas": null,
            "grid_template_columns": null,
            "grid_template_rows": null,
            "height": null,
            "justify_content": null,
            "justify_items": null,
            "left": null,
            "margin": null,
            "max_height": null,
            "max_width": null,
            "min_height": null,
            "min_width": null,
            "object_fit": null,
            "object_position": null,
            "order": null,
            "overflow": null,
            "overflow_x": null,
            "overflow_y": null,
            "padding": null,
            "right": null,
            "top": null,
            "visibility": null,
            "width": null
          }
        },
        "fecb5931f754486bb33a71a127f84507": {
          "model_module": "@jupyter-widgets/controls",
          "model_name": "DescriptionStyleModel",
          "model_module_version": "1.5.0",
          "state": {
            "_model_module": "@jupyter-widgets/controls",
            "_model_module_version": "1.5.0",
            "_model_name": "DescriptionStyleModel",
            "_view_count": null,
            "_view_module": "@jupyter-widgets/base",
            "_view_module_version": "1.2.0",
            "_view_name": "StyleView",
            "description_width": ""
          }
        },
        "c0c211540f0243e2b72bc3cdf89371f7": {
          "model_module": "@jupyter-widgets/controls",
          "model_name": "HBoxModel",
          "model_module_version": "1.5.0",
          "state": {
            "_dom_classes": [],
            "_model_module": "@jupyter-widgets/controls",
            "_model_module_version": "1.5.0",
            "_model_name": "HBoxModel",
            "_view_count": null,
            "_view_module": "@jupyter-widgets/controls",
            "_view_module_version": "1.5.0",
            "_view_name": "HBoxView",
            "box_style": "",
            "children": [
              "IPY_MODEL_7f53887282684b7d8b18b3389ab37c24",
              "IPY_MODEL_6002451b90c340dcbb0f30769b4d3edc",
              "IPY_MODEL_223117b797204f4a848ff765764ce9b9"
            ],
            "layout": "IPY_MODEL_7eb0e603c1c94eee8aa6ea15d04ae357"
          }
        },
        "7f53887282684b7d8b18b3389ab37c24": {
          "model_module": "@jupyter-widgets/controls",
          "model_name": "HTMLModel",
          "model_module_version": "1.5.0",
          "state": {
            "_dom_classes": [],
            "_model_module": "@jupyter-widgets/controls",
            "_model_module_version": "1.5.0",
            "_model_name": "HTMLModel",
            "_view_count": null,
            "_view_module": "@jupyter-widgets/controls",
            "_view_module_version": "1.5.0",
            "_view_name": "HTMLView",
            "description": "",
            "description_tooltip": null,
            "layout": "IPY_MODEL_bc175cf55e59456aa72a7f2544ac23c1",
            "placeholder": "​",
            "style": "IPY_MODEL_249ad0c7a5c64ed59d33e38973595087",
            "value": "Generating test split: 100%"
          }
        },
        "6002451b90c340dcbb0f30769b4d3edc": {
          "model_module": "@jupyter-widgets/controls",
          "model_name": "FloatProgressModel",
          "model_module_version": "1.5.0",
          "state": {
            "_dom_classes": [],
            "_model_module": "@jupyter-widgets/controls",
            "_model_module_version": "1.5.0",
            "_model_name": "FloatProgressModel",
            "_view_count": null,
            "_view_module": "@jupyter-widgets/controls",
            "_view_module_version": "1.5.0",
            "_view_name": "ProgressView",
            "bar_style": "",
            "description": "",
            "description_tooltip": null,
            "layout": "IPY_MODEL_dea81d098a30484890fc4517c756fb9d",
            "max": 3081,
            "min": 0,
            "orientation": "horizontal",
            "style": "IPY_MODEL_ac6030bd38be4d3e8c2cfcf115091866",
            "value": 3081
          }
        },
        "223117b797204f4a848ff765764ce9b9": {
          "model_module": "@jupyter-widgets/controls",
          "model_name": "HTMLModel",
          "model_module_version": "1.5.0",
          "state": {
            "_dom_classes": [],
            "_model_module": "@jupyter-widgets/controls",
            "_model_module_version": "1.5.0",
            "_model_name": "HTMLModel",
            "_view_count": null,
            "_view_module": "@jupyter-widgets/controls",
            "_view_module_version": "1.5.0",
            "_view_name": "HTMLView",
            "description": "",
            "description_tooltip": null,
            "layout": "IPY_MODEL_ab3a68d29b4f4bfbafd7bb6827520e36",
            "placeholder": "​",
            "style": "IPY_MODEL_04c6d1b2f1fc4df4bda6aaa66a186204",
            "value": " 3081/3081 [00:16&lt;00:00, 10100.11 examples/s]"
          }
        },
        "7eb0e603c1c94eee8aa6ea15d04ae357": {
          "model_module": "@jupyter-widgets/base",
          "model_name": "LayoutModel",
          "model_module_version": "1.2.0",
          "state": {
            "_model_module": "@jupyter-widgets/base",
            "_model_module_version": "1.2.0",
            "_model_name": "LayoutModel",
            "_view_count": null,
            "_view_module": "@jupyter-widgets/base",
            "_view_module_version": "1.2.0",
            "_view_name": "LayoutView",
            "align_content": null,
            "align_items": null,
            "align_self": null,
            "border": null,
            "bottom": null,
            "display": null,
            "flex": null,
            "flex_flow": null,
            "grid_area": null,
            "grid_auto_columns": null,
            "grid_auto_flow": null,
            "grid_auto_rows": null,
            "grid_column": null,
            "grid_gap": null,
            "grid_row": null,
            "grid_template_areas": null,
            "grid_template_columns": null,
            "grid_template_rows": null,
            "height": null,
            "justify_content": null,
            "justify_items": null,
            "left": null,
            "margin": null,
            "max_height": null,
            "max_width": null,
            "min_height": null,
            "min_width": null,
            "object_fit": null,
            "object_position": null,
            "order": null,
            "overflow": null,
            "overflow_x": null,
            "overflow_y": null,
            "padding": null,
            "right": null,
            "top": null,
            "visibility": "hidden",
            "width": null
          }
        },
        "bc175cf55e59456aa72a7f2544ac23c1": {
          "model_module": "@jupyter-widgets/base",
          "model_name": "LayoutModel",
          "model_module_version": "1.2.0",
          "state": {
            "_model_module": "@jupyter-widgets/base",
            "_model_module_version": "1.2.0",
            "_model_name": "LayoutModel",
            "_view_count": null,
            "_view_module": "@jupyter-widgets/base",
            "_view_module_version": "1.2.0",
            "_view_name": "LayoutView",
            "align_content": null,
            "align_items": null,
            "align_self": null,
            "border": null,
            "bottom": null,
            "display": null,
            "flex": null,
            "flex_flow": null,
            "grid_area": null,
            "grid_auto_columns": null,
            "grid_auto_flow": null,
            "grid_auto_rows": null,
            "grid_column": null,
            "grid_gap": null,
            "grid_row": null,
            "grid_template_areas": null,
            "grid_template_columns": null,
            "grid_template_rows": null,
            "height": null,
            "justify_content": null,
            "justify_items": null,
            "left": null,
            "margin": null,
            "max_height": null,
            "max_width": null,
            "min_height": null,
            "min_width": null,
            "object_fit": null,
            "object_position": null,
            "order": null,
            "overflow": null,
            "overflow_x": null,
            "overflow_y": null,
            "padding": null,
            "right": null,
            "top": null,
            "visibility": null,
            "width": null
          }
        },
        "249ad0c7a5c64ed59d33e38973595087": {
          "model_module": "@jupyter-widgets/controls",
          "model_name": "DescriptionStyleModel",
          "model_module_version": "1.5.0",
          "state": {
            "_model_module": "@jupyter-widgets/controls",
            "_model_module_version": "1.5.0",
            "_model_name": "DescriptionStyleModel",
            "_view_count": null,
            "_view_module": "@jupyter-widgets/base",
            "_view_module_version": "1.2.0",
            "_view_name": "StyleView",
            "description_width": ""
          }
        },
        "dea81d098a30484890fc4517c756fb9d": {
          "model_module": "@jupyter-widgets/base",
          "model_name": "LayoutModel",
          "model_module_version": "1.2.0",
          "state": {
            "_model_module": "@jupyter-widgets/base",
            "_model_module_version": "1.2.0",
            "_model_name": "LayoutModel",
            "_view_count": null,
            "_view_module": "@jupyter-widgets/base",
            "_view_module_version": "1.2.0",
            "_view_name": "LayoutView",
            "align_content": null,
            "align_items": null,
            "align_self": null,
            "border": null,
            "bottom": null,
            "display": null,
            "flex": null,
            "flex_flow": null,
            "grid_area": null,
            "grid_auto_columns": null,
            "grid_auto_flow": null,
            "grid_auto_rows": null,
            "grid_column": null,
            "grid_gap": null,
            "grid_row": null,
            "grid_template_areas": null,
            "grid_template_columns": null,
            "grid_template_rows": null,
            "height": null,
            "justify_content": null,
            "justify_items": null,
            "left": null,
            "margin": null,
            "max_height": null,
            "max_width": null,
            "min_height": null,
            "min_width": null,
            "object_fit": null,
            "object_position": null,
            "order": null,
            "overflow": null,
            "overflow_x": null,
            "overflow_y": null,
            "padding": null,
            "right": null,
            "top": null,
            "visibility": null,
            "width": null
          }
        },
        "ac6030bd38be4d3e8c2cfcf115091866": {
          "model_module": "@jupyter-widgets/controls",
          "model_name": "ProgressStyleModel",
          "model_module_version": "1.5.0",
          "state": {
            "_model_module": "@jupyter-widgets/controls",
            "_model_module_version": "1.5.0",
            "_model_name": "ProgressStyleModel",
            "_view_count": null,
            "_view_module": "@jupyter-widgets/base",
            "_view_module_version": "1.2.0",
            "_view_name": "StyleView",
            "bar_color": null,
            "description_width": ""
          }
        },
        "ab3a68d29b4f4bfbafd7bb6827520e36": {
          "model_module": "@jupyter-widgets/base",
          "model_name": "LayoutModel",
          "model_module_version": "1.2.0",
          "state": {
            "_model_module": "@jupyter-widgets/base",
            "_model_module_version": "1.2.0",
            "_model_name": "LayoutModel",
            "_view_count": null,
            "_view_module": "@jupyter-widgets/base",
            "_view_module_version": "1.2.0",
            "_view_name": "LayoutView",
            "align_content": null,
            "align_items": null,
            "align_self": null,
            "border": null,
            "bottom": null,
            "display": null,
            "flex": null,
            "flex_flow": null,
            "grid_area": null,
            "grid_auto_columns": null,
            "grid_auto_flow": null,
            "grid_auto_rows": null,
            "grid_column": null,
            "grid_gap": null,
            "grid_row": null,
            "grid_template_areas": null,
            "grid_template_columns": null,
            "grid_template_rows": null,
            "height": null,
            "justify_content": null,
            "justify_items": null,
            "left": null,
            "margin": null,
            "max_height": null,
            "max_width": null,
            "min_height": null,
            "min_width": null,
            "object_fit": null,
            "object_position": null,
            "order": null,
            "overflow": null,
            "overflow_x": null,
            "overflow_y": null,
            "padding": null,
            "right": null,
            "top": null,
            "visibility": null,
            "width": null
          }
        },
        "04c6d1b2f1fc4df4bda6aaa66a186204": {
          "model_module": "@jupyter-widgets/controls",
          "model_name": "DescriptionStyleModel",
          "model_module_version": "1.5.0",
          "state": {
            "_model_module": "@jupyter-widgets/controls",
            "_model_module_version": "1.5.0",
            "_model_name": "DescriptionStyleModel",
            "_view_count": null,
            "_view_module": "@jupyter-widgets/base",
            "_view_module_version": "1.2.0",
            "_view_name": "StyleView",
            "description_width": ""
          }
        },
        "3b75d05cda8d4ed4b66f0d6e68c8c30a": {
          "model_module": "@jupyter-widgets/controls",
          "model_name": "HBoxModel",
          "model_module_version": "1.5.0",
          "state": {
            "_dom_classes": [],
            "_model_module": "@jupyter-widgets/controls",
            "_model_module_version": "1.5.0",
            "_model_name": "HBoxModel",
            "_view_count": null,
            "_view_module": "@jupyter-widgets/controls",
            "_view_module_version": "1.5.0",
            "_view_name": "HBoxView",
            "box_style": "",
            "children": [
              "IPY_MODEL_320677351c9b44bdb4a542f4701f43c1",
              "IPY_MODEL_bce99bc920f748f693b3ac82bec98690",
              "IPY_MODEL_72b575e1d5964ec3b332a177fe8e58c5"
            ],
            "layout": "IPY_MODEL_069bfdfb68bd4ac08e95fc2da03c1c97"
          }
        },
        "320677351c9b44bdb4a542f4701f43c1": {
          "model_module": "@jupyter-widgets/controls",
          "model_name": "HTMLModel",
          "model_module_version": "1.5.0",
          "state": {
            "_dom_classes": [],
            "_model_module": "@jupyter-widgets/controls",
            "_model_module_version": "1.5.0",
            "_model_name": "HTMLModel",
            "_view_count": null,
            "_view_module": "@jupyter-widgets/controls",
            "_view_module_version": "1.5.0",
            "_view_name": "HTMLView",
            "description": "",
            "description_tooltip": null,
            "layout": "IPY_MODEL_f096a12aba6b4261aab07f3098e864f9",
            "placeholder": "​",
            "style": "IPY_MODEL_07051bb7ef0e46ada972f731debcc7f2",
            "value": "100%"
          }
        },
        "bce99bc920f748f693b3ac82bec98690": {
          "model_module": "@jupyter-widgets/controls",
          "model_name": "FloatProgressModel",
          "model_module_version": "1.5.0",
          "state": {
            "_dom_classes": [],
            "_model_module": "@jupyter-widgets/controls",
            "_model_module_version": "1.5.0",
            "_model_name": "FloatProgressModel",
            "_view_count": null,
            "_view_module": "@jupyter-widgets/controls",
            "_view_module_version": "1.5.0",
            "_view_name": "ProgressView",
            "bar_style": "success",
            "description": "",
            "description_tooltip": null,
            "layout": "IPY_MODEL_722dd0fe44d94612a3610a1b79d6005c",
            "max": 3,
            "min": 0,
            "orientation": "horizontal",
            "style": "IPY_MODEL_be566d5cbf294c719ff56463d5e38053",
            "value": 3
          }
        },
        "72b575e1d5964ec3b332a177fe8e58c5": {
          "model_module": "@jupyter-widgets/controls",
          "model_name": "HTMLModel",
          "model_module_version": "1.5.0",
          "state": {
            "_dom_classes": [],
            "_model_module": "@jupyter-widgets/controls",
            "_model_module_version": "1.5.0",
            "_model_name": "HTMLModel",
            "_view_count": null,
            "_view_module": "@jupyter-widgets/controls",
            "_view_module_version": "1.5.0",
            "_view_name": "HTMLView",
            "description": "",
            "description_tooltip": null,
            "layout": "IPY_MODEL_e2bce63a12374cb293de715cd0165bee",
            "placeholder": "​",
            "style": "IPY_MODEL_402ae966d8d143acbc03a31782997836",
            "value": " 3/3 [00:00&lt;00:00, 100.64it/s]"
          }
        },
        "069bfdfb68bd4ac08e95fc2da03c1c97": {
          "model_module": "@jupyter-widgets/base",
          "model_name": "LayoutModel",
          "model_module_version": "1.2.0",
          "state": {
            "_model_module": "@jupyter-widgets/base",
            "_model_module_version": "1.2.0",
            "_model_name": "LayoutModel",
            "_view_count": null,
            "_view_module": "@jupyter-widgets/base",
            "_view_module_version": "1.2.0",
            "_view_name": "LayoutView",
            "align_content": null,
            "align_items": null,
            "align_self": null,
            "border": null,
            "bottom": null,
            "display": null,
            "flex": null,
            "flex_flow": null,
            "grid_area": null,
            "grid_auto_columns": null,
            "grid_auto_flow": null,
            "grid_auto_rows": null,
            "grid_column": null,
            "grid_gap": null,
            "grid_row": null,
            "grid_template_areas": null,
            "grid_template_columns": null,
            "grid_template_rows": null,
            "height": null,
            "justify_content": null,
            "justify_items": null,
            "left": null,
            "margin": null,
            "max_height": null,
            "max_width": null,
            "min_height": null,
            "min_width": null,
            "object_fit": null,
            "object_position": null,
            "order": null,
            "overflow": null,
            "overflow_x": null,
            "overflow_y": null,
            "padding": null,
            "right": null,
            "top": null,
            "visibility": null,
            "width": null
          }
        },
        "f096a12aba6b4261aab07f3098e864f9": {
          "model_module": "@jupyter-widgets/base",
          "model_name": "LayoutModel",
          "model_module_version": "1.2.0",
          "state": {
            "_model_module": "@jupyter-widgets/base",
            "_model_module_version": "1.2.0",
            "_model_name": "LayoutModel",
            "_view_count": null,
            "_view_module": "@jupyter-widgets/base",
            "_view_module_version": "1.2.0",
            "_view_name": "LayoutView",
            "align_content": null,
            "align_items": null,
            "align_self": null,
            "border": null,
            "bottom": null,
            "display": null,
            "flex": null,
            "flex_flow": null,
            "grid_area": null,
            "grid_auto_columns": null,
            "grid_auto_flow": null,
            "grid_auto_rows": null,
            "grid_column": null,
            "grid_gap": null,
            "grid_row": null,
            "grid_template_areas": null,
            "grid_template_columns": null,
            "grid_template_rows": null,
            "height": null,
            "justify_content": null,
            "justify_items": null,
            "left": null,
            "margin": null,
            "max_height": null,
            "max_width": null,
            "min_height": null,
            "min_width": null,
            "object_fit": null,
            "object_position": null,
            "order": null,
            "overflow": null,
            "overflow_x": null,
            "overflow_y": null,
            "padding": null,
            "right": null,
            "top": null,
            "visibility": null,
            "width": null
          }
        },
        "07051bb7ef0e46ada972f731debcc7f2": {
          "model_module": "@jupyter-widgets/controls",
          "model_name": "DescriptionStyleModel",
          "model_module_version": "1.5.0",
          "state": {
            "_model_module": "@jupyter-widgets/controls",
            "_model_module_version": "1.5.0",
            "_model_name": "DescriptionStyleModel",
            "_view_count": null,
            "_view_module": "@jupyter-widgets/base",
            "_view_module_version": "1.2.0",
            "_view_name": "StyleView",
            "description_width": ""
          }
        },
        "722dd0fe44d94612a3610a1b79d6005c": {
          "model_module": "@jupyter-widgets/base",
          "model_name": "LayoutModel",
          "model_module_version": "1.2.0",
          "state": {
            "_model_module": "@jupyter-widgets/base",
            "_model_module_version": "1.2.0",
            "_model_name": "LayoutModel",
            "_view_count": null,
            "_view_module": "@jupyter-widgets/base",
            "_view_module_version": "1.2.0",
            "_view_name": "LayoutView",
            "align_content": null,
            "align_items": null,
            "align_self": null,
            "border": null,
            "bottom": null,
            "display": null,
            "flex": null,
            "flex_flow": null,
            "grid_area": null,
            "grid_auto_columns": null,
            "grid_auto_flow": null,
            "grid_auto_rows": null,
            "grid_column": null,
            "grid_gap": null,
            "grid_row": null,
            "grid_template_areas": null,
            "grid_template_columns": null,
            "grid_template_rows": null,
            "height": null,
            "justify_content": null,
            "justify_items": null,
            "left": null,
            "margin": null,
            "max_height": null,
            "max_width": null,
            "min_height": null,
            "min_width": null,
            "object_fit": null,
            "object_position": null,
            "order": null,
            "overflow": null,
            "overflow_x": null,
            "overflow_y": null,
            "padding": null,
            "right": null,
            "top": null,
            "visibility": null,
            "width": null
          }
        },
        "be566d5cbf294c719ff56463d5e38053": {
          "model_module": "@jupyter-widgets/controls",
          "model_name": "ProgressStyleModel",
          "model_module_version": "1.5.0",
          "state": {
            "_model_module": "@jupyter-widgets/controls",
            "_model_module_version": "1.5.0",
            "_model_name": "ProgressStyleModel",
            "_view_count": null,
            "_view_module": "@jupyter-widgets/base",
            "_view_module_version": "1.2.0",
            "_view_name": "StyleView",
            "bar_color": null,
            "description_width": ""
          }
        },
        "e2bce63a12374cb293de715cd0165bee": {
          "model_module": "@jupyter-widgets/base",
          "model_name": "LayoutModel",
          "model_module_version": "1.2.0",
          "state": {
            "_model_module": "@jupyter-widgets/base",
            "_model_module_version": "1.2.0",
            "_model_name": "LayoutModel",
            "_view_count": null,
            "_view_module": "@jupyter-widgets/base",
            "_view_module_version": "1.2.0",
            "_view_name": "LayoutView",
            "align_content": null,
            "align_items": null,
            "align_self": null,
            "border": null,
            "bottom": null,
            "display": null,
            "flex": null,
            "flex_flow": null,
            "grid_area": null,
            "grid_auto_columns": null,
            "grid_auto_flow": null,
            "grid_auto_rows": null,
            "grid_column": null,
            "grid_gap": null,
            "grid_row": null,
            "grid_template_areas": null,
            "grid_template_columns": null,
            "grid_template_rows": null,
            "height": null,
            "justify_content": null,
            "justify_items": null,
            "left": null,
            "margin": null,
            "max_height": null,
            "max_width": null,
            "min_height": null,
            "min_width": null,
            "object_fit": null,
            "object_position": null,
            "order": null,
            "overflow": null,
            "overflow_x": null,
            "overflow_y": null,
            "padding": null,
            "right": null,
            "top": null,
            "visibility": null,
            "width": null
          }
        },
        "402ae966d8d143acbc03a31782997836": {
          "model_module": "@jupyter-widgets/controls",
          "model_name": "DescriptionStyleModel",
          "model_module_version": "1.5.0",
          "state": {
            "_model_module": "@jupyter-widgets/controls",
            "_model_module_version": "1.5.0",
            "_model_name": "DescriptionStyleModel",
            "_view_count": null,
            "_view_module": "@jupyter-widgets/base",
            "_view_module_version": "1.2.0",
            "_view_name": "StyleView",
            "description_width": ""
          }
        },
        "614cf890d2404e6d81b59b533b660109": {
          "model_module": "@jupyter-widgets/controls",
          "model_name": "HBoxModel",
          "model_module_version": "1.5.0",
          "state": {
            "_dom_classes": [],
            "_model_module": "@jupyter-widgets/controls",
            "_model_module_version": "1.5.0",
            "_model_name": "HBoxModel",
            "_view_count": null,
            "_view_module": "@jupyter-widgets/controls",
            "_view_module_version": "1.5.0",
            "_view_name": "HBoxView",
            "box_style": "",
            "children": [
              "IPY_MODEL_a34231d299884c2593944b49e108a934",
              "IPY_MODEL_a97a98fdc45745b9a4b7d963bf795c24",
              "IPY_MODEL_d243d78df9b6493c9305cf8bab0d74ea"
            ],
            "layout": "IPY_MODEL_a2dc5907085b48bcbf603df9af1c6539"
          }
        },
        "a34231d299884c2593944b49e108a934": {
          "model_module": "@jupyter-widgets/controls",
          "model_name": "HTMLModel",
          "model_module_version": "1.5.0",
          "state": {
            "_dom_classes": [],
            "_model_module": "@jupyter-widgets/controls",
            "_model_module_version": "1.5.0",
            "_model_name": "HTMLModel",
            "_view_count": null,
            "_view_module": "@jupyter-widgets/controls",
            "_view_module_version": "1.5.0",
            "_view_name": "HTMLView",
            "description": "",
            "description_tooltip": null,
            "layout": "IPY_MODEL_616aad1ac2fc4ebd8e8436e37d490f68",
            "placeholder": "​",
            "style": "IPY_MODEL_88d61b8fe59149e8911f91f3924b610b",
            "value": "Downloading builder script: "
          }
        },
        "a97a98fdc45745b9a4b7d963bf795c24": {
          "model_module": "@jupyter-widgets/controls",
          "model_name": "FloatProgressModel",
          "model_module_version": "1.5.0",
          "state": {
            "_dom_classes": [],
            "_model_module": "@jupyter-widgets/controls",
            "_model_module_version": "1.5.0",
            "_model_name": "FloatProgressModel",
            "_view_count": null,
            "_view_module": "@jupyter-widgets/controls",
            "_view_module_version": "1.5.0",
            "_view_name": "ProgressView",
            "bar_style": "success",
            "description": "",
            "description_tooltip": null,
            "layout": "IPY_MODEL_c5412aab59e0448ab816d15deacf49bf",
            "max": 1652,
            "min": 0,
            "orientation": "horizontal",
            "style": "IPY_MODEL_853a783e3b5043d2aeb9302ab9339a27",
            "value": 1652
          }
        },
        "d243d78df9b6493c9305cf8bab0d74ea": {
          "model_module": "@jupyter-widgets/controls",
          "model_name": "HTMLModel",
          "model_module_version": "1.5.0",
          "state": {
            "_dom_classes": [],
            "_model_module": "@jupyter-widgets/controls",
            "_model_module_version": "1.5.0",
            "_model_name": "HTMLModel",
            "_view_count": null,
            "_view_module": "@jupyter-widgets/controls",
            "_view_module_version": "1.5.0",
            "_view_name": "HTMLView",
            "description": "",
            "description_tooltip": null,
            "layout": "IPY_MODEL_cb0d482a0a4840ec8b0fc9393787082a",
            "placeholder": "​",
            "style": "IPY_MODEL_4e81c12d89f143729ad83fa9f82151be",
            "value": " 4.21k/? [00:00&lt;00:00, 178kB/s]"
          }
        },
        "a2dc5907085b48bcbf603df9af1c6539": {
          "model_module": "@jupyter-widgets/base",
          "model_name": "LayoutModel",
          "model_module_version": "1.2.0",
          "state": {
            "_model_module": "@jupyter-widgets/base",
            "_model_module_version": "1.2.0",
            "_model_name": "LayoutModel",
            "_view_count": null,
            "_view_module": "@jupyter-widgets/base",
            "_view_module_version": "1.2.0",
            "_view_name": "LayoutView",
            "align_content": null,
            "align_items": null,
            "align_self": null,
            "border": null,
            "bottom": null,
            "display": null,
            "flex": null,
            "flex_flow": null,
            "grid_area": null,
            "grid_auto_columns": null,
            "grid_auto_flow": null,
            "grid_auto_rows": null,
            "grid_column": null,
            "grid_gap": null,
            "grid_row": null,
            "grid_template_areas": null,
            "grid_template_columns": null,
            "grid_template_rows": null,
            "height": null,
            "justify_content": null,
            "justify_items": null,
            "left": null,
            "margin": null,
            "max_height": null,
            "max_width": null,
            "min_height": null,
            "min_width": null,
            "object_fit": null,
            "object_position": null,
            "order": null,
            "overflow": null,
            "overflow_x": null,
            "overflow_y": null,
            "padding": null,
            "right": null,
            "top": null,
            "visibility": null,
            "width": null
          }
        },
        "616aad1ac2fc4ebd8e8436e37d490f68": {
          "model_module": "@jupyter-widgets/base",
          "model_name": "LayoutModel",
          "model_module_version": "1.2.0",
          "state": {
            "_model_module": "@jupyter-widgets/base",
            "_model_module_version": "1.2.0",
            "_model_name": "LayoutModel",
            "_view_count": null,
            "_view_module": "@jupyter-widgets/base",
            "_view_module_version": "1.2.0",
            "_view_name": "LayoutView",
            "align_content": null,
            "align_items": null,
            "align_self": null,
            "border": null,
            "bottom": null,
            "display": null,
            "flex": null,
            "flex_flow": null,
            "grid_area": null,
            "grid_auto_columns": null,
            "grid_auto_flow": null,
            "grid_auto_rows": null,
            "grid_column": null,
            "grid_gap": null,
            "grid_row": null,
            "grid_template_areas": null,
            "grid_template_columns": null,
            "grid_template_rows": null,
            "height": null,
            "justify_content": null,
            "justify_items": null,
            "left": null,
            "margin": null,
            "max_height": null,
            "max_width": null,
            "min_height": null,
            "min_width": null,
            "object_fit": null,
            "object_position": null,
            "order": null,
            "overflow": null,
            "overflow_x": null,
            "overflow_y": null,
            "padding": null,
            "right": null,
            "top": null,
            "visibility": null,
            "width": null
          }
        },
        "88d61b8fe59149e8911f91f3924b610b": {
          "model_module": "@jupyter-widgets/controls",
          "model_name": "DescriptionStyleModel",
          "model_module_version": "1.5.0",
          "state": {
            "_model_module": "@jupyter-widgets/controls",
            "_model_module_version": "1.5.0",
            "_model_name": "DescriptionStyleModel",
            "_view_count": null,
            "_view_module": "@jupyter-widgets/base",
            "_view_module_version": "1.2.0",
            "_view_name": "StyleView",
            "description_width": ""
          }
        },
        "c5412aab59e0448ab816d15deacf49bf": {
          "model_module": "@jupyter-widgets/base",
          "model_name": "LayoutModel",
          "model_module_version": "1.2.0",
          "state": {
            "_model_module": "@jupyter-widgets/base",
            "_model_module_version": "1.2.0",
            "_model_name": "LayoutModel",
            "_view_count": null,
            "_view_module": "@jupyter-widgets/base",
            "_view_module_version": "1.2.0",
            "_view_name": "LayoutView",
            "align_content": null,
            "align_items": null,
            "align_self": null,
            "border": null,
            "bottom": null,
            "display": null,
            "flex": null,
            "flex_flow": null,
            "grid_area": null,
            "grid_auto_columns": null,
            "grid_auto_flow": null,
            "grid_auto_rows": null,
            "grid_column": null,
            "grid_gap": null,
            "grid_row": null,
            "grid_template_areas": null,
            "grid_template_columns": null,
            "grid_template_rows": null,
            "height": null,
            "justify_content": null,
            "justify_items": null,
            "left": null,
            "margin": null,
            "max_height": null,
            "max_width": null,
            "min_height": null,
            "min_width": null,
            "object_fit": null,
            "object_position": null,
            "order": null,
            "overflow": null,
            "overflow_x": null,
            "overflow_y": null,
            "padding": null,
            "right": null,
            "top": null,
            "visibility": null,
            "width": null
          }
        },
        "853a783e3b5043d2aeb9302ab9339a27": {
          "model_module": "@jupyter-widgets/controls",
          "model_name": "ProgressStyleModel",
          "model_module_version": "1.5.0",
          "state": {
            "_model_module": "@jupyter-widgets/controls",
            "_model_module_version": "1.5.0",
            "_model_name": "ProgressStyleModel",
            "_view_count": null,
            "_view_module": "@jupyter-widgets/base",
            "_view_module_version": "1.2.0",
            "_view_name": "StyleView",
            "bar_color": null,
            "description_width": ""
          }
        },
        "cb0d482a0a4840ec8b0fc9393787082a": {
          "model_module": "@jupyter-widgets/base",
          "model_name": "LayoutModel",
          "model_module_version": "1.2.0",
          "state": {
            "_model_module": "@jupyter-widgets/base",
            "_model_module_version": "1.2.0",
            "_model_name": "LayoutModel",
            "_view_count": null,
            "_view_module": "@jupyter-widgets/base",
            "_view_module_version": "1.2.0",
            "_view_name": "LayoutView",
            "align_content": null,
            "align_items": null,
            "align_self": null,
            "border": null,
            "bottom": null,
            "display": null,
            "flex": null,
            "flex_flow": null,
            "grid_area": null,
            "grid_auto_columns": null,
            "grid_auto_flow": null,
            "grid_auto_rows": null,
            "grid_column": null,
            "grid_gap": null,
            "grid_row": null,
            "grid_template_areas": null,
            "grid_template_columns": null,
            "grid_template_rows": null,
            "height": null,
            "justify_content": null,
            "justify_items": null,
            "left": null,
            "margin": null,
            "max_height": null,
            "max_width": null,
            "min_height": null,
            "min_width": null,
            "object_fit": null,
            "object_position": null,
            "order": null,
            "overflow": null,
            "overflow_x": null,
            "overflow_y": null,
            "padding": null,
            "right": null,
            "top": null,
            "visibility": null,
            "width": null
          }
        },
        "4e81c12d89f143729ad83fa9f82151be": {
          "model_module": "@jupyter-widgets/controls",
          "model_name": "DescriptionStyleModel",
          "model_module_version": "1.5.0",
          "state": {
            "_model_module": "@jupyter-widgets/controls",
            "_model_module_version": "1.5.0",
            "_model_name": "DescriptionStyleModel",
            "_view_count": null,
            "_view_module": "@jupyter-widgets/base",
            "_view_module_version": "1.2.0",
            "_view_name": "StyleView",
            "description_width": ""
          }
        },
        "8dd8e186c48a450ca5c1ceec36dd90f3": {
          "model_module": "@jupyter-widgets/controls",
          "model_name": "HBoxModel",
          "model_module_version": "1.5.0",
          "state": {
            "_dom_classes": [],
            "_model_module": "@jupyter-widgets/controls",
            "_model_module_version": "1.5.0",
            "_model_name": "HBoxModel",
            "_view_count": null,
            "_view_module": "@jupyter-widgets/controls",
            "_view_module_version": "1.5.0",
            "_view_name": "HBoxView",
            "box_style": "",
            "children": [
              "IPY_MODEL_e1de20bfd4674f3bbbb4e644a164bbbc",
              "IPY_MODEL_f0295ac8f8464f40a1b92f46a2cdad8f",
              "IPY_MODEL_a124a6f8beb645038e3818e551b5e7a6"
            ],
            "layout": "IPY_MODEL_1293f84b633a4c09bfb9e53e35bfcb29"
          }
        },
        "e1de20bfd4674f3bbbb4e644a164bbbc": {
          "model_module": "@jupyter-widgets/controls",
          "model_name": "HTMLModel",
          "model_module_version": "1.5.0",
          "state": {
            "_dom_classes": [],
            "_model_module": "@jupyter-widgets/controls",
            "_model_module_version": "1.5.0",
            "_model_name": "HTMLModel",
            "_view_count": null,
            "_view_module": "@jupyter-widgets/controls",
            "_view_module_version": "1.5.0",
            "_view_name": "HTMLView",
            "description": "",
            "description_tooltip": null,
            "layout": "IPY_MODEL_3d112f7372404db4a58a4b14ad641c21",
            "placeholder": "​",
            "style": "IPY_MODEL_9272ce81f9704fa3965c8aff87952100",
            "value": "Downloading (…)rocessor_config.json: 100%"
          }
        },
        "f0295ac8f8464f40a1b92f46a2cdad8f": {
          "model_module": "@jupyter-widgets/controls",
          "model_name": "FloatProgressModel",
          "model_module_version": "1.5.0",
          "state": {
            "_dom_classes": [],
            "_model_module": "@jupyter-widgets/controls",
            "_model_module_version": "1.5.0",
            "_model_name": "FloatProgressModel",
            "_view_count": null,
            "_view_module": "@jupyter-widgets/controls",
            "_view_module_version": "1.5.0",
            "_view_name": "ProgressView",
            "bar_style": "success",
            "description": "",
            "description_tooltip": null,
            "layout": "IPY_MODEL_1f9a0a47eacb468085681c5d7afc6df5",
            "max": 159,
            "min": 0,
            "orientation": "horizontal",
            "style": "IPY_MODEL_e0b1c221c2ff4681bbdfbe8d08ccede0",
            "value": 159
          }
        },
        "a124a6f8beb645038e3818e551b5e7a6": {
          "model_module": "@jupyter-widgets/controls",
          "model_name": "HTMLModel",
          "model_module_version": "1.5.0",
          "state": {
            "_dom_classes": [],
            "_model_module": "@jupyter-widgets/controls",
            "_model_module_version": "1.5.0",
            "_model_name": "HTMLModel",
            "_view_count": null,
            "_view_module": "@jupyter-widgets/controls",
            "_view_module_version": "1.5.0",
            "_view_name": "HTMLView",
            "description": "",
            "description_tooltip": null,
            "layout": "IPY_MODEL_942f2e916bd84839ba753504fbf1ba88",
            "placeholder": "​",
            "style": "IPY_MODEL_17cf074fe8a84bf4a5a577e3e8df6a8d",
            "value": " 159/159 [00:00&lt;00:00, 5.74kB/s]"
          }
        },
        "1293f84b633a4c09bfb9e53e35bfcb29": {
          "model_module": "@jupyter-widgets/base",
          "model_name": "LayoutModel",
          "model_module_version": "1.2.0",
          "state": {
            "_model_module": "@jupyter-widgets/base",
            "_model_module_version": "1.2.0",
            "_model_name": "LayoutModel",
            "_view_count": null,
            "_view_module": "@jupyter-widgets/base",
            "_view_module_version": "1.2.0",
            "_view_name": "LayoutView",
            "align_content": null,
            "align_items": null,
            "align_self": null,
            "border": null,
            "bottom": null,
            "display": null,
            "flex": null,
            "flex_flow": null,
            "grid_area": null,
            "grid_auto_columns": null,
            "grid_auto_flow": null,
            "grid_auto_rows": null,
            "grid_column": null,
            "grid_gap": null,
            "grid_row": null,
            "grid_template_areas": null,
            "grid_template_columns": null,
            "grid_template_rows": null,
            "height": null,
            "justify_content": null,
            "justify_items": null,
            "left": null,
            "margin": null,
            "max_height": null,
            "max_width": null,
            "min_height": null,
            "min_width": null,
            "object_fit": null,
            "object_position": null,
            "order": null,
            "overflow": null,
            "overflow_x": null,
            "overflow_y": null,
            "padding": null,
            "right": null,
            "top": null,
            "visibility": null,
            "width": null
          }
        },
        "3d112f7372404db4a58a4b14ad641c21": {
          "model_module": "@jupyter-widgets/base",
          "model_name": "LayoutModel",
          "model_module_version": "1.2.0",
          "state": {
            "_model_module": "@jupyter-widgets/base",
            "_model_module_version": "1.2.0",
            "_model_name": "LayoutModel",
            "_view_count": null,
            "_view_module": "@jupyter-widgets/base",
            "_view_module_version": "1.2.0",
            "_view_name": "LayoutView",
            "align_content": null,
            "align_items": null,
            "align_self": null,
            "border": null,
            "bottom": null,
            "display": null,
            "flex": null,
            "flex_flow": null,
            "grid_area": null,
            "grid_auto_columns": null,
            "grid_auto_flow": null,
            "grid_auto_rows": null,
            "grid_column": null,
            "grid_gap": null,
            "grid_row": null,
            "grid_template_areas": null,
            "grid_template_columns": null,
            "grid_template_rows": null,
            "height": null,
            "justify_content": null,
            "justify_items": null,
            "left": null,
            "margin": null,
            "max_height": null,
            "max_width": null,
            "min_height": null,
            "min_width": null,
            "object_fit": null,
            "object_position": null,
            "order": null,
            "overflow": null,
            "overflow_x": null,
            "overflow_y": null,
            "padding": null,
            "right": null,
            "top": null,
            "visibility": null,
            "width": null
          }
        },
        "9272ce81f9704fa3965c8aff87952100": {
          "model_module": "@jupyter-widgets/controls",
          "model_name": "DescriptionStyleModel",
          "model_module_version": "1.5.0",
          "state": {
            "_model_module": "@jupyter-widgets/controls",
            "_model_module_version": "1.5.0",
            "_model_name": "DescriptionStyleModel",
            "_view_count": null,
            "_view_module": "@jupyter-widgets/base",
            "_view_module_version": "1.2.0",
            "_view_name": "StyleView",
            "description_width": ""
          }
        },
        "1f9a0a47eacb468085681c5d7afc6df5": {
          "model_module": "@jupyter-widgets/base",
          "model_name": "LayoutModel",
          "model_module_version": "1.2.0",
          "state": {
            "_model_module": "@jupyter-widgets/base",
            "_model_module_version": "1.2.0",
            "_model_name": "LayoutModel",
            "_view_count": null,
            "_view_module": "@jupyter-widgets/base",
            "_view_module_version": "1.2.0",
            "_view_name": "LayoutView",
            "align_content": null,
            "align_items": null,
            "align_self": null,
            "border": null,
            "bottom": null,
            "display": null,
            "flex": null,
            "flex_flow": null,
            "grid_area": null,
            "grid_auto_columns": null,
            "grid_auto_flow": null,
            "grid_auto_rows": null,
            "grid_column": null,
            "grid_gap": null,
            "grid_row": null,
            "grid_template_areas": null,
            "grid_template_columns": null,
            "grid_template_rows": null,
            "height": null,
            "justify_content": null,
            "justify_items": null,
            "left": null,
            "margin": null,
            "max_height": null,
            "max_width": null,
            "min_height": null,
            "min_width": null,
            "object_fit": null,
            "object_position": null,
            "order": null,
            "overflow": null,
            "overflow_x": null,
            "overflow_y": null,
            "padding": null,
            "right": null,
            "top": null,
            "visibility": null,
            "width": null
          }
        },
        "e0b1c221c2ff4681bbdfbe8d08ccede0": {
          "model_module": "@jupyter-widgets/controls",
          "model_name": "ProgressStyleModel",
          "model_module_version": "1.5.0",
          "state": {
            "_model_module": "@jupyter-widgets/controls",
            "_model_module_version": "1.5.0",
            "_model_name": "ProgressStyleModel",
            "_view_count": null,
            "_view_module": "@jupyter-widgets/base",
            "_view_module_version": "1.2.0",
            "_view_name": "StyleView",
            "bar_color": null,
            "description_width": ""
          }
        },
        "942f2e916bd84839ba753504fbf1ba88": {
          "model_module": "@jupyter-widgets/base",
          "model_name": "LayoutModel",
          "model_module_version": "1.2.0",
          "state": {
            "_model_module": "@jupyter-widgets/base",
            "_model_module_version": "1.2.0",
            "_model_name": "LayoutModel",
            "_view_count": null,
            "_view_module": "@jupyter-widgets/base",
            "_view_module_version": "1.2.0",
            "_view_name": "LayoutView",
            "align_content": null,
            "align_items": null,
            "align_self": null,
            "border": null,
            "bottom": null,
            "display": null,
            "flex": null,
            "flex_flow": null,
            "grid_area": null,
            "grid_auto_columns": null,
            "grid_auto_flow": null,
            "grid_auto_rows": null,
            "grid_column": null,
            "grid_gap": null,
            "grid_row": null,
            "grid_template_areas": null,
            "grid_template_columns": null,
            "grid_template_rows": null,
            "height": null,
            "justify_content": null,
            "justify_items": null,
            "left": null,
            "margin": null,
            "max_height": null,
            "max_width": null,
            "min_height": null,
            "min_width": null,
            "object_fit": null,
            "object_position": null,
            "order": null,
            "overflow": null,
            "overflow_x": null,
            "overflow_y": null,
            "padding": null,
            "right": null,
            "top": null,
            "visibility": null,
            "width": null
          }
        },
        "17cf074fe8a84bf4a5a577e3e8df6a8d": {
          "model_module": "@jupyter-widgets/controls",
          "model_name": "DescriptionStyleModel",
          "model_module_version": "1.5.0",
          "state": {
            "_model_module": "@jupyter-widgets/controls",
            "_model_module_version": "1.5.0",
            "_model_name": "DescriptionStyleModel",
            "_view_count": null,
            "_view_module": "@jupyter-widgets/base",
            "_view_module_version": "1.2.0",
            "_view_name": "StyleView",
            "description_width": ""
          }
        },
        "d84d6b0a122a4cc6a5df1a929356fa74": {
          "model_module": "@jupyter-widgets/controls",
          "model_name": "HBoxModel",
          "model_module_version": "1.5.0",
          "state": {
            "_dom_classes": [],
            "_model_module": "@jupyter-widgets/controls",
            "_model_module_version": "1.5.0",
            "_model_name": "HBoxModel",
            "_view_count": null,
            "_view_module": "@jupyter-widgets/controls",
            "_view_module_version": "1.5.0",
            "_view_name": "HBoxView",
            "box_style": "",
            "children": [
              "IPY_MODEL_91b0d8fa268144cc96a03a7656cfd82e",
              "IPY_MODEL_f4340901937640e9842b45644787f9ef",
              "IPY_MODEL_5602f4fa45434f7e8f408963613042c7"
            ],
            "layout": "IPY_MODEL_b54dd539cc6d4bee84383ef4a68d597d"
          }
        },
        "91b0d8fa268144cc96a03a7656cfd82e": {
          "model_module": "@jupyter-widgets/controls",
          "model_name": "HTMLModel",
          "model_module_version": "1.5.0",
          "state": {
            "_dom_classes": [],
            "_model_module": "@jupyter-widgets/controls",
            "_model_module_version": "1.5.0",
            "_model_name": "HTMLModel",
            "_view_count": null,
            "_view_module": "@jupyter-widgets/controls",
            "_view_module_version": "1.5.0",
            "_view_name": "HTMLView",
            "description": "",
            "description_tooltip": null,
            "layout": "IPY_MODEL_de42a56b74a542aea95eb1e8ea5619ad",
            "placeholder": "​",
            "style": "IPY_MODEL_d187095bdfca4149b8e3b56bf147ded6",
            "value": "Downloading (…)lve/main/config.json: 100%"
          }
        },
        "f4340901937640e9842b45644787f9ef": {
          "model_module": "@jupyter-widgets/controls",
          "model_name": "FloatProgressModel",
          "model_module_version": "1.5.0",
          "state": {
            "_dom_classes": [],
            "_model_module": "@jupyter-widgets/controls",
            "_model_module_version": "1.5.0",
            "_model_name": "FloatProgressModel",
            "_view_count": null,
            "_view_module": "@jupyter-widgets/controls",
            "_view_module_version": "1.5.0",
            "_view_name": "ProgressView",
            "bar_style": "success",
            "description": "",
            "description_tooltip": null,
            "layout": "IPY_MODEL_8036f88d4b514abab69006a38e1493d8",
            "max": 1842,
            "min": 0,
            "orientation": "horizontal",
            "style": "IPY_MODEL_b38a88b7493443fc8e6f9173f8b6b3ae",
            "value": 1842
          }
        },
        "5602f4fa45434f7e8f408963613042c7": {
          "model_module": "@jupyter-widgets/controls",
          "model_name": "HTMLModel",
          "model_module_version": "1.5.0",
          "state": {
            "_dom_classes": [],
            "_model_module": "@jupyter-widgets/controls",
            "_model_module_version": "1.5.0",
            "_model_name": "HTMLModel",
            "_view_count": null,
            "_view_module": "@jupyter-widgets/controls",
            "_view_module_version": "1.5.0",
            "_view_name": "HTMLView",
            "description": "",
            "description_tooltip": null,
            "layout": "IPY_MODEL_4b62688aab664e6c9da82a2e3dbeba44",
            "placeholder": "​",
            "style": "IPY_MODEL_4d4946a86bbb45aead261b3b299e17c5",
            "value": " 1.84k/1.84k [00:00&lt;00:00, 67.1kB/s]"
          }
        },
        "b54dd539cc6d4bee84383ef4a68d597d": {
          "model_module": "@jupyter-widgets/base",
          "model_name": "LayoutModel",
          "model_module_version": "1.2.0",
          "state": {
            "_model_module": "@jupyter-widgets/base",
            "_model_module_version": "1.2.0",
            "_model_name": "LayoutModel",
            "_view_count": null,
            "_view_module": "@jupyter-widgets/base",
            "_view_module_version": "1.2.0",
            "_view_name": "LayoutView",
            "align_content": null,
            "align_items": null,
            "align_self": null,
            "border": null,
            "bottom": null,
            "display": null,
            "flex": null,
            "flex_flow": null,
            "grid_area": null,
            "grid_auto_columns": null,
            "grid_auto_flow": null,
            "grid_auto_rows": null,
            "grid_column": null,
            "grid_gap": null,
            "grid_row": null,
            "grid_template_areas": null,
            "grid_template_columns": null,
            "grid_template_rows": null,
            "height": null,
            "justify_content": null,
            "justify_items": null,
            "left": null,
            "margin": null,
            "max_height": null,
            "max_width": null,
            "min_height": null,
            "min_width": null,
            "object_fit": null,
            "object_position": null,
            "order": null,
            "overflow": null,
            "overflow_x": null,
            "overflow_y": null,
            "padding": null,
            "right": null,
            "top": null,
            "visibility": null,
            "width": null
          }
        },
        "de42a56b74a542aea95eb1e8ea5619ad": {
          "model_module": "@jupyter-widgets/base",
          "model_name": "LayoutModel",
          "model_module_version": "1.2.0",
          "state": {
            "_model_module": "@jupyter-widgets/base",
            "_model_module_version": "1.2.0",
            "_model_name": "LayoutModel",
            "_view_count": null,
            "_view_module": "@jupyter-widgets/base",
            "_view_module_version": "1.2.0",
            "_view_name": "LayoutView",
            "align_content": null,
            "align_items": null,
            "align_self": null,
            "border": null,
            "bottom": null,
            "display": null,
            "flex": null,
            "flex_flow": null,
            "grid_area": null,
            "grid_auto_columns": null,
            "grid_auto_flow": null,
            "grid_auto_rows": null,
            "grid_column": null,
            "grid_gap": null,
            "grid_row": null,
            "grid_template_areas": null,
            "grid_template_columns": null,
            "grid_template_rows": null,
            "height": null,
            "justify_content": null,
            "justify_items": null,
            "left": null,
            "margin": null,
            "max_height": null,
            "max_width": null,
            "min_height": null,
            "min_width": null,
            "object_fit": null,
            "object_position": null,
            "order": null,
            "overflow": null,
            "overflow_x": null,
            "overflow_y": null,
            "padding": null,
            "right": null,
            "top": null,
            "visibility": null,
            "width": null
          }
        },
        "d187095bdfca4149b8e3b56bf147ded6": {
          "model_module": "@jupyter-widgets/controls",
          "model_name": "DescriptionStyleModel",
          "model_module_version": "1.5.0",
          "state": {
            "_model_module": "@jupyter-widgets/controls",
            "_model_module_version": "1.5.0",
            "_model_name": "DescriptionStyleModel",
            "_view_count": null,
            "_view_module": "@jupyter-widgets/base",
            "_view_module_version": "1.2.0",
            "_view_name": "StyleView",
            "description_width": ""
          }
        },
        "8036f88d4b514abab69006a38e1493d8": {
          "model_module": "@jupyter-widgets/base",
          "model_name": "LayoutModel",
          "model_module_version": "1.2.0",
          "state": {
            "_model_module": "@jupyter-widgets/base",
            "_model_module_version": "1.2.0",
            "_model_name": "LayoutModel",
            "_view_count": null,
            "_view_module": "@jupyter-widgets/base",
            "_view_module_version": "1.2.0",
            "_view_name": "LayoutView",
            "align_content": null,
            "align_items": null,
            "align_self": null,
            "border": null,
            "bottom": null,
            "display": null,
            "flex": null,
            "flex_flow": null,
            "grid_area": null,
            "grid_auto_columns": null,
            "grid_auto_flow": null,
            "grid_auto_rows": null,
            "grid_column": null,
            "grid_gap": null,
            "grid_row": null,
            "grid_template_areas": null,
            "grid_template_columns": null,
            "grid_template_rows": null,
            "height": null,
            "justify_content": null,
            "justify_items": null,
            "left": null,
            "margin": null,
            "max_height": null,
            "max_width": null,
            "min_height": null,
            "min_width": null,
            "object_fit": null,
            "object_position": null,
            "order": null,
            "overflow": null,
            "overflow_x": null,
            "overflow_y": null,
            "padding": null,
            "right": null,
            "top": null,
            "visibility": null,
            "width": null
          }
        },
        "b38a88b7493443fc8e6f9173f8b6b3ae": {
          "model_module": "@jupyter-widgets/controls",
          "model_name": "ProgressStyleModel",
          "model_module_version": "1.5.0",
          "state": {
            "_model_module": "@jupyter-widgets/controls",
            "_model_module_version": "1.5.0",
            "_model_name": "ProgressStyleModel",
            "_view_count": null,
            "_view_module": "@jupyter-widgets/base",
            "_view_module_version": "1.2.0",
            "_view_name": "StyleView",
            "bar_color": null,
            "description_width": ""
          }
        },
        "4b62688aab664e6c9da82a2e3dbeba44": {
          "model_module": "@jupyter-widgets/base",
          "model_name": "LayoutModel",
          "model_module_version": "1.2.0",
          "state": {
            "_model_module": "@jupyter-widgets/base",
            "_model_module_version": "1.2.0",
            "_model_name": "LayoutModel",
            "_view_count": null,
            "_view_module": "@jupyter-widgets/base",
            "_view_module_version": "1.2.0",
            "_view_name": "LayoutView",
            "align_content": null,
            "align_items": null,
            "align_self": null,
            "border": null,
            "bottom": null,
            "display": null,
            "flex": null,
            "flex_flow": null,
            "grid_area": null,
            "grid_auto_columns": null,
            "grid_auto_flow": null,
            "grid_auto_rows": null,
            "grid_column": null,
            "grid_gap": null,
            "grid_row": null,
            "grid_template_areas": null,
            "grid_template_columns": null,
            "grid_template_rows": null,
            "height": null,
            "justify_content": null,
            "justify_items": null,
            "left": null,
            "margin": null,
            "max_height": null,
            "max_width": null,
            "min_height": null,
            "min_width": null,
            "object_fit": null,
            "object_position": null,
            "order": null,
            "overflow": null,
            "overflow_x": null,
            "overflow_y": null,
            "padding": null,
            "right": null,
            "top": null,
            "visibility": null,
            "width": null
          }
        },
        "4d4946a86bbb45aead261b3b299e17c5": {
          "model_module": "@jupyter-widgets/controls",
          "model_name": "DescriptionStyleModel",
          "model_module_version": "1.5.0",
          "state": {
            "_model_module": "@jupyter-widgets/controls",
            "_model_module_version": "1.5.0",
            "_model_name": "DescriptionStyleModel",
            "_view_count": null,
            "_view_module": "@jupyter-widgets/base",
            "_view_module_version": "1.2.0",
            "_view_name": "StyleView",
            "description_width": ""
          }
        },
        "a36a752d446f47f4b10abeba9fd9213e": {
          "model_module": "@jupyter-widgets/controls",
          "model_name": "HBoxModel",
          "model_module_version": "1.5.0",
          "state": {
            "_dom_classes": [],
            "_model_module": "@jupyter-widgets/controls",
            "_model_module_version": "1.5.0",
            "_model_name": "HBoxModel",
            "_view_count": null,
            "_view_module": "@jupyter-widgets/controls",
            "_view_module_version": "1.5.0",
            "_view_name": "HBoxView",
            "box_style": "",
            "children": [
              "IPY_MODEL_90a053659f9a43589dfb1157174cb9f9",
              "IPY_MODEL_c745a072d740461497a99dbadc927bc8",
              "IPY_MODEL_d5441b1aeb364239bfc53cc6e14f18d3"
            ],
            "layout": "IPY_MODEL_f18ea390765044729178b71954e0591f"
          }
        },
        "90a053659f9a43589dfb1157174cb9f9": {
          "model_module": "@jupyter-widgets/controls",
          "model_name": "HTMLModel",
          "model_module_version": "1.5.0",
          "state": {
            "_dom_classes": [],
            "_model_module": "@jupyter-widgets/controls",
            "_model_module_version": "1.5.0",
            "_model_name": "HTMLModel",
            "_view_count": null,
            "_view_module": "@jupyter-widgets/controls",
            "_view_module_version": "1.5.0",
            "_view_name": "HTMLView",
            "description": "",
            "description_tooltip": null,
            "layout": "IPY_MODEL_aeddf5812b1e4f2f8482f6f7e4c63b64",
            "placeholder": "​",
            "style": "IPY_MODEL_31d83b25f4fe475b9318cf4da5900ab8",
            "value": "Map: 100%"
          }
        },
        "c745a072d740461497a99dbadc927bc8": {
          "model_module": "@jupyter-widgets/controls",
          "model_name": "FloatProgressModel",
          "model_module_version": "1.5.0",
          "state": {
            "_dom_classes": [],
            "_model_module": "@jupyter-widgets/controls",
            "_model_module_version": "1.5.0",
            "_model_name": "FloatProgressModel",
            "_view_count": null,
            "_view_module": "@jupyter-widgets/controls",
            "_view_module_version": "1.5.0",
            "_view_name": "ProgressView",
            "bar_style": "",
            "description": "",
            "description_tooltip": null,
            "layout": "IPY_MODEL_89bbdbbd48b244b296b07d7d72b14ec5",
            "max": 51094,
            "min": 0,
            "orientation": "horizontal",
            "style": "IPY_MODEL_bd7ab3ed5b77460f808e6a7d6874cbf2",
            "value": 51094
          }
        },
        "d5441b1aeb364239bfc53cc6e14f18d3": {
          "model_module": "@jupyter-widgets/controls",
          "model_name": "HTMLModel",
          "model_module_version": "1.5.0",
          "state": {
            "_dom_classes": [],
            "_model_module": "@jupyter-widgets/controls",
            "_model_module_version": "1.5.0",
            "_model_name": "HTMLModel",
            "_view_count": null,
            "_view_module": "@jupyter-widgets/controls",
            "_view_module_version": "1.5.0",
            "_view_name": "HTMLView",
            "description": "",
            "description_tooltip": null,
            "layout": "IPY_MODEL_63f8c7e149f5455db07e579fe24ac703",
            "placeholder": "​",
            "style": "IPY_MODEL_c397e65c7caf4062b165320bc329faed",
            "value": " 51094/51094 [00:47&lt;00:00, 841.56 examples/s]"
          }
        },
        "f18ea390765044729178b71954e0591f": {
          "model_module": "@jupyter-widgets/base",
          "model_name": "LayoutModel",
          "model_module_version": "1.2.0",
          "state": {
            "_model_module": "@jupyter-widgets/base",
            "_model_module_version": "1.2.0",
            "_model_name": "LayoutModel",
            "_view_count": null,
            "_view_module": "@jupyter-widgets/base",
            "_view_module_version": "1.2.0",
            "_view_name": "LayoutView",
            "align_content": null,
            "align_items": null,
            "align_self": null,
            "border": null,
            "bottom": null,
            "display": null,
            "flex": null,
            "flex_flow": null,
            "grid_area": null,
            "grid_auto_columns": null,
            "grid_auto_flow": null,
            "grid_auto_rows": null,
            "grid_column": null,
            "grid_gap": null,
            "grid_row": null,
            "grid_template_areas": null,
            "grid_template_columns": null,
            "grid_template_rows": null,
            "height": null,
            "justify_content": null,
            "justify_items": null,
            "left": null,
            "margin": null,
            "max_height": null,
            "max_width": null,
            "min_height": null,
            "min_width": null,
            "object_fit": null,
            "object_position": null,
            "order": null,
            "overflow": null,
            "overflow_x": null,
            "overflow_y": null,
            "padding": null,
            "right": null,
            "top": null,
            "visibility": "hidden",
            "width": null
          }
        },
        "aeddf5812b1e4f2f8482f6f7e4c63b64": {
          "model_module": "@jupyter-widgets/base",
          "model_name": "LayoutModel",
          "model_module_version": "1.2.0",
          "state": {
            "_model_module": "@jupyter-widgets/base",
            "_model_module_version": "1.2.0",
            "_model_name": "LayoutModel",
            "_view_count": null,
            "_view_module": "@jupyter-widgets/base",
            "_view_module_version": "1.2.0",
            "_view_name": "LayoutView",
            "align_content": null,
            "align_items": null,
            "align_self": null,
            "border": null,
            "bottom": null,
            "display": null,
            "flex": null,
            "flex_flow": null,
            "grid_area": null,
            "grid_auto_columns": null,
            "grid_auto_flow": null,
            "grid_auto_rows": null,
            "grid_column": null,
            "grid_gap": null,
            "grid_row": null,
            "grid_template_areas": null,
            "grid_template_columns": null,
            "grid_template_rows": null,
            "height": null,
            "justify_content": null,
            "justify_items": null,
            "left": null,
            "margin": null,
            "max_height": null,
            "max_width": null,
            "min_height": null,
            "min_width": null,
            "object_fit": null,
            "object_position": null,
            "order": null,
            "overflow": null,
            "overflow_x": null,
            "overflow_y": null,
            "padding": null,
            "right": null,
            "top": null,
            "visibility": null,
            "width": null
          }
        },
        "31d83b25f4fe475b9318cf4da5900ab8": {
          "model_module": "@jupyter-widgets/controls",
          "model_name": "DescriptionStyleModel",
          "model_module_version": "1.5.0",
          "state": {
            "_model_module": "@jupyter-widgets/controls",
            "_model_module_version": "1.5.0",
            "_model_name": "DescriptionStyleModel",
            "_view_count": null,
            "_view_module": "@jupyter-widgets/base",
            "_view_module_version": "1.2.0",
            "_view_name": "StyleView",
            "description_width": ""
          }
        },
        "89bbdbbd48b244b296b07d7d72b14ec5": {
          "model_module": "@jupyter-widgets/base",
          "model_name": "LayoutModel",
          "model_module_version": "1.2.0",
          "state": {
            "_model_module": "@jupyter-widgets/base",
            "_model_module_version": "1.2.0",
            "_model_name": "LayoutModel",
            "_view_count": null,
            "_view_module": "@jupyter-widgets/base",
            "_view_module_version": "1.2.0",
            "_view_name": "LayoutView",
            "align_content": null,
            "align_items": null,
            "align_self": null,
            "border": null,
            "bottom": null,
            "display": null,
            "flex": null,
            "flex_flow": null,
            "grid_area": null,
            "grid_auto_columns": null,
            "grid_auto_flow": null,
            "grid_auto_rows": null,
            "grid_column": null,
            "grid_gap": null,
            "grid_row": null,
            "grid_template_areas": null,
            "grid_template_columns": null,
            "grid_template_rows": null,
            "height": null,
            "justify_content": null,
            "justify_items": null,
            "left": null,
            "margin": null,
            "max_height": null,
            "max_width": null,
            "min_height": null,
            "min_width": null,
            "object_fit": null,
            "object_position": null,
            "order": null,
            "overflow": null,
            "overflow_x": null,
            "overflow_y": null,
            "padding": null,
            "right": null,
            "top": null,
            "visibility": null,
            "width": null
          }
        },
        "bd7ab3ed5b77460f808e6a7d6874cbf2": {
          "model_module": "@jupyter-widgets/controls",
          "model_name": "ProgressStyleModel",
          "model_module_version": "1.5.0",
          "state": {
            "_model_module": "@jupyter-widgets/controls",
            "_model_module_version": "1.5.0",
            "_model_name": "ProgressStyleModel",
            "_view_count": null,
            "_view_module": "@jupyter-widgets/base",
            "_view_module_version": "1.2.0",
            "_view_name": "StyleView",
            "bar_color": null,
            "description_width": ""
          }
        },
        "63f8c7e149f5455db07e579fe24ac703": {
          "model_module": "@jupyter-widgets/base",
          "model_name": "LayoutModel",
          "model_module_version": "1.2.0",
          "state": {
            "_model_module": "@jupyter-widgets/base",
            "_model_module_version": "1.2.0",
            "_model_name": "LayoutModel",
            "_view_count": null,
            "_view_module": "@jupyter-widgets/base",
            "_view_module_version": "1.2.0",
            "_view_name": "LayoutView",
            "align_content": null,
            "align_items": null,
            "align_self": null,
            "border": null,
            "bottom": null,
            "display": null,
            "flex": null,
            "flex_flow": null,
            "grid_area": null,
            "grid_auto_columns": null,
            "grid_auto_flow": null,
            "grid_auto_rows": null,
            "grid_column": null,
            "grid_gap": null,
            "grid_row": null,
            "grid_template_areas": null,
            "grid_template_columns": null,
            "grid_template_rows": null,
            "height": null,
            "justify_content": null,
            "justify_items": null,
            "left": null,
            "margin": null,
            "max_height": null,
            "max_width": null,
            "min_height": null,
            "min_width": null,
            "object_fit": null,
            "object_position": null,
            "order": null,
            "overflow": null,
            "overflow_x": null,
            "overflow_y": null,
            "padding": null,
            "right": null,
            "top": null,
            "visibility": null,
            "width": null
          }
        },
        "c397e65c7caf4062b165320bc329faed": {
          "model_module": "@jupyter-widgets/controls",
          "model_name": "DescriptionStyleModel",
          "model_module_version": "1.5.0",
          "state": {
            "_model_module": "@jupyter-widgets/controls",
            "_model_module_version": "1.5.0",
            "_model_name": "DescriptionStyleModel",
            "_view_count": null,
            "_view_module": "@jupyter-widgets/base",
            "_view_module_version": "1.2.0",
            "_view_name": "StyleView",
            "description_width": ""
          }
        },
        "e675c4d17c5f4a859912a0094a1dfb5a": {
          "model_module": "@jupyter-widgets/controls",
          "model_name": "HBoxModel",
          "model_module_version": "1.5.0",
          "state": {
            "_dom_classes": [],
            "_model_module": "@jupyter-widgets/controls",
            "_model_module_version": "1.5.0",
            "_model_name": "HBoxModel",
            "_view_count": null,
            "_view_module": "@jupyter-widgets/controls",
            "_view_module_version": "1.5.0",
            "_view_name": "HBoxView",
            "box_style": "",
            "children": [
              "IPY_MODEL_938627f4a950472897bc427eb1e7cc95",
              "IPY_MODEL_ff9a8982823c4d7a9408b5c1d8315498",
              "IPY_MODEL_4ed26a7c76244a839025da1e896c51c7"
            ],
            "layout": "IPY_MODEL_a1e4b8d0ef354e2c82bf17d64d0808be"
          }
        },
        "938627f4a950472897bc427eb1e7cc95": {
          "model_module": "@jupyter-widgets/controls",
          "model_name": "HTMLModel",
          "model_module_version": "1.5.0",
          "state": {
            "_dom_classes": [],
            "_model_module": "@jupyter-widgets/controls",
            "_model_module_version": "1.5.0",
            "_model_name": "HTMLModel",
            "_view_count": null,
            "_view_module": "@jupyter-widgets/controls",
            "_view_module_version": "1.5.0",
            "_view_name": "HTMLView",
            "description": "",
            "description_tooltip": null,
            "layout": "IPY_MODEL_88144da6fc7247fa9065a4388e9c19e3",
            "placeholder": "​",
            "style": "IPY_MODEL_c43fcc9b10304ccdb92c74a7d540d7d7",
            "value": "Map: 100%"
          }
        },
        "ff9a8982823c4d7a9408b5c1d8315498": {
          "model_module": "@jupyter-widgets/controls",
          "model_name": "FloatProgressModel",
          "model_module_version": "1.5.0",
          "state": {
            "_dom_classes": [],
            "_model_module": "@jupyter-widgets/controls",
            "_model_module_version": "1.5.0",
            "_model_name": "FloatProgressModel",
            "_view_count": null,
            "_view_module": "@jupyter-widgets/controls",
            "_view_module_version": "1.5.0",
            "_view_name": "ProgressView",
            "bar_style": "",
            "description": "",
            "description_tooltip": null,
            "layout": "IPY_MODEL_cd2b608e28164e8da0be3ef5a45c40e9",
            "max": 6798,
            "min": 0,
            "orientation": "horizontal",
            "style": "IPY_MODEL_6f87ca29d79749e8af4be9ddff71e483",
            "value": 6798
          }
        },
        "4ed26a7c76244a839025da1e896c51c7": {
          "model_module": "@jupyter-widgets/controls",
          "model_name": "HTMLModel",
          "model_module_version": "1.5.0",
          "state": {
            "_dom_classes": [],
            "_model_module": "@jupyter-widgets/controls",
            "_model_module_version": "1.5.0",
            "_model_name": "HTMLModel",
            "_view_count": null,
            "_view_module": "@jupyter-widgets/controls",
            "_view_module_version": "1.5.0",
            "_view_name": "HTMLView",
            "description": "",
            "description_tooltip": null,
            "layout": "IPY_MODEL_838b959b67114c65853fe49bd1000776",
            "placeholder": "​",
            "style": "IPY_MODEL_884b7c1b403c4915a724fb8b159262b4",
            "value": " 6798/6798 [00:10&lt;00:00, 639.00 examples/s]"
          }
        },
        "a1e4b8d0ef354e2c82bf17d64d0808be": {
          "model_module": "@jupyter-widgets/base",
          "model_name": "LayoutModel",
          "model_module_version": "1.2.0",
          "state": {
            "_model_module": "@jupyter-widgets/base",
            "_model_module_version": "1.2.0",
            "_model_name": "LayoutModel",
            "_view_count": null,
            "_view_module": "@jupyter-widgets/base",
            "_view_module_version": "1.2.0",
            "_view_name": "LayoutView",
            "align_content": null,
            "align_items": null,
            "align_self": null,
            "border": null,
            "bottom": null,
            "display": null,
            "flex": null,
            "flex_flow": null,
            "grid_area": null,
            "grid_auto_columns": null,
            "grid_auto_flow": null,
            "grid_auto_rows": null,
            "grid_column": null,
            "grid_gap": null,
            "grid_row": null,
            "grid_template_areas": null,
            "grid_template_columns": null,
            "grid_template_rows": null,
            "height": null,
            "justify_content": null,
            "justify_items": null,
            "left": null,
            "margin": null,
            "max_height": null,
            "max_width": null,
            "min_height": null,
            "min_width": null,
            "object_fit": null,
            "object_position": null,
            "order": null,
            "overflow": null,
            "overflow_x": null,
            "overflow_y": null,
            "padding": null,
            "right": null,
            "top": null,
            "visibility": "hidden",
            "width": null
          }
        },
        "88144da6fc7247fa9065a4388e9c19e3": {
          "model_module": "@jupyter-widgets/base",
          "model_name": "LayoutModel",
          "model_module_version": "1.2.0",
          "state": {
            "_model_module": "@jupyter-widgets/base",
            "_model_module_version": "1.2.0",
            "_model_name": "LayoutModel",
            "_view_count": null,
            "_view_module": "@jupyter-widgets/base",
            "_view_module_version": "1.2.0",
            "_view_name": "LayoutView",
            "align_content": null,
            "align_items": null,
            "align_self": null,
            "border": null,
            "bottom": null,
            "display": null,
            "flex": null,
            "flex_flow": null,
            "grid_area": null,
            "grid_auto_columns": null,
            "grid_auto_flow": null,
            "grid_auto_rows": null,
            "grid_column": null,
            "grid_gap": null,
            "grid_row": null,
            "grid_template_areas": null,
            "grid_template_columns": null,
            "grid_template_rows": null,
            "height": null,
            "justify_content": null,
            "justify_items": null,
            "left": null,
            "margin": null,
            "max_height": null,
            "max_width": null,
            "min_height": null,
            "min_width": null,
            "object_fit": null,
            "object_position": null,
            "order": null,
            "overflow": null,
            "overflow_x": null,
            "overflow_y": null,
            "padding": null,
            "right": null,
            "top": null,
            "visibility": null,
            "width": null
          }
        },
        "c43fcc9b10304ccdb92c74a7d540d7d7": {
          "model_module": "@jupyter-widgets/controls",
          "model_name": "DescriptionStyleModel",
          "model_module_version": "1.5.0",
          "state": {
            "_model_module": "@jupyter-widgets/controls",
            "_model_module_version": "1.5.0",
            "_model_name": "DescriptionStyleModel",
            "_view_count": null,
            "_view_module": "@jupyter-widgets/base",
            "_view_module_version": "1.2.0",
            "_view_name": "StyleView",
            "description_width": ""
          }
        },
        "cd2b608e28164e8da0be3ef5a45c40e9": {
          "model_module": "@jupyter-widgets/base",
          "model_name": "LayoutModel",
          "model_module_version": "1.2.0",
          "state": {
            "_model_module": "@jupyter-widgets/base",
            "_model_module_version": "1.2.0",
            "_model_name": "LayoutModel",
            "_view_count": null,
            "_view_module": "@jupyter-widgets/base",
            "_view_module_version": "1.2.0",
            "_view_name": "LayoutView",
            "align_content": null,
            "align_items": null,
            "align_self": null,
            "border": null,
            "bottom": null,
            "display": null,
            "flex": null,
            "flex_flow": null,
            "grid_area": null,
            "grid_auto_columns": null,
            "grid_auto_flow": null,
            "grid_auto_rows": null,
            "grid_column": null,
            "grid_gap": null,
            "grid_row": null,
            "grid_template_areas": null,
            "grid_template_columns": null,
            "grid_template_rows": null,
            "height": null,
            "justify_content": null,
            "justify_items": null,
            "left": null,
            "margin": null,
            "max_height": null,
            "max_width": null,
            "min_height": null,
            "min_width": null,
            "object_fit": null,
            "object_position": null,
            "order": null,
            "overflow": null,
            "overflow_x": null,
            "overflow_y": null,
            "padding": null,
            "right": null,
            "top": null,
            "visibility": null,
            "width": null
          }
        },
        "6f87ca29d79749e8af4be9ddff71e483": {
          "model_module": "@jupyter-widgets/controls",
          "model_name": "ProgressStyleModel",
          "model_module_version": "1.5.0",
          "state": {
            "_model_module": "@jupyter-widgets/controls",
            "_model_module_version": "1.5.0",
            "_model_name": "ProgressStyleModel",
            "_view_count": null,
            "_view_module": "@jupyter-widgets/base",
            "_view_module_version": "1.2.0",
            "_view_name": "StyleView",
            "bar_color": null,
            "description_width": ""
          }
        },
        "838b959b67114c65853fe49bd1000776": {
          "model_module": "@jupyter-widgets/base",
          "model_name": "LayoutModel",
          "model_module_version": "1.2.0",
          "state": {
            "_model_module": "@jupyter-widgets/base",
            "_model_module_version": "1.2.0",
            "_model_name": "LayoutModel",
            "_view_count": null,
            "_view_module": "@jupyter-widgets/base",
            "_view_module_version": "1.2.0",
            "_view_name": "LayoutView",
            "align_content": null,
            "align_items": null,
            "align_self": null,
            "border": null,
            "bottom": null,
            "display": null,
            "flex": null,
            "flex_flow": null,
            "grid_area": null,
            "grid_auto_columns": null,
            "grid_auto_flow": null,
            "grid_auto_rows": null,
            "grid_column": null,
            "grid_gap": null,
            "grid_row": null,
            "grid_template_areas": null,
            "grid_template_columns": null,
            "grid_template_rows": null,
            "height": null,
            "justify_content": null,
            "justify_items": null,
            "left": null,
            "margin": null,
            "max_height": null,
            "max_width": null,
            "min_height": null,
            "min_width": null,
            "object_fit": null,
            "object_position": null,
            "order": null,
            "overflow": null,
            "overflow_x": null,
            "overflow_y": null,
            "padding": null,
            "right": null,
            "top": null,
            "visibility": null,
            "width": null
          }
        },
        "884b7c1b403c4915a724fb8b159262b4": {
          "model_module": "@jupyter-widgets/controls",
          "model_name": "DescriptionStyleModel",
          "model_module_version": "1.5.0",
          "state": {
            "_model_module": "@jupyter-widgets/controls",
            "_model_module_version": "1.5.0",
            "_model_name": "DescriptionStyleModel",
            "_view_count": null,
            "_view_module": "@jupyter-widgets/base",
            "_view_module_version": "1.2.0",
            "_view_name": "StyleView",
            "description_width": ""
          }
        },
        "7dc8c15abf3547c1bc255d6027841267": {
          "model_module": "@jupyter-widgets/controls",
          "model_name": "HBoxModel",
          "model_module_version": "1.5.0",
          "state": {
            "_dom_classes": [],
            "_model_module": "@jupyter-widgets/controls",
            "_model_module_version": "1.5.0",
            "_model_name": "HBoxModel",
            "_view_count": null,
            "_view_module": "@jupyter-widgets/controls",
            "_view_module_version": "1.5.0",
            "_view_name": "HBoxView",
            "box_style": "",
            "children": [
              "IPY_MODEL_1cffe05138bc483bb465250d704374d0",
              "IPY_MODEL_7e86902ec3424012b5c35ef40da8f98b",
              "IPY_MODEL_ddf4acce8a4a4dca89c182b37dd82ffb"
            ],
            "layout": "IPY_MODEL_737b6472a5d044ef9f541c4d1776dc6d"
          }
        },
        "1cffe05138bc483bb465250d704374d0": {
          "model_module": "@jupyter-widgets/controls",
          "model_name": "HTMLModel",
          "model_module_version": "1.5.0",
          "state": {
            "_dom_classes": [],
            "_model_module": "@jupyter-widgets/controls",
            "_model_module_version": "1.5.0",
            "_model_name": "HTMLModel",
            "_view_count": null,
            "_view_module": "@jupyter-widgets/controls",
            "_view_module_version": "1.5.0",
            "_view_name": "HTMLView",
            "description": "",
            "description_tooltip": null,
            "layout": "IPY_MODEL_9796296e7ea74575b593430eca071662",
            "placeholder": "​",
            "style": "IPY_MODEL_4a85f1a786c14d74bc29d0bf224f93d5",
            "value": "Map:  97%"
          }
        },
        "7e86902ec3424012b5c35ef40da8f98b": {
          "model_module": "@jupyter-widgets/controls",
          "model_name": "FloatProgressModel",
          "model_module_version": "1.5.0",
          "state": {
            "_dom_classes": [],
            "_model_module": "@jupyter-widgets/controls",
            "_model_module_version": "1.5.0",
            "_model_name": "FloatProgressModel",
            "_view_count": null,
            "_view_module": "@jupyter-widgets/controls",
            "_view_module_version": "1.5.0",
            "_view_name": "ProgressView",
            "bar_style": "",
            "description": "",
            "description_tooltip": null,
            "layout": "IPY_MODEL_0a86ad32dda04c27b2ea04b8b13666ce",
            "max": 3081,
            "min": 0,
            "orientation": "horizontal",
            "style": "IPY_MODEL_b7a1adb46a9a45a6873032a073543cb8",
            "value": 3081
          }
        },
        "ddf4acce8a4a4dca89c182b37dd82ffb": {
          "model_module": "@jupyter-widgets/controls",
          "model_name": "HTMLModel",
          "model_module_version": "1.5.0",
          "state": {
            "_dom_classes": [],
            "_model_module": "@jupyter-widgets/controls",
            "_model_module_version": "1.5.0",
            "_model_name": "HTMLModel",
            "_view_count": null,
            "_view_module": "@jupyter-widgets/controls",
            "_view_module_version": "1.5.0",
            "_view_name": "HTMLView",
            "description": "",
            "description_tooltip": null,
            "layout": "IPY_MODEL_63902bfb6134497d81c7bb07a149776a",
            "placeholder": "​",
            "style": "IPY_MODEL_01214b17c6254b03a0a9e95d86ca3dae",
            "value": " 3000/3081 [00:03&lt;00:00, 878.77 examples/s]"
          }
        },
        "737b6472a5d044ef9f541c4d1776dc6d": {
          "model_module": "@jupyter-widgets/base",
          "model_name": "LayoutModel",
          "model_module_version": "1.2.0",
          "state": {
            "_model_module": "@jupyter-widgets/base",
            "_model_module_version": "1.2.0",
            "_model_name": "LayoutModel",
            "_view_count": null,
            "_view_module": "@jupyter-widgets/base",
            "_view_module_version": "1.2.0",
            "_view_name": "LayoutView",
            "align_content": null,
            "align_items": null,
            "align_self": null,
            "border": null,
            "bottom": null,
            "display": null,
            "flex": null,
            "flex_flow": null,
            "grid_area": null,
            "grid_auto_columns": null,
            "grid_auto_flow": null,
            "grid_auto_rows": null,
            "grid_column": null,
            "grid_gap": null,
            "grid_row": null,
            "grid_template_areas": null,
            "grid_template_columns": null,
            "grid_template_rows": null,
            "height": null,
            "justify_content": null,
            "justify_items": null,
            "left": null,
            "margin": null,
            "max_height": null,
            "max_width": null,
            "min_height": null,
            "min_width": null,
            "object_fit": null,
            "object_position": null,
            "order": null,
            "overflow": null,
            "overflow_x": null,
            "overflow_y": null,
            "padding": null,
            "right": null,
            "top": null,
            "visibility": "hidden",
            "width": null
          }
        },
        "9796296e7ea74575b593430eca071662": {
          "model_module": "@jupyter-widgets/base",
          "model_name": "LayoutModel",
          "model_module_version": "1.2.0",
          "state": {
            "_model_module": "@jupyter-widgets/base",
            "_model_module_version": "1.2.0",
            "_model_name": "LayoutModel",
            "_view_count": null,
            "_view_module": "@jupyter-widgets/base",
            "_view_module_version": "1.2.0",
            "_view_name": "LayoutView",
            "align_content": null,
            "align_items": null,
            "align_self": null,
            "border": null,
            "bottom": null,
            "display": null,
            "flex": null,
            "flex_flow": null,
            "grid_area": null,
            "grid_auto_columns": null,
            "grid_auto_flow": null,
            "grid_auto_rows": null,
            "grid_column": null,
            "grid_gap": null,
            "grid_row": null,
            "grid_template_areas": null,
            "grid_template_columns": null,
            "grid_template_rows": null,
            "height": null,
            "justify_content": null,
            "justify_items": null,
            "left": null,
            "margin": null,
            "max_height": null,
            "max_width": null,
            "min_height": null,
            "min_width": null,
            "object_fit": null,
            "object_position": null,
            "order": null,
            "overflow": null,
            "overflow_x": null,
            "overflow_y": null,
            "padding": null,
            "right": null,
            "top": null,
            "visibility": null,
            "width": null
          }
        },
        "4a85f1a786c14d74bc29d0bf224f93d5": {
          "model_module": "@jupyter-widgets/controls",
          "model_name": "DescriptionStyleModel",
          "model_module_version": "1.5.0",
          "state": {
            "_model_module": "@jupyter-widgets/controls",
            "_model_module_version": "1.5.0",
            "_model_name": "DescriptionStyleModel",
            "_view_count": null,
            "_view_module": "@jupyter-widgets/base",
            "_view_module_version": "1.2.0",
            "_view_name": "StyleView",
            "description_width": ""
          }
        },
        "0a86ad32dda04c27b2ea04b8b13666ce": {
          "model_module": "@jupyter-widgets/base",
          "model_name": "LayoutModel",
          "model_module_version": "1.2.0",
          "state": {
            "_model_module": "@jupyter-widgets/base",
            "_model_module_version": "1.2.0",
            "_model_name": "LayoutModel",
            "_view_count": null,
            "_view_module": "@jupyter-widgets/base",
            "_view_module_version": "1.2.0",
            "_view_name": "LayoutView",
            "align_content": null,
            "align_items": null,
            "align_self": null,
            "border": null,
            "bottom": null,
            "display": null,
            "flex": null,
            "flex_flow": null,
            "grid_area": null,
            "grid_auto_columns": null,
            "grid_auto_flow": null,
            "grid_auto_rows": null,
            "grid_column": null,
            "grid_gap": null,
            "grid_row": null,
            "grid_template_areas": null,
            "grid_template_columns": null,
            "grid_template_rows": null,
            "height": null,
            "justify_content": null,
            "justify_items": null,
            "left": null,
            "margin": null,
            "max_height": null,
            "max_width": null,
            "min_height": null,
            "min_width": null,
            "object_fit": null,
            "object_position": null,
            "order": null,
            "overflow": null,
            "overflow_x": null,
            "overflow_y": null,
            "padding": null,
            "right": null,
            "top": null,
            "visibility": null,
            "width": null
          }
        },
        "b7a1adb46a9a45a6873032a073543cb8": {
          "model_module": "@jupyter-widgets/controls",
          "model_name": "ProgressStyleModel",
          "model_module_version": "1.5.0",
          "state": {
            "_model_module": "@jupyter-widgets/controls",
            "_model_module_version": "1.5.0",
            "_model_name": "ProgressStyleModel",
            "_view_count": null,
            "_view_module": "@jupyter-widgets/base",
            "_view_module_version": "1.2.0",
            "_view_name": "StyleView",
            "bar_color": null,
            "description_width": ""
          }
        },
        "63902bfb6134497d81c7bb07a149776a": {
          "model_module": "@jupyter-widgets/base",
          "model_name": "LayoutModel",
          "model_module_version": "1.2.0",
          "state": {
            "_model_module": "@jupyter-widgets/base",
            "_model_module_version": "1.2.0",
            "_model_name": "LayoutModel",
            "_view_count": null,
            "_view_module": "@jupyter-widgets/base",
            "_view_module_version": "1.2.0",
            "_view_name": "LayoutView",
            "align_content": null,
            "align_items": null,
            "align_self": null,
            "border": null,
            "bottom": null,
            "display": null,
            "flex": null,
            "flex_flow": null,
            "grid_area": null,
            "grid_auto_columns": null,
            "grid_auto_flow": null,
            "grid_auto_rows": null,
            "grid_column": null,
            "grid_gap": null,
            "grid_row": null,
            "grid_template_areas": null,
            "grid_template_columns": null,
            "grid_template_rows": null,
            "height": null,
            "justify_content": null,
            "justify_items": null,
            "left": null,
            "margin": null,
            "max_height": null,
            "max_width": null,
            "min_height": null,
            "min_width": null,
            "object_fit": null,
            "object_position": null,
            "order": null,
            "overflow": null,
            "overflow_x": null,
            "overflow_y": null,
            "padding": null,
            "right": null,
            "top": null,
            "visibility": null,
            "width": null
          }
        },
        "01214b17c6254b03a0a9e95d86ca3dae": {
          "model_module": "@jupyter-widgets/controls",
          "model_name": "DescriptionStyleModel",
          "model_module_version": "1.5.0",
          "state": {
            "_model_module": "@jupyter-widgets/controls",
            "_model_module_version": "1.5.0",
            "_model_name": "DescriptionStyleModel",
            "_view_count": null,
            "_view_module": "@jupyter-widgets/base",
            "_view_module_version": "1.2.0",
            "_view_name": "StyleView",
            "description_width": ""
          }
        },
        "62527de5266e4e67a73615176142caf6": {
          "model_module": "@jupyter-widgets/controls",
          "model_name": "HBoxModel",
          "model_module_version": "1.5.0",
          "state": {
            "_dom_classes": [],
            "_model_module": "@jupyter-widgets/controls",
            "_model_module_version": "1.5.0",
            "_model_name": "HBoxModel",
            "_view_count": null,
            "_view_module": "@jupyter-widgets/controls",
            "_view_module_version": "1.5.0",
            "_view_name": "HBoxView",
            "box_style": "",
            "children": [
              "IPY_MODEL_85e6dfccd3fd4a41b36f2a1c8610bb47",
              "IPY_MODEL_5bbb44dd7cbe441ba9fcd0e314c7f0a9",
              "IPY_MODEL_cf0b699f19504b1a89366d0f4e2426db"
            ],
            "layout": "IPY_MODEL_160f85048aee4b58889fa8d1c9856e3e"
          }
        },
        "85e6dfccd3fd4a41b36f2a1c8610bb47": {
          "model_module": "@jupyter-widgets/controls",
          "model_name": "HTMLModel",
          "model_module_version": "1.5.0",
          "state": {
            "_dom_classes": [],
            "_model_module": "@jupyter-widgets/controls",
            "_model_module_version": "1.5.0",
            "_model_name": "HTMLModel",
            "_view_count": null,
            "_view_module": "@jupyter-widgets/controls",
            "_view_module_version": "1.5.0",
            "_view_name": "HTMLView",
            "description": "",
            "description_tooltip": null,
            "layout": "IPY_MODEL_e41c84e7926245d68c2a270b5794b3fc",
            "placeholder": "​",
            "style": "IPY_MODEL_3cfb1c0e34c04ae8a0049f8800996779",
            "value": "Downloading pytorch_model.bin: 100%"
          }
        },
        "5bbb44dd7cbe441ba9fcd0e314c7f0a9": {
          "model_module": "@jupyter-widgets/controls",
          "model_name": "FloatProgressModel",
          "model_module_version": "1.5.0",
          "state": {
            "_dom_classes": [],
            "_model_module": "@jupyter-widgets/controls",
            "_model_module_version": "1.5.0",
            "_model_name": "FloatProgressModel",
            "_view_count": null,
            "_view_module": "@jupyter-widgets/controls",
            "_view_module_version": "1.5.0",
            "_view_name": "ProgressView",
            "bar_style": "success",
            "description": "",
            "description_tooltip": null,
            "layout": "IPY_MODEL_c11a83e903a049419ce0d05270cc69e0",
            "max": 380267417,
            "min": 0,
            "orientation": "horizontal",
            "style": "IPY_MODEL_289bd9e283e04614b08df8b72f7304b5",
            "value": 380267417
          }
        },
        "cf0b699f19504b1a89366d0f4e2426db": {
          "model_module": "@jupyter-widgets/controls",
          "model_name": "HTMLModel",
          "model_module_version": "1.5.0",
          "state": {
            "_dom_classes": [],
            "_model_module": "@jupyter-widgets/controls",
            "_model_module_version": "1.5.0",
            "_model_name": "HTMLModel",
            "_view_count": null,
            "_view_module": "@jupyter-widgets/controls",
            "_view_module_version": "1.5.0",
            "_view_name": "HTMLView",
            "description": "",
            "description_tooltip": null,
            "layout": "IPY_MODEL_cd724a5f3fdc4d2d87f82178eacf8f51",
            "placeholder": "​",
            "style": "IPY_MODEL_74e05c8abc8548f7b27d6c77b82438cd",
            "value": " 380M/380M [00:02&lt;00:00, 163MB/s]"
          }
        },
        "160f85048aee4b58889fa8d1c9856e3e": {
          "model_module": "@jupyter-widgets/base",
          "model_name": "LayoutModel",
          "model_module_version": "1.2.0",
          "state": {
            "_model_module": "@jupyter-widgets/base",
            "_model_module_version": "1.2.0",
            "_model_name": "LayoutModel",
            "_view_count": null,
            "_view_module": "@jupyter-widgets/base",
            "_view_module_version": "1.2.0",
            "_view_name": "LayoutView",
            "align_content": null,
            "align_items": null,
            "align_self": null,
            "border": null,
            "bottom": null,
            "display": null,
            "flex": null,
            "flex_flow": null,
            "grid_area": null,
            "grid_auto_columns": null,
            "grid_auto_flow": null,
            "grid_auto_rows": null,
            "grid_column": null,
            "grid_gap": null,
            "grid_row": null,
            "grid_template_areas": null,
            "grid_template_columns": null,
            "grid_template_rows": null,
            "height": null,
            "justify_content": null,
            "justify_items": null,
            "left": null,
            "margin": null,
            "max_height": null,
            "max_width": null,
            "min_height": null,
            "min_width": null,
            "object_fit": null,
            "object_position": null,
            "order": null,
            "overflow": null,
            "overflow_x": null,
            "overflow_y": null,
            "padding": null,
            "right": null,
            "top": null,
            "visibility": null,
            "width": null
          }
        },
        "e41c84e7926245d68c2a270b5794b3fc": {
          "model_module": "@jupyter-widgets/base",
          "model_name": "LayoutModel",
          "model_module_version": "1.2.0",
          "state": {
            "_model_module": "@jupyter-widgets/base",
            "_model_module_version": "1.2.0",
            "_model_name": "LayoutModel",
            "_view_count": null,
            "_view_module": "@jupyter-widgets/base",
            "_view_module_version": "1.2.0",
            "_view_name": "LayoutView",
            "align_content": null,
            "align_items": null,
            "align_self": null,
            "border": null,
            "bottom": null,
            "display": null,
            "flex": null,
            "flex_flow": null,
            "grid_area": null,
            "grid_auto_columns": null,
            "grid_auto_flow": null,
            "grid_auto_rows": null,
            "grid_column": null,
            "grid_gap": null,
            "grid_row": null,
            "grid_template_areas": null,
            "grid_template_columns": null,
            "grid_template_rows": null,
            "height": null,
            "justify_content": null,
            "justify_items": null,
            "left": null,
            "margin": null,
            "max_height": null,
            "max_width": null,
            "min_height": null,
            "min_width": null,
            "object_fit": null,
            "object_position": null,
            "order": null,
            "overflow": null,
            "overflow_x": null,
            "overflow_y": null,
            "padding": null,
            "right": null,
            "top": null,
            "visibility": null,
            "width": null
          }
        },
        "3cfb1c0e34c04ae8a0049f8800996779": {
          "model_module": "@jupyter-widgets/controls",
          "model_name": "DescriptionStyleModel",
          "model_module_version": "1.5.0",
          "state": {
            "_model_module": "@jupyter-widgets/controls",
            "_model_module_version": "1.5.0",
            "_model_name": "DescriptionStyleModel",
            "_view_count": null,
            "_view_module": "@jupyter-widgets/base",
            "_view_module_version": "1.2.0",
            "_view_name": "StyleView",
            "description_width": ""
          }
        },
        "c11a83e903a049419ce0d05270cc69e0": {
          "model_module": "@jupyter-widgets/base",
          "model_name": "LayoutModel",
          "model_module_version": "1.2.0",
          "state": {
            "_model_module": "@jupyter-widgets/base",
            "_model_module_version": "1.2.0",
            "_model_name": "LayoutModel",
            "_view_count": null,
            "_view_module": "@jupyter-widgets/base",
            "_view_module_version": "1.2.0",
            "_view_name": "LayoutView",
            "align_content": null,
            "align_items": null,
            "align_self": null,
            "border": null,
            "bottom": null,
            "display": null,
            "flex": null,
            "flex_flow": null,
            "grid_area": null,
            "grid_auto_columns": null,
            "grid_auto_flow": null,
            "grid_auto_rows": null,
            "grid_column": null,
            "grid_gap": null,
            "grid_row": null,
            "grid_template_areas": null,
            "grid_template_columns": null,
            "grid_template_rows": null,
            "height": null,
            "justify_content": null,
            "justify_items": null,
            "left": null,
            "margin": null,
            "max_height": null,
            "max_width": null,
            "min_height": null,
            "min_width": null,
            "object_fit": null,
            "object_position": null,
            "order": null,
            "overflow": null,
            "overflow_x": null,
            "overflow_y": null,
            "padding": null,
            "right": null,
            "top": null,
            "visibility": null,
            "width": null
          }
        },
        "289bd9e283e04614b08df8b72f7304b5": {
          "model_module": "@jupyter-widgets/controls",
          "model_name": "ProgressStyleModel",
          "model_module_version": "1.5.0",
          "state": {
            "_model_module": "@jupyter-widgets/controls",
            "_model_module_version": "1.5.0",
            "_model_name": "ProgressStyleModel",
            "_view_count": null,
            "_view_module": "@jupyter-widgets/base",
            "_view_module_version": "1.2.0",
            "_view_name": "StyleView",
            "bar_color": null,
            "description_width": ""
          }
        },
        "cd724a5f3fdc4d2d87f82178eacf8f51": {
          "model_module": "@jupyter-widgets/base",
          "model_name": "LayoutModel",
          "model_module_version": "1.2.0",
          "state": {
            "_model_module": "@jupyter-widgets/base",
            "_model_module_version": "1.2.0",
            "_model_name": "LayoutModel",
            "_view_count": null,
            "_view_module": "@jupyter-widgets/base",
            "_view_module_version": "1.2.0",
            "_view_name": "LayoutView",
            "align_content": null,
            "align_items": null,
            "align_self": null,
            "border": null,
            "bottom": null,
            "display": null,
            "flex": null,
            "flex_flow": null,
            "grid_area": null,
            "grid_auto_columns": null,
            "grid_auto_flow": null,
            "grid_auto_rows": null,
            "grid_column": null,
            "grid_gap": null,
            "grid_row": null,
            "grid_template_areas": null,
            "grid_template_columns": null,
            "grid_template_rows": null,
            "height": null,
            "justify_content": null,
            "justify_items": null,
            "left": null,
            "margin": null,
            "max_height": null,
            "max_width": null,
            "min_height": null,
            "min_width": null,
            "object_fit": null,
            "object_position": null,
            "order": null,
            "overflow": null,
            "overflow_x": null,
            "overflow_y": null,
            "padding": null,
            "right": null,
            "top": null,
            "visibility": null,
            "width": null
          }
        },
        "74e05c8abc8548f7b27d6c77b82438cd": {
          "model_module": "@jupyter-widgets/controls",
          "model_name": "DescriptionStyleModel",
          "model_module_version": "1.5.0",
          "state": {
            "_model_module": "@jupyter-widgets/controls",
            "_model_module_version": "1.5.0",
            "_model_name": "DescriptionStyleModel",
            "_view_count": null,
            "_view_module": "@jupyter-widgets/base",
            "_view_module_version": "1.2.0",
            "_view_name": "StyleView",
            "description_width": ""
          }
        }
      }
    }
  },
  "nbformat": 4,
  "nbformat_minor": 0
}