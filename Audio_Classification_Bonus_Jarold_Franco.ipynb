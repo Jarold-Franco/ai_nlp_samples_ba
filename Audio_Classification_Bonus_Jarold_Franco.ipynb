{
  "cells": [
    {
      "cell_type": "markdown",
      "metadata": {
        "id": "view-in-github",
        "colab_type": "text"
      },
      "source": [
        "<a href=\"https://colab.research.google.com/github/Jarold-Franco/ai_nlp_samples_ba/blob/main/Audio_Classification_Bonus_Jarold_Franco.ipynb\" target=\"_parent\"><img src=\"https://colab.research.google.com/assets/colab-badge.svg\" alt=\"Open In Colab\"/></a>"
      ]
    },
    {
      "cell_type": "markdown",
      "metadata": {
        "id": "g4JTHJ-IATho"
      },
      "source": [
        "# **Fine-tuning for Audio Classification with 🤗 Transformers**"
      ]
    },
    {
      "cell_type": "markdown",
      "metadata": {
        "id": "o-CI6ON8AMcc"
      },
      "source": [
        "This notebook shows how to fine-tune multi-lingual pretrained speech models for Automatic Speech Recognition."
      ]
    },
    {
      "cell_type": "markdown",
      "metadata": {
        "id": "pdcMxVGEA9Cd"
      },
      "source": [
        "This notebook is built to run on the **Keyword Spotting** subset of the [SUPERB dataset](https://huggingface.co/datasets/superb) with any speech model checkpoint from the [Model Hub](https://huggingface.co/models?pipeline_tag=automatic-speech-recognition&sort=downloads) as long as that model has a version with a Sequence Classification head (e.g. [Wav2Vec2ForSequenceClassification](https://huggingface.co/transformers/model_doc/wav2vec2.html#wav2vec2forsequenceclassification)). \n",
        "\n",
        "Depending on the model and the GPU you are using, you might need to adjust the batch size to avoid out-of-memory errors. Set those two parameters, then the rest of the notebook should run smoothly:"
      ]
    },
    {
      "cell_type": "code",
      "execution_count": null,
      "metadata": {
        "id": "5WMEawzyCEyG"
      },
      "outputs": [],
      "source": [
        "model_checkpoint = \"facebook/wav2vec2-base\"\n",
        "batch_size = 32"
      ]
    },
    {
      "cell_type": "markdown",
      "metadata": {
        "id": "NlArTG8KChJf"
      },
      "source": [
        "Before we start, let's install both `datasets` and `transformers` from master. Also, we need the `librosa` package to load audio files."
      ]
    },
    {
      "cell_type": "code",
      "execution_count": null,
      "metadata": {
        "id": "L1532RVbJgQV",
        "colab": {
          "base_uri": "https://localhost:8080/"
        },
        "outputId": "46eea24f-41ba-417f-a8fe-260d43986658"
      },
      "outputs": [
        {
          "output_type": "stream",
          "name": "stdout",
          "text": [
            "Looking in indexes: https://pypi.org/simple, https://us-python.pkg.dev/colab-wheels/public/simple/\n",
            "Collecting datasets\n",
            "  Downloading datasets-2.11.0-py3-none-any.whl (468 kB)\n",
            "\u001b[2K     \u001b[90m━━━━━━━━━━━━━━━━━━━━━━━━━━━━━━━━━━━━━━━\u001b[0m \u001b[32m468.7/468.7 kB\u001b[0m \u001b[31m7.3 MB/s\u001b[0m eta \u001b[36m0:00:00\u001b[0m\n",
            "\u001b[?25hRequirement already satisfied: pyarrow>=8.0.0 in /usr/local/lib/python3.9/dist-packages (from datasets) (9.0.0)\n",
            "Collecting dill<0.3.7,>=0.3.0\n",
            "  Downloading dill-0.3.6-py3-none-any.whl (110 kB)\n",
            "\u001b[2K     \u001b[90m━━━━━━━━━━━━━━━━━━━━━━━━━━━━━━━━━━━━━━\u001b[0m \u001b[32m110.5/110.5 kB\u001b[0m \u001b[31m15.3 MB/s\u001b[0m eta \u001b[36m0:00:00\u001b[0m\n",
            "\u001b[?25hRequirement already satisfied: tqdm>=4.62.1 in /usr/local/lib/python3.9/dist-packages (from datasets) (4.65.0)\n",
            "Collecting multiprocess\n",
            "  Downloading multiprocess-0.70.14-py39-none-any.whl (132 kB)\n",
            "\u001b[2K     \u001b[90m━━━━━━━━━━━━━━━━━━━━━━━━━━━━━━━━━━━━━━\u001b[0m \u001b[32m132.9/132.9 kB\u001b[0m \u001b[31m11.0 MB/s\u001b[0m eta \u001b[36m0:00:00\u001b[0m\n",
            "\u001b[?25hCollecting aiohttp\n",
            "  Downloading aiohttp-3.8.4-cp39-cp39-manylinux_2_17_x86_64.manylinux2014_x86_64.whl (1.0 MB)\n",
            "\u001b[2K     \u001b[90m━━━━━━━━━━━━━━━━━━━━━━━━━━━━━━━━━━━━━━━━\u001b[0m \u001b[32m1.0/1.0 MB\u001b[0m \u001b[31m42.9 MB/s\u001b[0m eta \u001b[36m0:00:00\u001b[0m\n",
            "\u001b[?25hRequirement already satisfied: pandas in /usr/local/lib/python3.9/dist-packages (from datasets) (1.5.3)\n",
            "Collecting huggingface-hub<1.0.0,>=0.11.0\n",
            "  Downloading huggingface_hub-0.13.4-py3-none-any.whl (200 kB)\n",
            "\u001b[2K     \u001b[90m━━━━━━━━━━━━━━━━━━━━━━━━━━━━━━━━━━━━━━\u001b[0m \u001b[32m200.1/200.1 kB\u001b[0m \u001b[31m27.4 MB/s\u001b[0m eta \u001b[36m0:00:00\u001b[0m\n",
            "\u001b[?25hRequirement already satisfied: packaging in /usr/local/lib/python3.9/dist-packages (from datasets) (23.0)\n",
            "Requirement already satisfied: numpy>=1.17 in /usr/local/lib/python3.9/dist-packages (from datasets) (1.22.4)\n",
            "Collecting responses<0.19\n",
            "  Downloading responses-0.18.0-py3-none-any.whl (38 kB)\n",
            "Requirement already satisfied: pyyaml>=5.1 in /usr/local/lib/python3.9/dist-packages (from datasets) (6.0)\n",
            "Collecting xxhash\n",
            "  Downloading xxhash-3.2.0-cp39-cp39-manylinux_2_17_x86_64.manylinux2014_x86_64.whl (212 kB)\n",
            "\u001b[2K     \u001b[90m━━━━━━━━━━━━━━━━━━━━━━━━━━━━━━━━━━━━━━\u001b[0m \u001b[32m212.2/212.2 kB\u001b[0m \u001b[31m22.6 MB/s\u001b[0m eta \u001b[36m0:00:00\u001b[0m\n",
            "\u001b[?25hRequirement already satisfied: fsspec[http]>=2021.11.1 in /usr/local/lib/python3.9/dist-packages (from datasets) (2023.3.0)\n",
            "Requirement already satisfied: requests>=2.19.0 in /usr/local/lib/python3.9/dist-packages (from datasets) (2.27.1)\n",
            "Collecting frozenlist>=1.1.1\n",
            "  Downloading frozenlist-1.3.3-cp39-cp39-manylinux_2_5_x86_64.manylinux1_x86_64.manylinux_2_17_x86_64.manylinux2014_x86_64.whl (158 kB)\n",
            "\u001b[2K     \u001b[90m━━━━━━━━━━━━━━━━━━━━━━━━━━━━━━━━━━━━━━\u001b[0m \u001b[32m158.8/158.8 kB\u001b[0m \u001b[31m19.0 MB/s\u001b[0m eta \u001b[36m0:00:00\u001b[0m\n",
            "\u001b[?25hCollecting yarl<2.0,>=1.0\n",
            "  Downloading yarl-1.8.2-cp39-cp39-manylinux_2_17_x86_64.manylinux2014_x86_64.whl (264 kB)\n",
            "\u001b[2K     \u001b[90m━━━━━━━━━━━━━━━━━━━━━━━━━━━━━━━━━━━━━━\u001b[0m \u001b[32m264.6/264.6 kB\u001b[0m \u001b[31m33.0 MB/s\u001b[0m eta \u001b[36m0:00:00\u001b[0m\n",
            "\u001b[?25hRequirement already satisfied: charset-normalizer<4.0,>=2.0 in /usr/local/lib/python3.9/dist-packages (from aiohttp->datasets) (2.0.12)\n",
            "Collecting async-timeout<5.0,>=4.0.0a3\n",
            "  Downloading async_timeout-4.0.2-py3-none-any.whl (5.8 kB)\n",
            "Requirement already satisfied: attrs>=17.3.0 in /usr/local/lib/python3.9/dist-packages (from aiohttp->datasets) (22.2.0)\n",
            "Collecting aiosignal>=1.1.2\n",
            "  Downloading aiosignal-1.3.1-py3-none-any.whl (7.6 kB)\n",
            "Collecting multidict<7.0,>=4.5\n",
            "  Downloading multidict-6.0.4-cp39-cp39-manylinux_2_17_x86_64.manylinux2014_x86_64.whl (114 kB)\n",
            "\u001b[2K     \u001b[90m━━━━━━━━━━━━━━━━━━━━━━━━━━━━━━━━━━━━━━\u001b[0m \u001b[32m114.2/114.2 kB\u001b[0m \u001b[31m16.7 MB/s\u001b[0m eta \u001b[36m0:00:00\u001b[0m\n",
            "\u001b[?25hRequirement already satisfied: filelock in /usr/local/lib/python3.9/dist-packages (from huggingface-hub<1.0.0,>=0.11.0->datasets) (3.11.0)\n",
            "Requirement already satisfied: typing-extensions>=3.7.4.3 in /usr/local/lib/python3.9/dist-packages (from huggingface-hub<1.0.0,>=0.11.0->datasets) (4.5.0)\n",
            "Requirement already satisfied: urllib3<1.27,>=1.21.1 in /usr/local/lib/python3.9/dist-packages (from requests>=2.19.0->datasets) (1.26.15)\n",
            "Requirement already satisfied: idna<4,>=2.5 in /usr/local/lib/python3.9/dist-packages (from requests>=2.19.0->datasets) (3.4)\n",
            "Requirement already satisfied: certifi>=2017.4.17 in /usr/local/lib/python3.9/dist-packages (from requests>=2.19.0->datasets) (2022.12.7)\n",
            "Requirement already satisfied: pytz>=2020.1 in /usr/local/lib/python3.9/dist-packages (from pandas->datasets) (2022.7.1)\n",
            "Requirement already satisfied: python-dateutil>=2.8.1 in /usr/local/lib/python3.9/dist-packages (from pandas->datasets) (2.8.2)\n",
            "Requirement already satisfied: six>=1.5 in /usr/local/lib/python3.9/dist-packages (from python-dateutil>=2.8.1->pandas->datasets) (1.16.0)\n",
            "Installing collected packages: xxhash, multidict, frozenlist, dill, async-timeout, yarl, responses, multiprocess, huggingface-hub, aiosignal, aiohttp, datasets\n",
            "Successfully installed aiohttp-3.8.4 aiosignal-1.3.1 async-timeout-4.0.2 datasets-2.11.0 dill-0.3.6 frozenlist-1.3.3 huggingface-hub-0.13.4 multidict-6.0.4 multiprocess-0.70.14 responses-0.18.0 xxhash-3.2.0 yarl-1.8.2\n",
            "Looking in indexes: https://pypi.org/simple, https://us-python.pkg.dev/colab-wheels/public/simple/\n",
            "Collecting transformers\n",
            "  Downloading transformers-4.27.4-py3-none-any.whl (6.8 MB)\n",
            "\u001b[2K     \u001b[90m━━━━━━━━━━━━━━━━━━━━━━━━━━━━━━━━━━━━━━━━\u001b[0m \u001b[32m6.8/6.8 MB\u001b[0m \u001b[31m58.7 MB/s\u001b[0m eta \u001b[36m0:00:00\u001b[0m\n",
            "\u001b[?25hCollecting tokenizers!=0.11.3,<0.14,>=0.11.1\n",
            "  Downloading tokenizers-0.13.3-cp39-cp39-manylinux_2_17_x86_64.manylinux2014_x86_64.whl (7.8 MB)\n",
            "\u001b[2K     \u001b[90m━━━━━━━━━━━━━━━━━━━━━━━━━━━━━━━━━━━━━━━━\u001b[0m \u001b[32m7.8/7.8 MB\u001b[0m \u001b[31m77.9 MB/s\u001b[0m eta \u001b[36m0:00:00\u001b[0m\n",
            "\u001b[?25hRequirement already satisfied: huggingface-hub<1.0,>=0.11.0 in /usr/local/lib/python3.9/dist-packages (from transformers) (0.13.4)\n",
            "Requirement already satisfied: requests in /usr/local/lib/python3.9/dist-packages (from transformers) (2.27.1)\n",
            "Requirement already satisfied: pyyaml>=5.1 in /usr/local/lib/python3.9/dist-packages (from transformers) (6.0)\n",
            "Requirement already satisfied: tqdm>=4.27 in /usr/local/lib/python3.9/dist-packages (from transformers) (4.65.0)\n",
            "Requirement already satisfied: filelock in /usr/local/lib/python3.9/dist-packages (from transformers) (3.11.0)\n",
            "Requirement already satisfied: numpy>=1.17 in /usr/local/lib/python3.9/dist-packages (from transformers) (1.22.4)\n",
            "Requirement already satisfied: packaging>=20.0 in /usr/local/lib/python3.9/dist-packages (from transformers) (23.0)\n",
            "Requirement already satisfied: regex!=2019.12.17 in /usr/local/lib/python3.9/dist-packages (from transformers) (2022.10.31)\n",
            "Requirement already satisfied: typing-extensions>=3.7.4.3 in /usr/local/lib/python3.9/dist-packages (from huggingface-hub<1.0,>=0.11.0->transformers) (4.5.0)\n",
            "Requirement already satisfied: charset-normalizer~=2.0.0 in /usr/local/lib/python3.9/dist-packages (from requests->transformers) (2.0.12)\n",
            "Requirement already satisfied: certifi>=2017.4.17 in /usr/local/lib/python3.9/dist-packages (from requests->transformers) (2022.12.7)\n",
            "Requirement already satisfied: urllib3<1.27,>=1.21.1 in /usr/local/lib/python3.9/dist-packages (from requests->transformers) (1.26.15)\n",
            "Requirement already satisfied: idna<4,>=2.5 in /usr/local/lib/python3.9/dist-packages (from requests->transformers) (3.4)\n",
            "Installing collected packages: tokenizers, transformers\n",
            "Successfully installed tokenizers-0.13.3 transformers-4.27.4\n",
            "Looking in indexes: https://pypi.org/simple, https://us-python.pkg.dev/colab-wheels/public/simple/\n",
            "Requirement already satisfied: librosa in /usr/local/lib/python3.9/dist-packages (0.10.0.post2)\n",
            "Requirement already satisfied: soundfile>=0.12.1 in /usr/local/lib/python3.9/dist-packages (from librosa) (0.12.1)\n",
            "Requirement already satisfied: audioread>=2.1.9 in /usr/local/lib/python3.9/dist-packages (from librosa) (3.0.0)\n",
            "Requirement already satisfied: numba>=0.51.0 in /usr/local/lib/python3.9/dist-packages (from librosa) (0.56.4)\n",
            "Requirement already satisfied: typing-extensions>=4.1.1 in /usr/local/lib/python3.9/dist-packages (from librosa) (4.5.0)\n",
            "Requirement already satisfied: scikit-learn>=0.20.0 in /usr/local/lib/python3.9/dist-packages (from librosa) (1.2.2)\n",
            "Requirement already satisfied: numpy!=1.22.0,!=1.22.1,!=1.22.2,>=1.20.3 in /usr/local/lib/python3.9/dist-packages (from librosa) (1.22.4)\n",
            "Requirement already satisfied: msgpack>=1.0 in /usr/local/lib/python3.9/dist-packages (from librosa) (1.0.5)\n",
            "Requirement already satisfied: scipy>=1.2.0 in /usr/local/lib/python3.9/dist-packages (from librosa) (1.10.1)\n",
            "Requirement already satisfied: pooch<1.7,>=1.0 in /usr/local/lib/python3.9/dist-packages (from librosa) (1.6.0)\n",
            "Requirement already satisfied: lazy-loader>=0.1 in /usr/local/lib/python3.9/dist-packages (from librosa) (0.2)\n",
            "Requirement already satisfied: decorator>=4.3.0 in /usr/local/lib/python3.9/dist-packages (from librosa) (4.4.2)\n",
            "Requirement already satisfied: joblib>=0.14 in /usr/local/lib/python3.9/dist-packages (from librosa) (1.2.0)\n",
            "Requirement already satisfied: soxr>=0.3.2 in /usr/local/lib/python3.9/dist-packages (from librosa) (0.3.4)\n",
            "Requirement already satisfied: setuptools in /usr/local/lib/python3.9/dist-packages (from numba>=0.51.0->librosa) (67.6.1)\n",
            "Requirement already satisfied: llvmlite<0.40,>=0.39.0dev0 in /usr/local/lib/python3.9/dist-packages (from numba>=0.51.0->librosa) (0.39.1)\n",
            "Requirement already satisfied: appdirs>=1.3.0 in /usr/local/lib/python3.9/dist-packages (from pooch<1.7,>=1.0->librosa) (1.4.4)\n",
            "Requirement already satisfied: packaging>=20.0 in /usr/local/lib/python3.9/dist-packages (from pooch<1.7,>=1.0->librosa) (23.0)\n",
            "Requirement already satisfied: requests>=2.19.0 in /usr/local/lib/python3.9/dist-packages (from pooch<1.7,>=1.0->librosa) (2.27.1)\n",
            "Requirement already satisfied: threadpoolctl>=2.0.0 in /usr/local/lib/python3.9/dist-packages (from scikit-learn>=0.20.0->librosa) (3.1.0)\n",
            "Requirement already satisfied: cffi>=1.0 in /usr/local/lib/python3.9/dist-packages (from soundfile>=0.12.1->librosa) (1.15.1)\n",
            "Requirement already satisfied: pycparser in /usr/local/lib/python3.9/dist-packages (from cffi>=1.0->soundfile>=0.12.1->librosa) (2.21)\n",
            "Requirement already satisfied: charset-normalizer~=2.0.0 in /usr/local/lib/python3.9/dist-packages (from requests>=2.19.0->pooch<1.7,>=1.0->librosa) (2.0.12)\n",
            "Requirement already satisfied: idna<4,>=2.5 in /usr/local/lib/python3.9/dist-packages (from requests>=2.19.0->pooch<1.7,>=1.0->librosa) (3.4)\n",
            "Requirement already satisfied: certifi>=2017.4.17 in /usr/local/lib/python3.9/dist-packages (from requests>=2.19.0->pooch<1.7,>=1.0->librosa) (2022.12.7)\n",
            "Requirement already satisfied: urllib3<1.27,>=1.21.1 in /usr/local/lib/python3.9/dist-packages (from requests>=2.19.0->pooch<1.7,>=1.0->librosa) (1.26.15)\n"
          ]
        }
      ],
      "source": [
        "#%%capture\n",
        "#!pip install datasets==1.14\n",
        "#!pip install transformers==4.11.3\n",
        "!pip install datasets\n",
        "!pip install transformers\n",
        "!pip install librosa"
      ]
    },
    {
      "cell_type": "markdown",
      "metadata": {
        "id": "snZ1tmaOC412"
      },
      "source": [
        "If you're opening this notebook locally, make sure your environment has an install from the last version of those libraries.\n",
        "\n",
        "To be able to share your model with the community and generate results like the one shown in the picture below via the inference API, there are a few more steps to follow.\n",
        "\n",
        "First you have to store your authentication token from the Hugging Face website (sign up [here](https://huggingface.co/join) if you haven't already!) then execute the following cell and input your username and password:"
      ]
    },
    {
      "cell_type": "code",
      "execution_count": null,
      "metadata": {
        "id": "Bkpk_JPlCww8",
        "colab": {
          "base_uri": "https://localhost:8080/",
          "height": 359,
          "referenced_widgets": [
            "77f2f2596348432dab9837001788d02a",
            "55b85cd8d49f48a281e26c1c88370438",
            "f3e12b0986c04b599a620463aa30be9d",
            "2fb5340e2a624f0fa3edae1ee7cbf8cd",
            "db65a66e9a8d4d609867ff9d7fdc0f96",
            "3aa43166c68048f89850ac787d58758f",
            "6cc170b7251a40919a6a9203c30adf02",
            "49955191cf0343759e425b322becc338",
            "b0a4afc61da0472f813b0b99bbb5090c",
            "375ae150957b4e74874e9dfa5cc035f8",
            "c2bc0195da1449deb1abfde880f4d3e5",
            "3a7d105fb6d8425b916242f2b32f75b4",
            "cbdbee7eae0a4380869942389625adc4",
            "239afffac3d5478dad34d51dbe94d1f7",
            "261f02a580df4a82a07c9b387cebef7b",
            "97d273b4f0194144bfe76d4208aec445",
            "889b8b77357d49b291725106433438fa"
          ]
        },
        "outputId": "a29808d6-598f-434c-a468-8752bed3e242"
      },
      "outputs": [
        {
          "output_type": "stream",
          "name": "stdout",
          "text": [
            "Token is valid.\n",
            "Your token has been saved in your configured git credential helpers (store).\n",
            "Your token has been saved to /root/.cache/huggingface/token\n",
            "Login successful\n"
          ]
        }
      ],
      "source": [
        "from huggingface_hub import notebook_login\n",
        "\n",
        "notebook_login()"
      ]
    },
    {
      "cell_type": "markdown",
      "metadata": {
        "id": "JJ0986jTDZRC"
      },
      "source": [
        "\n",
        "Then you need to install Git-LFS to upload your model checkpoints:"
      ]
    },
    {
      "cell_type": "code",
      "execution_count": null,
      "metadata": {
        "id": "t7JEhLjDDcVd",
        "colab": {
          "base_uri": "https://localhost:8080/"
        },
        "outputId": "8b213ddb-54f5-4f3b-a797-2ac0ba71603e"
      },
      "outputs": [
        {
          "output_type": "stream",
          "name": "stdout",
          "text": [
            "Reading package lists... Done\n",
            "Building dependency tree       \n",
            "Reading state information... Done\n",
            "git-lfs is already the newest version (2.9.2-1).\n",
            "0 upgraded, 0 newly installed, 0 to remove and 24 not upgraded.\n"
          ]
        }
      ],
      "source": [
        "#%%capture\n",
        "!apt install git-lfs"
      ]
    },
    {
      "cell_type": "markdown",
      "metadata": {
        "id": "1g8XBxzJ7WIm"
      },
      "source": [
        "We also quickly upload some telemetry - this tells us which examples and software versions are getting used so we know where to prioritize our maintenance efforts. We don't collect (or care about) any personally identifiable information, but if you'd prefer not to be counted, feel free to skip this step or delete this cell entirely."
      ]
    },
    {
      "cell_type": "code",
      "execution_count": null,
      "metadata": {
        "id": "SxsSk62m7WIn"
      },
      "outputs": [],
      "source": [
        "from transformers.utils import send_example_telemetry\n",
        "\n",
        "send_example_telemetry(\"audio_classification_notebook\", framework=\"pytorch\")"
      ]
    },
    {
      "cell_type": "markdown",
      "metadata": {
        "id": "XalxdrirGkLl"
      },
      "source": [
        "## Fine-tuning a model on an audio classification task"
      ]
    },
    {
      "cell_type": "markdown",
      "metadata": {
        "id": "cnRWZSq0GRRh"
      },
      "source": [
        "In this notebook, we will see how to fine-tune one of the [🤗 Transformers](https://github.com/huggingface/transformers) acoustic models to a Keyword Spotting task of the [SUPERB Benchmark](https://superbbenchmark.org/)\n",
        "\n",
        "Keyword Spotting (KS) detects preregistered keywords by classifying utterances into a predefined set of words. SUPERB uses the widely used Speech Commands dataset v1.0 for the task. The dataset consists of ten classes of keywords, a class for silence, and an unknown class to include the false positive. "
      ]
    },
    {
      "cell_type": "markdown",
      "metadata": {
        "id": "lu8Od7EgFLwe"
      },
      "source": [
        "<img src=\"data:image/png;base64,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\" alt=\"drawing\" width=\"400\"/>"
      ]
    },
    {
      "cell_type": "markdown",
      "metadata": {
        "id": "mcE455KaG687"
      },
      "source": [
        "### Loading the dataset"
      ]
    },
    {
      "cell_type": "markdown",
      "metadata": {
        "id": "RD_G2KJgG_bU"
      },
      "source": [
        "We will use the [🤗 Datasets](https://github.com/huggingface/datasets) library to download the data and get the Accuracy metric we need to use for evaluation. This can be easily done with the functions `load_dataset` and `load_metric`.  "
      ]
    },
    {
      "cell_type": "code",
      "execution_count": null,
      "metadata": {
        "id": "fhVQU42BLd3p"
      },
      "outputs": [],
      "source": [
        "from datasets import load_dataset, load_metric"
      ]
    },
    {
      "cell_type": "code",
      "execution_count": null,
      "metadata": {
        "colab": {
          "base_uri": "https://localhost:8080/",
          "height": 298,
          "referenced_widgets": [
            "fb18aafbc06e45019e5a4c44d2437c9e",
            "f5cd6e6ff9744e9386a5c061658a1952",
            "fba7d906576f4571ada44cd85b67be1f",
            "8520ba9db89a4b5a874484bbbbb6fde7",
            "23357d97b0f544b69c21bb1e3441a317",
            "9cbf991dcf9a49a9a2c31c89aa9ebe10",
            "293157f756704aa59559e6fff18c6f24",
            "4a5f7d88bc2d4708bbe894c1f0e64668",
            "4da296d01f774053af041446ee529f03",
            "c2bc2ec3343f42929dabcd92727015c2",
            "9b3040de3d6e4941b32d04637d7b76f5",
            "845cb090481f4ff9b6d22679def2e8f8",
            "b1e5e56f75034e2494c2199f2aeeca54",
            "d43e66dad0974f478e53605b05c44a04",
            "d221a1bc003c457a8f4139b2dfb5b747",
            "6925d9133d904c81bca05af389fc20a2",
            "544b93b095ed432d920239dc5b67fee1",
            "56b135b6e26740d78526dbb6c00257fe",
            "3a7c3e328541478080d2401e4d5b1e84",
            "4798f12172c74827916292f5e3b79bd2",
            "6ad39dad41ea4bf49b1e05e847ee3efb",
            "2cd90113fdf84342afb656b90883b598",
            "a6bb3d4f48e146cb9b2983c5c4418179",
            "f7b7b75140c24cc6ac55479d2d729f1c",
            "a982825feb9c4a448d7eeec176f7a97e",
            "a2b1ebb929a94d399766ef578d72baca",
            "acf4b2d43b6f4c169af3b7b03af3879c",
            "b66a59176e0545c982b441b8f1904139",
            "f27af7b22e1a4009b1bed1ef9844f342",
            "949fc37e66334c188c55ed43b758629b",
            "9d97b007461a438ab67468a6e34d25dc",
            "010ec651694d4aac9ea96f032f11b549",
            "ab29811548874dbea286c4aa71b0cd51",
            "a562807337cb45cca6db3b7a7976c02d",
            "0d8a464f22994865b810c9edb36c8ae9",
            "783ce360e8d94af7a90f833574af278c",
            "5a538db5e4004800b0a7c94f82478218",
            "4a86822a892646ef89292a22aaea0966",
            "7bc5bacfd7e14d509f36163d46c71423",
            "f91765af794843afb1d0b83642e85968",
            "50302c7f3dc64ab69e0b81166da5f847",
            "9fcb479467e84a1e9cba114c257df15f",
            "83abc82e7a8e4241a9a7413e5e050286",
            "5c7339ade76b46358babded4e6958d9a",
            "3dcdbbc6ee3045ef8a7a16b2de09ebc3",
            "ac62fe1dbaaa454f99f18367bcc7c65e",
            "0b5b5cf40035439bb6afedfe031f07da",
            "80ae81ae58ed4daab04677bb69cb329a",
            "0bc5062d6b9542458227a9b6190465f4",
            "962aabde15f846768ea37b7ffe7738a2",
            "74a4e0d62b9843e68a1d46899b7f4b38",
            "24e62e7118e34530bece998202b1f6a4",
            "2a2a5da9c1964544b4bd3cc9c25f6208",
            "6fa618b42dc84471b6a8eaa7e7369e44",
            "ed0a8769a9b248aa955ee15af2a72c2e",
            "f1d49c2b412c470c9934ed77e935d82d",
            "fcf10ae34ee14f89a93c121623f7b61b",
            "970cbb2342e84ee787f0bf798aac1343",
            "ee91fac95e874a349bfc97e57fcc4f1b",
            "e2d0e578aafa477ca634aa3e99b089c8",
            "127cbc705751448b9e9eed42222474a9",
            "1c4a1c25647245aab15b2c06a05861bc",
            "8569942e991f47f4858c230358b17f90",
            "1ca9441bc85a48268e98f838b19ee380",
            "fddabf1d18da4fe1b053054632d107cd",
            "3d32afe5992846a2b0ac5cb1260c7383",
            "8ad4ac62871a46d2af50d37f8372d5a9",
            "6e8df28d52b44608bfef594c94ede6e3",
            "874e3a6b9ccf4e63be17d07fdd5a526a",
            "1169bd230a4c4c90890440a501da5a99",
            "0297aaf3c193440f9eba6870204e0f98",
            "2f1d3a7d795548508a85b4adb12bef53",
            "e874becbe5cd419db0996799d2c881d2",
            "dbef171972ed40df8f88def6be26e63a",
            "2782b9b52eb34fd983961300c40a060d",
            "6b875604aec34afab16a23552dd41051",
            "543827431f1e46899943ebb039360ea7",
            "6a4dfa99ef5941fe9dc183000bf55144",
            "428ddf0f752e416883d78f440f50ce9f",
            "2208d6fe513b4626940545029b549d80",
            "7cbfe49049db4a28a10c55f3bbf23405",
            "2ccad793de6c4227a070895790927331",
            "fb3f235e621c42ecb67efa8582d9ca5e",
            "47edbf25833c43a994b7e6f930951a68",
            "17296ebd0e654e2fb3e44b6470aab663",
            "f974f121af014a75ae7b8744d2d70c83",
            "21822b5f4de5415aaa7a0da16a04cf7a",
            "a148edd3ad534a9593ff6923c918a3a6",
            "83662f225c9246e297cc9593d3c1b299",
            "7199269f33804b5497b80c82be0207af",
            "90561b8ebd3a418fbf47a8d9935c3cf9",
            "f7830ddd34f94675b8d10e7ae6106836",
            "6fd3978550f14f8fa63875dd8cd0ff03",
            "650fa2fb4b12429fb7a19d924dc7a32f",
            "6ce0dd133d81438e890c99cfdf3a45c2",
            "d6149582b73f4d1ca9206559d55303e5",
            "84055f63476a4d32809c9247af207f64",
            "cf2403a94a444817983f3defbd8716ec",
            "df70edc985474317b877f6f081594e56"
          ]
        },
        "id": "8UGse36eLeeb",
        "outputId": "b7486b53-2938-4bba-c65e-edd05bb1df92"
      },
      "outputs": [
        {
          "output_type": "stream",
          "name": "stdout",
          "text": [
            "Downloading and preparing dataset speech_commands/v0.01 to /root/.cache/huggingface/datasets/speech_commands/v0.01/0.1.0/ba3d9a6cf49aa1313c51abe16b59203451482ccb9fee6d23c94fecabf3e206da...\n"
          ]
        },
        {
          "output_type": "display_data",
          "data": {
            "text/plain": [
              "Downloading data files:   0%|          | 0/3 [00:00<?, ?it/s]"
            ],
            "application/vnd.jupyter.widget-view+json": {
              "version_major": 2,
              "version_minor": 0,
              "model_id": "fb18aafbc06e45019e5a4c44d2437c9e"
            }
          },
          "metadata": {}
        },
        {
          "output_type": "display_data",
          "data": {
            "text/plain": [
              "Downloading data:   0%|          | 0.00/1.18G [00:00<?, ?B/s]"
            ],
            "application/vnd.jupyter.widget-view+json": {
              "version_major": 2,
              "version_minor": 0,
              "model_id": "845cb090481f4ff9b6d22679def2e8f8"
            }
          },
          "metadata": {}
        },
        {
          "output_type": "display_data",
          "data": {
            "text/plain": [
              "Downloading data:   0%|          | 0.00/154M [00:00<?, ?B/s]"
            ],
            "application/vnd.jupyter.widget-view+json": {
              "version_major": 2,
              "version_minor": 0,
              "model_id": "a6bb3d4f48e146cb9b2983c5c4418179"
            }
          },
          "metadata": {}
        },
        {
          "output_type": "display_data",
          "data": {
            "text/plain": [
              "Downloading data:   0%|          | 0.00/125M [00:00<?, ?B/s]"
            ],
            "application/vnd.jupyter.widget-view+json": {
              "version_major": 2,
              "version_minor": 0,
              "model_id": "a562807337cb45cca6db3b7a7976c02d"
            }
          },
          "metadata": {}
        },
        {
          "output_type": "display_data",
          "data": {
            "text/plain": [
              "Generating train split:   0%|          | 0/51093 [00:00<?, ? examples/s]"
            ],
            "application/vnd.jupyter.widget-view+json": {
              "version_major": 2,
              "version_minor": 0,
              "model_id": "3dcdbbc6ee3045ef8a7a16b2de09ebc3"
            }
          },
          "metadata": {}
        },
        {
          "output_type": "display_data",
          "data": {
            "text/plain": [
              "Generating validation split:   0%|          | 0/6799 [00:00<?, ? examples/s]"
            ],
            "application/vnd.jupyter.widget-view+json": {
              "version_major": 2,
              "version_minor": 0,
              "model_id": "f1d49c2b412c470c9934ed77e935d82d"
            }
          },
          "metadata": {}
        },
        {
          "output_type": "display_data",
          "data": {
            "text/plain": [
              "Generating test split:   0%|          | 0/3081 [00:00<?, ? examples/s]"
            ],
            "application/vnd.jupyter.widget-view+json": {
              "version_major": 2,
              "version_minor": 0,
              "model_id": "8ad4ac62871a46d2af50d37f8372d5a9"
            }
          },
          "metadata": {}
        },
        {
          "output_type": "stream",
          "name": "stdout",
          "text": [
            "Dataset speech_commands downloaded and prepared to /root/.cache/huggingface/datasets/speech_commands/v0.01/0.1.0/ba3d9a6cf49aa1313c51abe16b59203451482ccb9fee6d23c94fecabf3e206da. Subsequent calls will reuse this data.\n"
          ]
        },
        {
          "output_type": "display_data",
          "data": {
            "text/plain": [
              "  0%|          | 0/3 [00:00<?, ?it/s]"
            ],
            "application/vnd.jupyter.widget-view+json": {
              "version_major": 2,
              "version_minor": 0,
              "model_id": "6a4dfa99ef5941fe9dc183000bf55144"
            }
          },
          "metadata": {}
        },
        {
          "output_type": "stream",
          "name": "stderr",
          "text": [
            "<ipython-input-7-249bdf5f59d5>:6: FutureWarning: load_metric is deprecated and will be removed in the next major version of datasets. Use 'evaluate.load' instead, from the new library 🤗 Evaluate: https://huggingface.co/docs/evaluate\n",
            "  metric = load_metric(\"accuracy\")\n"
          ]
        },
        {
          "output_type": "display_data",
          "data": {
            "text/plain": [
              "Downloading builder script:   0%|          | 0.00/1.65k [00:00<?, ?B/s]"
            ],
            "application/vnd.jupyter.widget-view+json": {
              "version_major": 2,
              "version_minor": 0,
              "model_id": "83662f225c9246e297cc9593d3c1b299"
            }
          },
          "metadata": {}
        }
      ],
      "source": [
        "#dataset = load_dataset(\"superb\", \"ks\")\n",
        "### modified by Jarold\n",
        "ds_name = \"speech_commands\"\n",
        "task = \"v0.01\"\n",
        "dataset = load_dataset(ds_name, task)\n",
        "metric = load_metric(\"accuracy\")"
      ]
    },
    {
      "cell_type": "markdown",
      "metadata": {
        "id": "r8mTmFdlHOmN"
      },
      "source": [
        "The `dataset` object itself is a [`DatasetDict`](https://huggingface.co/docs/datasets/package_reference/main_classes.html#datasetdict), which contains one key for the training, validation and test set."
      ]
    },
    {
      "cell_type": "code",
      "execution_count": null,
      "metadata": {
        "colab": {
          "base_uri": "https://localhost:8080/"
        },
        "id": "7tjOWPQYLq4u",
        "outputId": "d6ae9990-1639-4937-a5c9-49d7fef84feb"
      },
      "outputs": [
        {
          "output_type": "execute_result",
          "data": {
            "text/plain": [
              "DatasetDict({\n",
              "    train: Dataset({\n",
              "        features: ['file', 'audio', 'label', 'is_unknown', 'speaker_id', 'utterance_id'],\n",
              "        num_rows: 51093\n",
              "    })\n",
              "    validation: Dataset({\n",
              "        features: ['file', 'audio', 'label', 'is_unknown', 'speaker_id', 'utterance_id'],\n",
              "        num_rows: 6799\n",
              "    })\n",
              "    test: Dataset({\n",
              "        features: ['file', 'audio', 'label', 'is_unknown', 'speaker_id', 'utterance_id'],\n",
              "        num_rows: 3081\n",
              "    })\n",
              "})"
            ]
          },
          "metadata": {},
          "execution_count": 8
        }
      ],
      "source": [
        "dataset"
      ]
    },
    {
      "cell_type": "markdown",
      "metadata": {
        "id": "nfPPNjthI3u2"
      },
      "source": [
        "To access an actual element, you need to select a split first, then give an index:"
      ]
    },
    {
      "cell_type": "code",
      "execution_count": null,
      "metadata": {
        "colab": {
          "base_uri": "https://localhost:8080/"
        },
        "id": "BujWoSgyMQlw",
        "outputId": "79b02cfe-298f-40da-f6d2-515e579e9342"
      },
      "outputs": [
        {
          "output_type": "execute_result",
          "data": {
            "text/plain": [
              "{'file': 'no/d0faf7e4_nohash_2.wav',\n",
              " 'audio': {'path': 'no/d0faf7e4_nohash_2.wav',\n",
              "  'array': array([-0.00039673, -0.00158691, -0.00259399, ..., -0.00363159,\n",
              "         -0.00335693, -0.00241089]),\n",
              "  'sampling_rate': 16000},\n",
              " 'label': 1,\n",
              " 'is_unknown': False,\n",
              " 'speaker_id': 'd0faf7e4',\n",
              " 'utterance_id': 2}"
            ]
          },
          "metadata": {},
          "execution_count": 9
        }
      ],
      "source": [
        "dataset[\"test\"][1000]"
      ]
    },
    {
      "cell_type": "markdown",
      "metadata": {
        "id": "f8GpxwfnJCkF"
      },
      "source": [
        "As you can see, the `label` field is not an actual string label. By default the `ClassLabel` fields are encoded into integers for convenience:"
      ]
    },
    {
      "cell_type": "code",
      "execution_count": null,
      "metadata": {
        "colab": {
          "base_uri": "https://localhost:8080/"
        },
        "id": "n33LZz_ZMU3o",
        "outputId": "2726262c-5612-45d1-eb96-1de915a30dca"
      },
      "outputs": [
        {
          "output_type": "execute_result",
          "data": {
            "text/plain": [
              "ClassLabel(names=['yes', 'no', 'up', 'down', 'left', 'right', 'on', 'off', 'stop', 'go', 'zero', 'one', 'two', 'three', 'four', 'five', 'six', 'seven', 'eight', 'nine', 'bed', 'bird', 'cat', 'dog', 'happy', 'house', 'marvin', 'sheila', 'tree', 'wow', '_silence_'], id=None)"
            ]
          },
          "metadata": {},
          "execution_count": 10
        }
      ],
      "source": [
        "dataset[\"train\"].features[\"label\"]"
      ]
    },
    {
      "cell_type": "markdown",
      "metadata": {
        "id": "5LdpDtScLgeD"
      },
      "source": [
        "Let's create an `id2label` dictionary to decode them back to strings and see what they are. The inverse `label2id` will be useful too, when we load the model later."
      ]
    },
    {
      "cell_type": "code",
      "execution_count": null,
      "metadata": {
        "colab": {
          "base_uri": "https://localhost:8080/",
          "height": 35
        },
        "id": "UuyXDtQqNUZW",
        "outputId": "5a51d23e-4648-47be-c400-03ae4dfd4b44"
      },
      "outputs": [
        {
          "output_type": "execute_result",
          "data": {
            "text/plain": [
              "'go'"
            ],
            "application/vnd.google.colaboratory.intrinsic+json": {
              "type": "string"
            }
          },
          "metadata": {},
          "execution_count": 11
        }
      ],
      "source": [
        "labels = dataset[\"train\"].features[\"label\"].names\n",
        "label2id, id2label = dict(), dict()\n",
        "for i, label in enumerate(labels):\n",
        "    label2id[label] = str(i)\n",
        "    id2label[str(i)] = label\n",
        "\n",
        "id2label[\"9\"]"
      ]
    },
    {
      "cell_type": "markdown",
      "metadata": {
        "id": "GD7wBXeIltx0"
      },
      "source": [
        "`Wav2Vec2` expects the input in the format of a 1-dimensional array of 16 kHz. This means that the audio file has to be loaded and resampled.\n",
        "\n",
        " Thankfully, `datasets` does this automatically when calling the column `audio`. Let try it out. "
      ]
    },
    {
      "cell_type": "code",
      "execution_count": null,
      "metadata": {
        "colab": {
          "base_uri": "https://localhost:8080/"
        },
        "id": "UKIaV1ndl0j6",
        "outputId": "c866449c-9ed9-4454-d4fc-d2098669b6fd"
      },
      "outputs": [
        {
          "output_type": "execute_result",
          "data": {
            "text/plain": [
              "{'path': 'no/d0faf7e4_nohash_2.wav',\n",
              " 'array': array([-0.00039673, -0.00158691, -0.00259399, ..., -0.00363159,\n",
              "        -0.00335693, -0.00241089]),\n",
              " 'sampling_rate': 16000}"
            ]
          },
          "metadata": {},
          "execution_count": 12
        }
      ],
      "source": [
        "dataset[\"test\"][1000][\"audio\"]"
      ]
    },
    {
      "cell_type": "markdown",
      "metadata": {
        "id": "eEfxyaatlzU-"
      },
      "source": [
        "We can see that the audio file has automatically been loaded. This is thanks to the new [`\"Audio\"` feature](https://huggingface.co/docs/datasets/package_reference/main_classes.html?highlight=audio#datasets.Audio) introduced in `datasets == 1.13.3`, which loads and resamples audio files on-the-fly upon calling.\n",
        "\n",
        "The sampling rate is set to 16kHz which is what `Wav2Vec2` expects as an input."
      ]
    },
    {
      "cell_type": "markdown",
      "metadata": {
        "id": "TSvqeGihJvp4"
      },
      "source": [
        "To get a sense of what the commands sound like, the following snippet will render \n",
        "some audio examples picked randomly from the dataset. \n",
        "\n",
        "**Note**: *You can run the following cell a couple of times to listen to different audio samples.*"
      ]
    },
    {
      "cell_type": "code",
      "execution_count": null,
      "metadata": {
        "colab": {
          "base_uri": "https://localhost:8080/",
          "height": 569
        },
        "id": "RI0kb4woNvuU",
        "outputId": "78560920-9580-41a0-a294-ca62ffb10e49"
      },
      "outputs": [
        {
          "output_type": "stream",
          "name": "stdout",
          "text": [
            "Label: happy\n",
            "Shape: (16000,), sampling rate: 16000\n"
          ]
        },
        {
          "output_type": "display_data",
          "data": {
            "text/plain": [
              "<IPython.lib.display.Audio object>"
            ],
            "text/html": [
              "\n",
              "                <audio  controls=\"controls\" >\n",
              "                    <source src=\"data:audio/wav;base64,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\" type=\"audio/wav\" />\n",
              "                    Your browser does not support the audio element.\n",
              "                </audio>\n",
              "              "
            ]
          },
          "metadata": {}
        },
        {
          "output_type": "stream",
          "name": "stdout",
          "text": [
            "\n",
            "Label: zero\n",
            "Shape: (16000,), sampling rate: 16000\n"
          ]
        },
        {
          "output_type": "display_data",
          "data": {
            "text/plain": [
              "<IPython.lib.display.Audio object>"
            ],
            "text/html": [
              "\n",
              "                <audio  controls=\"controls\" >\n",
              "                    <source src=\"data:audio/wav;base64,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\" type=\"audio/wav\" />\n",
              "                    Your browser does not support the audio element.\n",
              "                </audio>\n",
              "              "
            ]
          },
          "metadata": {}
        },
        {
          "output_type": "stream",
          "name": "stdout",
          "text": [
            "\n",
            "Label: on\n",
            "Shape: (16000,), sampling rate: 16000\n"
          ]
        },
        {
          "output_type": "display_data",
          "data": {
            "text/plain": [
              "<IPython.lib.display.Audio object>"
            ],
            "text/html": [
              "\n",
              "                <audio  controls=\"controls\" >\n",
              "                    <source src=\"data:audio/wav;base64,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\" type=\"audio/wav\" />\n",
              "                    Your browser does not support the audio element.\n",
              "                </audio>\n",
              "              "
            ]
          },
          "metadata": {}
        },
        {
          "output_type": "stream",
          "name": "stdout",
          "text": [
            "\n",
            "Label: two\n",
            "Shape: (16000,), sampling rate: 16000\n"
          ]
        },
        {
          "output_type": "display_data",
          "data": {
            "text/plain": [
              "<IPython.lib.display.Audio object>"
            ],
            "text/html": [
              "\n",
              "                <audio  controls=\"controls\" >\n",
              "                    <source src=\"data:audio/wav;base64,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\" type=\"audio/wav\" />\n",
              "                    Your browser does not support the audio element.\n",
              "                </audio>\n",
              "              "
            ]
          },
          "metadata": {}
        },
        {
          "output_type": "stream",
          "name": "stdout",
          "text": [
            "\n",
            "Label: eight\n",
            "Shape: (16000,), sampling rate: 16000\n"
          ]
        },
        {
          "output_type": "display_data",
          "data": {
            "text/plain": [
              "<IPython.lib.display.Audio object>"
            ],
            "text/html": [
              "\n",
              "                <audio  controls=\"controls\" >\n",
              "                    <source src=\"data:audio/wav;base64,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\" type=\"audio/wav\" />\n",
              "                    Your browser does not support the audio element.\n",
              "                </audio>\n",
              "              "
            ]
          },
          "metadata": {}
        },
        {
          "output_type": "stream",
          "name": "stdout",
          "text": [
            "\n"
          ]
        }
      ],
      "source": [
        "import random\n",
        "from IPython.display import Audio, display\n",
        "\n",
        "for _ in range(5):\n",
        "    rand_idx = random.randint(0, len(dataset[\"train\"])-1)\n",
        "    example = dataset[\"train\"][rand_idx]\n",
        "    audio = example[\"audio\"]\n",
        "\n",
        "    print(f'Label: {id2label[str(example[\"label\"])]}')\n",
        "    print(f'Shape: {audio[\"array\"].shape}, sampling rate: {audio[\"sampling_rate\"]}')\n",
        "    display(Audio(audio[\"array\"], rate=audio[\"sampling_rate\"]))\n",
        "    print()"
      ]
    },
    {
      "cell_type": "markdown",
      "metadata": {
        "id": "37K_0FAQoNRM"
      },
      "source": [
        "If you run the cell a couple of times, you'll see that despite slight variations in length, most of the samples are about 1 second long (`duration = audio_length / sampling_rate`). So we can safely truncate and pad the samples to `16000`."
      ]
    },
    {
      "cell_type": "markdown",
      "metadata": {
        "id": "4zxoikSOjs0K"
      },
      "source": [
        "### Preprocessing the data"
      ]
    },
    {
      "cell_type": "markdown",
      "metadata": {
        "id": "WTupOU88p1lK"
      },
      "source": [
        "Before we can feed those audio clips to our model, we need to preprocess them. This is done by a 🤗 Transformers `FeatureExtractor` which will normalize the inputs and put them in a format the model expects, as well as generate the other inputs that the model requires.\n",
        "\n",
        "To do all of this, we instantiate our feature extractor with the `AutoFeatureExtractor.from_pretrained` method, which will ensure that we get a preprocessor that corresponds to the model architecture we want to use."
      ]
    },
    {
      "cell_type": "code",
      "execution_count": null,
      "metadata": {
        "colab": {
          "base_uri": "https://localhost:8080/",
          "height": 292,
          "referenced_widgets": [
            "ed745b3bb94a4bce971b9d87814c2695",
            "fdcd4882a2464c53981c2d270a132fe2",
            "2505a45a205d455b9db03a99fe147ae1",
            "4e39ed2b6bd946b7b53d694c07526a13",
            "13252d79d4cf47738bad9ee5617ec2ac",
            "68cfdb70f5c6418981b3e6766930f21e",
            "21eacba0180a45eca9056c2007da68dc",
            "191793655724496abce4a1ef4d577b19",
            "781b421e9bf1442d865c6ab1f285377a",
            "293f3e79cf5949b39e4c5a1229ccd148",
            "1d53a616fcb646cb887e4125fa708fbc",
            "eb80a9dff3ab42c6af2319360249b77b",
            "d766c95890d8494dbe704cf9386f8bea",
            "f28f0f4f857d47949b1764aec6aa1318",
            "42bbd12682224f898513aeac4dd764fd",
            "975cbc48c2814ee39c251a0bf62b0056",
            "71841a536adb48bca1070ee394169e96",
            "e8bc9ac3c7cf4f96b7deb54ab2d2dd62",
            "02a36dc6fa8d4f4cac9fb74130bbec2b",
            "bf335c6110754c66aab825fa1c1a0fdd",
            "11793b310c1f48edaa70bd738ab38050",
            "c8e1d7dc5ba04615824d5d92b8931853"
          ]
        },
        "id": "G1bX4lGAO_d9",
        "outputId": "2be553ec-1280-4f57-b53a-b78bc9bc7c7d"
      },
      "outputs": [
        {
          "output_type": "display_data",
          "data": {
            "text/plain": [
              "Downloading (…)rocessor_config.json:   0%|          | 0.00/159 [00:00<?, ?B/s]"
            ],
            "application/vnd.jupyter.widget-view+json": {
              "version_major": 2,
              "version_minor": 0,
              "model_id": "ed745b3bb94a4bce971b9d87814c2695"
            }
          },
          "metadata": {}
        },
        {
          "output_type": "display_data",
          "data": {
            "text/plain": [
              "Downloading (…)lve/main/config.json:   0%|          | 0.00/1.84k [00:00<?, ?B/s]"
            ],
            "application/vnd.jupyter.widget-view+json": {
              "version_major": 2,
              "version_minor": 0,
              "model_id": "eb80a9dff3ab42c6af2319360249b77b"
            }
          },
          "metadata": {}
        },
        {
          "output_type": "stream",
          "name": "stderr",
          "text": [
            "/usr/local/lib/python3.9/dist-packages/transformers/configuration_utils.py:379: UserWarning: Passing `gradient_checkpointing` to a config initialization is deprecated and will be removed in v5 Transformers. Using `model.gradient_checkpointing_enable()` instead, or if you are using the `Trainer` API, pass `gradient_checkpointing=True` in your `TrainingArguments`.\n",
            "  warnings.warn(\n"
          ]
        },
        {
          "output_type": "execute_result",
          "data": {
            "text/plain": [
              "Wav2Vec2FeatureExtractor {\n",
              "  \"do_normalize\": true,\n",
              "  \"feature_extractor_type\": \"Wav2Vec2FeatureExtractor\",\n",
              "  \"feature_size\": 1,\n",
              "  \"padding_side\": \"right\",\n",
              "  \"padding_value\": 0.0,\n",
              "  \"return_attention_mask\": false,\n",
              "  \"sampling_rate\": 16000\n",
              "}"
            ]
          },
          "metadata": {},
          "execution_count": 14
        }
      ],
      "source": [
        "from transformers import AutoFeatureExtractor\n",
        "\n",
        "feature_extractor = AutoFeatureExtractor.from_pretrained(model_checkpoint)\n",
        "feature_extractor"
      ]
    },
    {
      "cell_type": "markdown",
      "metadata": {
        "id": "-zYhYOuDL9XP"
      },
      "source": [
        "As we've noticed earlier, the samples are roughly 1 second long, so let's set it here:"
      ]
    },
    {
      "cell_type": "code",
      "execution_count": null,
      "metadata": {
        "id": "wX35xSLx-ghC"
      },
      "outputs": [],
      "source": [
        "max_duration = 1.0  # seconds"
      ]
    },
    {
      "cell_type": "markdown",
      "metadata": {
        "id": "qUtxmoMvqml1"
      },
      "source": [
        "We can then write the function that will preprocess our samples. We just feed them to the `feature_extractor` with the argument `truncation=True`, as well as the maximum sample length. This will ensure that very long inputs like the ones in the `_silence_` class can be safely batched."
      ]
    },
    {
      "cell_type": "code",
      "execution_count": null,
      "metadata": {
        "id": "4O_p3WrpRyej"
      },
      "outputs": [],
      "source": [
        "def preprocess_function(examples):\n",
        "    audio_arrays = [x[\"array\"] for x in examples[\"audio\"]]\n",
        "    inputs = feature_extractor(\n",
        "        audio_arrays, \n",
        "        sampling_rate=feature_extractor.sampling_rate, \n",
        "        max_length=int(feature_extractor.sampling_rate * max_duration), \n",
        "        truncation=True, \n",
        "    )\n",
        "    return inputs"
      ]
    },
    {
      "cell_type": "markdown",
      "metadata": {
        "id": "OlbYCcVZ4hHu"
      },
      "source": [
        "The feature extractor will return a list of numpy arays for each example:"
      ]
    },
    {
      "cell_type": "code",
      "execution_count": null,
      "metadata": {
        "colab": {
          "base_uri": "https://localhost:8080/"
        },
        "id": "qGUvcAlAqKy-",
        "outputId": "f101f1b3-b047-4368-f5b7-17271b2a651c"
      },
      "outputs": [
        {
          "output_type": "execute_result",
          "data": {
            "text/plain": [
              "{'input_values': [array([0.01387134, 0.05397359, 0.08015145, ..., 0.05230266, 0.05174568,\n",
              "       0.03949222], dtype=float32), array([ 0.04707608,  0.04946613,  0.17135863, ..., -0.13934776,\n",
              "       -0.13416933, -0.14054279], dtype=float32), array([-0.14229348, -0.49980867, -0.68320936, ...,  0.82139826,\n",
              "        0.68159074,  0.39243162], dtype=float32), array([-0.00032828, -0.00032828, -0.00032828, ...,  0.09377076,\n",
              "        0.09662224,  0.10089947], dtype=float32), array([-0.0327469 , -0.02276918,  0.00134364, ...,  0.01215284,\n",
              "       -0.00281374, -0.01528589], dtype=float32)]}"
            ]
          },
          "metadata": {},
          "execution_count": 17
        }
      ],
      "source": [
        "preprocess_function(dataset['train'][:5])"
      ]
    },
    {
      "cell_type": "markdown",
      "metadata": {
        "id": "a1Nw4FwN5wCS"
      },
      "source": [
        "To apply this function on all utterances in our dataset, we just use the `map` method of our `dataset` object we created earlier. This will apply the function on all the elements of all the splits in `dataset`, so our training, validation and testing data will be preprocessed in one single command."
      ]
    },
    {
      "cell_type": "code",
      "execution_count": null,
      "metadata": {
        "colab": {
          "base_uri": "https://localhost:8080/",
          "height": 315,
          "referenced_widgets": [
            "d4727ef8ac3c45378ed5f9acda789e7c",
            "328e7453b8dd47a085cd186062a4d81d",
            "464a7b7acf3844bd8b3ab7488a8ce3c5",
            "3e1c24945b01472288cf4728d0cbaf6f",
            "a63a395c496e4853af3ce74c930201e5",
            "eae0ee83e27f45d6aa366d5f0cb8ebd0",
            "4c89c9edc5314ea5a3b2b02047dbe577",
            "015555283b594cbea79bdd5d8565ea0a",
            "2ed304a520de43f2b9df254bfdee9b76",
            "1fd54761edd044f985bb5dcdc5cb70ae",
            "964558d2b8714c4c9940463c3baae43d",
            "78733814706342d18985fe8f2cc1752d",
            "a8b1bf2e9f044a53bdc6ff5bdef182f5",
            "b5ecf2e290ff44f5aaa473460e5c265d",
            "e0c2eb825f2d4b79bc02fc7697f96873",
            "6f58b92246aa4513b79ecb8ec1d47ebb",
            "c9b84e60d45244bc8793999be3589576",
            "07a2ae1f0a924938951998a92e36c3fd",
            "fba642353613416d8458b4455652f440",
            "c0e3a51de7324d07900cf3115d6622c0",
            "e4b4992c054c45ebb5a5eb9f3b23fb17",
            "19bdaeb715734155b307633a1c3db029",
            "630e33a45d67425b82914da6b1f5496e",
            "704ea27b29c548cbb8a543ccca8da7f5",
            "1b06b84f18ad4747969094cd16323008",
            "e410e28bbade4d5389b1b429f429ab1a",
            "0020e0676b0748eab066a733cfa37c19",
            "c9d81adf38344cd8b464249e4fc911d9",
            "92ce255b6b094addaea4426f5d6f0ed1",
            "894784dc251045d19ead6567400777b7",
            "f81bd3466c904b6ea2a82b4a7b2724eb",
            "4825c3000ff44f9c80765ed7aac5b496",
            "293539912d2f4fedaa6fd754876aff1b"
          ]
        },
        "id": "FfxFgJ_6qPPy",
        "outputId": "96b51463-fc14-4936-8cf3-a36ebb9d08b0"
      },
      "outputs": [
        {
          "output_type": "display_data",
          "data": {
            "text/plain": [
              "Map:   0%|          | 0/51093 [00:00<?, ? examples/s]"
            ],
            "application/vnd.jupyter.widget-view+json": {
              "version_major": 2,
              "version_minor": 0,
              "model_id": "d4727ef8ac3c45378ed5f9acda789e7c"
            }
          },
          "metadata": {}
        },
        {
          "output_type": "stream",
          "name": "stderr",
          "text": [
            "/usr/local/lib/python3.9/dist-packages/transformers/feature_extraction_utils.py:165: VisibleDeprecationWarning: Creating an ndarray from ragged nested sequences (which is a list-or-tuple of lists-or-tuples-or ndarrays with different lengths or shapes) is deprecated. If you meant to do this, you must specify 'dtype=object' when creating the ndarray.\n",
            "  tensor = as_tensor(value)\n"
          ]
        },
        {
          "output_type": "display_data",
          "data": {
            "text/plain": [
              "Map:   0%|          | 0/6799 [00:00<?, ? examples/s]"
            ],
            "application/vnd.jupyter.widget-view+json": {
              "version_major": 2,
              "version_minor": 0,
              "model_id": "78733814706342d18985fe8f2cc1752d"
            }
          },
          "metadata": {}
        },
        {
          "output_type": "display_data",
          "data": {
            "text/plain": [
              "Map:   0%|          | 0/3081 [00:00<?, ? examples/s]"
            ],
            "application/vnd.jupyter.widget-view+json": {
              "version_major": 2,
              "version_minor": 0,
              "model_id": "630e33a45d67425b82914da6b1f5496e"
            }
          },
          "metadata": {}
        },
        {
          "output_type": "execute_result",
          "data": {
            "text/plain": [
              "DatasetDict({\n",
              "    train: Dataset({\n",
              "        features: ['label', 'is_unknown', 'speaker_id', 'utterance_id', 'input_values'],\n",
              "        num_rows: 51093\n",
              "    })\n",
              "    validation: Dataset({\n",
              "        features: ['label', 'is_unknown', 'speaker_id', 'utterance_id', 'input_values'],\n",
              "        num_rows: 6799\n",
              "    })\n",
              "    test: Dataset({\n",
              "        features: ['label', 'is_unknown', 'speaker_id', 'utterance_id', 'input_values'],\n",
              "        num_rows: 3081\n",
              "    })\n",
              "})"
            ]
          },
          "metadata": {},
          "execution_count": 18
        }
      ],
      "source": [
        "encoded_dataset = dataset.map(preprocess_function, remove_columns=[\"audio\", \"file\"], batched=True)\n",
        "encoded_dataset"
      ]
    },
    {
      "cell_type": "markdown",
      "metadata": {
        "id": "c0OwX3Es580y"
      },
      "source": [
        "Even better, the results are automatically cached by the 🤗 Datasets library to avoid spending time on this step the next time you run your notebook. The 🤗 Datasets library is normally smart enough to detect when the function you pass to map has changed (and thus requires to not use the cache data). 🤗 Datasets warns you when it uses cached files, you can pass `load_from_cache_file=False` in the call to `map` to not use the cached files and force the preprocessing to be applied again."
      ]
    },
    {
      "cell_type": "markdown",
      "metadata": {
        "id": "HOXmyPQ76Qv9"
      },
      "source": [
        "### Training the model"
      ]
    },
    {
      "cell_type": "markdown",
      "metadata": {
        "id": "0a-2YT7O6ayC"
      },
      "source": [
        "Now that our data is ready, we can download the pretrained model and fine-tune it. For classification we use the `AutoModelForAudioClassification` class. Like with the feature extractor, the `from_pretrained` method will download and cache the model for us. As the label ids and the number of labels are dataset dependent, we pass `num_labels`, `label2id`, and `id2label` alongside the `model_checkpoint` here:"
      ]
    },
    {
      "cell_type": "code",
      "execution_count": null,
      "metadata": {
        "colab": {
          "base_uri": "https://localhost:8080/",
          "height": 191,
          "referenced_widgets": [
            "eb4751d8477c4656bf5b40917a158a58",
            "597754263ccd4d02ae7eca31919e1b01",
            "e4c0cfd297564550aef53c29ca864a37",
            "6087f3812e144d21badf33553af91bfa",
            "240dcaeaae384bee9e96801115bf9668",
            "cd929739de8546fbac52c38e1f1a97aa",
            "d6f2d333f8574e98b07c7b67ff664502",
            "76b09519969d4bf988da6b8c03ff7754",
            "6bdede68453546d5b9a9e47dcfa43465",
            "78c0dc7ffb05491fac9cf8064ad08c1d",
            "80263e5052184873b14e6cd66b59dc9c"
          ]
        },
        "id": "X9DDujL0q1ac",
        "outputId": "4522fe3c-64ac-45e4-93db-b81f5edcd301"
      },
      "outputs": [
        {
          "output_type": "stream",
          "name": "stderr",
          "text": [
            "/usr/local/lib/python3.9/dist-packages/transformers/configuration_utils.py:379: UserWarning: Passing `gradient_checkpointing` to a config initialization is deprecated and will be removed in v5 Transformers. Using `model.gradient_checkpointing_enable()` instead, or if you are using the `Trainer` API, pass `gradient_checkpointing=True` in your `TrainingArguments`.\n",
            "  warnings.warn(\n"
          ]
        },
        {
          "output_type": "display_data",
          "data": {
            "text/plain": [
              "Downloading pytorch_model.bin:   0%|          | 0.00/380M [00:00<?, ?B/s]"
            ],
            "application/vnd.jupyter.widget-view+json": {
              "version_major": 2,
              "version_minor": 0,
              "model_id": "eb4751d8477c4656bf5b40917a158a58"
            }
          },
          "metadata": {}
        },
        {
          "output_type": "stream",
          "name": "stderr",
          "text": [
            "Some weights of the model checkpoint at facebook/wav2vec2-base were not used when initializing Wav2Vec2ForSequenceClassification: ['project_hid.bias', 'project_hid.weight', 'quantizer.codevectors', 'project_q.bias', 'quantizer.weight_proj.bias', 'quantizer.weight_proj.weight', 'project_q.weight']\n",
            "- This IS expected if you are initializing Wav2Vec2ForSequenceClassification from the checkpoint of a model trained on another task or with another architecture (e.g. initializing a BertForSequenceClassification model from a BertForPreTraining model).\n",
            "- This IS NOT expected if you are initializing Wav2Vec2ForSequenceClassification from the checkpoint of a model that you expect to be exactly identical (initializing a BertForSequenceClassification model from a BertForSequenceClassification model).\n",
            "Some weights of Wav2Vec2ForSequenceClassification were not initialized from the model checkpoint at facebook/wav2vec2-base and are newly initialized: ['classifier.weight', 'projector.bias', 'projector.weight', 'classifier.bias']\n",
            "You should probably TRAIN this model on a down-stream task to be able to use it for predictions and inference.\n"
          ]
        }
      ],
      "source": [
        "from transformers import AutoModelForAudioClassification, TrainingArguments, Trainer\n",
        "\n",
        "num_labels = len(id2label)\n",
        "model = AutoModelForAudioClassification.from_pretrained(\n",
        "    model_checkpoint, \n",
        "    num_labels=num_labels,\n",
        "    label2id=label2id,\n",
        "    id2label=id2label,\n",
        ")\n"
      ]
    },
    {
      "cell_type": "markdown",
      "metadata": {
        "id": "U8EmET_f6458"
      },
      "source": [
        "The warning is telling us we are throwing away some weights (the `quantizer` and `project_q` layers) and randomly initializing some other (the `projector` and `classifier` layers). This is expected in this case, because we are removing the head used to pretrain the model on an unsupervised Vector Quantization objective and replacing it with a new head for which we don't have pretrained weights, so the library warns us we should fine-tune this model before using it for inference, which is exactly what we are going to do."
      ]
    },
    {
      "cell_type": "markdown",
      "metadata": {
        "id": "FEfyuq1U8hDT"
      },
      "source": [
        "To instantiate a `Trainer`, we will need to define the training configuration and the evaluation metric. The most important is the [`TrainingArguments`](https://huggingface.co/transformers/main_classes/trainer.html#transformers.TrainingArguments), which is a class that contains all the attributes to customize the training. It requires one folder name, which will be used to save the checkpoints of the model, and all other arguments are optional:"
      ]
    },
    {
      "cell_type": "code",
      "execution_count": null,
      "metadata": {
        "id": "xc_MTm0Ks3DF"
      },
      "outputs": [],
      "source": [
        "model_name = model_checkpoint.split(\"/\")[-1]\n",
        "\n",
        "args = TrainingArguments(\n",
        "    f\"{model_name}-finetuned-{ds_name}-{task}\",\n",
        "    evaluation_strategy = \"epoch\",\n",
        "    save_strategy = \"epoch\",\n",
        "    learning_rate=3e-5,\n",
        "    per_device_train_batch_size=batch_size,\n",
        "    gradient_accumulation_steps=4,\n",
        "    per_device_eval_batch_size=batch_size,\n",
        "    num_train_epochs=5,\n",
        "    warmup_ratio=0.1,\n",
        "    logging_steps=10,\n",
        "    load_best_model_at_end=True,\n",
        "    metric_for_best_model=\"accuracy\",\n",
        "    push_to_hub=True,\n",
        ")"
      ]
    },
    {
      "cell_type": "markdown",
      "metadata": {
        "id": "xi6JYNYs8lJO"
      },
      "source": [
        "Here we set the evaluation to be done at the end of each epoch, tweak the learning rate, use the `batch_size` defined at the top of the notebook and customize the number of epochs for training, as well as the weight decay. Since the best model might not be the one at the end of training, we ask the `Trainer` to load the best model it saved (according to `metric_name`) at the end of training.\n",
        "\n",
        "The last argument `push_to_hub` allows the Trainer to push the model to the [Hub](https://huggingface.co/models) regularly during training. Remove it if you didn't follow the installation steps at the top of the notebook. If you want to save your model locally with a name that is different from the name of the repository, or if you want to push your model under an organization and not your name space, use the `hub_model_id` argument to set the repo name (it needs to be the full name, including your namespace: for instance `\"anton-l/wav2vec2-finetuned-ks\"` or `\"huggingface/anton-l/wav2vec2-finetuned-ks\"`)."
      ]
    },
    {
      "cell_type": "markdown",
      "metadata": {
        "id": "2VE_HSha9RZk"
      },
      "source": [
        "Next, we need to define a function for how to compute the metrics from the predictions, which will just use the `metric` we loaded earlier. The only preprocessing we have to do is to take the argmax of our predicted logits:"
      ]
    },
    {
      "cell_type": "code",
      "execution_count": null,
      "metadata": {
        "id": "EVWfiBuv2uCS"
      },
      "outputs": [],
      "source": [
        "import numpy as np\n",
        "\n",
        "def compute_metrics(eval_pred):\n",
        "    \"\"\"Computes accuracy on a batch of predictions\"\"\"\n",
        "    predictions = np.argmax(eval_pred.predictions, axis=1)\n",
        "    return metric.compute(predictions=predictions, references=eval_pred.label_ids)"
      ]
    },
    {
      "cell_type": "markdown",
      "metadata": {
        "id": "yTF0dWw49fB9"
      },
      "source": [
        "Then we just need to pass all of this along with our datasets to the `Trainer`:"
      ]
    },
    {
      "cell_type": "code",
      "execution_count": null,
      "metadata": {
        "id": "McVoaCPr3Cj-",
        "colab": {
          "base_uri": "https://localhost:8080/"
        },
        "outputId": "e8b2cec2-3684-45bc-a464-33566e638def"
      },
      "outputs": [
        {
          "output_type": "stream",
          "name": "stderr",
          "text": [
            "Cloning https://huggingface.co/Jcfranco/wav2vec2-base-finetuned-speech_commands-v0.01 into local empty directory.\n",
            "WARNING:huggingface_hub.repository:Cloning https://huggingface.co/Jcfranco/wav2vec2-base-finetuned-speech_commands-v0.01 into local empty directory.\n"
          ]
        }
      ],
      "source": [
        "#trainer = Trainer(\n",
        "#    model,\n",
        "#    args,\n",
        "#    train_dataset=encoded_dataset[\"train\"],\n",
        "#    eval_dataset=encoded_dataset[\"validation\"],\n",
        "#    tokenizer=feature_extractor,\n",
        "#    compute_metrics=compute_metrics\n",
        "#)\n",
        "\n",
        "trainer = Trainer(\n",
        "    model,\n",
        "    args,\n",
        "    train_dataset=encoded_dataset[\"train\"].shard(index=1, num_shards=5),\n",
        "    eval_dataset=encoded_dataset[\"validation\"],\n",
        "    tokenizer=feature_extractor,\n",
        "    compute_metrics=compute_metrics\n",
        ")"
      ]
    },
    {
      "cell_type": "markdown",
      "metadata": {
        "id": "ltokP9mO9pjI"
      },
      "source": [
        "You might wonder why we pass along the `feature_extractor` as a tokenizer when we already preprocessed our data. This is because we will use it once last time to make all the samples we gather the same length by applying padding, which requires knowing the model's preferences regarding padding (to the left or right? with which token?). The `feature_extractor` has a pad method that will do all of this for us, and the `Trainer` will use it. You can customize this part by defining and passing your own `data_collator` which will receive the samples like the dictionaries seen above and will need to return a dictionary of tensors."
      ]
    },
    {
      "cell_type": "markdown",
      "metadata": {
        "id": "9j6VNsGP97LG"
      },
      "source": [
        "Now we can finetune our model by calling the `train` method:"
      ]
    },
    {
      "cell_type": "code",
      "execution_count": null,
      "metadata": {
        "colab": {
          "base_uri": "https://localhost:8080/",
          "height": 339
        },
        "id": "Pps61vF_4QaH",
        "outputId": "e478436a-5f04-46bb-ce73-377f8401247c"
      },
      "outputs": [
        {
          "output_type": "stream",
          "name": "stderr",
          "text": [
            "/usr/local/lib/python3.9/dist-packages/transformers/optimization.py:391: FutureWarning: This implementation of AdamW is deprecated and will be removed in a future version. Use the PyTorch implementation torch.optim.AdamW instead, or set `no_deprecation_warning=True` to disable this warning\n",
            "  warnings.warn(\n"
          ]
        },
        {
          "output_type": "display_data",
          "data": {
            "text/plain": [
              "<IPython.core.display.HTML object>"
            ],
            "text/html": [
              "\n",
              "    <div>\n",
              "      \n",
              "      <progress value='400' max='400' style='width:300px; height:20px; vertical-align: middle;'></progress>\n",
              "      [400/400 29:59, Epoch 5/5]\n",
              "    </div>\n",
              "    <table border=\"1\" class=\"dataframe\">\n",
              "  <thead>\n",
              " <tr style=\"text-align: left;\">\n",
              "      <th>Epoch</th>\n",
              "      <th>Training Loss</th>\n",
              "      <th>Validation Loss</th>\n",
              "      <th>Accuracy</th>\n",
              "    </tr>\n",
              "  </thead>\n",
              "  <tbody>\n",
              "    <tr>\n",
              "      <td>1</td>\n",
              "      <td>2.809300</td>\n",
              "      <td>2.614550</td>\n",
              "      <td>0.867628</td>\n",
              "    </tr>\n",
              "    <tr>\n",
              "      <td>2</td>\n",
              "      <td>2.028400</td>\n",
              "      <td>1.824641</td>\n",
              "      <td>0.928225</td>\n",
              "    </tr>\n",
              "    <tr>\n",
              "      <td>3</td>\n",
              "      <td>1.713600</td>\n",
              "      <td>1.505213</td>\n",
              "      <td>0.939403</td>\n",
              "    </tr>\n",
              "    <tr>\n",
              "      <td>4</td>\n",
              "      <td>1.532400</td>\n",
              "      <td>1.348738</td>\n",
              "      <td>0.939109</td>\n",
              "    </tr>\n",
              "    <tr>\n",
              "      <td>5</td>\n",
              "      <td>1.497900</td>\n",
              "      <td>1.303515</td>\n",
              "      <td>0.941021</td>\n",
              "    </tr>\n",
              "  </tbody>\n",
              "</table><p>"
            ]
          },
          "metadata": {}
        },
        {
          "output_type": "execute_result",
          "data": {
            "text/plain": [
              "TrainOutput(global_step=400, training_loss=2.093279764652252, metrics={'train_runtime': 1810.4143, 'train_samples_per_second': 28.223, 'train_steps_per_second': 0.221, 'total_flos': 4.6390929260016e+17, 'train_loss': 2.093279764652252, 'epoch': 5.0})"
            ]
          },
          "metadata": {},
          "execution_count": 23
        }
      ],
      "source": [
        "trainer.train()"
      ]
    },
    {
      "cell_type": "markdown",
      "metadata": {
        "id": "Vyb-58x_-A0e"
      },
      "source": [
        "We can check with the `evaluate` method that our `Trainer` did reload the best model properly (if it was not the last one):"
      ]
    },
    {
      "cell_type": "code",
      "execution_count": null,
      "metadata": {
        "colab": {
          "base_uri": "https://localhost:8080/",
          "height": 141
        },
        "id": "niniUAnb5IrR",
        "outputId": "aa06400c-d709-4fb8-af5c-48ecfc485ea6"
      },
      "outputs": [
        {
          "output_type": "display_data",
          "data": {
            "text/plain": [
              "<IPython.core.display.HTML object>"
            ],
            "text/html": [
              "\n",
              "    <div>\n",
              "      \n",
              "      <progress value='213' max='213' style='width:300px; height:20px; vertical-align: middle;'></progress>\n",
              "      [213/213 01:15]\n",
              "    </div>\n",
              "    "
            ]
          },
          "metadata": {}
        },
        {
          "output_type": "execute_result",
          "data": {
            "text/plain": [
              "{'eval_loss': 1.3035153150558472,\n",
              " 'eval_accuracy': 0.9410207383438741,\n",
              " 'eval_runtime': 76.1362,\n",
              " 'eval_samples_per_second': 89.3,\n",
              " 'eval_steps_per_second': 2.798,\n",
              " 'epoch': 5.0}"
            ]
          },
          "metadata": {},
          "execution_count": 24
        }
      ],
      "source": [
        "trainer.evaluate()"
      ]
    },
    {
      "cell_type": "markdown",
      "metadata": {
        "id": "ymwN-SIR-NDF"
      },
      "source": [
        "You can now upload the result of the training to the Hub, just execute this instruction:"
      ]
    },
    {
      "cell_type": "code",
      "execution_count": null,
      "metadata": {
        "id": "4aNMErFz-GzX",
        "colab": {
          "base_uri": "https://localhost:8080/",
          "height": 261
        },
        "outputId": "fee92e5e-2f61-4d72-8e18-39734cd8ed6a"
      },
      "outputs": [
        {
          "output_type": "stream",
          "name": "stderr",
          "text": [
            "To https://huggingface.co/Jcfranco/wav2vec2-base-finetuned-speech_commands-v0.01\n",
            "   295685e..7a14239  main -> main\n",
            "\n",
            "WARNING:huggingface_hub.repository:To https://huggingface.co/Jcfranco/wav2vec2-base-finetuned-speech_commands-v0.01\n",
            "   295685e..7a14239  main -> main\n",
            "\n",
            "To https://huggingface.co/Jcfranco/wav2vec2-base-finetuned-speech_commands-v0.01\n",
            "   7a14239..d4fa1c6  main -> main\n",
            "\n",
            "WARNING:huggingface_hub.repository:To https://huggingface.co/Jcfranco/wav2vec2-base-finetuned-speech_commands-v0.01\n",
            "   7a14239..d4fa1c6  main -> main\n",
            "\n"
          ]
        },
        {
          "output_type": "execute_result",
          "data": {
            "text/plain": [
              "'https://huggingface.co/Jcfranco/wav2vec2-base-finetuned-speech_commands-v0.01/commit/7a142393c6afe86f4ea930497931a95abe5b483c'"
            ],
            "application/vnd.google.colaboratory.intrinsic+json": {
              "type": "string"
            }
          },
          "metadata": {},
          "execution_count": 25
        }
      ],
      "source": [
        "trainer.push_to_hub()"
      ]
    },
    {
      "cell_type": "markdown",
      "metadata": {
        "id": "cZQnNUsI-Q4S"
      },
      "source": [
        "You can now share this model with all your friends, family, favorite pets: they can all load it with the identifier `\"your-username/the-name-you-picked\"` so for instance:\n",
        "\n",
        "```python\n",
        "from transformers import AutoModelForAudioClassification, AutoFeatureExtractor\n",
        "\n",
        "feature_extractor = AutoFeatureExtractor.from_pretrained(\"anton-l/my-awesome-model\")\n",
        "model = AutoModelForAudioClassification.from_pretrained(\"anton-l/my-awesome-model\")\n",
        "\n",
        "```"
      ]
    }
  ],
  "metadata": {
    "accelerator": "GPU",
    "colab": {
      "provenance": [],
      "toc_visible": true,
      "include_colab_link": true
    },
    "kernelspec": {
      "display_name": "Python 3 (ipykernel)",
      "language": "python",
      "name": "python3"
    },
    "language_info": {
      "codemirror_mode": {
        "name": "ipython",
        "version": 3
      },
      "file_extension": ".py",
      "mimetype": "text/x-python",
      "name": "python",
      "nbconvert_exporter": "python",
      "pygments_lexer": "ipython3",
      "version": "3.10.8"
    },
    "widgets": {
      "application/vnd.jupyter.widget-state+json": {
        "77f2f2596348432dab9837001788d02a": {
          "model_module": "@jupyter-widgets/controls",
          "model_name": "VBoxModel",
          "model_module_version": "1.5.0",
          "state": {
            "_dom_classes": [],
            "_model_module": "@jupyter-widgets/controls",
            "_model_module_version": "1.5.0",
            "_model_name": "VBoxModel",
            "_view_count": null,
            "_view_module": "@jupyter-widgets/controls",
            "_view_module_version": "1.5.0",
            "_view_name": "VBoxView",
            "box_style": "",
            "children": [
              "IPY_MODEL_55b85cd8d49f48a281e26c1c88370438",
              "IPY_MODEL_f3e12b0986c04b599a620463aa30be9d",
              "IPY_MODEL_2fb5340e2a624f0fa3edae1ee7cbf8cd",
              "IPY_MODEL_db65a66e9a8d4d609867ff9d7fdc0f96",
              "IPY_MODEL_3aa43166c68048f89850ac787d58758f"
            ],
            "layout": "IPY_MODEL_6cc170b7251a40919a6a9203c30adf02"
          }
        },
        "55b85cd8d49f48a281e26c1c88370438": {
          "model_module": "@jupyter-widgets/controls",
          "model_name": "HTMLModel",
          "model_module_version": "1.5.0",
          "state": {
            "_dom_classes": [],
            "_model_module": "@jupyter-widgets/controls",
            "_model_module_version": "1.5.0",
            "_model_name": "HTMLModel",
            "_view_count": null,
            "_view_module": "@jupyter-widgets/controls",
            "_view_module_version": "1.5.0",
            "_view_name": "HTMLView",
            "description": "",
            "description_tooltip": null,
            "layout": "IPY_MODEL_49955191cf0343759e425b322becc338",
            "placeholder": "​",
            "style": "IPY_MODEL_b0a4afc61da0472f813b0b99bbb5090c",
            "value": "<center> <img\nsrc=https://huggingface.co/front/assets/huggingface_logo-noborder.svg\nalt='Hugging Face'> <br> Copy a token from <a\nhref=\"https://huggingface.co/settings/tokens\" target=\"_blank\">your Hugging Face\ntokens page</a> and paste it below. <br> Immediately click login after copying\nyour token or it might be stored in plain text in this notebook file. </center>"
          }
        },
        "f3e12b0986c04b599a620463aa30be9d": {
          "model_module": "@jupyter-widgets/controls",
          "model_name": "PasswordModel",
          "model_module_version": "1.5.0",
          "state": {
            "_dom_classes": [],
            "_model_module": "@jupyter-widgets/controls",
            "_model_module_version": "1.5.0",
            "_model_name": "PasswordModel",
            "_view_count": null,
            "_view_module": "@jupyter-widgets/controls",
            "_view_module_version": "1.5.0",
            "_view_name": "PasswordView",
            "continuous_update": true,
            "description": "Token:",
            "description_tooltip": null,
            "disabled": false,
            "layout": "IPY_MODEL_375ae150957b4e74874e9dfa5cc035f8",
            "placeholder": "​",
            "style": "IPY_MODEL_c2bc0195da1449deb1abfde880f4d3e5",
            "value": ""
          }
        },
        "2fb5340e2a624f0fa3edae1ee7cbf8cd": {
          "model_module": "@jupyter-widgets/controls",
          "model_name": "CheckboxModel",
          "model_module_version": "1.5.0",
          "state": {
            "_dom_classes": [],
            "_model_module": "@jupyter-widgets/controls",
            "_model_module_version": "1.5.0",
            "_model_name": "CheckboxModel",
            "_view_count": null,
            "_view_module": "@jupyter-widgets/controls",
            "_view_module_version": "1.5.0",
            "_view_name": "CheckboxView",
            "description": "Add token as git credential?",
            "description_tooltip": null,
            "disabled": false,
            "indent": true,
            "layout": "IPY_MODEL_3a7d105fb6d8425b916242f2b32f75b4",
            "style": "IPY_MODEL_cbdbee7eae0a4380869942389625adc4",
            "value": true
          }
        },
        "db65a66e9a8d4d609867ff9d7fdc0f96": {
          "model_module": "@jupyter-widgets/controls",
          "model_name": "ButtonModel",
          "model_module_version": "1.5.0",
          "state": {
            "_dom_classes": [],
            "_model_module": "@jupyter-widgets/controls",
            "_model_module_version": "1.5.0",
            "_model_name": "ButtonModel",
            "_view_count": null,
            "_view_module": "@jupyter-widgets/controls",
            "_view_module_version": "1.5.0",
            "_view_name": "ButtonView",
            "button_style": "",
            "description": "Login",
            "disabled": false,
            "icon": "",
            "layout": "IPY_MODEL_239afffac3d5478dad34d51dbe94d1f7",
            "style": "IPY_MODEL_261f02a580df4a82a07c9b387cebef7b",
            "tooltip": ""
          }
        },
        "3aa43166c68048f89850ac787d58758f": {
          "model_module": "@jupyter-widgets/controls",
          "model_name": "HTMLModel",
          "model_module_version": "1.5.0",
          "state": {
            "_dom_classes": [],
            "_model_module": "@jupyter-widgets/controls",
            "_model_module_version": "1.5.0",
            "_model_name": "HTMLModel",
            "_view_count": null,
            "_view_module": "@jupyter-widgets/controls",
            "_view_module_version": "1.5.0",
            "_view_name": "HTMLView",
            "description": "",
            "description_tooltip": null,
            "layout": "IPY_MODEL_97d273b4f0194144bfe76d4208aec445",
            "placeholder": "​",
            "style": "IPY_MODEL_889b8b77357d49b291725106433438fa",
            "value": "\n<b>Pro Tip:</b> If you don't already have one, you can create a dedicated\n'notebooks' token with 'write' access, that you can then easily reuse for all\nnotebooks. </center>"
          }
        },
        "6cc170b7251a40919a6a9203c30adf02": {
          "model_module": "@jupyter-widgets/base",
          "model_name": "LayoutModel",
          "model_module_version": "1.2.0",
          "state": {
            "_model_module": "@jupyter-widgets/base",
            "_model_module_version": "1.2.0",
            "_model_name": "LayoutModel",
            "_view_count": null,
            "_view_module": "@jupyter-widgets/base",
            "_view_module_version": "1.2.0",
            "_view_name": "LayoutView",
            "align_content": null,
            "align_items": "center",
            "align_self": null,
            "border": null,
            "bottom": null,
            "display": "flex",
            "flex": null,
            "flex_flow": "column",
            "grid_area": null,
            "grid_auto_columns": null,
            "grid_auto_flow": null,
            "grid_auto_rows": null,
            "grid_column": null,
            "grid_gap": null,
            "grid_row": null,
            "grid_template_areas": null,
            "grid_template_columns": null,
            "grid_template_rows": null,
            "height": null,
            "justify_content": null,
            "justify_items": null,
            "left": null,
            "margin": null,
            "max_height": null,
            "max_width": null,
            "min_height": null,
            "min_width": null,
            "object_fit": null,
            "object_position": null,
            "order": null,
            "overflow": null,
            "overflow_x": null,
            "overflow_y": null,
            "padding": null,
            "right": null,
            "top": null,
            "visibility": null,
            "width": "50%"
          }
        },
        "49955191cf0343759e425b322becc338": {
          "model_module": "@jupyter-widgets/base",
          "model_name": "LayoutModel",
          "model_module_version": "1.2.0",
          "state": {
            "_model_module": "@jupyter-widgets/base",
            "_model_module_version": "1.2.0",
            "_model_name": "LayoutModel",
            "_view_count": null,
            "_view_module": "@jupyter-widgets/base",
            "_view_module_version": "1.2.0",
            "_view_name": "LayoutView",
            "align_content": null,
            "align_items": null,
            "align_self": null,
            "border": null,
            "bottom": null,
            "display": null,
            "flex": null,
            "flex_flow": null,
            "grid_area": null,
            "grid_auto_columns": null,
            "grid_auto_flow": null,
            "grid_auto_rows": null,
            "grid_column": null,
            "grid_gap": null,
            "grid_row": null,
            "grid_template_areas": null,
            "grid_template_columns": null,
            "grid_template_rows": null,
            "height": null,
            "justify_content": null,
            "justify_items": null,
            "left": null,
            "margin": null,
            "max_height": null,
            "max_width": null,
            "min_height": null,
            "min_width": null,
            "object_fit": null,
            "object_position": null,
            "order": null,
            "overflow": null,
            "overflow_x": null,
            "overflow_y": null,
            "padding": null,
            "right": null,
            "top": null,
            "visibility": null,
            "width": null
          }
        },
        "b0a4afc61da0472f813b0b99bbb5090c": {
          "model_module": "@jupyter-widgets/controls",
          "model_name": "DescriptionStyleModel",
          "model_module_version": "1.5.0",
          "state": {
            "_model_module": "@jupyter-widgets/controls",
            "_model_module_version": "1.5.0",
            "_model_name": "DescriptionStyleModel",
            "_view_count": null,
            "_view_module": "@jupyter-widgets/base",
            "_view_module_version": "1.2.0",
            "_view_name": "StyleView",
            "description_width": ""
          }
        },
        "375ae150957b4e74874e9dfa5cc035f8": {
          "model_module": "@jupyter-widgets/base",
          "model_name": "LayoutModel",
          "model_module_version": "1.2.0",
          "state": {
            "_model_module": "@jupyter-widgets/base",
            "_model_module_version": "1.2.0",
            "_model_name": "LayoutModel",
            "_view_count": null,
            "_view_module": "@jupyter-widgets/base",
            "_view_module_version": "1.2.0",
            "_view_name": "LayoutView",
            "align_content": null,
            "align_items": null,
            "align_self": null,
            "border": null,
            "bottom": null,
            "display": null,
            "flex": null,
            "flex_flow": null,
            "grid_area": null,
            "grid_auto_columns": null,
            "grid_auto_flow": null,
            "grid_auto_rows": null,
            "grid_column": null,
            "grid_gap": null,
            "grid_row": null,
            "grid_template_areas": null,
            "grid_template_columns": null,
            "grid_template_rows": null,
            "height": null,
            "justify_content": null,
            "justify_items": null,
            "left": null,
            "margin": null,
            "max_height": null,
            "max_width": null,
            "min_height": null,
            "min_width": null,
            "object_fit": null,
            "object_position": null,
            "order": null,
            "overflow": null,
            "overflow_x": null,
            "overflow_y": null,
            "padding": null,
            "right": null,
            "top": null,
            "visibility": null,
            "width": null
          }
        },
        "c2bc0195da1449deb1abfde880f4d3e5": {
          "model_module": "@jupyter-widgets/controls",
          "model_name": "DescriptionStyleModel",
          "model_module_version": "1.5.0",
          "state": {
            "_model_module": "@jupyter-widgets/controls",
            "_model_module_version": "1.5.0",
            "_model_name": "DescriptionStyleModel",
            "_view_count": null,
            "_view_module": "@jupyter-widgets/base",
            "_view_module_version": "1.2.0",
            "_view_name": "StyleView",
            "description_width": ""
          }
        },
        "3a7d105fb6d8425b916242f2b32f75b4": {
          "model_module": "@jupyter-widgets/base",
          "model_name": "LayoutModel",
          "model_module_version": "1.2.0",
          "state": {
            "_model_module": "@jupyter-widgets/base",
            "_model_module_version": "1.2.0",
            "_model_name": "LayoutModel",
            "_view_count": null,
            "_view_module": "@jupyter-widgets/base",
            "_view_module_version": "1.2.0",
            "_view_name": "LayoutView",
            "align_content": null,
            "align_items": null,
            "align_self": null,
            "border": null,
            "bottom": null,
            "display": null,
            "flex": null,
            "flex_flow": null,
            "grid_area": null,
            "grid_auto_columns": null,
            "grid_auto_flow": null,
            "grid_auto_rows": null,
            "grid_column": null,
            "grid_gap": null,
            "grid_row": null,
            "grid_template_areas": null,
            "grid_template_columns": null,
            "grid_template_rows": null,
            "height": null,
            "justify_content": null,
            "justify_items": null,
            "left": null,
            "margin": null,
            "max_height": null,
            "max_width": null,
            "min_height": null,
            "min_width": null,
            "object_fit": null,
            "object_position": null,
            "order": null,
            "overflow": null,
            "overflow_x": null,
            "overflow_y": null,
            "padding": null,
            "right": null,
            "top": null,
            "visibility": null,
            "width": null
          }
        },
        "cbdbee7eae0a4380869942389625adc4": {
          "model_module": "@jupyter-widgets/controls",
          "model_name": "DescriptionStyleModel",
          "model_module_version": "1.5.0",
          "state": {
            "_model_module": "@jupyter-widgets/controls",
            "_model_module_version": "1.5.0",
            "_model_name": "DescriptionStyleModel",
            "_view_count": null,
            "_view_module": "@jupyter-widgets/base",
            "_view_module_version": "1.2.0",
            "_view_name": "StyleView",
            "description_width": ""
          }
        },
        "239afffac3d5478dad34d51dbe94d1f7": {
          "model_module": "@jupyter-widgets/base",
          "model_name": "LayoutModel",
          "model_module_version": "1.2.0",
          "state": {
            "_model_module": "@jupyter-widgets/base",
            "_model_module_version": "1.2.0",
            "_model_name": "LayoutModel",
            "_view_count": null,
            "_view_module": "@jupyter-widgets/base",
            "_view_module_version": "1.2.0",
            "_view_name": "LayoutView",
            "align_content": null,
            "align_items": null,
            "align_self": null,
            "border": null,
            "bottom": null,
            "display": null,
            "flex": null,
            "flex_flow": null,
            "grid_area": null,
            "grid_auto_columns": null,
            "grid_auto_flow": null,
            "grid_auto_rows": null,
            "grid_column": null,
            "grid_gap": null,
            "grid_row": null,
            "grid_template_areas": null,
            "grid_template_columns": null,
            "grid_template_rows": null,
            "height": null,
            "justify_content": null,
            "justify_items": null,
            "left": null,
            "margin": null,
            "max_height": null,
            "max_width": null,
            "min_height": null,
            "min_width": null,
            "object_fit": null,
            "object_position": null,
            "order": null,
            "overflow": null,
            "overflow_x": null,
            "overflow_y": null,
            "padding": null,
            "right": null,
            "top": null,
            "visibility": null,
            "width": null
          }
        },
        "261f02a580df4a82a07c9b387cebef7b": {
          "model_module": "@jupyter-widgets/controls",
          "model_name": "ButtonStyleModel",
          "model_module_version": "1.5.0",
          "state": {
            "_model_module": "@jupyter-widgets/controls",
            "_model_module_version": "1.5.0",
            "_model_name": "ButtonStyleModel",
            "_view_count": null,
            "_view_module": "@jupyter-widgets/base",
            "_view_module_version": "1.2.0",
            "_view_name": "StyleView",
            "button_color": null,
            "font_weight": ""
          }
        },
        "97d273b4f0194144bfe76d4208aec445": {
          "model_module": "@jupyter-widgets/base",
          "model_name": "LayoutModel",
          "model_module_version": "1.2.0",
          "state": {
            "_model_module": "@jupyter-widgets/base",
            "_model_module_version": "1.2.0",
            "_model_name": "LayoutModel",
            "_view_count": null,
            "_view_module": "@jupyter-widgets/base",
            "_view_module_version": "1.2.0",
            "_view_name": "LayoutView",
            "align_content": null,
            "align_items": null,
            "align_self": null,
            "border": null,
            "bottom": null,
            "display": null,
            "flex": null,
            "flex_flow": null,
            "grid_area": null,
            "grid_auto_columns": null,
            "grid_auto_flow": null,
            "grid_auto_rows": null,
            "grid_column": null,
            "grid_gap": null,
            "grid_row": null,
            "grid_template_areas": null,
            "grid_template_columns": null,
            "grid_template_rows": null,
            "height": null,
            "justify_content": null,
            "justify_items": null,
            "left": null,
            "margin": null,
            "max_height": null,
            "max_width": null,
            "min_height": null,
            "min_width": null,
            "object_fit": null,
            "object_position": null,
            "order": null,
            "overflow": null,
            "overflow_x": null,
            "overflow_y": null,
            "padding": null,
            "right": null,
            "top": null,
            "visibility": null,
            "width": null
          }
        },
        "889b8b77357d49b291725106433438fa": {
          "model_module": "@jupyter-widgets/controls",
          "model_name": "DescriptionStyleModel",
          "model_module_version": "1.5.0",
          "state": {
            "_model_module": "@jupyter-widgets/controls",
            "_model_module_version": "1.5.0",
            "_model_name": "DescriptionStyleModel",
            "_view_count": null,
            "_view_module": "@jupyter-widgets/base",
            "_view_module_version": "1.2.0",
            "_view_name": "StyleView",
            "description_width": ""
          }
        },
        "fb18aafbc06e45019e5a4c44d2437c9e": {
          "model_module": "@jupyter-widgets/controls",
          "model_name": "HBoxModel",
          "model_module_version": "1.5.0",
          "state": {
            "_dom_classes": [],
            "_model_module": "@jupyter-widgets/controls",
            "_model_module_version": "1.5.0",
            "_model_name": "HBoxModel",
            "_view_count": null,
            "_view_module": "@jupyter-widgets/controls",
            "_view_module_version": "1.5.0",
            "_view_name": "HBoxView",
            "box_style": "",
            "children": [
              "IPY_MODEL_f5cd6e6ff9744e9386a5c061658a1952",
              "IPY_MODEL_fba7d906576f4571ada44cd85b67be1f",
              "IPY_MODEL_8520ba9db89a4b5a874484bbbbb6fde7"
            ],
            "layout": "IPY_MODEL_23357d97b0f544b69c21bb1e3441a317"
          }
        },
        "f5cd6e6ff9744e9386a5c061658a1952": {
          "model_module": "@jupyter-widgets/controls",
          "model_name": "HTMLModel",
          "model_module_version": "1.5.0",
          "state": {
            "_dom_classes": [],
            "_model_module": "@jupyter-widgets/controls",
            "_model_module_version": "1.5.0",
            "_model_name": "HTMLModel",
            "_view_count": null,
            "_view_module": "@jupyter-widgets/controls",
            "_view_module_version": "1.5.0",
            "_view_name": "HTMLView",
            "description": "",
            "description_tooltip": null,
            "layout": "IPY_MODEL_9cbf991dcf9a49a9a2c31c89aa9ebe10",
            "placeholder": "​",
            "style": "IPY_MODEL_293157f756704aa59559e6fff18c6f24",
            "value": "Downloading data files: 100%"
          }
        },
        "fba7d906576f4571ada44cd85b67be1f": {
          "model_module": "@jupyter-widgets/controls",
          "model_name": "FloatProgressModel",
          "model_module_version": "1.5.0",
          "state": {
            "_dom_classes": [],
            "_model_module": "@jupyter-widgets/controls",
            "_model_module_version": "1.5.0",
            "_model_name": "FloatProgressModel",
            "_view_count": null,
            "_view_module": "@jupyter-widgets/controls",
            "_view_module_version": "1.5.0",
            "_view_name": "ProgressView",
            "bar_style": "success",
            "description": "",
            "description_tooltip": null,
            "layout": "IPY_MODEL_4a5f7d88bc2d4708bbe894c1f0e64668",
            "max": 3,
            "min": 0,
            "orientation": "horizontal",
            "style": "IPY_MODEL_4da296d01f774053af041446ee529f03",
            "value": 3
          }
        },
        "8520ba9db89a4b5a874484bbbbb6fde7": {
          "model_module": "@jupyter-widgets/controls",
          "model_name": "HTMLModel",
          "model_module_version": "1.5.0",
          "state": {
            "_dom_classes": [],
            "_model_module": "@jupyter-widgets/controls",
            "_model_module_version": "1.5.0",
            "_model_name": "HTMLModel",
            "_view_count": null,
            "_view_module": "@jupyter-widgets/controls",
            "_view_module_version": "1.5.0",
            "_view_name": "HTMLView",
            "description": "",
            "description_tooltip": null,
            "layout": "IPY_MODEL_c2bc2ec3343f42929dabcd92727015c2",
            "placeholder": "​",
            "style": "IPY_MODEL_9b3040de3d6e4941b32d04637d7b76f5",
            "value": " 3/3 [00:29&lt;00:00,  7.75s/it]"
          }
        },
        "23357d97b0f544b69c21bb1e3441a317": {
          "model_module": "@jupyter-widgets/base",
          "model_name": "LayoutModel",
          "model_module_version": "1.2.0",
          "state": {
            "_model_module": "@jupyter-widgets/base",
            "_model_module_version": "1.2.0",
            "_model_name": "LayoutModel",
            "_view_count": null,
            "_view_module": "@jupyter-widgets/base",
            "_view_module_version": "1.2.0",
            "_view_name": "LayoutView",
            "align_content": null,
            "align_items": null,
            "align_self": null,
            "border": null,
            "bottom": null,
            "display": null,
            "flex": null,
            "flex_flow": null,
            "grid_area": null,
            "grid_auto_columns": null,
            "grid_auto_flow": null,
            "grid_auto_rows": null,
            "grid_column": null,
            "grid_gap": null,
            "grid_row": null,
            "grid_template_areas": null,
            "grid_template_columns": null,
            "grid_template_rows": null,
            "height": null,
            "justify_content": null,
            "justify_items": null,
            "left": null,
            "margin": null,
            "max_height": null,
            "max_width": null,
            "min_height": null,
            "min_width": null,
            "object_fit": null,
            "object_position": null,
            "order": null,
            "overflow": null,
            "overflow_x": null,
            "overflow_y": null,
            "padding": null,
            "right": null,
            "top": null,
            "visibility": null,
            "width": null
          }
        },
        "9cbf991dcf9a49a9a2c31c89aa9ebe10": {
          "model_module": "@jupyter-widgets/base",
          "model_name": "LayoutModel",
          "model_module_version": "1.2.0",
          "state": {
            "_model_module": "@jupyter-widgets/base",
            "_model_module_version": "1.2.0",
            "_model_name": "LayoutModel",
            "_view_count": null,
            "_view_module": "@jupyter-widgets/base",
            "_view_module_version": "1.2.0",
            "_view_name": "LayoutView",
            "align_content": null,
            "align_items": null,
            "align_self": null,
            "border": null,
            "bottom": null,
            "display": null,
            "flex": null,
            "flex_flow": null,
            "grid_area": null,
            "grid_auto_columns": null,
            "grid_auto_flow": null,
            "grid_auto_rows": null,
            "grid_column": null,
            "grid_gap": null,
            "grid_row": null,
            "grid_template_areas": null,
            "grid_template_columns": null,
            "grid_template_rows": null,
            "height": null,
            "justify_content": null,
            "justify_items": null,
            "left": null,
            "margin": null,
            "max_height": null,
            "max_width": null,
            "min_height": null,
            "min_width": null,
            "object_fit": null,
            "object_position": null,
            "order": null,
            "overflow": null,
            "overflow_x": null,
            "overflow_y": null,
            "padding": null,
            "right": null,
            "top": null,
            "visibility": null,
            "width": null
          }
        },
        "293157f756704aa59559e6fff18c6f24": {
          "model_module": "@jupyter-widgets/controls",
          "model_name": "DescriptionStyleModel",
          "model_module_version": "1.5.0",
          "state": {
            "_model_module": "@jupyter-widgets/controls",
            "_model_module_version": "1.5.0",
            "_model_name": "DescriptionStyleModel",
            "_view_count": null,
            "_view_module": "@jupyter-widgets/base",
            "_view_module_version": "1.2.0",
            "_view_name": "StyleView",
            "description_width": ""
          }
        },
        "4a5f7d88bc2d4708bbe894c1f0e64668": {
          "model_module": "@jupyter-widgets/base",
          "model_name": "LayoutModel",
          "model_module_version": "1.2.0",
          "state": {
            "_model_module": "@jupyter-widgets/base",
            "_model_module_version": "1.2.0",
            "_model_name": "LayoutModel",
            "_view_count": null,
            "_view_module": "@jupyter-widgets/base",
            "_view_module_version": "1.2.0",
            "_view_name": "LayoutView",
            "align_content": null,
            "align_items": null,
            "align_self": null,
            "border": null,
            "bottom": null,
            "display": null,
            "flex": null,
            "flex_flow": null,
            "grid_area": null,
            "grid_auto_columns": null,
            "grid_auto_flow": null,
            "grid_auto_rows": null,
            "grid_column": null,
            "grid_gap": null,
            "grid_row": null,
            "grid_template_areas": null,
            "grid_template_columns": null,
            "grid_template_rows": null,
            "height": null,
            "justify_content": null,
            "justify_items": null,
            "left": null,
            "margin": null,
            "max_height": null,
            "max_width": null,
            "min_height": null,
            "min_width": null,
            "object_fit": null,
            "object_position": null,
            "order": null,
            "overflow": null,
            "overflow_x": null,
            "overflow_y": null,
            "padding": null,
            "right": null,
            "top": null,
            "visibility": null,
            "width": null
          }
        },
        "4da296d01f774053af041446ee529f03": {
          "model_module": "@jupyter-widgets/controls",
          "model_name": "ProgressStyleModel",
          "model_module_version": "1.5.0",
          "state": {
            "_model_module": "@jupyter-widgets/controls",
            "_model_module_version": "1.5.0",
            "_model_name": "ProgressStyleModel",
            "_view_count": null,
            "_view_module": "@jupyter-widgets/base",
            "_view_module_version": "1.2.0",
            "_view_name": "StyleView",
            "bar_color": null,
            "description_width": ""
          }
        },
        "c2bc2ec3343f42929dabcd92727015c2": {
          "model_module": "@jupyter-widgets/base",
          "model_name": "LayoutModel",
          "model_module_version": "1.2.0",
          "state": {
            "_model_module": "@jupyter-widgets/base",
            "_model_module_version": "1.2.0",
            "_model_name": "LayoutModel",
            "_view_count": null,
            "_view_module": "@jupyter-widgets/base",
            "_view_module_version": "1.2.0",
            "_view_name": "LayoutView",
            "align_content": null,
            "align_items": null,
            "align_self": null,
            "border": null,
            "bottom": null,
            "display": null,
            "flex": null,
            "flex_flow": null,
            "grid_area": null,
            "grid_auto_columns": null,
            "grid_auto_flow": null,
            "grid_auto_rows": null,
            "grid_column": null,
            "grid_gap": null,
            "grid_row": null,
            "grid_template_areas": null,
            "grid_template_columns": null,
            "grid_template_rows": null,
            "height": null,
            "justify_content": null,
            "justify_items": null,
            "left": null,
            "margin": null,
            "max_height": null,
            "max_width": null,
            "min_height": null,
            "min_width": null,
            "object_fit": null,
            "object_position": null,
            "order": null,
            "overflow": null,
            "overflow_x": null,
            "overflow_y": null,
            "padding": null,
            "right": null,
            "top": null,
            "visibility": null,
            "width": null
          }
        },
        "9b3040de3d6e4941b32d04637d7b76f5": {
          "model_module": "@jupyter-widgets/controls",
          "model_name": "DescriptionStyleModel",
          "model_module_version": "1.5.0",
          "state": {
            "_model_module": "@jupyter-widgets/controls",
            "_model_module_version": "1.5.0",
            "_model_name": "DescriptionStyleModel",
            "_view_count": null,
            "_view_module": "@jupyter-widgets/base",
            "_view_module_version": "1.2.0",
            "_view_name": "StyleView",
            "description_width": ""
          }
        },
        "845cb090481f4ff9b6d22679def2e8f8": {
          "model_module": "@jupyter-widgets/controls",
          "model_name": "HBoxModel",
          "model_module_version": "1.5.0",
          "state": {
            "_dom_classes": [],
            "_model_module": "@jupyter-widgets/controls",
            "_model_module_version": "1.5.0",
            "_model_name": "HBoxModel",
            "_view_count": null,
            "_view_module": "@jupyter-widgets/controls",
            "_view_module_version": "1.5.0",
            "_view_name": "HBoxView",
            "box_style": "",
            "children": [
              "IPY_MODEL_b1e5e56f75034e2494c2199f2aeeca54",
              "IPY_MODEL_d43e66dad0974f478e53605b05c44a04",
              "IPY_MODEL_d221a1bc003c457a8f4139b2dfb5b747"
            ],
            "layout": "IPY_MODEL_6925d9133d904c81bca05af389fc20a2"
          }
        },
        "b1e5e56f75034e2494c2199f2aeeca54": {
          "model_module": "@jupyter-widgets/controls",
          "model_name": "HTMLModel",
          "model_module_version": "1.5.0",
          "state": {
            "_dom_classes": [],
            "_model_module": "@jupyter-widgets/controls",
            "_model_module_version": "1.5.0",
            "_model_name": "HTMLModel",
            "_view_count": null,
            "_view_module": "@jupyter-widgets/controls",
            "_view_module_version": "1.5.0",
            "_view_name": "HTMLView",
            "description": "",
            "description_tooltip": null,
            "layout": "IPY_MODEL_544b93b095ed432d920239dc5b67fee1",
            "placeholder": "​",
            "style": "IPY_MODEL_56b135b6e26740d78526dbb6c00257fe",
            "value": "Downloading data: 100%"
          }
        },
        "d43e66dad0974f478e53605b05c44a04": {
          "model_module": "@jupyter-widgets/controls",
          "model_name": "FloatProgressModel",
          "model_module_version": "1.5.0",
          "state": {
            "_dom_classes": [],
            "_model_module": "@jupyter-widgets/controls",
            "_model_module_version": "1.5.0",
            "_model_name": "FloatProgressModel",
            "_view_count": null,
            "_view_module": "@jupyter-widgets/controls",
            "_view_module_version": "1.5.0",
            "_view_name": "ProgressView",
            "bar_style": "success",
            "description": "",
            "description_tooltip": null,
            "layout": "IPY_MODEL_3a7c3e328541478080d2401e4d5b1e84",
            "max": 1176079446,
            "min": 0,
            "orientation": "horizontal",
            "style": "IPY_MODEL_4798f12172c74827916292f5e3b79bd2",
            "value": 1176079446
          }
        },
        "d221a1bc003c457a8f4139b2dfb5b747": {
          "model_module": "@jupyter-widgets/controls",
          "model_name": "HTMLModel",
          "model_module_version": "1.5.0",
          "state": {
            "_dom_classes": [],
            "_model_module": "@jupyter-widgets/controls",
            "_model_module_version": "1.5.0",
            "_model_name": "HTMLModel",
            "_view_count": null,
            "_view_module": "@jupyter-widgets/controls",
            "_view_module_version": "1.5.0",
            "_view_name": "HTMLView",
            "description": "",
            "description_tooltip": null,
            "layout": "IPY_MODEL_6ad39dad41ea4bf49b1e05e847ee3efb",
            "placeholder": "​",
            "style": "IPY_MODEL_2cd90113fdf84342afb656b90883b598",
            "value": " 1.18G/1.18G [00:22&lt;00:00, 53.3MB/s]"
          }
        },
        "6925d9133d904c81bca05af389fc20a2": {
          "model_module": "@jupyter-widgets/base",
          "model_name": "LayoutModel",
          "model_module_version": "1.2.0",
          "state": {
            "_model_module": "@jupyter-widgets/base",
            "_model_module_version": "1.2.0",
            "_model_name": "LayoutModel",
            "_view_count": null,
            "_view_module": "@jupyter-widgets/base",
            "_view_module_version": "1.2.0",
            "_view_name": "LayoutView",
            "align_content": null,
            "align_items": null,
            "align_self": null,
            "border": null,
            "bottom": null,
            "display": null,
            "flex": null,
            "flex_flow": null,
            "grid_area": null,
            "grid_auto_columns": null,
            "grid_auto_flow": null,
            "grid_auto_rows": null,
            "grid_column": null,
            "grid_gap": null,
            "grid_row": null,
            "grid_template_areas": null,
            "grid_template_columns": null,
            "grid_template_rows": null,
            "height": null,
            "justify_content": null,
            "justify_items": null,
            "left": null,
            "margin": null,
            "max_height": null,
            "max_width": null,
            "min_height": null,
            "min_width": null,
            "object_fit": null,
            "object_position": null,
            "order": null,
            "overflow": null,
            "overflow_x": null,
            "overflow_y": null,
            "padding": null,
            "right": null,
            "top": null,
            "visibility": null,
            "width": null
          }
        },
        "544b93b095ed432d920239dc5b67fee1": {
          "model_module": "@jupyter-widgets/base",
          "model_name": "LayoutModel",
          "model_module_version": "1.2.0",
          "state": {
            "_model_module": "@jupyter-widgets/base",
            "_model_module_version": "1.2.0",
            "_model_name": "LayoutModel",
            "_view_count": null,
            "_view_module": "@jupyter-widgets/base",
            "_view_module_version": "1.2.0",
            "_view_name": "LayoutView",
            "align_content": null,
            "align_items": null,
            "align_self": null,
            "border": null,
            "bottom": null,
            "display": null,
            "flex": null,
            "flex_flow": null,
            "grid_area": null,
            "grid_auto_columns": null,
            "grid_auto_flow": null,
            "grid_auto_rows": null,
            "grid_column": null,
            "grid_gap": null,
            "grid_row": null,
            "grid_template_areas": null,
            "grid_template_columns": null,
            "grid_template_rows": null,
            "height": null,
            "justify_content": null,
            "justify_items": null,
            "left": null,
            "margin": null,
            "max_height": null,
            "max_width": null,
            "min_height": null,
            "min_width": null,
            "object_fit": null,
            "object_position": null,
            "order": null,
            "overflow": null,
            "overflow_x": null,
            "overflow_y": null,
            "padding": null,
            "right": null,
            "top": null,
            "visibility": null,
            "width": null
          }
        },
        "56b135b6e26740d78526dbb6c00257fe": {
          "model_module": "@jupyter-widgets/controls",
          "model_name": "DescriptionStyleModel",
          "model_module_version": "1.5.0",
          "state": {
            "_model_module": "@jupyter-widgets/controls",
            "_model_module_version": "1.5.0",
            "_model_name": "DescriptionStyleModel",
            "_view_count": null,
            "_view_module": "@jupyter-widgets/base",
            "_view_module_version": "1.2.0",
            "_view_name": "StyleView",
            "description_width": ""
          }
        },
        "3a7c3e328541478080d2401e4d5b1e84": {
          "model_module": "@jupyter-widgets/base",
          "model_name": "LayoutModel",
          "model_module_version": "1.2.0",
          "state": {
            "_model_module": "@jupyter-widgets/base",
            "_model_module_version": "1.2.0",
            "_model_name": "LayoutModel",
            "_view_count": null,
            "_view_module": "@jupyter-widgets/base",
            "_view_module_version": "1.2.0",
            "_view_name": "LayoutView",
            "align_content": null,
            "align_items": null,
            "align_self": null,
            "border": null,
            "bottom": null,
            "display": null,
            "flex": null,
            "flex_flow": null,
            "grid_area": null,
            "grid_auto_columns": null,
            "grid_auto_flow": null,
            "grid_auto_rows": null,
            "grid_column": null,
            "grid_gap": null,
            "grid_row": null,
            "grid_template_areas": null,
            "grid_template_columns": null,
            "grid_template_rows": null,
            "height": null,
            "justify_content": null,
            "justify_items": null,
            "left": null,
            "margin": null,
            "max_height": null,
            "max_width": null,
            "min_height": null,
            "min_width": null,
            "object_fit": null,
            "object_position": null,
            "order": null,
            "overflow": null,
            "overflow_x": null,
            "overflow_y": null,
            "padding": null,
            "right": null,
            "top": null,
            "visibility": null,
            "width": null
          }
        },
        "4798f12172c74827916292f5e3b79bd2": {
          "model_module": "@jupyter-widgets/controls",
          "model_name": "ProgressStyleModel",
          "model_module_version": "1.5.0",
          "state": {
            "_model_module": "@jupyter-widgets/controls",
            "_model_module_version": "1.5.0",
            "_model_name": "ProgressStyleModel",
            "_view_count": null,
            "_view_module": "@jupyter-widgets/base",
            "_view_module_version": "1.2.0",
            "_view_name": "StyleView",
            "bar_color": null,
            "description_width": ""
          }
        },
        "6ad39dad41ea4bf49b1e05e847ee3efb": {
          "model_module": "@jupyter-widgets/base",
          "model_name": "LayoutModel",
          "model_module_version": "1.2.0",
          "state": {
            "_model_module": "@jupyter-widgets/base",
            "_model_module_version": "1.2.0",
            "_model_name": "LayoutModel",
            "_view_count": null,
            "_view_module": "@jupyter-widgets/base",
            "_view_module_version": "1.2.0",
            "_view_name": "LayoutView",
            "align_content": null,
            "align_items": null,
            "align_self": null,
            "border": null,
            "bottom": null,
            "display": null,
            "flex": null,
            "flex_flow": null,
            "grid_area": null,
            "grid_auto_columns": null,
            "grid_auto_flow": null,
            "grid_auto_rows": null,
            "grid_column": null,
            "grid_gap": null,
            "grid_row": null,
            "grid_template_areas": null,
            "grid_template_columns": null,
            "grid_template_rows": null,
            "height": null,
            "justify_content": null,
            "justify_items": null,
            "left": null,
            "margin": null,
            "max_height": null,
            "max_width": null,
            "min_height": null,
            "min_width": null,
            "object_fit": null,
            "object_position": null,
            "order": null,
            "overflow": null,
            "overflow_x": null,
            "overflow_y": null,
            "padding": null,
            "right": null,
            "top": null,
            "visibility": null,
            "width": null
          }
        },
        "2cd90113fdf84342afb656b90883b598": {
          "model_module": "@jupyter-widgets/controls",
          "model_name": "DescriptionStyleModel",
          "model_module_version": "1.5.0",
          "state": {
            "_model_module": "@jupyter-widgets/controls",
            "_model_module_version": "1.5.0",
            "_model_name": "DescriptionStyleModel",
            "_view_count": null,
            "_view_module": "@jupyter-widgets/base",
            "_view_module_version": "1.2.0",
            "_view_name": "StyleView",
            "description_width": ""
          }
        },
        "a6bb3d4f48e146cb9b2983c5c4418179": {
          "model_module": "@jupyter-widgets/controls",
          "model_name": "HBoxModel",
          "model_module_version": "1.5.0",
          "state": {
            "_dom_classes": [],
            "_model_module": "@jupyter-widgets/controls",
            "_model_module_version": "1.5.0",
            "_model_name": "HBoxModel",
            "_view_count": null,
            "_view_module": "@jupyter-widgets/controls",
            "_view_module_version": "1.5.0",
            "_view_name": "HBoxView",
            "box_style": "",
            "children": [
              "IPY_MODEL_f7b7b75140c24cc6ac55479d2d729f1c",
              "IPY_MODEL_a982825feb9c4a448d7eeec176f7a97e",
              "IPY_MODEL_a2b1ebb929a94d399766ef578d72baca"
            ],
            "layout": "IPY_MODEL_acf4b2d43b6f4c169af3b7b03af3879c"
          }
        },
        "f7b7b75140c24cc6ac55479d2d729f1c": {
          "model_module": "@jupyter-widgets/controls",
          "model_name": "HTMLModel",
          "model_module_version": "1.5.0",
          "state": {
            "_dom_classes": [],
            "_model_module": "@jupyter-widgets/controls",
            "_model_module_version": "1.5.0",
            "_model_name": "HTMLModel",
            "_view_count": null,
            "_view_module": "@jupyter-widgets/controls",
            "_view_module_version": "1.5.0",
            "_view_name": "HTMLView",
            "description": "",
            "description_tooltip": null,
            "layout": "IPY_MODEL_b66a59176e0545c982b441b8f1904139",
            "placeholder": "​",
            "style": "IPY_MODEL_f27af7b22e1a4009b1bed1ef9844f342",
            "value": "Downloading data: 100%"
          }
        },
        "a982825feb9c4a448d7eeec176f7a97e": {
          "model_module": "@jupyter-widgets/controls",
          "model_name": "FloatProgressModel",
          "model_module_version": "1.5.0",
          "state": {
            "_dom_classes": [],
            "_model_module": "@jupyter-widgets/controls",
            "_model_module_version": "1.5.0",
            "_model_name": "FloatProgressModel",
            "_view_count": null,
            "_view_module": "@jupyter-widgets/controls",
            "_view_module_version": "1.5.0",
            "_view_name": "ProgressView",
            "bar_style": "success",
            "description": "",
            "description_tooltip": null,
            "layout": "IPY_MODEL_949fc37e66334c188c55ed43b758629b",
            "max": 153663590,
            "min": 0,
            "orientation": "horizontal",
            "style": "IPY_MODEL_9d97b007461a438ab67468a6e34d25dc",
            "value": 153663590
          }
        },
        "a2b1ebb929a94d399766ef578d72baca": {
          "model_module": "@jupyter-widgets/controls",
          "model_name": "HTMLModel",
          "model_module_version": "1.5.0",
          "state": {
            "_dom_classes": [],
            "_model_module": "@jupyter-widgets/controls",
            "_model_module_version": "1.5.0",
            "_model_name": "HTMLModel",
            "_view_count": null,
            "_view_module": "@jupyter-widgets/controls",
            "_view_module_version": "1.5.0",
            "_view_name": "HTMLView",
            "description": "",
            "description_tooltip": null,
            "layout": "IPY_MODEL_010ec651694d4aac9ea96f032f11b549",
            "placeholder": "​",
            "style": "IPY_MODEL_ab29811548874dbea286c4aa71b0cd51",
            "value": " 154M/154M [00:02&lt;00:00, 59.5MB/s]"
          }
        },
        "acf4b2d43b6f4c169af3b7b03af3879c": {
          "model_module": "@jupyter-widgets/base",
          "model_name": "LayoutModel",
          "model_module_version": "1.2.0",
          "state": {
            "_model_module": "@jupyter-widgets/base",
            "_model_module_version": "1.2.0",
            "_model_name": "LayoutModel",
            "_view_count": null,
            "_view_module": "@jupyter-widgets/base",
            "_view_module_version": "1.2.0",
            "_view_name": "LayoutView",
            "align_content": null,
            "align_items": null,
            "align_self": null,
            "border": null,
            "bottom": null,
            "display": null,
            "flex": null,
            "flex_flow": null,
            "grid_area": null,
            "grid_auto_columns": null,
            "grid_auto_flow": null,
            "grid_auto_rows": null,
            "grid_column": null,
            "grid_gap": null,
            "grid_row": null,
            "grid_template_areas": null,
            "grid_template_columns": null,
            "grid_template_rows": null,
            "height": null,
            "justify_content": null,
            "justify_items": null,
            "left": null,
            "margin": null,
            "max_height": null,
            "max_width": null,
            "min_height": null,
            "min_width": null,
            "object_fit": null,
            "object_position": null,
            "order": null,
            "overflow": null,
            "overflow_x": null,
            "overflow_y": null,
            "padding": null,
            "right": null,
            "top": null,
            "visibility": null,
            "width": null
          }
        },
        "b66a59176e0545c982b441b8f1904139": {
          "model_module": "@jupyter-widgets/base",
          "model_name": "LayoutModel",
          "model_module_version": "1.2.0",
          "state": {
            "_model_module": "@jupyter-widgets/base",
            "_model_module_version": "1.2.0",
            "_model_name": "LayoutModel",
            "_view_count": null,
            "_view_module": "@jupyter-widgets/base",
            "_view_module_version": "1.2.0",
            "_view_name": "LayoutView",
            "align_content": null,
            "align_items": null,
            "align_self": null,
            "border": null,
            "bottom": null,
            "display": null,
            "flex": null,
            "flex_flow": null,
            "grid_area": null,
            "grid_auto_columns": null,
            "grid_auto_flow": null,
            "grid_auto_rows": null,
            "grid_column": null,
            "grid_gap": null,
            "grid_row": null,
            "grid_template_areas": null,
            "grid_template_columns": null,
            "grid_template_rows": null,
            "height": null,
            "justify_content": null,
            "justify_items": null,
            "left": null,
            "margin": null,
            "max_height": null,
            "max_width": null,
            "min_height": null,
            "min_width": null,
            "object_fit": null,
            "object_position": null,
            "order": null,
            "overflow": null,
            "overflow_x": null,
            "overflow_y": null,
            "padding": null,
            "right": null,
            "top": null,
            "visibility": null,
            "width": null
          }
        },
        "f27af7b22e1a4009b1bed1ef9844f342": {
          "model_module": "@jupyter-widgets/controls",
          "model_name": "DescriptionStyleModel",
          "model_module_version": "1.5.0",
          "state": {
            "_model_module": "@jupyter-widgets/controls",
            "_model_module_version": "1.5.0",
            "_model_name": "DescriptionStyleModel",
            "_view_count": null,
            "_view_module": "@jupyter-widgets/base",
            "_view_module_version": "1.2.0",
            "_view_name": "StyleView",
            "description_width": ""
          }
        },
        "949fc37e66334c188c55ed43b758629b": {
          "model_module": "@jupyter-widgets/base",
          "model_name": "LayoutModel",
          "model_module_version": "1.2.0",
          "state": {
            "_model_module": "@jupyter-widgets/base",
            "_model_module_version": "1.2.0",
            "_model_name": "LayoutModel",
            "_view_count": null,
            "_view_module": "@jupyter-widgets/base",
            "_view_module_version": "1.2.0",
            "_view_name": "LayoutView",
            "align_content": null,
            "align_items": null,
            "align_self": null,
            "border": null,
            "bottom": null,
            "display": null,
            "flex": null,
            "flex_flow": null,
            "grid_area": null,
            "grid_auto_columns": null,
            "grid_auto_flow": null,
            "grid_auto_rows": null,
            "grid_column": null,
            "grid_gap": null,
            "grid_row": null,
            "grid_template_areas": null,
            "grid_template_columns": null,
            "grid_template_rows": null,
            "height": null,
            "justify_content": null,
            "justify_items": null,
            "left": null,
            "margin": null,
            "max_height": null,
            "max_width": null,
            "min_height": null,
            "min_width": null,
            "object_fit": null,
            "object_position": null,
            "order": null,
            "overflow": null,
            "overflow_x": null,
            "overflow_y": null,
            "padding": null,
            "right": null,
            "top": null,
            "visibility": null,
            "width": null
          }
        },
        "9d97b007461a438ab67468a6e34d25dc": {
          "model_module": "@jupyter-widgets/controls",
          "model_name": "ProgressStyleModel",
          "model_module_version": "1.5.0",
          "state": {
            "_model_module": "@jupyter-widgets/controls",
            "_model_module_version": "1.5.0",
            "_model_name": "ProgressStyleModel",
            "_view_count": null,
            "_view_module": "@jupyter-widgets/base",
            "_view_module_version": "1.2.0",
            "_view_name": "StyleView",
            "bar_color": null,
            "description_width": ""
          }
        },
        "010ec651694d4aac9ea96f032f11b549": {
          "model_module": "@jupyter-widgets/base",
          "model_name": "LayoutModel",
          "model_module_version": "1.2.0",
          "state": {
            "_model_module": "@jupyter-widgets/base",
            "_model_module_version": "1.2.0",
            "_model_name": "LayoutModel",
            "_view_count": null,
            "_view_module": "@jupyter-widgets/base",
            "_view_module_version": "1.2.0",
            "_view_name": "LayoutView",
            "align_content": null,
            "align_items": null,
            "align_self": null,
            "border": null,
            "bottom": null,
            "display": null,
            "flex": null,
            "flex_flow": null,
            "grid_area": null,
            "grid_auto_columns": null,
            "grid_auto_flow": null,
            "grid_auto_rows": null,
            "grid_column": null,
            "grid_gap": null,
            "grid_row": null,
            "grid_template_areas": null,
            "grid_template_columns": null,
            "grid_template_rows": null,
            "height": null,
            "justify_content": null,
            "justify_items": null,
            "left": null,
            "margin": null,
            "max_height": null,
            "max_width": null,
            "min_height": null,
            "min_width": null,
            "object_fit": null,
            "object_position": null,
            "order": null,
            "overflow": null,
            "overflow_x": null,
            "overflow_y": null,
            "padding": null,
            "right": null,
            "top": null,
            "visibility": null,
            "width": null
          }
        },
        "ab29811548874dbea286c4aa71b0cd51": {
          "model_module": "@jupyter-widgets/controls",
          "model_name": "DescriptionStyleModel",
          "model_module_version": "1.5.0",
          "state": {
            "_model_module": "@jupyter-widgets/controls",
            "_model_module_version": "1.5.0",
            "_model_name": "DescriptionStyleModel",
            "_view_count": null,
            "_view_module": "@jupyter-widgets/base",
            "_view_module_version": "1.2.0",
            "_view_name": "StyleView",
            "description_width": ""
          }
        },
        "a562807337cb45cca6db3b7a7976c02d": {
          "model_module": "@jupyter-widgets/controls",
          "model_name": "HBoxModel",
          "model_module_version": "1.5.0",
          "state": {
            "_dom_classes": [],
            "_model_module": "@jupyter-widgets/controls",
            "_model_module_version": "1.5.0",
            "_model_name": "HBoxModel",
            "_view_count": null,
            "_view_module": "@jupyter-widgets/controls",
            "_view_module_version": "1.5.0",
            "_view_name": "HBoxView",
            "box_style": "",
            "children": [
              "IPY_MODEL_0d8a464f22994865b810c9edb36c8ae9",
              "IPY_MODEL_783ce360e8d94af7a90f833574af278c",
              "IPY_MODEL_5a538db5e4004800b0a7c94f82478218"
            ],
            "layout": "IPY_MODEL_4a86822a892646ef89292a22aaea0966"
          }
        },
        "0d8a464f22994865b810c9edb36c8ae9": {
          "model_module": "@jupyter-widgets/controls",
          "model_name": "HTMLModel",
          "model_module_version": "1.5.0",
          "state": {
            "_dom_classes": [],
            "_model_module": "@jupyter-widgets/controls",
            "_model_module_version": "1.5.0",
            "_model_name": "HTMLModel",
            "_view_count": null,
            "_view_module": "@jupyter-widgets/controls",
            "_view_module_version": "1.5.0",
            "_view_name": "HTMLView",
            "description": "",
            "description_tooltip": null,
            "layout": "IPY_MODEL_7bc5bacfd7e14d509f36163d46c71423",
            "placeholder": "​",
            "style": "IPY_MODEL_f91765af794843afb1d0b83642e85968",
            "value": "Downloading data: 100%"
          }
        },
        "783ce360e8d94af7a90f833574af278c": {
          "model_module": "@jupyter-widgets/controls",
          "model_name": "FloatProgressModel",
          "model_module_version": "1.5.0",
          "state": {
            "_dom_classes": [],
            "_model_module": "@jupyter-widgets/controls",
            "_model_module_version": "1.5.0",
            "_model_name": "FloatProgressModel",
            "_view_count": null,
            "_view_module": "@jupyter-widgets/controls",
            "_view_module_version": "1.5.0",
            "_view_name": "ProgressView",
            "bar_style": "success",
            "description": "",
            "description_tooltip": null,
            "layout": "IPY_MODEL_50302c7f3dc64ab69e0b81166da5f847",
            "max": 124959719,
            "min": 0,
            "orientation": "horizontal",
            "style": "IPY_MODEL_9fcb479467e84a1e9cba114c257df15f",
            "value": 124959719
          }
        },
        "5a538db5e4004800b0a7c94f82478218": {
          "model_module": "@jupyter-widgets/controls",
          "model_name": "HTMLModel",
          "model_module_version": "1.5.0",
          "state": {
            "_dom_classes": [],
            "_model_module": "@jupyter-widgets/controls",
            "_model_module_version": "1.5.0",
            "_model_name": "HTMLModel",
            "_view_count": null,
            "_view_module": "@jupyter-widgets/controls",
            "_view_module_version": "1.5.0",
            "_view_name": "HTMLView",
            "description": "",
            "description_tooltip": null,
            "layout": "IPY_MODEL_83abc82e7a8e4241a9a7413e5e050286",
            "placeholder": "​",
            "style": "IPY_MODEL_5c7339ade76b46358babded4e6958d9a",
            "value": " 125M/125M [00:02&lt;00:00, 48.5MB/s]"
          }
        },
        "4a86822a892646ef89292a22aaea0966": {
          "model_module": "@jupyter-widgets/base",
          "model_name": "LayoutModel",
          "model_module_version": "1.2.0",
          "state": {
            "_model_module": "@jupyter-widgets/base",
            "_model_module_version": "1.2.0",
            "_model_name": "LayoutModel",
            "_view_count": null,
            "_view_module": "@jupyter-widgets/base",
            "_view_module_version": "1.2.0",
            "_view_name": "LayoutView",
            "align_content": null,
            "align_items": null,
            "align_self": null,
            "border": null,
            "bottom": null,
            "display": null,
            "flex": null,
            "flex_flow": null,
            "grid_area": null,
            "grid_auto_columns": null,
            "grid_auto_flow": null,
            "grid_auto_rows": null,
            "grid_column": null,
            "grid_gap": null,
            "grid_row": null,
            "grid_template_areas": null,
            "grid_template_columns": null,
            "grid_template_rows": null,
            "height": null,
            "justify_content": null,
            "justify_items": null,
            "left": null,
            "margin": null,
            "max_height": null,
            "max_width": null,
            "min_height": null,
            "min_width": null,
            "object_fit": null,
            "object_position": null,
            "order": null,
            "overflow": null,
            "overflow_x": null,
            "overflow_y": null,
            "padding": null,
            "right": null,
            "top": null,
            "visibility": null,
            "width": null
          }
        },
        "7bc5bacfd7e14d509f36163d46c71423": {
          "model_module": "@jupyter-widgets/base",
          "model_name": "LayoutModel",
          "model_module_version": "1.2.0",
          "state": {
            "_model_module": "@jupyter-widgets/base",
            "_model_module_version": "1.2.0",
            "_model_name": "LayoutModel",
            "_view_count": null,
            "_view_module": "@jupyter-widgets/base",
            "_view_module_version": "1.2.0",
            "_view_name": "LayoutView",
            "align_content": null,
            "align_items": null,
            "align_self": null,
            "border": null,
            "bottom": null,
            "display": null,
            "flex": null,
            "flex_flow": null,
            "grid_area": null,
            "grid_auto_columns": null,
            "grid_auto_flow": null,
            "grid_auto_rows": null,
            "grid_column": null,
            "grid_gap": null,
            "grid_row": null,
            "grid_template_areas": null,
            "grid_template_columns": null,
            "grid_template_rows": null,
            "height": null,
            "justify_content": null,
            "justify_items": null,
            "left": null,
            "margin": null,
            "max_height": null,
            "max_width": null,
            "min_height": null,
            "min_width": null,
            "object_fit": null,
            "object_position": null,
            "order": null,
            "overflow": null,
            "overflow_x": null,
            "overflow_y": null,
            "padding": null,
            "right": null,
            "top": null,
            "visibility": null,
            "width": null
          }
        },
        "f91765af794843afb1d0b83642e85968": {
          "model_module": "@jupyter-widgets/controls",
          "model_name": "DescriptionStyleModel",
          "model_module_version": "1.5.0",
          "state": {
            "_model_module": "@jupyter-widgets/controls",
            "_model_module_version": "1.5.0",
            "_model_name": "DescriptionStyleModel",
            "_view_count": null,
            "_view_module": "@jupyter-widgets/base",
            "_view_module_version": "1.2.0",
            "_view_name": "StyleView",
            "description_width": ""
          }
        },
        "50302c7f3dc64ab69e0b81166da5f847": {
          "model_module": "@jupyter-widgets/base",
          "model_name": "LayoutModel",
          "model_module_version": "1.2.0",
          "state": {
            "_model_module": "@jupyter-widgets/base",
            "_model_module_version": "1.2.0",
            "_model_name": "LayoutModel",
            "_view_count": null,
            "_view_module": "@jupyter-widgets/base",
            "_view_module_version": "1.2.0",
            "_view_name": "LayoutView",
            "align_content": null,
            "align_items": null,
            "align_self": null,
            "border": null,
            "bottom": null,
            "display": null,
            "flex": null,
            "flex_flow": null,
            "grid_area": null,
            "grid_auto_columns": null,
            "grid_auto_flow": null,
            "grid_auto_rows": null,
            "grid_column": null,
            "grid_gap": null,
            "grid_row": null,
            "grid_template_areas": null,
            "grid_template_columns": null,
            "grid_template_rows": null,
            "height": null,
            "justify_content": null,
            "justify_items": null,
            "left": null,
            "margin": null,
            "max_height": null,
            "max_width": null,
            "min_height": null,
            "min_width": null,
            "object_fit": null,
            "object_position": null,
            "order": null,
            "overflow": null,
            "overflow_x": null,
            "overflow_y": null,
            "padding": null,
            "right": null,
            "top": null,
            "visibility": null,
            "width": null
          }
        },
        "9fcb479467e84a1e9cba114c257df15f": {
          "model_module": "@jupyter-widgets/controls",
          "model_name": "ProgressStyleModel",
          "model_module_version": "1.5.0",
          "state": {
            "_model_module": "@jupyter-widgets/controls",
            "_model_module_version": "1.5.0",
            "_model_name": "ProgressStyleModel",
            "_view_count": null,
            "_view_module": "@jupyter-widgets/base",
            "_view_module_version": "1.2.0",
            "_view_name": "StyleView",
            "bar_color": null,
            "description_width": ""
          }
        },
        "83abc82e7a8e4241a9a7413e5e050286": {
          "model_module": "@jupyter-widgets/base",
          "model_name": "LayoutModel",
          "model_module_version": "1.2.0",
          "state": {
            "_model_module": "@jupyter-widgets/base",
            "_model_module_version": "1.2.0",
            "_model_name": "LayoutModel",
            "_view_count": null,
            "_view_module": "@jupyter-widgets/base",
            "_view_module_version": "1.2.0",
            "_view_name": "LayoutView",
            "align_content": null,
            "align_items": null,
            "align_self": null,
            "border": null,
            "bottom": null,
            "display": null,
            "flex": null,
            "flex_flow": null,
            "grid_area": null,
            "grid_auto_columns": null,
            "grid_auto_flow": null,
            "grid_auto_rows": null,
            "grid_column": null,
            "grid_gap": null,
            "grid_row": null,
            "grid_template_areas": null,
            "grid_template_columns": null,
            "grid_template_rows": null,
            "height": null,
            "justify_content": null,
            "justify_items": null,
            "left": null,
            "margin": null,
            "max_height": null,
            "max_width": null,
            "min_height": null,
            "min_width": null,
            "object_fit": null,
            "object_position": null,
            "order": null,
            "overflow": null,
            "overflow_x": null,
            "overflow_y": null,
            "padding": null,
            "right": null,
            "top": null,
            "visibility": null,
            "width": null
          }
        },
        "5c7339ade76b46358babded4e6958d9a": {
          "model_module": "@jupyter-widgets/controls",
          "model_name": "DescriptionStyleModel",
          "model_module_version": "1.5.0",
          "state": {
            "_model_module": "@jupyter-widgets/controls",
            "_model_module_version": "1.5.0",
            "_model_name": "DescriptionStyleModel",
            "_view_count": null,
            "_view_module": "@jupyter-widgets/base",
            "_view_module_version": "1.2.0",
            "_view_name": "StyleView",
            "description_width": ""
          }
        },
        "3dcdbbc6ee3045ef8a7a16b2de09ebc3": {
          "model_module": "@jupyter-widgets/controls",
          "model_name": "HBoxModel",
          "model_module_version": "1.5.0",
          "state": {
            "_dom_classes": [],
            "_model_module": "@jupyter-widgets/controls",
            "_model_module_version": "1.5.0",
            "_model_name": "HBoxModel",
            "_view_count": null,
            "_view_module": "@jupyter-widgets/controls",
            "_view_module_version": "1.5.0",
            "_view_name": "HBoxView",
            "box_style": "",
            "children": [
              "IPY_MODEL_ac62fe1dbaaa454f99f18367bcc7c65e",
              "IPY_MODEL_0b5b5cf40035439bb6afedfe031f07da",
              "IPY_MODEL_80ae81ae58ed4daab04677bb69cb329a"
            ],
            "layout": "IPY_MODEL_0bc5062d6b9542458227a9b6190465f4"
          }
        },
        "ac62fe1dbaaa454f99f18367bcc7c65e": {
          "model_module": "@jupyter-widgets/controls",
          "model_name": "HTMLModel",
          "model_module_version": "1.5.0",
          "state": {
            "_dom_classes": [],
            "_model_module": "@jupyter-widgets/controls",
            "_model_module_version": "1.5.0",
            "_model_name": "HTMLModel",
            "_view_count": null,
            "_view_module": "@jupyter-widgets/controls",
            "_view_module_version": "1.5.0",
            "_view_name": "HTMLView",
            "description": "",
            "description_tooltip": null,
            "layout": "IPY_MODEL_962aabde15f846768ea37b7ffe7738a2",
            "placeholder": "​",
            "style": "IPY_MODEL_74a4e0d62b9843e68a1d46899b7f4b38",
            "value": "Generating train split: 100%"
          }
        },
        "0b5b5cf40035439bb6afedfe031f07da": {
          "model_module": "@jupyter-widgets/controls",
          "model_name": "FloatProgressModel",
          "model_module_version": "1.5.0",
          "state": {
            "_dom_classes": [],
            "_model_module": "@jupyter-widgets/controls",
            "_model_module_version": "1.5.0",
            "_model_name": "FloatProgressModel",
            "_view_count": null,
            "_view_module": "@jupyter-widgets/controls",
            "_view_module_version": "1.5.0",
            "_view_name": "ProgressView",
            "bar_style": "",
            "description": "",
            "description_tooltip": null,
            "layout": "IPY_MODEL_24e62e7118e34530bece998202b1f6a4",
            "max": 51093,
            "min": 0,
            "orientation": "horizontal",
            "style": "IPY_MODEL_2a2a5da9c1964544b4bd3cc9c25f6208",
            "value": 51093
          }
        },
        "80ae81ae58ed4daab04677bb69cb329a": {
          "model_module": "@jupyter-widgets/controls",
          "model_name": "HTMLModel",
          "model_module_version": "1.5.0",
          "state": {
            "_dom_classes": [],
            "_model_module": "@jupyter-widgets/controls",
            "_model_module_version": "1.5.0",
            "_model_name": "HTMLModel",
            "_view_count": null,
            "_view_module": "@jupyter-widgets/controls",
            "_view_module_version": "1.5.0",
            "_view_name": "HTMLView",
            "description": "",
            "description_tooltip": null,
            "layout": "IPY_MODEL_6fa618b42dc84471b6a8eaa7e7369e44",
            "placeholder": "​",
            "style": "IPY_MODEL_ed0a8769a9b248aa955ee15af2a72c2e",
            "value": " 50922/51093 [00:32&lt;00:00, 2238.08 examples/s]"
          }
        },
        "0bc5062d6b9542458227a9b6190465f4": {
          "model_module": "@jupyter-widgets/base",
          "model_name": "LayoutModel",
          "model_module_version": "1.2.0",
          "state": {
            "_model_module": "@jupyter-widgets/base",
            "_model_module_version": "1.2.0",
            "_model_name": "LayoutModel",
            "_view_count": null,
            "_view_module": "@jupyter-widgets/base",
            "_view_module_version": "1.2.0",
            "_view_name": "LayoutView",
            "align_content": null,
            "align_items": null,
            "align_self": null,
            "border": null,
            "bottom": null,
            "display": null,
            "flex": null,
            "flex_flow": null,
            "grid_area": null,
            "grid_auto_columns": null,
            "grid_auto_flow": null,
            "grid_auto_rows": null,
            "grid_column": null,
            "grid_gap": null,
            "grid_row": null,
            "grid_template_areas": null,
            "grid_template_columns": null,
            "grid_template_rows": null,
            "height": null,
            "justify_content": null,
            "justify_items": null,
            "left": null,
            "margin": null,
            "max_height": null,
            "max_width": null,
            "min_height": null,
            "min_width": null,
            "object_fit": null,
            "object_position": null,
            "order": null,
            "overflow": null,
            "overflow_x": null,
            "overflow_y": null,
            "padding": null,
            "right": null,
            "top": null,
            "visibility": "hidden",
            "width": null
          }
        },
        "962aabde15f846768ea37b7ffe7738a2": {
          "model_module": "@jupyter-widgets/base",
          "model_name": "LayoutModel",
          "model_module_version": "1.2.0",
          "state": {
            "_model_module": "@jupyter-widgets/base",
            "_model_module_version": "1.2.0",
            "_model_name": "LayoutModel",
            "_view_count": null,
            "_view_module": "@jupyter-widgets/base",
            "_view_module_version": "1.2.0",
            "_view_name": "LayoutView",
            "align_content": null,
            "align_items": null,
            "align_self": null,
            "border": null,
            "bottom": null,
            "display": null,
            "flex": null,
            "flex_flow": null,
            "grid_area": null,
            "grid_auto_columns": null,
            "grid_auto_flow": null,
            "grid_auto_rows": null,
            "grid_column": null,
            "grid_gap": null,
            "grid_row": null,
            "grid_template_areas": null,
            "grid_template_columns": null,
            "grid_template_rows": null,
            "height": null,
            "justify_content": null,
            "justify_items": null,
            "left": null,
            "margin": null,
            "max_height": null,
            "max_width": null,
            "min_height": null,
            "min_width": null,
            "object_fit": null,
            "object_position": null,
            "order": null,
            "overflow": null,
            "overflow_x": null,
            "overflow_y": null,
            "padding": null,
            "right": null,
            "top": null,
            "visibility": null,
            "width": null
          }
        },
        "74a4e0d62b9843e68a1d46899b7f4b38": {
          "model_module": "@jupyter-widgets/controls",
          "model_name": "DescriptionStyleModel",
          "model_module_version": "1.5.0",
          "state": {
            "_model_module": "@jupyter-widgets/controls",
            "_model_module_version": "1.5.0",
            "_model_name": "DescriptionStyleModel",
            "_view_count": null,
            "_view_module": "@jupyter-widgets/base",
            "_view_module_version": "1.2.0",
            "_view_name": "StyleView",
            "description_width": ""
          }
        },
        "24e62e7118e34530bece998202b1f6a4": {
          "model_module": "@jupyter-widgets/base",
          "model_name": "LayoutModel",
          "model_module_version": "1.2.0",
          "state": {
            "_model_module": "@jupyter-widgets/base",
            "_model_module_version": "1.2.0",
            "_model_name": "LayoutModel",
            "_view_count": null,
            "_view_module": "@jupyter-widgets/base",
            "_view_module_version": "1.2.0",
            "_view_name": "LayoutView",
            "align_content": null,
            "align_items": null,
            "align_self": null,
            "border": null,
            "bottom": null,
            "display": null,
            "flex": null,
            "flex_flow": null,
            "grid_area": null,
            "grid_auto_columns": null,
            "grid_auto_flow": null,
            "grid_auto_rows": null,
            "grid_column": null,
            "grid_gap": null,
            "grid_row": null,
            "grid_template_areas": null,
            "grid_template_columns": null,
            "grid_template_rows": null,
            "height": null,
            "justify_content": null,
            "justify_items": null,
            "left": null,
            "margin": null,
            "max_height": null,
            "max_width": null,
            "min_height": null,
            "min_width": null,
            "object_fit": null,
            "object_position": null,
            "order": null,
            "overflow": null,
            "overflow_x": null,
            "overflow_y": null,
            "padding": null,
            "right": null,
            "top": null,
            "visibility": null,
            "width": null
          }
        },
        "2a2a5da9c1964544b4bd3cc9c25f6208": {
          "model_module": "@jupyter-widgets/controls",
          "model_name": "ProgressStyleModel",
          "model_module_version": "1.5.0",
          "state": {
            "_model_module": "@jupyter-widgets/controls",
            "_model_module_version": "1.5.0",
            "_model_name": "ProgressStyleModel",
            "_view_count": null,
            "_view_module": "@jupyter-widgets/base",
            "_view_module_version": "1.2.0",
            "_view_name": "StyleView",
            "bar_color": null,
            "description_width": ""
          }
        },
        "6fa618b42dc84471b6a8eaa7e7369e44": {
          "model_module": "@jupyter-widgets/base",
          "model_name": "LayoutModel",
          "model_module_version": "1.2.0",
          "state": {
            "_model_module": "@jupyter-widgets/base",
            "_model_module_version": "1.2.0",
            "_model_name": "LayoutModel",
            "_view_count": null,
            "_view_module": "@jupyter-widgets/base",
            "_view_module_version": "1.2.0",
            "_view_name": "LayoutView",
            "align_content": null,
            "align_items": null,
            "align_self": null,
            "border": null,
            "bottom": null,
            "display": null,
            "flex": null,
            "flex_flow": null,
            "grid_area": null,
            "grid_auto_columns": null,
            "grid_auto_flow": null,
            "grid_auto_rows": null,
            "grid_column": null,
            "grid_gap": null,
            "grid_row": null,
            "grid_template_areas": null,
            "grid_template_columns": null,
            "grid_template_rows": null,
            "height": null,
            "justify_content": null,
            "justify_items": null,
            "left": null,
            "margin": null,
            "max_height": null,
            "max_width": null,
            "min_height": null,
            "min_width": null,
            "object_fit": null,
            "object_position": null,
            "order": null,
            "overflow": null,
            "overflow_x": null,
            "overflow_y": null,
            "padding": null,
            "right": null,
            "top": null,
            "visibility": null,
            "width": null
          }
        },
        "ed0a8769a9b248aa955ee15af2a72c2e": {
          "model_module": "@jupyter-widgets/controls",
          "model_name": "DescriptionStyleModel",
          "model_module_version": "1.5.0",
          "state": {
            "_model_module": "@jupyter-widgets/controls",
            "_model_module_version": "1.5.0",
            "_model_name": "DescriptionStyleModel",
            "_view_count": null,
            "_view_module": "@jupyter-widgets/base",
            "_view_module_version": "1.2.0",
            "_view_name": "StyleView",
            "description_width": ""
          }
        },
        "f1d49c2b412c470c9934ed77e935d82d": {
          "model_module": "@jupyter-widgets/controls",
          "model_name": "HBoxModel",
          "model_module_version": "1.5.0",
          "state": {
            "_dom_classes": [],
            "_model_module": "@jupyter-widgets/controls",
            "_model_module_version": "1.5.0",
            "_model_name": "HBoxModel",
            "_view_count": null,
            "_view_module": "@jupyter-widgets/controls",
            "_view_module_version": "1.5.0",
            "_view_name": "HBoxView",
            "box_style": "",
            "children": [
              "IPY_MODEL_fcf10ae34ee14f89a93c121623f7b61b",
              "IPY_MODEL_970cbb2342e84ee787f0bf798aac1343",
              "IPY_MODEL_ee91fac95e874a349bfc97e57fcc4f1b"
            ],
            "layout": "IPY_MODEL_e2d0e578aafa477ca634aa3e99b089c8"
          }
        },
        "fcf10ae34ee14f89a93c121623f7b61b": {
          "model_module": "@jupyter-widgets/controls",
          "model_name": "HTMLModel",
          "model_module_version": "1.5.0",
          "state": {
            "_dom_classes": [],
            "_model_module": "@jupyter-widgets/controls",
            "_model_module_version": "1.5.0",
            "_model_name": "HTMLModel",
            "_view_count": null,
            "_view_module": "@jupyter-widgets/controls",
            "_view_module_version": "1.5.0",
            "_view_name": "HTMLView",
            "description": "",
            "description_tooltip": null,
            "layout": "IPY_MODEL_127cbc705751448b9e9eed42222474a9",
            "placeholder": "​",
            "style": "IPY_MODEL_1c4a1c25647245aab15b2c06a05861bc",
            "value": "Generating validation split:  98%"
          }
        },
        "970cbb2342e84ee787f0bf798aac1343": {
          "model_module": "@jupyter-widgets/controls",
          "model_name": "FloatProgressModel",
          "model_module_version": "1.5.0",
          "state": {
            "_dom_classes": [],
            "_model_module": "@jupyter-widgets/controls",
            "_model_module_version": "1.5.0",
            "_model_name": "FloatProgressModel",
            "_view_count": null,
            "_view_module": "@jupyter-widgets/controls",
            "_view_module_version": "1.5.0",
            "_view_name": "ProgressView",
            "bar_style": "",
            "description": "",
            "description_tooltip": null,
            "layout": "IPY_MODEL_8569942e991f47f4858c230358b17f90",
            "max": 6799,
            "min": 0,
            "orientation": "horizontal",
            "style": "IPY_MODEL_1ca9441bc85a48268e98f838b19ee380",
            "value": 6799
          }
        },
        "ee91fac95e874a349bfc97e57fcc4f1b": {
          "model_module": "@jupyter-widgets/controls",
          "model_name": "HTMLModel",
          "model_module_version": "1.5.0",
          "state": {
            "_dom_classes": [],
            "_model_module": "@jupyter-widgets/controls",
            "_model_module_version": "1.5.0",
            "_model_name": "HTMLModel",
            "_view_count": null,
            "_view_module": "@jupyter-widgets/controls",
            "_view_module_version": "1.5.0",
            "_view_name": "HTMLView",
            "description": "",
            "description_tooltip": null,
            "layout": "IPY_MODEL_fddabf1d18da4fe1b053054632d107cd",
            "placeholder": "​",
            "style": "IPY_MODEL_3d32afe5992846a2b0ac5cb1260c7383",
            "value": " 6669/6799 [00:03&lt;00:00, 2107.42 examples/s]"
          }
        },
        "e2d0e578aafa477ca634aa3e99b089c8": {
          "model_module": "@jupyter-widgets/base",
          "model_name": "LayoutModel",
          "model_module_version": "1.2.0",
          "state": {
            "_model_module": "@jupyter-widgets/base",
            "_model_module_version": "1.2.0",
            "_model_name": "LayoutModel",
            "_view_count": null,
            "_view_module": "@jupyter-widgets/base",
            "_view_module_version": "1.2.0",
            "_view_name": "LayoutView",
            "align_content": null,
            "align_items": null,
            "align_self": null,
            "border": null,
            "bottom": null,
            "display": null,
            "flex": null,
            "flex_flow": null,
            "grid_area": null,
            "grid_auto_columns": null,
            "grid_auto_flow": null,
            "grid_auto_rows": null,
            "grid_column": null,
            "grid_gap": null,
            "grid_row": null,
            "grid_template_areas": null,
            "grid_template_columns": null,
            "grid_template_rows": null,
            "height": null,
            "justify_content": null,
            "justify_items": null,
            "left": null,
            "margin": null,
            "max_height": null,
            "max_width": null,
            "min_height": null,
            "min_width": null,
            "object_fit": null,
            "object_position": null,
            "order": null,
            "overflow": null,
            "overflow_x": null,
            "overflow_y": null,
            "padding": null,
            "right": null,
            "top": null,
            "visibility": "hidden",
            "width": null
          }
        },
        "127cbc705751448b9e9eed42222474a9": {
          "model_module": "@jupyter-widgets/base",
          "model_name": "LayoutModel",
          "model_module_version": "1.2.0",
          "state": {
            "_model_module": "@jupyter-widgets/base",
            "_model_module_version": "1.2.0",
            "_model_name": "LayoutModel",
            "_view_count": null,
            "_view_module": "@jupyter-widgets/base",
            "_view_module_version": "1.2.0",
            "_view_name": "LayoutView",
            "align_content": null,
            "align_items": null,
            "align_self": null,
            "border": null,
            "bottom": null,
            "display": null,
            "flex": null,
            "flex_flow": null,
            "grid_area": null,
            "grid_auto_columns": null,
            "grid_auto_flow": null,
            "grid_auto_rows": null,
            "grid_column": null,
            "grid_gap": null,
            "grid_row": null,
            "grid_template_areas": null,
            "grid_template_columns": null,
            "grid_template_rows": null,
            "height": null,
            "justify_content": null,
            "justify_items": null,
            "left": null,
            "margin": null,
            "max_height": null,
            "max_width": null,
            "min_height": null,
            "min_width": null,
            "object_fit": null,
            "object_position": null,
            "order": null,
            "overflow": null,
            "overflow_x": null,
            "overflow_y": null,
            "padding": null,
            "right": null,
            "top": null,
            "visibility": null,
            "width": null
          }
        },
        "1c4a1c25647245aab15b2c06a05861bc": {
          "model_module": "@jupyter-widgets/controls",
          "model_name": "DescriptionStyleModel",
          "model_module_version": "1.5.0",
          "state": {
            "_model_module": "@jupyter-widgets/controls",
            "_model_module_version": "1.5.0",
            "_model_name": "DescriptionStyleModel",
            "_view_count": null,
            "_view_module": "@jupyter-widgets/base",
            "_view_module_version": "1.2.0",
            "_view_name": "StyleView",
            "description_width": ""
          }
        },
        "8569942e991f47f4858c230358b17f90": {
          "model_module": "@jupyter-widgets/base",
          "model_name": "LayoutModel",
          "model_module_version": "1.2.0",
          "state": {
            "_model_module": "@jupyter-widgets/base",
            "_model_module_version": "1.2.0",
            "_model_name": "LayoutModel",
            "_view_count": null,
            "_view_module": "@jupyter-widgets/base",
            "_view_module_version": "1.2.0",
            "_view_name": "LayoutView",
            "align_content": null,
            "align_items": null,
            "align_self": null,
            "border": null,
            "bottom": null,
            "display": null,
            "flex": null,
            "flex_flow": null,
            "grid_area": null,
            "grid_auto_columns": null,
            "grid_auto_flow": null,
            "grid_auto_rows": null,
            "grid_column": null,
            "grid_gap": null,
            "grid_row": null,
            "grid_template_areas": null,
            "grid_template_columns": null,
            "grid_template_rows": null,
            "height": null,
            "justify_content": null,
            "justify_items": null,
            "left": null,
            "margin": null,
            "max_height": null,
            "max_width": null,
            "min_height": null,
            "min_width": null,
            "object_fit": null,
            "object_position": null,
            "order": null,
            "overflow": null,
            "overflow_x": null,
            "overflow_y": null,
            "padding": null,
            "right": null,
            "top": null,
            "visibility": null,
            "width": null
          }
        },
        "1ca9441bc85a48268e98f838b19ee380": {
          "model_module": "@jupyter-widgets/controls",
          "model_name": "ProgressStyleModel",
          "model_module_version": "1.5.0",
          "state": {
            "_model_module": "@jupyter-widgets/controls",
            "_model_module_version": "1.5.0",
            "_model_name": "ProgressStyleModel",
            "_view_count": null,
            "_view_module": "@jupyter-widgets/base",
            "_view_module_version": "1.2.0",
            "_view_name": "StyleView",
            "bar_color": null,
            "description_width": ""
          }
        },
        "fddabf1d18da4fe1b053054632d107cd": {
          "model_module": "@jupyter-widgets/base",
          "model_name": "LayoutModel",
          "model_module_version": "1.2.0",
          "state": {
            "_model_module": "@jupyter-widgets/base",
            "_model_module_version": "1.2.0",
            "_model_name": "LayoutModel",
            "_view_count": null,
            "_view_module": "@jupyter-widgets/base",
            "_view_module_version": "1.2.0",
            "_view_name": "LayoutView",
            "align_content": null,
            "align_items": null,
            "align_self": null,
            "border": null,
            "bottom": null,
            "display": null,
            "flex": null,
            "flex_flow": null,
            "grid_area": null,
            "grid_auto_columns": null,
            "grid_auto_flow": null,
            "grid_auto_rows": null,
            "grid_column": null,
            "grid_gap": null,
            "grid_row": null,
            "grid_template_areas": null,
            "grid_template_columns": null,
            "grid_template_rows": null,
            "height": null,
            "justify_content": null,
            "justify_items": null,
            "left": null,
            "margin": null,
            "max_height": null,
            "max_width": null,
            "min_height": null,
            "min_width": null,
            "object_fit": null,
            "object_position": null,
            "order": null,
            "overflow": null,
            "overflow_x": null,
            "overflow_y": null,
            "padding": null,
            "right": null,
            "top": null,
            "visibility": null,
            "width": null
          }
        },
        "3d32afe5992846a2b0ac5cb1260c7383": {
          "model_module": "@jupyter-widgets/controls",
          "model_name": "DescriptionStyleModel",
          "model_module_version": "1.5.0",
          "state": {
            "_model_module": "@jupyter-widgets/controls",
            "_model_module_version": "1.5.0",
            "_model_name": "DescriptionStyleModel",
            "_view_count": null,
            "_view_module": "@jupyter-widgets/base",
            "_view_module_version": "1.2.0",
            "_view_name": "StyleView",
            "description_width": ""
          }
        },
        "8ad4ac62871a46d2af50d37f8372d5a9": {
          "model_module": "@jupyter-widgets/controls",
          "model_name": "HBoxModel",
          "model_module_version": "1.5.0",
          "state": {
            "_dom_classes": [],
            "_model_module": "@jupyter-widgets/controls",
            "_model_module_version": "1.5.0",
            "_model_name": "HBoxModel",
            "_view_count": null,
            "_view_module": "@jupyter-widgets/controls",
            "_view_module_version": "1.5.0",
            "_view_name": "HBoxView",
            "box_style": "",
            "children": [
              "IPY_MODEL_6e8df28d52b44608bfef594c94ede6e3",
              "IPY_MODEL_874e3a6b9ccf4e63be17d07fdd5a526a",
              "IPY_MODEL_1169bd230a4c4c90890440a501da5a99"
            ],
            "layout": "IPY_MODEL_0297aaf3c193440f9eba6870204e0f98"
          }
        },
        "6e8df28d52b44608bfef594c94ede6e3": {
          "model_module": "@jupyter-widgets/controls",
          "model_name": "HTMLModel",
          "model_module_version": "1.5.0",
          "state": {
            "_dom_classes": [],
            "_model_module": "@jupyter-widgets/controls",
            "_model_module_version": "1.5.0",
            "_model_name": "HTMLModel",
            "_view_count": null,
            "_view_module": "@jupyter-widgets/controls",
            "_view_module_version": "1.5.0",
            "_view_name": "HTMLView",
            "description": "",
            "description_tooltip": null,
            "layout": "IPY_MODEL_2f1d3a7d795548508a85b4adb12bef53",
            "placeholder": "​",
            "style": "IPY_MODEL_e874becbe5cd419db0996799d2c881d2",
            "value": "Generating test split:  96%"
          }
        },
        "874e3a6b9ccf4e63be17d07fdd5a526a": {
          "model_module": "@jupyter-widgets/controls",
          "model_name": "FloatProgressModel",
          "model_module_version": "1.5.0",
          "state": {
            "_dom_classes": [],
            "_model_module": "@jupyter-widgets/controls",
            "_model_module_version": "1.5.0",
            "_model_name": "FloatProgressModel",
            "_view_count": null,
            "_view_module": "@jupyter-widgets/controls",
            "_view_module_version": "1.5.0",
            "_view_name": "ProgressView",
            "bar_style": "",
            "description": "",
            "description_tooltip": null,
            "layout": "IPY_MODEL_dbef171972ed40df8f88def6be26e63a",
            "max": 3081,
            "min": 0,
            "orientation": "horizontal",
            "style": "IPY_MODEL_2782b9b52eb34fd983961300c40a060d",
            "value": 3081
          }
        },
        "1169bd230a4c4c90890440a501da5a99": {
          "model_module": "@jupyter-widgets/controls",
          "model_name": "HTMLModel",
          "model_module_version": "1.5.0",
          "state": {
            "_dom_classes": [],
            "_model_module": "@jupyter-widgets/controls",
            "_model_module_version": "1.5.0",
            "_model_name": "HTMLModel",
            "_view_count": null,
            "_view_module": "@jupyter-widgets/controls",
            "_view_module_version": "1.5.0",
            "_view_name": "HTMLView",
            "description": "",
            "description_tooltip": null,
            "layout": "IPY_MODEL_6b875604aec34afab16a23552dd41051",
            "placeholder": "​",
            "style": "IPY_MODEL_543827431f1e46899943ebb039360ea7",
            "value": " 2944/3081 [00:01&lt;00:00, 1858.04 examples/s]"
          }
        },
        "0297aaf3c193440f9eba6870204e0f98": {
          "model_module": "@jupyter-widgets/base",
          "model_name": "LayoutModel",
          "model_module_version": "1.2.0",
          "state": {
            "_model_module": "@jupyter-widgets/base",
            "_model_module_version": "1.2.0",
            "_model_name": "LayoutModel",
            "_view_count": null,
            "_view_module": "@jupyter-widgets/base",
            "_view_module_version": "1.2.0",
            "_view_name": "LayoutView",
            "align_content": null,
            "align_items": null,
            "align_self": null,
            "border": null,
            "bottom": null,
            "display": null,
            "flex": null,
            "flex_flow": null,
            "grid_area": null,
            "grid_auto_columns": null,
            "grid_auto_flow": null,
            "grid_auto_rows": null,
            "grid_column": null,
            "grid_gap": null,
            "grid_row": null,
            "grid_template_areas": null,
            "grid_template_columns": null,
            "grid_template_rows": null,
            "height": null,
            "justify_content": null,
            "justify_items": null,
            "left": null,
            "margin": null,
            "max_height": null,
            "max_width": null,
            "min_height": null,
            "min_width": null,
            "object_fit": null,
            "object_position": null,
            "order": null,
            "overflow": null,
            "overflow_x": null,
            "overflow_y": null,
            "padding": null,
            "right": null,
            "top": null,
            "visibility": "hidden",
            "width": null
          }
        },
        "2f1d3a7d795548508a85b4adb12bef53": {
          "model_module": "@jupyter-widgets/base",
          "model_name": "LayoutModel",
          "model_module_version": "1.2.0",
          "state": {
            "_model_module": "@jupyter-widgets/base",
            "_model_module_version": "1.2.0",
            "_model_name": "LayoutModel",
            "_view_count": null,
            "_view_module": "@jupyter-widgets/base",
            "_view_module_version": "1.2.0",
            "_view_name": "LayoutView",
            "align_content": null,
            "align_items": null,
            "align_self": null,
            "border": null,
            "bottom": null,
            "display": null,
            "flex": null,
            "flex_flow": null,
            "grid_area": null,
            "grid_auto_columns": null,
            "grid_auto_flow": null,
            "grid_auto_rows": null,
            "grid_column": null,
            "grid_gap": null,
            "grid_row": null,
            "grid_template_areas": null,
            "grid_template_columns": null,
            "grid_template_rows": null,
            "height": null,
            "justify_content": null,
            "justify_items": null,
            "left": null,
            "margin": null,
            "max_height": null,
            "max_width": null,
            "min_height": null,
            "min_width": null,
            "object_fit": null,
            "object_position": null,
            "order": null,
            "overflow": null,
            "overflow_x": null,
            "overflow_y": null,
            "padding": null,
            "right": null,
            "top": null,
            "visibility": null,
            "width": null
          }
        },
        "e874becbe5cd419db0996799d2c881d2": {
          "model_module": "@jupyter-widgets/controls",
          "model_name": "DescriptionStyleModel",
          "model_module_version": "1.5.0",
          "state": {
            "_model_module": "@jupyter-widgets/controls",
            "_model_module_version": "1.5.0",
            "_model_name": "DescriptionStyleModel",
            "_view_count": null,
            "_view_module": "@jupyter-widgets/base",
            "_view_module_version": "1.2.0",
            "_view_name": "StyleView",
            "description_width": ""
          }
        },
        "dbef171972ed40df8f88def6be26e63a": {
          "model_module": "@jupyter-widgets/base",
          "model_name": "LayoutModel",
          "model_module_version": "1.2.0",
          "state": {
            "_model_module": "@jupyter-widgets/base",
            "_model_module_version": "1.2.0",
            "_model_name": "LayoutModel",
            "_view_count": null,
            "_view_module": "@jupyter-widgets/base",
            "_view_module_version": "1.2.0",
            "_view_name": "LayoutView",
            "align_content": null,
            "align_items": null,
            "align_self": null,
            "border": null,
            "bottom": null,
            "display": null,
            "flex": null,
            "flex_flow": null,
            "grid_area": null,
            "grid_auto_columns": null,
            "grid_auto_flow": null,
            "grid_auto_rows": null,
            "grid_column": null,
            "grid_gap": null,
            "grid_row": null,
            "grid_template_areas": null,
            "grid_template_columns": null,
            "grid_template_rows": null,
            "height": null,
            "justify_content": null,
            "justify_items": null,
            "left": null,
            "margin": null,
            "max_height": null,
            "max_width": null,
            "min_height": null,
            "min_width": null,
            "object_fit": null,
            "object_position": null,
            "order": null,
            "overflow": null,
            "overflow_x": null,
            "overflow_y": null,
            "padding": null,
            "right": null,
            "top": null,
            "visibility": null,
            "width": null
          }
        },
        "2782b9b52eb34fd983961300c40a060d": {
          "model_module": "@jupyter-widgets/controls",
          "model_name": "ProgressStyleModel",
          "model_module_version": "1.5.0",
          "state": {
            "_model_module": "@jupyter-widgets/controls",
            "_model_module_version": "1.5.0",
            "_model_name": "ProgressStyleModel",
            "_view_count": null,
            "_view_module": "@jupyter-widgets/base",
            "_view_module_version": "1.2.0",
            "_view_name": "StyleView",
            "bar_color": null,
            "description_width": ""
          }
        },
        "6b875604aec34afab16a23552dd41051": {
          "model_module": "@jupyter-widgets/base",
          "model_name": "LayoutModel",
          "model_module_version": "1.2.0",
          "state": {
            "_model_module": "@jupyter-widgets/base",
            "_model_module_version": "1.2.0",
            "_model_name": "LayoutModel",
            "_view_count": null,
            "_view_module": "@jupyter-widgets/base",
            "_view_module_version": "1.2.0",
            "_view_name": "LayoutView",
            "align_content": null,
            "align_items": null,
            "align_self": null,
            "border": null,
            "bottom": null,
            "display": null,
            "flex": null,
            "flex_flow": null,
            "grid_area": null,
            "grid_auto_columns": null,
            "grid_auto_flow": null,
            "grid_auto_rows": null,
            "grid_column": null,
            "grid_gap": null,
            "grid_row": null,
            "grid_template_areas": null,
            "grid_template_columns": null,
            "grid_template_rows": null,
            "height": null,
            "justify_content": null,
            "justify_items": null,
            "left": null,
            "margin": null,
            "max_height": null,
            "max_width": null,
            "min_height": null,
            "min_width": null,
            "object_fit": null,
            "object_position": null,
            "order": null,
            "overflow": null,
            "overflow_x": null,
            "overflow_y": null,
            "padding": null,
            "right": null,
            "top": null,
            "visibility": null,
            "width": null
          }
        },
        "543827431f1e46899943ebb039360ea7": {
          "model_module": "@jupyter-widgets/controls",
          "model_name": "DescriptionStyleModel",
          "model_module_version": "1.5.0",
          "state": {
            "_model_module": "@jupyter-widgets/controls",
            "_model_module_version": "1.5.0",
            "_model_name": "DescriptionStyleModel",
            "_view_count": null,
            "_view_module": "@jupyter-widgets/base",
            "_view_module_version": "1.2.0",
            "_view_name": "StyleView",
            "description_width": ""
          }
        },
        "6a4dfa99ef5941fe9dc183000bf55144": {
          "model_module": "@jupyter-widgets/controls",
          "model_name": "HBoxModel",
          "model_module_version": "1.5.0",
          "state": {
            "_dom_classes": [],
            "_model_module": "@jupyter-widgets/controls",
            "_model_module_version": "1.5.0",
            "_model_name": "HBoxModel",
            "_view_count": null,
            "_view_module": "@jupyter-widgets/controls",
            "_view_module_version": "1.5.0",
            "_view_name": "HBoxView",
            "box_style": "",
            "children": [
              "IPY_MODEL_428ddf0f752e416883d78f440f50ce9f",
              "IPY_MODEL_2208d6fe513b4626940545029b549d80",
              "IPY_MODEL_7cbfe49049db4a28a10c55f3bbf23405"
            ],
            "layout": "IPY_MODEL_2ccad793de6c4227a070895790927331"
          }
        },
        "428ddf0f752e416883d78f440f50ce9f": {
          "model_module": "@jupyter-widgets/controls",
          "model_name": "HTMLModel",
          "model_module_version": "1.5.0",
          "state": {
            "_dom_classes": [],
            "_model_module": "@jupyter-widgets/controls",
            "_model_module_version": "1.5.0",
            "_model_name": "HTMLModel",
            "_view_count": null,
            "_view_module": "@jupyter-widgets/controls",
            "_view_module_version": "1.5.0",
            "_view_name": "HTMLView",
            "description": "",
            "description_tooltip": null,
            "layout": "IPY_MODEL_fb3f235e621c42ecb67efa8582d9ca5e",
            "placeholder": "​",
            "style": "IPY_MODEL_47edbf25833c43a994b7e6f930951a68",
            "value": "100%"
          }
        },
        "2208d6fe513b4626940545029b549d80": {
          "model_module": "@jupyter-widgets/controls",
          "model_name": "FloatProgressModel",
          "model_module_version": "1.5.0",
          "state": {
            "_dom_classes": [],
            "_model_module": "@jupyter-widgets/controls",
            "_model_module_version": "1.5.0",
            "_model_name": "FloatProgressModel",
            "_view_count": null,
            "_view_module": "@jupyter-widgets/controls",
            "_view_module_version": "1.5.0",
            "_view_name": "ProgressView",
            "bar_style": "success",
            "description": "",
            "description_tooltip": null,
            "layout": "IPY_MODEL_17296ebd0e654e2fb3e44b6470aab663",
            "max": 3,
            "min": 0,
            "orientation": "horizontal",
            "style": "IPY_MODEL_f974f121af014a75ae7b8744d2d70c83",
            "value": 3
          }
        },
        "7cbfe49049db4a28a10c55f3bbf23405": {
          "model_module": "@jupyter-widgets/controls",
          "model_name": "HTMLModel",
          "model_module_version": "1.5.0",
          "state": {
            "_dom_classes": [],
            "_model_module": "@jupyter-widgets/controls",
            "_model_module_version": "1.5.0",
            "_model_name": "HTMLModel",
            "_view_count": null,
            "_view_module": "@jupyter-widgets/controls",
            "_view_module_version": "1.5.0",
            "_view_name": "HTMLView",
            "description": "",
            "description_tooltip": null,
            "layout": "IPY_MODEL_21822b5f4de5415aaa7a0da16a04cf7a",
            "placeholder": "​",
            "style": "IPY_MODEL_a148edd3ad534a9593ff6923c918a3a6",
            "value": " 3/3 [00:00&lt;00:00, 88.32it/s]"
          }
        },
        "2ccad793de6c4227a070895790927331": {
          "model_module": "@jupyter-widgets/base",
          "model_name": "LayoutModel",
          "model_module_version": "1.2.0",
          "state": {
            "_model_module": "@jupyter-widgets/base",
            "_model_module_version": "1.2.0",
            "_model_name": "LayoutModel",
            "_view_count": null,
            "_view_module": "@jupyter-widgets/base",
            "_view_module_version": "1.2.0",
            "_view_name": "LayoutView",
            "align_content": null,
            "align_items": null,
            "align_self": null,
            "border": null,
            "bottom": null,
            "display": null,
            "flex": null,
            "flex_flow": null,
            "grid_area": null,
            "grid_auto_columns": null,
            "grid_auto_flow": null,
            "grid_auto_rows": null,
            "grid_column": null,
            "grid_gap": null,
            "grid_row": null,
            "grid_template_areas": null,
            "grid_template_columns": null,
            "grid_template_rows": null,
            "height": null,
            "justify_content": null,
            "justify_items": null,
            "left": null,
            "margin": null,
            "max_height": null,
            "max_width": null,
            "min_height": null,
            "min_width": null,
            "object_fit": null,
            "object_position": null,
            "order": null,
            "overflow": null,
            "overflow_x": null,
            "overflow_y": null,
            "padding": null,
            "right": null,
            "top": null,
            "visibility": null,
            "width": null
          }
        },
        "fb3f235e621c42ecb67efa8582d9ca5e": {
          "model_module": "@jupyter-widgets/base",
          "model_name": "LayoutModel",
          "model_module_version": "1.2.0",
          "state": {
            "_model_module": "@jupyter-widgets/base",
            "_model_module_version": "1.2.0",
            "_model_name": "LayoutModel",
            "_view_count": null,
            "_view_module": "@jupyter-widgets/base",
            "_view_module_version": "1.2.0",
            "_view_name": "LayoutView",
            "align_content": null,
            "align_items": null,
            "align_self": null,
            "border": null,
            "bottom": null,
            "display": null,
            "flex": null,
            "flex_flow": null,
            "grid_area": null,
            "grid_auto_columns": null,
            "grid_auto_flow": null,
            "grid_auto_rows": null,
            "grid_column": null,
            "grid_gap": null,
            "grid_row": null,
            "grid_template_areas": null,
            "grid_template_columns": null,
            "grid_template_rows": null,
            "height": null,
            "justify_content": null,
            "justify_items": null,
            "left": null,
            "margin": null,
            "max_height": null,
            "max_width": null,
            "min_height": null,
            "min_width": null,
            "object_fit": null,
            "object_position": null,
            "order": null,
            "overflow": null,
            "overflow_x": null,
            "overflow_y": null,
            "padding": null,
            "right": null,
            "top": null,
            "visibility": null,
            "width": null
          }
        },
        "47edbf25833c43a994b7e6f930951a68": {
          "model_module": "@jupyter-widgets/controls",
          "model_name": "DescriptionStyleModel",
          "model_module_version": "1.5.0",
          "state": {
            "_model_module": "@jupyter-widgets/controls",
            "_model_module_version": "1.5.0",
            "_model_name": "DescriptionStyleModel",
            "_view_count": null,
            "_view_module": "@jupyter-widgets/base",
            "_view_module_version": "1.2.0",
            "_view_name": "StyleView",
            "description_width": ""
          }
        },
        "17296ebd0e654e2fb3e44b6470aab663": {
          "model_module": "@jupyter-widgets/base",
          "model_name": "LayoutModel",
          "model_module_version": "1.2.0",
          "state": {
            "_model_module": "@jupyter-widgets/base",
            "_model_module_version": "1.2.0",
            "_model_name": "LayoutModel",
            "_view_count": null,
            "_view_module": "@jupyter-widgets/base",
            "_view_module_version": "1.2.0",
            "_view_name": "LayoutView",
            "align_content": null,
            "align_items": null,
            "align_self": null,
            "border": null,
            "bottom": null,
            "display": null,
            "flex": null,
            "flex_flow": null,
            "grid_area": null,
            "grid_auto_columns": null,
            "grid_auto_flow": null,
            "grid_auto_rows": null,
            "grid_column": null,
            "grid_gap": null,
            "grid_row": null,
            "grid_template_areas": null,
            "grid_template_columns": null,
            "grid_template_rows": null,
            "height": null,
            "justify_content": null,
            "justify_items": null,
            "left": null,
            "margin": null,
            "max_height": null,
            "max_width": null,
            "min_height": null,
            "min_width": null,
            "object_fit": null,
            "object_position": null,
            "order": null,
            "overflow": null,
            "overflow_x": null,
            "overflow_y": null,
            "padding": null,
            "right": null,
            "top": null,
            "visibility": null,
            "width": null
          }
        },
        "f974f121af014a75ae7b8744d2d70c83": {
          "model_module": "@jupyter-widgets/controls",
          "model_name": "ProgressStyleModel",
          "model_module_version": "1.5.0",
          "state": {
            "_model_module": "@jupyter-widgets/controls",
            "_model_module_version": "1.5.0",
            "_model_name": "ProgressStyleModel",
            "_view_count": null,
            "_view_module": "@jupyter-widgets/base",
            "_view_module_version": "1.2.0",
            "_view_name": "StyleView",
            "bar_color": null,
            "description_width": ""
          }
        },
        "21822b5f4de5415aaa7a0da16a04cf7a": {
          "model_module": "@jupyter-widgets/base",
          "model_name": "LayoutModel",
          "model_module_version": "1.2.0",
          "state": {
            "_model_module": "@jupyter-widgets/base",
            "_model_module_version": "1.2.0",
            "_model_name": "LayoutModel",
            "_view_count": null,
            "_view_module": "@jupyter-widgets/base",
            "_view_module_version": "1.2.0",
            "_view_name": "LayoutView",
            "align_content": null,
            "align_items": null,
            "align_self": null,
            "border": null,
            "bottom": null,
            "display": null,
            "flex": null,
            "flex_flow": null,
            "grid_area": null,
            "grid_auto_columns": null,
            "grid_auto_flow": null,
            "grid_auto_rows": null,
            "grid_column": null,
            "grid_gap": null,
            "grid_row": null,
            "grid_template_areas": null,
            "grid_template_columns": null,
            "grid_template_rows": null,
            "height": null,
            "justify_content": null,
            "justify_items": null,
            "left": null,
            "margin": null,
            "max_height": null,
            "max_width": null,
            "min_height": null,
            "min_width": null,
            "object_fit": null,
            "object_position": null,
            "order": null,
            "overflow": null,
            "overflow_x": null,
            "overflow_y": null,
            "padding": null,
            "right": null,
            "top": null,
            "visibility": null,
            "width": null
          }
        },
        "a148edd3ad534a9593ff6923c918a3a6": {
          "model_module": "@jupyter-widgets/controls",
          "model_name": "DescriptionStyleModel",
          "model_module_version": "1.5.0",
          "state": {
            "_model_module": "@jupyter-widgets/controls",
            "_model_module_version": "1.5.0",
            "_model_name": "DescriptionStyleModel",
            "_view_count": null,
            "_view_module": "@jupyter-widgets/base",
            "_view_module_version": "1.2.0",
            "_view_name": "StyleView",
            "description_width": ""
          }
        },
        "83662f225c9246e297cc9593d3c1b299": {
          "model_module": "@jupyter-widgets/controls",
          "model_name": "HBoxModel",
          "model_module_version": "1.5.0",
          "state": {
            "_dom_classes": [],
            "_model_module": "@jupyter-widgets/controls",
            "_model_module_version": "1.5.0",
            "_model_name": "HBoxModel",
            "_view_count": null,
            "_view_module": "@jupyter-widgets/controls",
            "_view_module_version": "1.5.0",
            "_view_name": "HBoxView",
            "box_style": "",
            "children": [
              "IPY_MODEL_7199269f33804b5497b80c82be0207af",
              "IPY_MODEL_90561b8ebd3a418fbf47a8d9935c3cf9",
              "IPY_MODEL_f7830ddd34f94675b8d10e7ae6106836"
            ],
            "layout": "IPY_MODEL_6fd3978550f14f8fa63875dd8cd0ff03"
          }
        },
        "7199269f33804b5497b80c82be0207af": {
          "model_module": "@jupyter-widgets/controls",
          "model_name": "HTMLModel",
          "model_module_version": "1.5.0",
          "state": {
            "_dom_classes": [],
            "_model_module": "@jupyter-widgets/controls",
            "_model_module_version": "1.5.0",
            "_model_name": "HTMLModel",
            "_view_count": null,
            "_view_module": "@jupyter-widgets/controls",
            "_view_module_version": "1.5.0",
            "_view_name": "HTMLView",
            "description": "",
            "description_tooltip": null,
            "layout": "IPY_MODEL_650fa2fb4b12429fb7a19d924dc7a32f",
            "placeholder": "​",
            "style": "IPY_MODEL_6ce0dd133d81438e890c99cfdf3a45c2",
            "value": "Downloading builder script: "
          }
        },
        "90561b8ebd3a418fbf47a8d9935c3cf9": {
          "model_module": "@jupyter-widgets/controls",
          "model_name": "FloatProgressModel",
          "model_module_version": "1.5.0",
          "state": {
            "_dom_classes": [],
            "_model_module": "@jupyter-widgets/controls",
            "_model_module_version": "1.5.0",
            "_model_name": "FloatProgressModel",
            "_view_count": null,
            "_view_module": "@jupyter-widgets/controls",
            "_view_module_version": "1.5.0",
            "_view_name": "ProgressView",
            "bar_style": "success",
            "description": "",
            "description_tooltip": null,
            "layout": "IPY_MODEL_d6149582b73f4d1ca9206559d55303e5",
            "max": 1652,
            "min": 0,
            "orientation": "horizontal",
            "style": "IPY_MODEL_84055f63476a4d32809c9247af207f64",
            "value": 1652
          }
        },
        "f7830ddd34f94675b8d10e7ae6106836": {
          "model_module": "@jupyter-widgets/controls",
          "model_name": "HTMLModel",
          "model_module_version": "1.5.0",
          "state": {
            "_dom_classes": [],
            "_model_module": "@jupyter-widgets/controls",
            "_model_module_version": "1.5.0",
            "_model_name": "HTMLModel",
            "_view_count": null,
            "_view_module": "@jupyter-widgets/controls",
            "_view_module_version": "1.5.0",
            "_view_name": "HTMLView",
            "description": "",
            "description_tooltip": null,
            "layout": "IPY_MODEL_cf2403a94a444817983f3defbd8716ec",
            "placeholder": "​",
            "style": "IPY_MODEL_df70edc985474317b877f6f081594e56",
            "value": " 4.21k/? [00:00&lt;00:00, 214kB/s]"
          }
        },
        "6fd3978550f14f8fa63875dd8cd0ff03": {
          "model_module": "@jupyter-widgets/base",
          "model_name": "LayoutModel",
          "model_module_version": "1.2.0",
          "state": {
            "_model_module": "@jupyter-widgets/base",
            "_model_module_version": "1.2.0",
            "_model_name": "LayoutModel",
            "_view_count": null,
            "_view_module": "@jupyter-widgets/base",
            "_view_module_version": "1.2.0",
            "_view_name": "LayoutView",
            "align_content": null,
            "align_items": null,
            "align_self": null,
            "border": null,
            "bottom": null,
            "display": null,
            "flex": null,
            "flex_flow": null,
            "grid_area": null,
            "grid_auto_columns": null,
            "grid_auto_flow": null,
            "grid_auto_rows": null,
            "grid_column": null,
            "grid_gap": null,
            "grid_row": null,
            "grid_template_areas": null,
            "grid_template_columns": null,
            "grid_template_rows": null,
            "height": null,
            "justify_content": null,
            "justify_items": null,
            "left": null,
            "margin": null,
            "max_height": null,
            "max_width": null,
            "min_height": null,
            "min_width": null,
            "object_fit": null,
            "object_position": null,
            "order": null,
            "overflow": null,
            "overflow_x": null,
            "overflow_y": null,
            "padding": null,
            "right": null,
            "top": null,
            "visibility": null,
            "width": null
          }
        },
        "650fa2fb4b12429fb7a19d924dc7a32f": {
          "model_module": "@jupyter-widgets/base",
          "model_name": "LayoutModel",
          "model_module_version": "1.2.0",
          "state": {
            "_model_module": "@jupyter-widgets/base",
            "_model_module_version": "1.2.0",
            "_model_name": "LayoutModel",
            "_view_count": null,
            "_view_module": "@jupyter-widgets/base",
            "_view_module_version": "1.2.0",
            "_view_name": "LayoutView",
            "align_content": null,
            "align_items": null,
            "align_self": null,
            "border": null,
            "bottom": null,
            "display": null,
            "flex": null,
            "flex_flow": null,
            "grid_area": null,
            "grid_auto_columns": null,
            "grid_auto_flow": null,
            "grid_auto_rows": null,
            "grid_column": null,
            "grid_gap": null,
            "grid_row": null,
            "grid_template_areas": null,
            "grid_template_columns": null,
            "grid_template_rows": null,
            "height": null,
            "justify_content": null,
            "justify_items": null,
            "left": null,
            "margin": null,
            "max_height": null,
            "max_width": null,
            "min_height": null,
            "min_width": null,
            "object_fit": null,
            "object_position": null,
            "order": null,
            "overflow": null,
            "overflow_x": null,
            "overflow_y": null,
            "padding": null,
            "right": null,
            "top": null,
            "visibility": null,
            "width": null
          }
        },
        "6ce0dd133d81438e890c99cfdf3a45c2": {
          "model_module": "@jupyter-widgets/controls",
          "model_name": "DescriptionStyleModel",
          "model_module_version": "1.5.0",
          "state": {
            "_model_module": "@jupyter-widgets/controls",
            "_model_module_version": "1.5.0",
            "_model_name": "DescriptionStyleModel",
            "_view_count": null,
            "_view_module": "@jupyter-widgets/base",
            "_view_module_version": "1.2.0",
            "_view_name": "StyleView",
            "description_width": ""
          }
        },
        "d6149582b73f4d1ca9206559d55303e5": {
          "model_module": "@jupyter-widgets/base",
          "model_name": "LayoutModel",
          "model_module_version": "1.2.0",
          "state": {
            "_model_module": "@jupyter-widgets/base",
            "_model_module_version": "1.2.0",
            "_model_name": "LayoutModel",
            "_view_count": null,
            "_view_module": "@jupyter-widgets/base",
            "_view_module_version": "1.2.0",
            "_view_name": "LayoutView",
            "align_content": null,
            "align_items": null,
            "align_self": null,
            "border": null,
            "bottom": null,
            "display": null,
            "flex": null,
            "flex_flow": null,
            "grid_area": null,
            "grid_auto_columns": null,
            "grid_auto_flow": null,
            "grid_auto_rows": null,
            "grid_column": null,
            "grid_gap": null,
            "grid_row": null,
            "grid_template_areas": null,
            "grid_template_columns": null,
            "grid_template_rows": null,
            "height": null,
            "justify_content": null,
            "justify_items": null,
            "left": null,
            "margin": null,
            "max_height": null,
            "max_width": null,
            "min_height": null,
            "min_width": null,
            "object_fit": null,
            "object_position": null,
            "order": null,
            "overflow": null,
            "overflow_x": null,
            "overflow_y": null,
            "padding": null,
            "right": null,
            "top": null,
            "visibility": null,
            "width": null
          }
        },
        "84055f63476a4d32809c9247af207f64": {
          "model_module": "@jupyter-widgets/controls",
          "model_name": "ProgressStyleModel",
          "model_module_version": "1.5.0",
          "state": {
            "_model_module": "@jupyter-widgets/controls",
            "_model_module_version": "1.5.0",
            "_model_name": "ProgressStyleModel",
            "_view_count": null,
            "_view_module": "@jupyter-widgets/base",
            "_view_module_version": "1.2.0",
            "_view_name": "StyleView",
            "bar_color": null,
            "description_width": ""
          }
        },
        "cf2403a94a444817983f3defbd8716ec": {
          "model_module": "@jupyter-widgets/base",
          "model_name": "LayoutModel",
          "model_module_version": "1.2.0",
          "state": {
            "_model_module": "@jupyter-widgets/base",
            "_model_module_version": "1.2.0",
            "_model_name": "LayoutModel",
            "_view_count": null,
            "_view_module": "@jupyter-widgets/base",
            "_view_module_version": "1.2.0",
            "_view_name": "LayoutView",
            "align_content": null,
            "align_items": null,
            "align_self": null,
            "border": null,
            "bottom": null,
            "display": null,
            "flex": null,
            "flex_flow": null,
            "grid_area": null,
            "grid_auto_columns": null,
            "grid_auto_flow": null,
            "grid_auto_rows": null,
            "grid_column": null,
            "grid_gap": null,
            "grid_row": null,
            "grid_template_areas": null,
            "grid_template_columns": null,
            "grid_template_rows": null,
            "height": null,
            "justify_content": null,
            "justify_items": null,
            "left": null,
            "margin": null,
            "max_height": null,
            "max_width": null,
            "min_height": null,
            "min_width": null,
            "object_fit": null,
            "object_position": null,
            "order": null,
            "overflow": null,
            "overflow_x": null,
            "overflow_y": null,
            "padding": null,
            "right": null,
            "top": null,
            "visibility": null,
            "width": null
          }
        },
        "df70edc985474317b877f6f081594e56": {
          "model_module": "@jupyter-widgets/controls",
          "model_name": "DescriptionStyleModel",
          "model_module_version": "1.5.0",
          "state": {
            "_model_module": "@jupyter-widgets/controls",
            "_model_module_version": "1.5.0",
            "_model_name": "DescriptionStyleModel",
            "_view_count": null,
            "_view_module": "@jupyter-widgets/base",
            "_view_module_version": "1.2.0",
            "_view_name": "StyleView",
            "description_width": ""
          }
        },
        "ed745b3bb94a4bce971b9d87814c2695": {
          "model_module": "@jupyter-widgets/controls",
          "model_name": "HBoxModel",
          "model_module_version": "1.5.0",
          "state": {
            "_dom_classes": [],
            "_model_module": "@jupyter-widgets/controls",
            "_model_module_version": "1.5.0",
            "_model_name": "HBoxModel",
            "_view_count": null,
            "_view_module": "@jupyter-widgets/controls",
            "_view_module_version": "1.5.0",
            "_view_name": "HBoxView",
            "box_style": "",
            "children": [
              "IPY_MODEL_fdcd4882a2464c53981c2d270a132fe2",
              "IPY_MODEL_2505a45a205d455b9db03a99fe147ae1",
              "IPY_MODEL_4e39ed2b6bd946b7b53d694c07526a13"
            ],
            "layout": "IPY_MODEL_13252d79d4cf47738bad9ee5617ec2ac"
          }
        },
        "fdcd4882a2464c53981c2d270a132fe2": {
          "model_module": "@jupyter-widgets/controls",
          "model_name": "HTMLModel",
          "model_module_version": "1.5.0",
          "state": {
            "_dom_classes": [],
            "_model_module": "@jupyter-widgets/controls",
            "_model_module_version": "1.5.0",
            "_model_name": "HTMLModel",
            "_view_count": null,
            "_view_module": "@jupyter-widgets/controls",
            "_view_module_version": "1.5.0",
            "_view_name": "HTMLView",
            "description": "",
            "description_tooltip": null,
            "layout": "IPY_MODEL_68cfdb70f5c6418981b3e6766930f21e",
            "placeholder": "​",
            "style": "IPY_MODEL_21eacba0180a45eca9056c2007da68dc",
            "value": "Downloading (…)rocessor_config.json: 100%"
          }
        },
        "2505a45a205d455b9db03a99fe147ae1": {
          "model_module": "@jupyter-widgets/controls",
          "model_name": "FloatProgressModel",
          "model_module_version": "1.5.0",
          "state": {
            "_dom_classes": [],
            "_model_module": "@jupyter-widgets/controls",
            "_model_module_version": "1.5.0",
            "_model_name": "FloatProgressModel",
            "_view_count": null,
            "_view_module": "@jupyter-widgets/controls",
            "_view_module_version": "1.5.0",
            "_view_name": "ProgressView",
            "bar_style": "success",
            "description": "",
            "description_tooltip": null,
            "layout": "IPY_MODEL_191793655724496abce4a1ef4d577b19",
            "max": 159,
            "min": 0,
            "orientation": "horizontal",
            "style": "IPY_MODEL_781b421e9bf1442d865c6ab1f285377a",
            "value": 159
          }
        },
        "4e39ed2b6bd946b7b53d694c07526a13": {
          "model_module": "@jupyter-widgets/controls",
          "model_name": "HTMLModel",
          "model_module_version": "1.5.0",
          "state": {
            "_dom_classes": [],
            "_model_module": "@jupyter-widgets/controls",
            "_model_module_version": "1.5.0",
            "_model_name": "HTMLModel",
            "_view_count": null,
            "_view_module": "@jupyter-widgets/controls",
            "_view_module_version": "1.5.0",
            "_view_name": "HTMLView",
            "description": "",
            "description_tooltip": null,
            "layout": "IPY_MODEL_293f3e79cf5949b39e4c5a1229ccd148",
            "placeholder": "​",
            "style": "IPY_MODEL_1d53a616fcb646cb887e4125fa708fbc",
            "value": " 159/159 [00:00&lt;00:00, 5.00kB/s]"
          }
        },
        "13252d79d4cf47738bad9ee5617ec2ac": {
          "model_module": "@jupyter-widgets/base",
          "model_name": "LayoutModel",
          "model_module_version": "1.2.0",
          "state": {
            "_model_module": "@jupyter-widgets/base",
            "_model_module_version": "1.2.0",
            "_model_name": "LayoutModel",
            "_view_count": null,
            "_view_module": "@jupyter-widgets/base",
            "_view_module_version": "1.2.0",
            "_view_name": "LayoutView",
            "align_content": null,
            "align_items": null,
            "align_self": null,
            "border": null,
            "bottom": null,
            "display": null,
            "flex": null,
            "flex_flow": null,
            "grid_area": null,
            "grid_auto_columns": null,
            "grid_auto_flow": null,
            "grid_auto_rows": null,
            "grid_column": null,
            "grid_gap": null,
            "grid_row": null,
            "grid_template_areas": null,
            "grid_template_columns": null,
            "grid_template_rows": null,
            "height": null,
            "justify_content": null,
            "justify_items": null,
            "left": null,
            "margin": null,
            "max_height": null,
            "max_width": null,
            "min_height": null,
            "min_width": null,
            "object_fit": null,
            "object_position": null,
            "order": null,
            "overflow": null,
            "overflow_x": null,
            "overflow_y": null,
            "padding": null,
            "right": null,
            "top": null,
            "visibility": null,
            "width": null
          }
        },
        "68cfdb70f5c6418981b3e6766930f21e": {
          "model_module": "@jupyter-widgets/base",
          "model_name": "LayoutModel",
          "model_module_version": "1.2.0",
          "state": {
            "_model_module": "@jupyter-widgets/base",
            "_model_module_version": "1.2.0",
            "_model_name": "LayoutModel",
            "_view_count": null,
            "_view_module": "@jupyter-widgets/base",
            "_view_module_version": "1.2.0",
            "_view_name": "LayoutView",
            "align_content": null,
            "align_items": null,
            "align_self": null,
            "border": null,
            "bottom": null,
            "display": null,
            "flex": null,
            "flex_flow": null,
            "grid_area": null,
            "grid_auto_columns": null,
            "grid_auto_flow": null,
            "grid_auto_rows": null,
            "grid_column": null,
            "grid_gap": null,
            "grid_row": null,
            "grid_template_areas": null,
            "grid_template_columns": null,
            "grid_template_rows": null,
            "height": null,
            "justify_content": null,
            "justify_items": null,
            "left": null,
            "margin": null,
            "max_height": null,
            "max_width": null,
            "min_height": null,
            "min_width": null,
            "object_fit": null,
            "object_position": null,
            "order": null,
            "overflow": null,
            "overflow_x": null,
            "overflow_y": null,
            "padding": null,
            "right": null,
            "top": null,
            "visibility": null,
            "width": null
          }
        },
        "21eacba0180a45eca9056c2007da68dc": {
          "model_module": "@jupyter-widgets/controls",
          "model_name": "DescriptionStyleModel",
          "model_module_version": "1.5.0",
          "state": {
            "_model_module": "@jupyter-widgets/controls",
            "_model_module_version": "1.5.0",
            "_model_name": "DescriptionStyleModel",
            "_view_count": null,
            "_view_module": "@jupyter-widgets/base",
            "_view_module_version": "1.2.0",
            "_view_name": "StyleView",
            "description_width": ""
          }
        },
        "191793655724496abce4a1ef4d577b19": {
          "model_module": "@jupyter-widgets/base",
          "model_name": "LayoutModel",
          "model_module_version": "1.2.0",
          "state": {
            "_model_module": "@jupyter-widgets/base",
            "_model_module_version": "1.2.0",
            "_model_name": "LayoutModel",
            "_view_count": null,
            "_view_module": "@jupyter-widgets/base",
            "_view_module_version": "1.2.0",
            "_view_name": "LayoutView",
            "align_content": null,
            "align_items": null,
            "align_self": null,
            "border": null,
            "bottom": null,
            "display": null,
            "flex": null,
            "flex_flow": null,
            "grid_area": null,
            "grid_auto_columns": null,
            "grid_auto_flow": null,
            "grid_auto_rows": null,
            "grid_column": null,
            "grid_gap": null,
            "grid_row": null,
            "grid_template_areas": null,
            "grid_template_columns": null,
            "grid_template_rows": null,
            "height": null,
            "justify_content": null,
            "justify_items": null,
            "left": null,
            "margin": null,
            "max_height": null,
            "max_width": null,
            "min_height": null,
            "min_width": null,
            "object_fit": null,
            "object_position": null,
            "order": null,
            "overflow": null,
            "overflow_x": null,
            "overflow_y": null,
            "padding": null,
            "right": null,
            "top": null,
            "visibility": null,
            "width": null
          }
        },
        "781b421e9bf1442d865c6ab1f285377a": {
          "model_module": "@jupyter-widgets/controls",
          "model_name": "ProgressStyleModel",
          "model_module_version": "1.5.0",
          "state": {
            "_model_module": "@jupyter-widgets/controls",
            "_model_module_version": "1.5.0",
            "_model_name": "ProgressStyleModel",
            "_view_count": null,
            "_view_module": "@jupyter-widgets/base",
            "_view_module_version": "1.2.0",
            "_view_name": "StyleView",
            "bar_color": null,
            "description_width": ""
          }
        },
        "293f3e79cf5949b39e4c5a1229ccd148": {
          "model_module": "@jupyter-widgets/base",
          "model_name": "LayoutModel",
          "model_module_version": "1.2.0",
          "state": {
            "_model_module": "@jupyter-widgets/base",
            "_model_module_version": "1.2.0",
            "_model_name": "LayoutModel",
            "_view_count": null,
            "_view_module": "@jupyter-widgets/base",
            "_view_module_version": "1.2.0",
            "_view_name": "LayoutView",
            "align_content": null,
            "align_items": null,
            "align_self": null,
            "border": null,
            "bottom": null,
            "display": null,
            "flex": null,
            "flex_flow": null,
            "grid_area": null,
            "grid_auto_columns": null,
            "grid_auto_flow": null,
            "grid_auto_rows": null,
            "grid_column": null,
            "grid_gap": null,
            "grid_row": null,
            "grid_template_areas": null,
            "grid_template_columns": null,
            "grid_template_rows": null,
            "height": null,
            "justify_content": null,
            "justify_items": null,
            "left": null,
            "margin": null,
            "max_height": null,
            "max_width": null,
            "min_height": null,
            "min_width": null,
            "object_fit": null,
            "object_position": null,
            "order": null,
            "overflow": null,
            "overflow_x": null,
            "overflow_y": null,
            "padding": null,
            "right": null,
            "top": null,
            "visibility": null,
            "width": null
          }
        },
        "1d53a616fcb646cb887e4125fa708fbc": {
          "model_module": "@jupyter-widgets/controls",
          "model_name": "DescriptionStyleModel",
          "model_module_version": "1.5.0",
          "state": {
            "_model_module": "@jupyter-widgets/controls",
            "_model_module_version": "1.5.0",
            "_model_name": "DescriptionStyleModel",
            "_view_count": null,
            "_view_module": "@jupyter-widgets/base",
            "_view_module_version": "1.2.0",
            "_view_name": "StyleView",
            "description_width": ""
          }
        },
        "eb80a9dff3ab42c6af2319360249b77b": {
          "model_module": "@jupyter-widgets/controls",
          "model_name": "HBoxModel",
          "model_module_version": "1.5.0",
          "state": {
            "_dom_classes": [],
            "_model_module": "@jupyter-widgets/controls",
            "_model_module_version": "1.5.0",
            "_model_name": "HBoxModel",
            "_view_count": null,
            "_view_module": "@jupyter-widgets/controls",
            "_view_module_version": "1.5.0",
            "_view_name": "HBoxView",
            "box_style": "",
            "children": [
              "IPY_MODEL_d766c95890d8494dbe704cf9386f8bea",
              "IPY_MODEL_f28f0f4f857d47949b1764aec6aa1318",
              "IPY_MODEL_42bbd12682224f898513aeac4dd764fd"
            ],
            "layout": "IPY_MODEL_975cbc48c2814ee39c251a0bf62b0056"
          }
        },
        "d766c95890d8494dbe704cf9386f8bea": {
          "model_module": "@jupyter-widgets/controls",
          "model_name": "HTMLModel",
          "model_module_version": "1.5.0",
          "state": {
            "_dom_classes": [],
            "_model_module": "@jupyter-widgets/controls",
            "_model_module_version": "1.5.0",
            "_model_name": "HTMLModel",
            "_view_count": null,
            "_view_module": "@jupyter-widgets/controls",
            "_view_module_version": "1.5.0",
            "_view_name": "HTMLView",
            "description": "",
            "description_tooltip": null,
            "layout": "IPY_MODEL_71841a536adb48bca1070ee394169e96",
            "placeholder": "​",
            "style": "IPY_MODEL_e8bc9ac3c7cf4f96b7deb54ab2d2dd62",
            "value": "Downloading (…)lve/main/config.json: 100%"
          }
        },
        "f28f0f4f857d47949b1764aec6aa1318": {
          "model_module": "@jupyter-widgets/controls",
          "model_name": "FloatProgressModel",
          "model_module_version": "1.5.0",
          "state": {
            "_dom_classes": [],
            "_model_module": "@jupyter-widgets/controls",
            "_model_module_version": "1.5.0",
            "_model_name": "FloatProgressModel",
            "_view_count": null,
            "_view_module": "@jupyter-widgets/controls",
            "_view_module_version": "1.5.0",
            "_view_name": "ProgressView",
            "bar_style": "success",
            "description": "",
            "description_tooltip": null,
            "layout": "IPY_MODEL_02a36dc6fa8d4f4cac9fb74130bbec2b",
            "max": 1842,
            "min": 0,
            "orientation": "horizontal",
            "style": "IPY_MODEL_bf335c6110754c66aab825fa1c1a0fdd",
            "value": 1842
          }
        },
        "42bbd12682224f898513aeac4dd764fd": {
          "model_module": "@jupyter-widgets/controls",
          "model_name": "HTMLModel",
          "model_module_version": "1.5.0",
          "state": {
            "_dom_classes": [],
            "_model_module": "@jupyter-widgets/controls",
            "_model_module_version": "1.5.0",
            "_model_name": "HTMLModel",
            "_view_count": null,
            "_view_module": "@jupyter-widgets/controls",
            "_view_module_version": "1.5.0",
            "_view_name": "HTMLView",
            "description": "",
            "description_tooltip": null,
            "layout": "IPY_MODEL_11793b310c1f48edaa70bd738ab38050",
            "placeholder": "​",
            "style": "IPY_MODEL_c8e1d7dc5ba04615824d5d92b8931853",
            "value": " 1.84k/1.84k [00:00&lt;00:00, 79.0kB/s]"
          }
        },
        "975cbc48c2814ee39c251a0bf62b0056": {
          "model_module": "@jupyter-widgets/base",
          "model_name": "LayoutModel",
          "model_module_version": "1.2.0",
          "state": {
            "_model_module": "@jupyter-widgets/base",
            "_model_module_version": "1.2.0",
            "_model_name": "LayoutModel",
            "_view_count": null,
            "_view_module": "@jupyter-widgets/base",
            "_view_module_version": "1.2.0",
            "_view_name": "LayoutView",
            "align_content": null,
            "align_items": null,
            "align_self": null,
            "border": null,
            "bottom": null,
            "display": null,
            "flex": null,
            "flex_flow": null,
            "grid_area": null,
            "grid_auto_columns": null,
            "grid_auto_flow": null,
            "grid_auto_rows": null,
            "grid_column": null,
            "grid_gap": null,
            "grid_row": null,
            "grid_template_areas": null,
            "grid_template_columns": null,
            "grid_template_rows": null,
            "height": null,
            "justify_content": null,
            "justify_items": null,
            "left": null,
            "margin": null,
            "max_height": null,
            "max_width": null,
            "min_height": null,
            "min_width": null,
            "object_fit": null,
            "object_position": null,
            "order": null,
            "overflow": null,
            "overflow_x": null,
            "overflow_y": null,
            "padding": null,
            "right": null,
            "top": null,
            "visibility": null,
            "width": null
          }
        },
        "71841a536adb48bca1070ee394169e96": {
          "model_module": "@jupyter-widgets/base",
          "model_name": "LayoutModel",
          "model_module_version": "1.2.0",
          "state": {
            "_model_module": "@jupyter-widgets/base",
            "_model_module_version": "1.2.0",
            "_model_name": "LayoutModel",
            "_view_count": null,
            "_view_module": "@jupyter-widgets/base",
            "_view_module_version": "1.2.0",
            "_view_name": "LayoutView",
            "align_content": null,
            "align_items": null,
            "align_self": null,
            "border": null,
            "bottom": null,
            "display": null,
            "flex": null,
            "flex_flow": null,
            "grid_area": null,
            "grid_auto_columns": null,
            "grid_auto_flow": null,
            "grid_auto_rows": null,
            "grid_column": null,
            "grid_gap": null,
            "grid_row": null,
            "grid_template_areas": null,
            "grid_template_columns": null,
            "grid_template_rows": null,
            "height": null,
            "justify_content": null,
            "justify_items": null,
            "left": null,
            "margin": null,
            "max_height": null,
            "max_width": null,
            "min_height": null,
            "min_width": null,
            "object_fit": null,
            "object_position": null,
            "order": null,
            "overflow": null,
            "overflow_x": null,
            "overflow_y": null,
            "padding": null,
            "right": null,
            "top": null,
            "visibility": null,
            "width": null
          }
        },
        "e8bc9ac3c7cf4f96b7deb54ab2d2dd62": {
          "model_module": "@jupyter-widgets/controls",
          "model_name": "DescriptionStyleModel",
          "model_module_version": "1.5.0",
          "state": {
            "_model_module": "@jupyter-widgets/controls",
            "_model_module_version": "1.5.0",
            "_model_name": "DescriptionStyleModel",
            "_view_count": null,
            "_view_module": "@jupyter-widgets/base",
            "_view_module_version": "1.2.0",
            "_view_name": "StyleView",
            "description_width": ""
          }
        },
        "02a36dc6fa8d4f4cac9fb74130bbec2b": {
          "model_module": "@jupyter-widgets/base",
          "model_name": "LayoutModel",
          "model_module_version": "1.2.0",
          "state": {
            "_model_module": "@jupyter-widgets/base",
            "_model_module_version": "1.2.0",
            "_model_name": "LayoutModel",
            "_view_count": null,
            "_view_module": "@jupyter-widgets/base",
            "_view_module_version": "1.2.0",
            "_view_name": "LayoutView",
            "align_content": null,
            "align_items": null,
            "align_self": null,
            "border": null,
            "bottom": null,
            "display": null,
            "flex": null,
            "flex_flow": null,
            "grid_area": null,
            "grid_auto_columns": null,
            "grid_auto_flow": null,
            "grid_auto_rows": null,
            "grid_column": null,
            "grid_gap": null,
            "grid_row": null,
            "grid_template_areas": null,
            "grid_template_columns": null,
            "grid_template_rows": null,
            "height": null,
            "justify_content": null,
            "justify_items": null,
            "left": null,
            "margin": null,
            "max_height": null,
            "max_width": null,
            "min_height": null,
            "min_width": null,
            "object_fit": null,
            "object_position": null,
            "order": null,
            "overflow": null,
            "overflow_x": null,
            "overflow_y": null,
            "padding": null,
            "right": null,
            "top": null,
            "visibility": null,
            "width": null
          }
        },
        "bf335c6110754c66aab825fa1c1a0fdd": {
          "model_module": "@jupyter-widgets/controls",
          "model_name": "ProgressStyleModel",
          "model_module_version": "1.5.0",
          "state": {
            "_model_module": "@jupyter-widgets/controls",
            "_model_module_version": "1.5.0",
            "_model_name": "ProgressStyleModel",
            "_view_count": null,
            "_view_module": "@jupyter-widgets/base",
            "_view_module_version": "1.2.0",
            "_view_name": "StyleView",
            "bar_color": null,
            "description_width": ""
          }
        },
        "11793b310c1f48edaa70bd738ab38050": {
          "model_module": "@jupyter-widgets/base",
          "model_name": "LayoutModel",
          "model_module_version": "1.2.0",
          "state": {
            "_model_module": "@jupyter-widgets/base",
            "_model_module_version": "1.2.0",
            "_model_name": "LayoutModel",
            "_view_count": null,
            "_view_module": "@jupyter-widgets/base",
            "_view_module_version": "1.2.0",
            "_view_name": "LayoutView",
            "align_content": null,
            "align_items": null,
            "align_self": null,
            "border": null,
            "bottom": null,
            "display": null,
            "flex": null,
            "flex_flow": null,
            "grid_area": null,
            "grid_auto_columns": null,
            "grid_auto_flow": null,
            "grid_auto_rows": null,
            "grid_column": null,
            "grid_gap": null,
            "grid_row": null,
            "grid_template_areas": null,
            "grid_template_columns": null,
            "grid_template_rows": null,
            "height": null,
            "justify_content": null,
            "justify_items": null,
            "left": null,
            "margin": null,
            "max_height": null,
            "max_width": null,
            "min_height": null,
            "min_width": null,
            "object_fit": null,
            "object_position": null,
            "order": null,
            "overflow": null,
            "overflow_x": null,
            "overflow_y": null,
            "padding": null,
            "right": null,
            "top": null,
            "visibility": null,
            "width": null
          }
        },
        "c8e1d7dc5ba04615824d5d92b8931853": {
          "model_module": "@jupyter-widgets/controls",
          "model_name": "DescriptionStyleModel",
          "model_module_version": "1.5.0",
          "state": {
            "_model_module": "@jupyter-widgets/controls",
            "_model_module_version": "1.5.0",
            "_model_name": "DescriptionStyleModel",
            "_view_count": null,
            "_view_module": "@jupyter-widgets/base",
            "_view_module_version": "1.2.0",
            "_view_name": "StyleView",
            "description_width": ""
          }
        },
        "d4727ef8ac3c45378ed5f9acda789e7c": {
          "model_module": "@jupyter-widgets/controls",
          "model_name": "HBoxModel",
          "model_module_version": "1.5.0",
          "state": {
            "_dom_classes": [],
            "_model_module": "@jupyter-widgets/controls",
            "_model_module_version": "1.5.0",
            "_model_name": "HBoxModel",
            "_view_count": null,
            "_view_module": "@jupyter-widgets/controls",
            "_view_module_version": "1.5.0",
            "_view_name": "HBoxView",
            "box_style": "",
            "children": [
              "IPY_MODEL_328e7453b8dd47a085cd186062a4d81d",
              "IPY_MODEL_464a7b7acf3844bd8b3ab7488a8ce3c5",
              "IPY_MODEL_3e1c24945b01472288cf4728d0cbaf6f"
            ],
            "layout": "IPY_MODEL_a63a395c496e4853af3ce74c930201e5"
          }
        },
        "328e7453b8dd47a085cd186062a4d81d": {
          "model_module": "@jupyter-widgets/controls",
          "model_name": "HTMLModel",
          "model_module_version": "1.5.0",
          "state": {
            "_dom_classes": [],
            "_model_module": "@jupyter-widgets/controls",
            "_model_module_version": "1.5.0",
            "_model_name": "HTMLModel",
            "_view_count": null,
            "_view_module": "@jupyter-widgets/controls",
            "_view_module_version": "1.5.0",
            "_view_name": "HTMLView",
            "description": "",
            "description_tooltip": null,
            "layout": "IPY_MODEL_eae0ee83e27f45d6aa366d5f0cb8ebd0",
            "placeholder": "​",
            "style": "IPY_MODEL_4c89c9edc5314ea5a3b2b02047dbe577",
            "value": "Map: 100%"
          }
        },
        "464a7b7acf3844bd8b3ab7488a8ce3c5": {
          "model_module": "@jupyter-widgets/controls",
          "model_name": "FloatProgressModel",
          "model_module_version": "1.5.0",
          "state": {
            "_dom_classes": [],
            "_model_module": "@jupyter-widgets/controls",
            "_model_module_version": "1.5.0",
            "_model_name": "FloatProgressModel",
            "_view_count": null,
            "_view_module": "@jupyter-widgets/controls",
            "_view_module_version": "1.5.0",
            "_view_name": "ProgressView",
            "bar_style": "",
            "description": "",
            "description_tooltip": null,
            "layout": "IPY_MODEL_015555283b594cbea79bdd5d8565ea0a",
            "max": 51093,
            "min": 0,
            "orientation": "horizontal",
            "style": "IPY_MODEL_2ed304a520de43f2b9df254bfdee9b76",
            "value": 51093
          }
        },
        "3e1c24945b01472288cf4728d0cbaf6f": {
          "model_module": "@jupyter-widgets/controls",
          "model_name": "HTMLModel",
          "model_module_version": "1.5.0",
          "state": {
            "_dom_classes": [],
            "_model_module": "@jupyter-widgets/controls",
            "_model_module_version": "1.5.0",
            "_model_name": "HTMLModel",
            "_view_count": null,
            "_view_module": "@jupyter-widgets/controls",
            "_view_module_version": "1.5.0",
            "_view_name": "HTMLView",
            "description": "",
            "description_tooltip": null,
            "layout": "IPY_MODEL_1fd54761edd044f985bb5dcdc5cb70ae",
            "placeholder": "​",
            "style": "IPY_MODEL_964558d2b8714c4c9940463c3baae43d",
            "value": " 51000/51093 [00:34&lt;00:00, 1356.47 examples/s]"
          }
        },
        "a63a395c496e4853af3ce74c930201e5": {
          "model_module": "@jupyter-widgets/base",
          "model_name": "LayoutModel",
          "model_module_version": "1.2.0",
          "state": {
            "_model_module": "@jupyter-widgets/base",
            "_model_module_version": "1.2.0",
            "_model_name": "LayoutModel",
            "_view_count": null,
            "_view_module": "@jupyter-widgets/base",
            "_view_module_version": "1.2.0",
            "_view_name": "LayoutView",
            "align_content": null,
            "align_items": null,
            "align_self": null,
            "border": null,
            "bottom": null,
            "display": null,
            "flex": null,
            "flex_flow": null,
            "grid_area": null,
            "grid_auto_columns": null,
            "grid_auto_flow": null,
            "grid_auto_rows": null,
            "grid_column": null,
            "grid_gap": null,
            "grid_row": null,
            "grid_template_areas": null,
            "grid_template_columns": null,
            "grid_template_rows": null,
            "height": null,
            "justify_content": null,
            "justify_items": null,
            "left": null,
            "margin": null,
            "max_height": null,
            "max_width": null,
            "min_height": null,
            "min_width": null,
            "object_fit": null,
            "object_position": null,
            "order": null,
            "overflow": null,
            "overflow_x": null,
            "overflow_y": null,
            "padding": null,
            "right": null,
            "top": null,
            "visibility": "hidden",
            "width": null
          }
        },
        "eae0ee83e27f45d6aa366d5f0cb8ebd0": {
          "model_module": "@jupyter-widgets/base",
          "model_name": "LayoutModel",
          "model_module_version": "1.2.0",
          "state": {
            "_model_module": "@jupyter-widgets/base",
            "_model_module_version": "1.2.0",
            "_model_name": "LayoutModel",
            "_view_count": null,
            "_view_module": "@jupyter-widgets/base",
            "_view_module_version": "1.2.0",
            "_view_name": "LayoutView",
            "align_content": null,
            "align_items": null,
            "align_self": null,
            "border": null,
            "bottom": null,
            "display": null,
            "flex": null,
            "flex_flow": null,
            "grid_area": null,
            "grid_auto_columns": null,
            "grid_auto_flow": null,
            "grid_auto_rows": null,
            "grid_column": null,
            "grid_gap": null,
            "grid_row": null,
            "grid_template_areas": null,
            "grid_template_columns": null,
            "grid_template_rows": null,
            "height": null,
            "justify_content": null,
            "justify_items": null,
            "left": null,
            "margin": null,
            "max_height": null,
            "max_width": null,
            "min_height": null,
            "min_width": null,
            "object_fit": null,
            "object_position": null,
            "order": null,
            "overflow": null,
            "overflow_x": null,
            "overflow_y": null,
            "padding": null,
            "right": null,
            "top": null,
            "visibility": null,
            "width": null
          }
        },
        "4c89c9edc5314ea5a3b2b02047dbe577": {
          "model_module": "@jupyter-widgets/controls",
          "model_name": "DescriptionStyleModel",
          "model_module_version": "1.5.0",
          "state": {
            "_model_module": "@jupyter-widgets/controls",
            "_model_module_version": "1.5.0",
            "_model_name": "DescriptionStyleModel",
            "_view_count": null,
            "_view_module": "@jupyter-widgets/base",
            "_view_module_version": "1.2.0",
            "_view_name": "StyleView",
            "description_width": ""
          }
        },
        "015555283b594cbea79bdd5d8565ea0a": {
          "model_module": "@jupyter-widgets/base",
          "model_name": "LayoutModel",
          "model_module_version": "1.2.0",
          "state": {
            "_model_module": "@jupyter-widgets/base",
            "_model_module_version": "1.2.0",
            "_model_name": "LayoutModel",
            "_view_count": null,
            "_view_module": "@jupyter-widgets/base",
            "_view_module_version": "1.2.0",
            "_view_name": "LayoutView",
            "align_content": null,
            "align_items": null,
            "align_self": null,
            "border": null,
            "bottom": null,
            "display": null,
            "flex": null,
            "flex_flow": null,
            "grid_area": null,
            "grid_auto_columns": null,
            "grid_auto_flow": null,
            "grid_auto_rows": null,
            "grid_column": null,
            "grid_gap": null,
            "grid_row": null,
            "grid_template_areas": null,
            "grid_template_columns": null,
            "grid_template_rows": null,
            "height": null,
            "justify_content": null,
            "justify_items": null,
            "left": null,
            "margin": null,
            "max_height": null,
            "max_width": null,
            "min_height": null,
            "min_width": null,
            "object_fit": null,
            "object_position": null,
            "order": null,
            "overflow": null,
            "overflow_x": null,
            "overflow_y": null,
            "padding": null,
            "right": null,
            "top": null,
            "visibility": null,
            "width": null
          }
        },
        "2ed304a520de43f2b9df254bfdee9b76": {
          "model_module": "@jupyter-widgets/controls",
          "model_name": "ProgressStyleModel",
          "model_module_version": "1.5.0",
          "state": {
            "_model_module": "@jupyter-widgets/controls",
            "_model_module_version": "1.5.0",
            "_model_name": "ProgressStyleModel",
            "_view_count": null,
            "_view_module": "@jupyter-widgets/base",
            "_view_module_version": "1.2.0",
            "_view_name": "StyleView",
            "bar_color": null,
            "description_width": ""
          }
        },
        "1fd54761edd044f985bb5dcdc5cb70ae": {
          "model_module": "@jupyter-widgets/base",
          "model_name": "LayoutModel",
          "model_module_version": "1.2.0",
          "state": {
            "_model_module": "@jupyter-widgets/base",
            "_model_module_version": "1.2.0",
            "_model_name": "LayoutModel",
            "_view_count": null,
            "_view_module": "@jupyter-widgets/base",
            "_view_module_version": "1.2.0",
            "_view_name": "LayoutView",
            "align_content": null,
            "align_items": null,
            "align_self": null,
            "border": null,
            "bottom": null,
            "display": null,
            "flex": null,
            "flex_flow": null,
            "grid_area": null,
            "grid_auto_columns": null,
            "grid_auto_flow": null,
            "grid_auto_rows": null,
            "grid_column": null,
            "grid_gap": null,
            "grid_row": null,
            "grid_template_areas": null,
            "grid_template_columns": null,
            "grid_template_rows": null,
            "height": null,
            "justify_content": null,
            "justify_items": null,
            "left": null,
            "margin": null,
            "max_height": null,
            "max_width": null,
            "min_height": null,
            "min_width": null,
            "object_fit": null,
            "object_position": null,
            "order": null,
            "overflow": null,
            "overflow_x": null,
            "overflow_y": null,
            "padding": null,
            "right": null,
            "top": null,
            "visibility": null,
            "width": null
          }
        },
        "964558d2b8714c4c9940463c3baae43d": {
          "model_module": "@jupyter-widgets/controls",
          "model_name": "DescriptionStyleModel",
          "model_module_version": "1.5.0",
          "state": {
            "_model_module": "@jupyter-widgets/controls",
            "_model_module_version": "1.5.0",
            "_model_name": "DescriptionStyleModel",
            "_view_count": null,
            "_view_module": "@jupyter-widgets/base",
            "_view_module_version": "1.2.0",
            "_view_name": "StyleView",
            "description_width": ""
          }
        },
        "78733814706342d18985fe8f2cc1752d": {
          "model_module": "@jupyter-widgets/controls",
          "model_name": "HBoxModel",
          "model_module_version": "1.5.0",
          "state": {
            "_dom_classes": [],
            "_model_module": "@jupyter-widgets/controls",
            "_model_module_version": "1.5.0",
            "_model_name": "HBoxModel",
            "_view_count": null,
            "_view_module": "@jupyter-widgets/controls",
            "_view_module_version": "1.5.0",
            "_view_name": "HBoxView",
            "box_style": "",
            "children": [
              "IPY_MODEL_a8b1bf2e9f044a53bdc6ff5bdef182f5",
              "IPY_MODEL_b5ecf2e290ff44f5aaa473460e5c265d",
              "IPY_MODEL_e0c2eb825f2d4b79bc02fc7697f96873"
            ],
            "layout": "IPY_MODEL_6f58b92246aa4513b79ecb8ec1d47ebb"
          }
        },
        "a8b1bf2e9f044a53bdc6ff5bdef182f5": {
          "model_module": "@jupyter-widgets/controls",
          "model_name": "HTMLModel",
          "model_module_version": "1.5.0",
          "state": {
            "_dom_classes": [],
            "_model_module": "@jupyter-widgets/controls",
            "_model_module_version": "1.5.0",
            "_model_name": "HTMLModel",
            "_view_count": null,
            "_view_module": "@jupyter-widgets/controls",
            "_view_module_version": "1.5.0",
            "_view_name": "HTMLView",
            "description": "",
            "description_tooltip": null,
            "layout": "IPY_MODEL_c9b84e60d45244bc8793999be3589576",
            "placeholder": "​",
            "style": "IPY_MODEL_07a2ae1f0a924938951998a92e36c3fd",
            "value": "Map: 100%"
          }
        },
        "b5ecf2e290ff44f5aaa473460e5c265d": {
          "model_module": "@jupyter-widgets/controls",
          "model_name": "FloatProgressModel",
          "model_module_version": "1.5.0",
          "state": {
            "_dom_classes": [],
            "_model_module": "@jupyter-widgets/controls",
            "_model_module_version": "1.5.0",
            "_model_name": "FloatProgressModel",
            "_view_count": null,
            "_view_module": "@jupyter-widgets/controls",
            "_view_module_version": "1.5.0",
            "_view_name": "ProgressView",
            "bar_style": "",
            "description": "",
            "description_tooltip": null,
            "layout": "IPY_MODEL_fba642353613416d8458b4455652f440",
            "max": 6799,
            "min": 0,
            "orientation": "horizontal",
            "style": "IPY_MODEL_c0e3a51de7324d07900cf3115d6622c0",
            "value": 6799
          }
        },
        "e0c2eb825f2d4b79bc02fc7697f96873": {
          "model_module": "@jupyter-widgets/controls",
          "model_name": "HTMLModel",
          "model_module_version": "1.5.0",
          "state": {
            "_dom_classes": [],
            "_model_module": "@jupyter-widgets/controls",
            "_model_module_version": "1.5.0",
            "_model_name": "HTMLModel",
            "_view_count": null,
            "_view_module": "@jupyter-widgets/controls",
            "_view_module_version": "1.5.0",
            "_view_name": "HTMLView",
            "description": "",
            "description_tooltip": null,
            "layout": "IPY_MODEL_e4b4992c054c45ebb5a5eb9f3b23fb17",
            "placeholder": "​",
            "style": "IPY_MODEL_19bdaeb715734155b307633a1c3db029",
            "value": " 6799/6799 [00:04&lt;00:00, 1513.93 examples/s]"
          }
        },
        "6f58b92246aa4513b79ecb8ec1d47ebb": {
          "model_module": "@jupyter-widgets/base",
          "model_name": "LayoutModel",
          "model_module_version": "1.2.0",
          "state": {
            "_model_module": "@jupyter-widgets/base",
            "_model_module_version": "1.2.0",
            "_model_name": "LayoutModel",
            "_view_count": null,
            "_view_module": "@jupyter-widgets/base",
            "_view_module_version": "1.2.0",
            "_view_name": "LayoutView",
            "align_content": null,
            "align_items": null,
            "align_self": null,
            "border": null,
            "bottom": null,
            "display": null,
            "flex": null,
            "flex_flow": null,
            "grid_area": null,
            "grid_auto_columns": null,
            "grid_auto_flow": null,
            "grid_auto_rows": null,
            "grid_column": null,
            "grid_gap": null,
            "grid_row": null,
            "grid_template_areas": null,
            "grid_template_columns": null,
            "grid_template_rows": null,
            "height": null,
            "justify_content": null,
            "justify_items": null,
            "left": null,
            "margin": null,
            "max_height": null,
            "max_width": null,
            "min_height": null,
            "min_width": null,
            "object_fit": null,
            "object_position": null,
            "order": null,
            "overflow": null,
            "overflow_x": null,
            "overflow_y": null,
            "padding": null,
            "right": null,
            "top": null,
            "visibility": "hidden",
            "width": null
          }
        },
        "c9b84e60d45244bc8793999be3589576": {
          "model_module": "@jupyter-widgets/base",
          "model_name": "LayoutModel",
          "model_module_version": "1.2.0",
          "state": {
            "_model_module": "@jupyter-widgets/base",
            "_model_module_version": "1.2.0",
            "_model_name": "LayoutModel",
            "_view_count": null,
            "_view_module": "@jupyter-widgets/base",
            "_view_module_version": "1.2.0",
            "_view_name": "LayoutView",
            "align_content": null,
            "align_items": null,
            "align_self": null,
            "border": null,
            "bottom": null,
            "display": null,
            "flex": null,
            "flex_flow": null,
            "grid_area": null,
            "grid_auto_columns": null,
            "grid_auto_flow": null,
            "grid_auto_rows": null,
            "grid_column": null,
            "grid_gap": null,
            "grid_row": null,
            "grid_template_areas": null,
            "grid_template_columns": null,
            "grid_template_rows": null,
            "height": null,
            "justify_content": null,
            "justify_items": null,
            "left": null,
            "margin": null,
            "max_height": null,
            "max_width": null,
            "min_height": null,
            "min_width": null,
            "object_fit": null,
            "object_position": null,
            "order": null,
            "overflow": null,
            "overflow_x": null,
            "overflow_y": null,
            "padding": null,
            "right": null,
            "top": null,
            "visibility": null,
            "width": null
          }
        },
        "07a2ae1f0a924938951998a92e36c3fd": {
          "model_module": "@jupyter-widgets/controls",
          "model_name": "DescriptionStyleModel",
          "model_module_version": "1.5.0",
          "state": {
            "_model_module": "@jupyter-widgets/controls",
            "_model_module_version": "1.5.0",
            "_model_name": "DescriptionStyleModel",
            "_view_count": null,
            "_view_module": "@jupyter-widgets/base",
            "_view_module_version": "1.2.0",
            "_view_name": "StyleView",
            "description_width": ""
          }
        },
        "fba642353613416d8458b4455652f440": {
          "model_module": "@jupyter-widgets/base",
          "model_name": "LayoutModel",
          "model_module_version": "1.2.0",
          "state": {
            "_model_module": "@jupyter-widgets/base",
            "_model_module_version": "1.2.0",
            "_model_name": "LayoutModel",
            "_view_count": null,
            "_view_module": "@jupyter-widgets/base",
            "_view_module_version": "1.2.0",
            "_view_name": "LayoutView",
            "align_content": null,
            "align_items": null,
            "align_self": null,
            "border": null,
            "bottom": null,
            "display": null,
            "flex": null,
            "flex_flow": null,
            "grid_area": null,
            "grid_auto_columns": null,
            "grid_auto_flow": null,
            "grid_auto_rows": null,
            "grid_column": null,
            "grid_gap": null,
            "grid_row": null,
            "grid_template_areas": null,
            "grid_template_columns": null,
            "grid_template_rows": null,
            "height": null,
            "justify_content": null,
            "justify_items": null,
            "left": null,
            "margin": null,
            "max_height": null,
            "max_width": null,
            "min_height": null,
            "min_width": null,
            "object_fit": null,
            "object_position": null,
            "order": null,
            "overflow": null,
            "overflow_x": null,
            "overflow_y": null,
            "padding": null,
            "right": null,
            "top": null,
            "visibility": null,
            "width": null
          }
        },
        "c0e3a51de7324d07900cf3115d6622c0": {
          "model_module": "@jupyter-widgets/controls",
          "model_name": "ProgressStyleModel",
          "model_module_version": "1.5.0",
          "state": {
            "_model_module": "@jupyter-widgets/controls",
            "_model_module_version": "1.5.0",
            "_model_name": "ProgressStyleModel",
            "_view_count": null,
            "_view_module": "@jupyter-widgets/base",
            "_view_module_version": "1.2.0",
            "_view_name": "StyleView",
            "bar_color": null,
            "description_width": ""
          }
        },
        "e4b4992c054c45ebb5a5eb9f3b23fb17": {
          "model_module": "@jupyter-widgets/base",
          "model_name": "LayoutModel",
          "model_module_version": "1.2.0",
          "state": {
            "_model_module": "@jupyter-widgets/base",
            "_model_module_version": "1.2.0",
            "_model_name": "LayoutModel",
            "_view_count": null,
            "_view_module": "@jupyter-widgets/base",
            "_view_module_version": "1.2.0",
            "_view_name": "LayoutView",
            "align_content": null,
            "align_items": null,
            "align_self": null,
            "border": null,
            "bottom": null,
            "display": null,
            "flex": null,
            "flex_flow": null,
            "grid_area": null,
            "grid_auto_columns": null,
            "grid_auto_flow": null,
            "grid_auto_rows": null,
            "grid_column": null,
            "grid_gap": null,
            "grid_row": null,
            "grid_template_areas": null,
            "grid_template_columns": null,
            "grid_template_rows": null,
            "height": null,
            "justify_content": null,
            "justify_items": null,
            "left": null,
            "margin": null,
            "max_height": null,
            "max_width": null,
            "min_height": null,
            "min_width": null,
            "object_fit": null,
            "object_position": null,
            "order": null,
            "overflow": null,
            "overflow_x": null,
            "overflow_y": null,
            "padding": null,
            "right": null,
            "top": null,
            "visibility": null,
            "width": null
          }
        },
        "19bdaeb715734155b307633a1c3db029": {
          "model_module": "@jupyter-widgets/controls",
          "model_name": "DescriptionStyleModel",
          "model_module_version": "1.5.0",
          "state": {
            "_model_module": "@jupyter-widgets/controls",
            "_model_module_version": "1.5.0",
            "_model_name": "DescriptionStyleModel",
            "_view_count": null,
            "_view_module": "@jupyter-widgets/base",
            "_view_module_version": "1.2.0",
            "_view_name": "StyleView",
            "description_width": ""
          }
        },
        "630e33a45d67425b82914da6b1f5496e": {
          "model_module": "@jupyter-widgets/controls",
          "model_name": "HBoxModel",
          "model_module_version": "1.5.0",
          "state": {
            "_dom_classes": [],
            "_model_module": "@jupyter-widgets/controls",
            "_model_module_version": "1.5.0",
            "_model_name": "HBoxModel",
            "_view_count": null,
            "_view_module": "@jupyter-widgets/controls",
            "_view_module_version": "1.5.0",
            "_view_name": "HBoxView",
            "box_style": "",
            "children": [
              "IPY_MODEL_704ea27b29c548cbb8a543ccca8da7f5",
              "IPY_MODEL_1b06b84f18ad4747969094cd16323008",
              "IPY_MODEL_e410e28bbade4d5389b1b429f429ab1a"
            ],
            "layout": "IPY_MODEL_0020e0676b0748eab066a733cfa37c19"
          }
        },
        "704ea27b29c548cbb8a543ccca8da7f5": {
          "model_module": "@jupyter-widgets/controls",
          "model_name": "HTMLModel",
          "model_module_version": "1.5.0",
          "state": {
            "_dom_classes": [],
            "_model_module": "@jupyter-widgets/controls",
            "_model_module_version": "1.5.0",
            "_model_name": "HTMLModel",
            "_view_count": null,
            "_view_module": "@jupyter-widgets/controls",
            "_view_module_version": "1.5.0",
            "_view_name": "HTMLView",
            "description": "",
            "description_tooltip": null,
            "layout": "IPY_MODEL_c9d81adf38344cd8b464249e4fc911d9",
            "placeholder": "​",
            "style": "IPY_MODEL_92ce255b6b094addaea4426f5d6f0ed1",
            "value": "Map:  97%"
          }
        },
        "1b06b84f18ad4747969094cd16323008": {
          "model_module": "@jupyter-widgets/controls",
          "model_name": "FloatProgressModel",
          "model_module_version": "1.5.0",
          "state": {
            "_dom_classes": [],
            "_model_module": "@jupyter-widgets/controls",
            "_model_module_version": "1.5.0",
            "_model_name": "FloatProgressModel",
            "_view_count": null,
            "_view_module": "@jupyter-widgets/controls",
            "_view_module_version": "1.5.0",
            "_view_name": "ProgressView",
            "bar_style": "",
            "description": "",
            "description_tooltip": null,
            "layout": "IPY_MODEL_894784dc251045d19ead6567400777b7",
            "max": 3081,
            "min": 0,
            "orientation": "horizontal",
            "style": "IPY_MODEL_f81bd3466c904b6ea2a82b4a7b2724eb",
            "value": 3081
          }
        },
        "e410e28bbade4d5389b1b429f429ab1a": {
          "model_module": "@jupyter-widgets/controls",
          "model_name": "HTMLModel",
          "model_module_version": "1.5.0",
          "state": {
            "_dom_classes": [],
            "_model_module": "@jupyter-widgets/controls",
            "_model_module_version": "1.5.0",
            "_model_name": "HTMLModel",
            "_view_count": null,
            "_view_module": "@jupyter-widgets/controls",
            "_view_module_version": "1.5.0",
            "_view_name": "HTMLView",
            "description": "",
            "description_tooltip": null,
            "layout": "IPY_MODEL_4825c3000ff44f9c80765ed7aac5b496",
            "placeholder": "​",
            "style": "IPY_MODEL_293539912d2f4fedaa6fd754876aff1b",
            "value": " 3000/3081 [00:01&lt;00:00, 1589.12 examples/s]"
          }
        },
        "0020e0676b0748eab066a733cfa37c19": {
          "model_module": "@jupyter-widgets/base",
          "model_name": "LayoutModel",
          "model_module_version": "1.2.0",
          "state": {
            "_model_module": "@jupyter-widgets/base",
            "_model_module_version": "1.2.0",
            "_model_name": "LayoutModel",
            "_view_count": null,
            "_view_module": "@jupyter-widgets/base",
            "_view_module_version": "1.2.0",
            "_view_name": "LayoutView",
            "align_content": null,
            "align_items": null,
            "align_self": null,
            "border": null,
            "bottom": null,
            "display": null,
            "flex": null,
            "flex_flow": null,
            "grid_area": null,
            "grid_auto_columns": null,
            "grid_auto_flow": null,
            "grid_auto_rows": null,
            "grid_column": null,
            "grid_gap": null,
            "grid_row": null,
            "grid_template_areas": null,
            "grid_template_columns": null,
            "grid_template_rows": null,
            "height": null,
            "justify_content": null,
            "justify_items": null,
            "left": null,
            "margin": null,
            "max_height": null,
            "max_width": null,
            "min_height": null,
            "min_width": null,
            "object_fit": null,
            "object_position": null,
            "order": null,
            "overflow": null,
            "overflow_x": null,
            "overflow_y": null,
            "padding": null,
            "right": null,
            "top": null,
            "visibility": "hidden",
            "width": null
          }
        },
        "c9d81adf38344cd8b464249e4fc911d9": {
          "model_module": "@jupyter-widgets/base",
          "model_name": "LayoutModel",
          "model_module_version": "1.2.0",
          "state": {
            "_model_module": "@jupyter-widgets/base",
            "_model_module_version": "1.2.0",
            "_model_name": "LayoutModel",
            "_view_count": null,
            "_view_module": "@jupyter-widgets/base",
            "_view_module_version": "1.2.0",
            "_view_name": "LayoutView",
            "align_content": null,
            "align_items": null,
            "align_self": null,
            "border": null,
            "bottom": null,
            "display": null,
            "flex": null,
            "flex_flow": null,
            "grid_area": null,
            "grid_auto_columns": null,
            "grid_auto_flow": null,
            "grid_auto_rows": null,
            "grid_column": null,
            "grid_gap": null,
            "grid_row": null,
            "grid_template_areas": null,
            "grid_template_columns": null,
            "grid_template_rows": null,
            "height": null,
            "justify_content": null,
            "justify_items": null,
            "left": null,
            "margin": null,
            "max_height": null,
            "max_width": null,
            "min_height": null,
            "min_width": null,
            "object_fit": null,
            "object_position": null,
            "order": null,
            "overflow": null,
            "overflow_x": null,
            "overflow_y": null,
            "padding": null,
            "right": null,
            "top": null,
            "visibility": null,
            "width": null
          }
        },
        "92ce255b6b094addaea4426f5d6f0ed1": {
          "model_module": "@jupyter-widgets/controls",
          "model_name": "DescriptionStyleModel",
          "model_module_version": "1.5.0",
          "state": {
            "_model_module": "@jupyter-widgets/controls",
            "_model_module_version": "1.5.0",
            "_model_name": "DescriptionStyleModel",
            "_view_count": null,
            "_view_module": "@jupyter-widgets/base",
            "_view_module_version": "1.2.0",
            "_view_name": "StyleView",
            "description_width": ""
          }
        },
        "894784dc251045d19ead6567400777b7": {
          "model_module": "@jupyter-widgets/base",
          "model_name": "LayoutModel",
          "model_module_version": "1.2.0",
          "state": {
            "_model_module": "@jupyter-widgets/base",
            "_model_module_version": "1.2.0",
            "_model_name": "LayoutModel",
            "_view_count": null,
            "_view_module": "@jupyter-widgets/base",
            "_view_module_version": "1.2.0",
            "_view_name": "LayoutView",
            "align_content": null,
            "align_items": null,
            "align_self": null,
            "border": null,
            "bottom": null,
            "display": null,
            "flex": null,
            "flex_flow": null,
            "grid_area": null,
            "grid_auto_columns": null,
            "grid_auto_flow": null,
            "grid_auto_rows": null,
            "grid_column": null,
            "grid_gap": null,
            "grid_row": null,
            "grid_template_areas": null,
            "grid_template_columns": null,
            "grid_template_rows": null,
            "height": null,
            "justify_content": null,
            "justify_items": null,
            "left": null,
            "margin": null,
            "max_height": null,
            "max_width": null,
            "min_height": null,
            "min_width": null,
            "object_fit": null,
            "object_position": null,
            "order": null,
            "overflow": null,
            "overflow_x": null,
            "overflow_y": null,
            "padding": null,
            "right": null,
            "top": null,
            "visibility": null,
            "width": null
          }
        },
        "f81bd3466c904b6ea2a82b4a7b2724eb": {
          "model_module": "@jupyter-widgets/controls",
          "model_name": "ProgressStyleModel",
          "model_module_version": "1.5.0",
          "state": {
            "_model_module": "@jupyter-widgets/controls",
            "_model_module_version": "1.5.0",
            "_model_name": "ProgressStyleModel",
            "_view_count": null,
            "_view_module": "@jupyter-widgets/base",
            "_view_module_version": "1.2.0",
            "_view_name": "StyleView",
            "bar_color": null,
            "description_width": ""
          }
        },
        "4825c3000ff44f9c80765ed7aac5b496": {
          "model_module": "@jupyter-widgets/base",
          "model_name": "LayoutModel",
          "model_module_version": "1.2.0",
          "state": {
            "_model_module": "@jupyter-widgets/base",
            "_model_module_version": "1.2.0",
            "_model_name": "LayoutModel",
            "_view_count": null,
            "_view_module": "@jupyter-widgets/base",
            "_view_module_version": "1.2.0",
            "_view_name": "LayoutView",
            "align_content": null,
            "align_items": null,
            "align_self": null,
            "border": null,
            "bottom": null,
            "display": null,
            "flex": null,
            "flex_flow": null,
            "grid_area": null,
            "grid_auto_columns": null,
            "grid_auto_flow": null,
            "grid_auto_rows": null,
            "grid_column": null,
            "grid_gap": null,
            "grid_row": null,
            "grid_template_areas": null,
            "grid_template_columns": null,
            "grid_template_rows": null,
            "height": null,
            "justify_content": null,
            "justify_items": null,
            "left": null,
            "margin": null,
            "max_height": null,
            "max_width": null,
            "min_height": null,
            "min_width": null,
            "object_fit": null,
            "object_position": null,
            "order": null,
            "overflow": null,
            "overflow_x": null,
            "overflow_y": null,
            "padding": null,
            "right": null,
            "top": null,
            "visibility": null,
            "width": null
          }
        },
        "293539912d2f4fedaa6fd754876aff1b": {
          "model_module": "@jupyter-widgets/controls",
          "model_name": "DescriptionStyleModel",
          "model_module_version": "1.5.0",
          "state": {
            "_model_module": "@jupyter-widgets/controls",
            "_model_module_version": "1.5.0",
            "_model_name": "DescriptionStyleModel",
            "_view_count": null,
            "_view_module": "@jupyter-widgets/base",
            "_view_module_version": "1.2.0",
            "_view_name": "StyleView",
            "description_width": ""
          }
        },
        "eb4751d8477c4656bf5b40917a158a58": {
          "model_module": "@jupyter-widgets/controls",
          "model_name": "HBoxModel",
          "model_module_version": "1.5.0",
          "state": {
            "_dom_classes": [],
            "_model_module": "@jupyter-widgets/controls",
            "_model_module_version": "1.5.0",
            "_model_name": "HBoxModel",
            "_view_count": null,
            "_view_module": "@jupyter-widgets/controls",
            "_view_module_version": "1.5.0",
            "_view_name": "HBoxView",
            "box_style": "",
            "children": [
              "IPY_MODEL_597754263ccd4d02ae7eca31919e1b01",
              "IPY_MODEL_e4c0cfd297564550aef53c29ca864a37",
              "IPY_MODEL_6087f3812e144d21badf33553af91bfa"
            ],
            "layout": "IPY_MODEL_240dcaeaae384bee9e96801115bf9668"
          }
        },
        "597754263ccd4d02ae7eca31919e1b01": {
          "model_module": "@jupyter-widgets/controls",
          "model_name": "HTMLModel",
          "model_module_version": "1.5.0",
          "state": {
            "_dom_classes": [],
            "_model_module": "@jupyter-widgets/controls",
            "_model_module_version": "1.5.0",
            "_model_name": "HTMLModel",
            "_view_count": null,
            "_view_module": "@jupyter-widgets/controls",
            "_view_module_version": "1.5.0",
            "_view_name": "HTMLView",
            "description": "",
            "description_tooltip": null,
            "layout": "IPY_MODEL_cd929739de8546fbac52c38e1f1a97aa",
            "placeholder": "​",
            "style": "IPY_MODEL_d6f2d333f8574e98b07c7b67ff664502",
            "value": "Downloading pytorch_model.bin: 100%"
          }
        },
        "e4c0cfd297564550aef53c29ca864a37": {
          "model_module": "@jupyter-widgets/controls",
          "model_name": "FloatProgressModel",
          "model_module_version": "1.5.0",
          "state": {
            "_dom_classes": [],
            "_model_module": "@jupyter-widgets/controls",
            "_model_module_version": "1.5.0",
            "_model_name": "FloatProgressModel",
            "_view_count": null,
            "_view_module": "@jupyter-widgets/controls",
            "_view_module_version": "1.5.0",
            "_view_name": "ProgressView",
            "bar_style": "success",
            "description": "",
            "description_tooltip": null,
            "layout": "IPY_MODEL_76b09519969d4bf988da6b8c03ff7754",
            "max": 380267417,
            "min": 0,
            "orientation": "horizontal",
            "style": "IPY_MODEL_6bdede68453546d5b9a9e47dcfa43465",
            "value": 380267417
          }
        },
        "6087f3812e144d21badf33553af91bfa": {
          "model_module": "@jupyter-widgets/controls",
          "model_name": "HTMLModel",
          "model_module_version": "1.5.0",
          "state": {
            "_dom_classes": [],
            "_model_module": "@jupyter-widgets/controls",
            "_model_module_version": "1.5.0",
            "_model_name": "HTMLModel",
            "_view_count": null,
            "_view_module": "@jupyter-widgets/controls",
            "_view_module_version": "1.5.0",
            "_view_name": "HTMLView",
            "description": "",
            "description_tooltip": null,
            "layout": "IPY_MODEL_78c0dc7ffb05491fac9cf8064ad08c1d",
            "placeholder": "​",
            "style": "IPY_MODEL_80263e5052184873b14e6cd66b59dc9c",
            "value": " 380M/380M [00:02&lt;00:00, 153MB/s]"
          }
        },
        "240dcaeaae384bee9e96801115bf9668": {
          "model_module": "@jupyter-widgets/base",
          "model_name": "LayoutModel",
          "model_module_version": "1.2.0",
          "state": {
            "_model_module": "@jupyter-widgets/base",
            "_model_module_version": "1.2.0",
            "_model_name": "LayoutModel",
            "_view_count": null,
            "_view_module": "@jupyter-widgets/base",
            "_view_module_version": "1.2.0",
            "_view_name": "LayoutView",
            "align_content": null,
            "align_items": null,
            "align_self": null,
            "border": null,
            "bottom": null,
            "display": null,
            "flex": null,
            "flex_flow": null,
            "grid_area": null,
            "grid_auto_columns": null,
            "grid_auto_flow": null,
            "grid_auto_rows": null,
            "grid_column": null,
            "grid_gap": null,
            "grid_row": null,
            "grid_template_areas": null,
            "grid_template_columns": null,
            "grid_template_rows": null,
            "height": null,
            "justify_content": null,
            "justify_items": null,
            "left": null,
            "margin": null,
            "max_height": null,
            "max_width": null,
            "min_height": null,
            "min_width": null,
            "object_fit": null,
            "object_position": null,
            "order": null,
            "overflow": null,
            "overflow_x": null,
            "overflow_y": null,
            "padding": null,
            "right": null,
            "top": null,
            "visibility": null,
            "width": null
          }
        },
        "cd929739de8546fbac52c38e1f1a97aa": {
          "model_module": "@jupyter-widgets/base",
          "model_name": "LayoutModel",
          "model_module_version": "1.2.0",
          "state": {
            "_model_module": "@jupyter-widgets/base",
            "_model_module_version": "1.2.0",
            "_model_name": "LayoutModel",
            "_view_count": null,
            "_view_module": "@jupyter-widgets/base",
            "_view_module_version": "1.2.0",
            "_view_name": "LayoutView",
            "align_content": null,
            "align_items": null,
            "align_self": null,
            "border": null,
            "bottom": null,
            "display": null,
            "flex": null,
            "flex_flow": null,
            "grid_area": null,
            "grid_auto_columns": null,
            "grid_auto_flow": null,
            "grid_auto_rows": null,
            "grid_column": null,
            "grid_gap": null,
            "grid_row": null,
            "grid_template_areas": null,
            "grid_template_columns": null,
            "grid_template_rows": null,
            "height": null,
            "justify_content": null,
            "justify_items": null,
            "left": null,
            "margin": null,
            "max_height": null,
            "max_width": null,
            "min_height": null,
            "min_width": null,
            "object_fit": null,
            "object_position": null,
            "order": null,
            "overflow": null,
            "overflow_x": null,
            "overflow_y": null,
            "padding": null,
            "right": null,
            "top": null,
            "visibility": null,
            "width": null
          }
        },
        "d6f2d333f8574e98b07c7b67ff664502": {
          "model_module": "@jupyter-widgets/controls",
          "model_name": "DescriptionStyleModel",
          "model_module_version": "1.5.0",
          "state": {
            "_model_module": "@jupyter-widgets/controls",
            "_model_module_version": "1.5.0",
            "_model_name": "DescriptionStyleModel",
            "_view_count": null,
            "_view_module": "@jupyter-widgets/base",
            "_view_module_version": "1.2.0",
            "_view_name": "StyleView",
            "description_width": ""
          }
        },
        "76b09519969d4bf988da6b8c03ff7754": {
          "model_module": "@jupyter-widgets/base",
          "model_name": "LayoutModel",
          "model_module_version": "1.2.0",
          "state": {
            "_model_module": "@jupyter-widgets/base",
            "_model_module_version": "1.2.0",
            "_model_name": "LayoutModel",
            "_view_count": null,
            "_view_module": "@jupyter-widgets/base",
            "_view_module_version": "1.2.0",
            "_view_name": "LayoutView",
            "align_content": null,
            "align_items": null,
            "align_self": null,
            "border": null,
            "bottom": null,
            "display": null,
            "flex": null,
            "flex_flow": null,
            "grid_area": null,
            "grid_auto_columns": null,
            "grid_auto_flow": null,
            "grid_auto_rows": null,
            "grid_column": null,
            "grid_gap": null,
            "grid_row": null,
            "grid_template_areas": null,
            "grid_template_columns": null,
            "grid_template_rows": null,
            "height": null,
            "justify_content": null,
            "justify_items": null,
            "left": null,
            "margin": null,
            "max_height": null,
            "max_width": null,
            "min_height": null,
            "min_width": null,
            "object_fit": null,
            "object_position": null,
            "order": null,
            "overflow": null,
            "overflow_x": null,
            "overflow_y": null,
            "padding": null,
            "right": null,
            "top": null,
            "visibility": null,
            "width": null
          }
        },
        "6bdede68453546d5b9a9e47dcfa43465": {
          "model_module": "@jupyter-widgets/controls",
          "model_name": "ProgressStyleModel",
          "model_module_version": "1.5.0",
          "state": {
            "_model_module": "@jupyter-widgets/controls",
            "_model_module_version": "1.5.0",
            "_model_name": "ProgressStyleModel",
            "_view_count": null,
            "_view_module": "@jupyter-widgets/base",
            "_view_module_version": "1.2.0",
            "_view_name": "StyleView",
            "bar_color": null,
            "description_width": ""
          }
        },
        "78c0dc7ffb05491fac9cf8064ad08c1d": {
          "model_module": "@jupyter-widgets/base",
          "model_name": "LayoutModel",
          "model_module_version": "1.2.0",
          "state": {
            "_model_module": "@jupyter-widgets/base",
            "_model_module_version": "1.2.0",
            "_model_name": "LayoutModel",
            "_view_count": null,
            "_view_module": "@jupyter-widgets/base",
            "_view_module_version": "1.2.0",
            "_view_name": "LayoutView",
            "align_content": null,
            "align_items": null,
            "align_self": null,
            "border": null,
            "bottom": null,
            "display": null,
            "flex": null,
            "flex_flow": null,
            "grid_area": null,
            "grid_auto_columns": null,
            "grid_auto_flow": null,
            "grid_auto_rows": null,
            "grid_column": null,
            "grid_gap": null,
            "grid_row": null,
            "grid_template_areas": null,
            "grid_template_columns": null,
            "grid_template_rows": null,
            "height": null,
            "justify_content": null,
            "justify_items": null,
            "left": null,
            "margin": null,
            "max_height": null,
            "max_width": null,
            "min_height": null,
            "min_width": null,
            "object_fit": null,
            "object_position": null,
            "order": null,
            "overflow": null,
            "overflow_x": null,
            "overflow_y": null,
            "padding": null,
            "right": null,
            "top": null,
            "visibility": null,
            "width": null
          }
        },
        "80263e5052184873b14e6cd66b59dc9c": {
          "model_module": "@jupyter-widgets/controls",
          "model_name": "DescriptionStyleModel",
          "model_module_version": "1.5.0",
          "state": {
            "_model_module": "@jupyter-widgets/controls",
            "_model_module_version": "1.5.0",
            "_model_name": "DescriptionStyleModel",
            "_view_count": null,
            "_view_module": "@jupyter-widgets/base",
            "_view_module_version": "1.2.0",
            "_view_name": "StyleView",
            "description_width": ""
          }
        }
      }
    }
  },
  "nbformat": 4,
  "nbformat_minor": 0
}